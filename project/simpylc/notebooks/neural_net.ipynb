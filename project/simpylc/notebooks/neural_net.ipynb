{
 "cells": [
  {
   "cell_type": "markdown",
   "metadata": {},
   "source": [
    "### Imports"
   ]
  },
  {
   "cell_type": "code",
   "execution_count": 1,
   "metadata": {},
   "outputs": [],
   "source": [
    "import pandas as pd\n",
    "from logger import logger"
   ]
  },
  {
   "cell_type": "markdown",
   "metadata": {},
   "source": [
    "### Loading data"
   ]
  },
  {
   "cell_type": "code",
   "execution_count": 2,
   "metadata": {},
   "outputs": [
    {
     "data": {
      "text/html": [
       "<div>\n",
       "<style scoped>\n",
       "    .dataframe tbody tr th:only-of-type {\n",
       "        vertical-align: middle;\n",
       "    }\n",
       "\n",
       "    .dataframe tbody tr th {\n",
       "        vertical-align: top;\n",
       "    }\n",
       "\n",
       "    .dataframe thead th {\n",
       "        text-align: right;\n",
       "    }\n",
       "</style>\n",
       "<table border=\"1\" class=\"dataframe\">\n",
       "  <thead>\n",
       "    <tr style=\"text-align: right;\">\n",
       "      <th></th>\n",
       "      <th>0</th>\n",
       "      <th>1</th>\n",
       "      <th>2</th>\n",
       "      <th>3</th>\n",
       "      <th>4</th>\n",
       "      <th>5</th>\n",
       "      <th>6</th>\n",
       "      <th>7</th>\n",
       "      <th>8</th>\n",
       "      <th>9</th>\n",
       "      <th>10</th>\n",
       "      <th>11</th>\n",
       "      <th>12</th>\n",
       "      <th>13</th>\n",
       "      <th>14</th>\n",
       "      <th>15</th>\n",
       "      <th>16</th>\n",
       "    </tr>\n",
       "  </thead>\n",
       "  <tbody>\n",
       "    <tr>\n",
       "      <th>0</th>\n",
       "      <td>7.4565</td>\n",
       "      <td>6.8632</td>\n",
       "      <td>8.4021</td>\n",
       "      <td>10.2755</td>\n",
       "      <td>12.9451</td>\n",
       "      <td>9.7520</td>\n",
       "      <td>5.7550</td>\n",
       "      <td>5.8843</td>\n",
       "      <td>3.9540</td>\n",
       "      <td>20.0</td>\n",
       "      <td>20.0</td>\n",
       "      <td>5.2561</td>\n",
       "      <td>2.7631</td>\n",
       "      <td>4.3158</td>\n",
       "      <td>5.5333</td>\n",
       "      <td>1.4624</td>\n",
       "      <td>-32.0</td>\n",
       "    </tr>\n",
       "    <tr>\n",
       "      <th>1</th>\n",
       "      <td>7.4570</td>\n",
       "      <td>6.8637</td>\n",
       "      <td>8.4026</td>\n",
       "      <td>10.2759</td>\n",
       "      <td>12.9455</td>\n",
       "      <td>9.7523</td>\n",
       "      <td>5.7554</td>\n",
       "      <td>5.8845</td>\n",
       "      <td>3.9542</td>\n",
       "      <td>20.0</td>\n",
       "      <td>20.0</td>\n",
       "      <td>5.2564</td>\n",
       "      <td>2.7635</td>\n",
       "      <td>4.3162</td>\n",
       "      <td>5.5337</td>\n",
       "      <td>1.4628</td>\n",
       "      <td>-32.0</td>\n",
       "    </tr>\n",
       "    <tr>\n",
       "      <th>2</th>\n",
       "      <td>7.4565</td>\n",
       "      <td>6.8633</td>\n",
       "      <td>8.4022</td>\n",
       "      <td>10.2756</td>\n",
       "      <td>12.9452</td>\n",
       "      <td>11.2514</td>\n",
       "      <td>5.7551</td>\n",
       "      <td>5.8844</td>\n",
       "      <td>20.0000</td>\n",
       "      <td>20.0</td>\n",
       "      <td>20.0</td>\n",
       "      <td>5.2560</td>\n",
       "      <td>2.7631</td>\n",
       "      <td>4.3157</td>\n",
       "      <td>5.5332</td>\n",
       "      <td>1.4624</td>\n",
       "      <td>-32.0</td>\n",
       "    </tr>\n",
       "    <tr>\n",
       "      <th>3</th>\n",
       "      <td>7.4554</td>\n",
       "      <td>6.8621</td>\n",
       "      <td>8.4012</td>\n",
       "      <td>10.2746</td>\n",
       "      <td>12.9443</td>\n",
       "      <td>11.2507</td>\n",
       "      <td>5.7545</td>\n",
       "      <td>5.8839</td>\n",
       "      <td>20.0000</td>\n",
       "      <td>20.0</td>\n",
       "      <td>20.0</td>\n",
       "      <td>5.2550</td>\n",
       "      <td>2.7620</td>\n",
       "      <td>4.3146</td>\n",
       "      <td>5.5320</td>\n",
       "      <td>1.4612</td>\n",
       "      <td>-32.0</td>\n",
       "    </tr>\n",
       "    <tr>\n",
       "      <th>4</th>\n",
       "      <td>7.4533</td>\n",
       "      <td>6.8601</td>\n",
       "      <td>8.3994</td>\n",
       "      <td>10.2729</td>\n",
       "      <td>12.9429</td>\n",
       "      <td>11.2495</td>\n",
       "      <td>5.7534</td>\n",
       "      <td>5.8832</td>\n",
       "      <td>20.0000</td>\n",
       "      <td>20.0</td>\n",
       "      <td>20.0</td>\n",
       "      <td>5.2533</td>\n",
       "      <td>2.7600</td>\n",
       "      <td>4.3126</td>\n",
       "      <td>5.5299</td>\n",
       "      <td>1.4590</td>\n",
       "      <td>-32.0</td>\n",
       "    </tr>\n",
       "  </tbody>\n",
       "</table>\n",
       "</div>"
      ],
      "text/plain": [
       "        0       1       2        3        4        5       6       7        8  \\\n",
       "0  7.4565  6.8632  8.4021  10.2755  12.9451   9.7520  5.7550  5.8843   3.9540   \n",
       "1  7.4570  6.8637  8.4026  10.2759  12.9455   9.7523  5.7554  5.8845   3.9542   \n",
       "2  7.4565  6.8633  8.4022  10.2756  12.9452  11.2514  5.7551  5.8844  20.0000   \n",
       "3  7.4554  6.8621  8.4012  10.2746  12.9443  11.2507  5.7545  5.8839  20.0000   \n",
       "4  7.4533  6.8601  8.3994  10.2729  12.9429  11.2495  5.7534  5.8832  20.0000   \n",
       "\n",
       "      9    10      11      12      13      14      15    16  \n",
       "0  20.0  20.0  5.2561  2.7631  4.3158  5.5333  1.4624 -32.0  \n",
       "1  20.0  20.0  5.2564  2.7635  4.3162  5.5337  1.4628 -32.0  \n",
       "2  20.0  20.0  5.2560  2.7631  4.3157  5.5332  1.4624 -32.0  \n",
       "3  20.0  20.0  5.2550  2.7620  4.3146  5.5320  1.4612 -32.0  \n",
       "4  20.0  20.0  5.2533  2.7600  4.3126  5.5299  1.4590 -32.0  "
      ]
     },
     "execution_count": 2,
     "metadata": {},
     "output_type": "execute_result"
    }
   ],
   "source": [
    "df_lidar = pd.read_table('../training_data/lidar_2rounds', sep=\",\", index_col=0)\n",
    "df_lidar.head()"
   ]
  },
  {
   "cell_type": "code",
   "execution_count": 3,
   "metadata": {},
   "outputs": [
    {
     "data": {
      "text/html": [
       "<div>\n",
       "<style scoped>\n",
       "    .dataframe tbody tr th:only-of-type {\n",
       "        vertical-align: middle;\n",
       "    }\n",
       "\n",
       "    .dataframe tbody tr th {\n",
       "        vertical-align: top;\n",
       "    }\n",
       "\n",
       "    .dataframe thead th {\n",
       "        text-align: right;\n",
       "    }\n",
       "</style>\n",
       "<table border=\"1\" class=\"dataframe\">\n",
       "  <thead>\n",
       "    <tr style=\"text-align: right;\">\n",
       "      <th></th>\n",
       "      <th>0</th>\n",
       "      <th>1</th>\n",
       "      <th>2</th>\n",
       "      <th>3</th>\n",
       "    </tr>\n",
       "  </thead>\n",
       "  <tbody>\n",
       "    <tr>\n",
       "      <th>0</th>\n",
       "      <td>1.5067</td>\n",
       "      <td>1.3101</td>\n",
       "      <td>1.7966</td>\n",
       "      <td>-22.0</td>\n",
       "    </tr>\n",
       "    <tr>\n",
       "      <th>1</th>\n",
       "      <td>1.5075</td>\n",
       "      <td>1.3106</td>\n",
       "      <td>1.7970</td>\n",
       "      <td>-22.0</td>\n",
       "    </tr>\n",
       "    <tr>\n",
       "      <th>2</th>\n",
       "      <td>1.5075</td>\n",
       "      <td>1.3106</td>\n",
       "      <td>1.7970</td>\n",
       "      <td>-22.0</td>\n",
       "    </tr>\n",
       "    <tr>\n",
       "      <th>3</th>\n",
       "      <td>1.5075</td>\n",
       "      <td>1.3106</td>\n",
       "      <td>1.7970</td>\n",
       "      <td>-22.0</td>\n",
       "    </tr>\n",
       "    <tr>\n",
       "      <th>4</th>\n",
       "      <td>1.5075</td>\n",
       "      <td>1.3106</td>\n",
       "      <td>1.7970</td>\n",
       "      <td>-22.0</td>\n",
       "    </tr>\n",
       "  </tbody>\n",
       "</table>\n",
       "</div>"
      ],
      "text/plain": [
       "        0       1       2     3\n",
       "0  1.5067  1.3101  1.7966 -22.0\n",
       "1  1.5075  1.3106  1.7970 -22.0\n",
       "2  1.5075  1.3106  1.7970 -22.0\n",
       "3  1.5075  1.3106  1.7970 -22.0\n",
       "4  1.5075  1.3106  1.7970 -22.0"
      ]
     },
     "execution_count": 3,
     "metadata": {},
     "output_type": "execute_result"
    }
   ],
   "source": [
    "df_sonar = pd.read_csv('../training_data/sonar.samples', sep=\" \", header=None)\n",
    "df_sonar.head()"
   ]
  },
  {
   "cell_type": "code",
   "execution_count": 4,
   "metadata": {},
   "outputs": [
    {
     "data": {
      "text/html": [
       "<div>\n",
       "<style scoped>\n",
       "    .dataframe tbody tr th:only-of-type {\n",
       "        vertical-align: middle;\n",
       "    }\n",
       "\n",
       "    .dataframe tbody tr th {\n",
       "        vertical-align: top;\n",
       "    }\n",
       "\n",
       "    .dataframe thead th {\n",
       "        text-align: right;\n",
       "    }\n",
       "</style>\n",
       "<table border=\"1\" class=\"dataframe\">\n",
       "  <thead>\n",
       "    <tr style=\"text-align: right;\">\n",
       "      <th></th>\n",
       "      <th>0</th>\n",
       "      <th>1</th>\n",
       "      <th>2</th>\n",
       "      <th>3</th>\n",
       "      <th>4</th>\n",
       "      <th>5</th>\n",
       "      <th>6</th>\n",
       "      <th>7</th>\n",
       "      <th>8</th>\n",
       "      <th>9</th>\n",
       "      <th>10</th>\n",
       "      <th>11</th>\n",
       "      <th>12</th>\n",
       "      <th>13</th>\n",
       "      <th>14</th>\n",
       "      <th>15</th>\n",
       "      <th>16</th>\n",
       "    </tr>\n",
       "  </thead>\n",
       "  <tbody>\n",
       "    <tr>\n",
       "      <th>count</th>\n",
       "      <td>3308.000000</td>\n",
       "      <td>3308.000000</td>\n",
       "      <td>3308.000000</td>\n",
       "      <td>3308.000000</td>\n",
       "      <td>3308.000000</td>\n",
       "      <td>3308.000000</td>\n",
       "      <td>3308.000000</td>\n",
       "      <td>3308.000000</td>\n",
       "      <td>3308.000000</td>\n",
       "      <td>3308.0</td>\n",
       "      <td>3308.000000</td>\n",
       "      <td>3308.000000</td>\n",
       "      <td>3308.000000</td>\n",
       "      <td>3308.000000</td>\n",
       "      <td>3308.000000</td>\n",
       "      <td>3308.000000</td>\n",
       "      <td>3308.000000</td>\n",
       "    </tr>\n",
       "    <tr>\n",
       "      <th>mean</th>\n",
       "      <td>10.693885</td>\n",
       "      <td>8.967424</td>\n",
       "      <td>9.769526</td>\n",
       "      <td>8.566755</td>\n",
       "      <td>9.177894</td>\n",
       "      <td>7.244609</td>\n",
       "      <td>8.707776</td>\n",
       "      <td>7.357612</td>\n",
       "      <td>14.008577</td>\n",
       "      <td>20.0</td>\n",
       "      <td>16.453719</td>\n",
       "      <td>14.921087</td>\n",
       "      <td>15.125725</td>\n",
       "      <td>14.501483</td>\n",
       "      <td>13.905103</td>\n",
       "      <td>11.930902</td>\n",
       "      <td>2.303507</td>\n",
       "    </tr>\n",
       "    <tr>\n",
       "      <th>std</th>\n",
       "      <td>7.652275</td>\n",
       "      <td>7.376931</td>\n",
       "      <td>7.386916</td>\n",
       "      <td>7.180727</td>\n",
       "      <td>7.311107</td>\n",
       "      <td>6.133312</td>\n",
       "      <td>6.572315</td>\n",
       "      <td>5.748568</td>\n",
       "      <td>6.605551</td>\n",
       "      <td>0.0</td>\n",
       "      <td>6.392659</td>\n",
       "      <td>7.513922</td>\n",
       "      <td>7.336148</td>\n",
       "      <td>7.803161</td>\n",
       "      <td>7.936621</td>\n",
       "      <td>8.340058</td>\n",
       "      <td>13.854609</td>\n",
       "    </tr>\n",
       "    <tr>\n",
       "      <th>min</th>\n",
       "      <td>0.414600</td>\n",
       "      <td>0.525200</td>\n",
       "      <td>0.523800</td>\n",
       "      <td>0.618800</td>\n",
       "      <td>0.511600</td>\n",
       "      <td>0.417700</td>\n",
       "      <td>0.375900</td>\n",
       "      <td>0.339300</td>\n",
       "      <td>0.322900</td>\n",
       "      <td>20.0</td>\n",
       "      <td>0.361900</td>\n",
       "      <td>0.196700</td>\n",
       "      <td>0.209900</td>\n",
       "      <td>0.225400</td>\n",
       "      <td>0.181100</td>\n",
       "      <td>0.261600</td>\n",
       "      <td>-54.500000</td>\n",
       "    </tr>\n",
       "    <tr>\n",
       "      <th>25%</th>\n",
       "      <td>3.681450</td>\n",
       "      <td>3.221025</td>\n",
       "      <td>3.645825</td>\n",
       "      <td>2.777900</td>\n",
       "      <td>2.713675</td>\n",
       "      <td>3.079200</td>\n",
       "      <td>3.745200</td>\n",
       "      <td>3.610550</td>\n",
       "      <td>7.569425</td>\n",
       "      <td>20.0</td>\n",
       "      <td>20.000000</td>\n",
       "      <td>6.336300</td>\n",
       "      <td>6.655275</td>\n",
       "      <td>5.550175</td>\n",
       "      <td>5.495475</td>\n",
       "      <td>3.033000</td>\n",
       "      <td>-2.500000</td>\n",
       "    </tr>\n",
       "    <tr>\n",
       "      <th>50%</th>\n",
       "      <td>7.083500</td>\n",
       "      <td>5.242600</td>\n",
       "      <td>6.477100</td>\n",
       "      <td>5.751850</td>\n",
       "      <td>6.973350</td>\n",
       "      <td>5.057700</td>\n",
       "      <td>6.604600</td>\n",
       "      <td>5.511900</td>\n",
       "      <td>15.596000</td>\n",
       "      <td>20.0</td>\n",
       "      <td>20.000000</td>\n",
       "      <td>20.000000</td>\n",
       "      <td>20.000000</td>\n",
       "      <td>20.000000</td>\n",
       "      <td>20.000000</td>\n",
       "      <td>20.000000</td>\n",
       "      <td>1.500000</td>\n",
       "    </tr>\n",
       "    <tr>\n",
       "      <th>75%</th>\n",
       "      <td>20.000000</td>\n",
       "      <td>20.000000</td>\n",
       "      <td>20.000000</td>\n",
       "      <td>20.000000</td>\n",
       "      <td>20.000000</td>\n",
       "      <td>9.314150</td>\n",
       "      <td>11.631475</td>\n",
       "      <td>8.917025</td>\n",
       "      <td>20.000000</td>\n",
       "      <td>20.0</td>\n",
       "      <td>20.000000</td>\n",
       "      <td>20.000000</td>\n",
       "      <td>20.000000</td>\n",
       "      <td>20.000000</td>\n",
       "      <td>20.000000</td>\n",
       "      <td>20.000000</td>\n",
       "      <td>7.500000</td>\n",
       "    </tr>\n",
       "    <tr>\n",
       "      <th>max</th>\n",
       "      <td>20.000000</td>\n",
       "      <td>20.000000</td>\n",
       "      <td>20.000000</td>\n",
       "      <td>20.000000</td>\n",
       "      <td>20.000000</td>\n",
       "      <td>20.000000</td>\n",
       "      <td>20.000000</td>\n",
       "      <td>20.000000</td>\n",
       "      <td>20.000000</td>\n",
       "      <td>20.0</td>\n",
       "      <td>20.000000</td>\n",
       "      <td>20.000000</td>\n",
       "      <td>20.000000</td>\n",
       "      <td>20.000000</td>\n",
       "      <td>20.000000</td>\n",
       "      <td>20.000000</td>\n",
       "      <td>53.000000</td>\n",
       "    </tr>\n",
       "  </tbody>\n",
       "</table>\n",
       "</div>"
      ],
      "text/plain": [
       "                 0            1            2            3            4  \\\n",
       "count  3308.000000  3308.000000  3308.000000  3308.000000  3308.000000   \n",
       "mean     10.693885     8.967424     9.769526     8.566755     9.177894   \n",
       "std       7.652275     7.376931     7.386916     7.180727     7.311107   \n",
       "min       0.414600     0.525200     0.523800     0.618800     0.511600   \n",
       "25%       3.681450     3.221025     3.645825     2.777900     2.713675   \n",
       "50%       7.083500     5.242600     6.477100     5.751850     6.973350   \n",
       "75%      20.000000    20.000000    20.000000    20.000000    20.000000   \n",
       "max      20.000000    20.000000    20.000000    20.000000    20.000000   \n",
       "\n",
       "                 5            6            7            8       9  \\\n",
       "count  3308.000000  3308.000000  3308.000000  3308.000000  3308.0   \n",
       "mean      7.244609     8.707776     7.357612    14.008577    20.0   \n",
       "std       6.133312     6.572315     5.748568     6.605551     0.0   \n",
       "min       0.417700     0.375900     0.339300     0.322900    20.0   \n",
       "25%       3.079200     3.745200     3.610550     7.569425    20.0   \n",
       "50%       5.057700     6.604600     5.511900    15.596000    20.0   \n",
       "75%       9.314150    11.631475     8.917025    20.000000    20.0   \n",
       "max      20.000000    20.000000    20.000000    20.000000    20.0   \n",
       "\n",
       "                10           11           12           13           14  \\\n",
       "count  3308.000000  3308.000000  3308.000000  3308.000000  3308.000000   \n",
       "mean     16.453719    14.921087    15.125725    14.501483    13.905103   \n",
       "std       6.392659     7.513922     7.336148     7.803161     7.936621   \n",
       "min       0.361900     0.196700     0.209900     0.225400     0.181100   \n",
       "25%      20.000000     6.336300     6.655275     5.550175     5.495475   \n",
       "50%      20.000000    20.000000    20.000000    20.000000    20.000000   \n",
       "75%      20.000000    20.000000    20.000000    20.000000    20.000000   \n",
       "max      20.000000    20.000000    20.000000    20.000000    20.000000   \n",
       "\n",
       "                15           16  \n",
       "count  3308.000000  3308.000000  \n",
       "mean     11.930902     2.303507  \n",
       "std       8.340058    13.854609  \n",
       "min       0.261600   -54.500000  \n",
       "25%       3.033000    -2.500000  \n",
       "50%      20.000000     1.500000  \n",
       "75%      20.000000     7.500000  \n",
       "max      20.000000    53.000000  "
      ]
     },
     "metadata": {},
     "output_type": "display_data"
    },
    {
     "data": {
      "text/html": [
       "<div>\n",
       "<style scoped>\n",
       "    .dataframe tbody tr th:only-of-type {\n",
       "        vertical-align: middle;\n",
       "    }\n",
       "\n",
       "    .dataframe tbody tr th {\n",
       "        vertical-align: top;\n",
       "    }\n",
       "\n",
       "    .dataframe thead th {\n",
       "        text-align: right;\n",
       "    }\n",
       "</style>\n",
       "<table border=\"1\" class=\"dataframe\">\n",
       "  <thead>\n",
       "    <tr style=\"text-align: right;\">\n",
       "      <th></th>\n",
       "      <th>0</th>\n",
       "      <th>1</th>\n",
       "      <th>2</th>\n",
       "      <th>3</th>\n",
       "    </tr>\n",
       "  </thead>\n",
       "  <tbody>\n",
       "    <tr>\n",
       "      <th>count</th>\n",
       "      <td>5920.000000</td>\n",
       "      <td>5920.000000</td>\n",
       "      <td>5.920000e+03</td>\n",
       "      <td>5920.000000</td>\n",
       "    </tr>\n",
       "    <tr>\n",
       "      <th>mean</th>\n",
       "      <td>1.885385</td>\n",
       "      <td>1.540811</td>\n",
       "      <td>8.445946e+16</td>\n",
       "      <td>3.326014</td>\n",
       "    </tr>\n",
       "    <tr>\n",
       "      <th>std</th>\n",
       "      <td>0.386761</td>\n",
       "      <td>0.570198</td>\n",
       "      <td>2.905209e+18</td>\n",
       "      <td>10.068282</td>\n",
       "    </tr>\n",
       "    <tr>\n",
       "      <th>min</th>\n",
       "      <td>0.543400</td>\n",
       "      <td>0.360300</td>\n",
       "      <td>6.499000e-01</td>\n",
       "      <td>-22.000000</td>\n",
       "    </tr>\n",
       "    <tr>\n",
       "      <th>25%</th>\n",
       "      <td>1.655500</td>\n",
       "      <td>1.288975</td>\n",
       "      <td>1.034200e+00</td>\n",
       "      <td>0.000000</td>\n",
       "    </tr>\n",
       "    <tr>\n",
       "      <th>50%</th>\n",
       "      <td>1.854600</td>\n",
       "      <td>1.497100</td>\n",
       "      <td>1.169600e+00</td>\n",
       "      <td>0.000000</td>\n",
       "    </tr>\n",
       "    <tr>\n",
       "      <th>75%</th>\n",
       "      <td>2.084300</td>\n",
       "      <td>1.698600</td>\n",
       "      <td>1.328225e+00</td>\n",
       "      <td>0.000000</td>\n",
       "    </tr>\n",
       "    <tr>\n",
       "      <th>max</th>\n",
       "      <td>3.253800</td>\n",
       "      <td>7.921100</td>\n",
       "      <td>1.000000e+20</td>\n",
       "      <td>22.000000</td>\n",
       "    </tr>\n",
       "  </tbody>\n",
       "</table>\n",
       "</div>"
      ],
      "text/plain": [
       "                 0            1             2            3\n",
       "count  5920.000000  5920.000000  5.920000e+03  5920.000000\n",
       "mean      1.885385     1.540811  8.445946e+16     3.326014\n",
       "std       0.386761     0.570198  2.905209e+18    10.068282\n",
       "min       0.543400     0.360300  6.499000e-01   -22.000000\n",
       "25%       1.655500     1.288975  1.034200e+00     0.000000\n",
       "50%       1.854600     1.497100  1.169600e+00     0.000000\n",
       "75%       2.084300     1.698600  1.328225e+00     0.000000\n",
       "max       3.253800     7.921100  1.000000e+20    22.000000"
      ]
     },
     "execution_count": 4,
     "metadata": {},
     "output_type": "execute_result"
    }
   ],
   "source": [
    "display(df_lidar.describe())\n",
    "df_sonar.describe()"
   ]
  },
  {
   "cell_type": "markdown",
   "metadata": {},
   "source": [
    "### Preprocessing data"
   ]
  },
  {
   "cell_type": "code",
   "execution_count": 5,
   "metadata": {},
   "outputs": [
    {
     "name": "stdout",
     "output_type": "stream",
     "text": [
      "# of duplicates found:\n",
      "Lidar: 330 of 3308 items\n",
      "Sonar: 4182 of 5920 items\n"
     ]
    }
   ],
   "source": [
    "# build pipeline to find duplicates, count them and remove them and to normalize the data between 0 and 1\n",
    "\n",
    "duplicates_lidar = len(df_lidar[df_lidar.duplicated()])\n",
    "duplicates_sonar = len(df_sonar[df_sonar.duplicated()])\n",
    "\n",
    "print(f\"# of duplicates found:\\nLidar: {duplicates_lidar} of {len(df_lidar)} items\\nSonar: {duplicates_sonar} of {len(df_sonar)} items\")\n",
    " "
   ]
  },
  {
   "cell_type": "code",
   "execution_count": 6,
   "metadata": {},
   "outputs": [
    {
     "data": {
      "text/plain": [
       "2978"
      ]
     },
     "execution_count": 6,
     "metadata": {},
     "output_type": "execute_result"
    }
   ],
   "source": [
    "lidar_no_dup = df_lidar[~df_lidar.duplicated()]\n",
    "sonar_no_dup = df_sonar[~df_sonar.duplicated()]\n",
    "\n",
    "len(lidar_no_dup)"
   ]
  },
  {
   "cell_type": "markdown",
   "metadata": {},
   "source": [
    "### Neural Net class"
   ]
  },
  {
   "cell_type": "code",
   "execution_count": 7,
   "metadata": {},
   "outputs": [
    {
     "name": "stdout",
     "output_type": "stream",
     "text": [
      "cuda\n"
     ]
    }
   ],
   "source": [
    "import numpy as np\n",
    "import torch\n",
    "from torch import nn\n",
    "from torch import optim\n",
    "import torch.utils.data as tud\n",
    "from tqdm import tqdm\n",
    "import matplotlib.pyplot as plt\n",
    "import pickle\n",
    "import mlflow\n",
    "\n",
    "DEVICE = torch.device(\"cuda\" if torch.cuda.is_available() else \"cpu\")\n",
    "print(DEVICE)\n",
    "\n",
    "class Dataset(tud.Dataset):\n",
    "    'Characterizes a dataset for PyTorch'\n",
    "    def __init__(self, data):\n",
    "            'Initialization'\n",
    "            self.data = torch.tensor(np.array(data))    \n",
    "\n",
    "    def __len__(self):\n",
    "            'Denotes the total number of samples'\n",
    "            return len(self.data)\n",
    "\n",
    "    def __getitem__(self, index):\n",
    "            'Generates one sample of data'\n",
    "            # Select sample\n",
    "            sample = self.data[index]\n",
    "\n",
    "            # return x and y\n",
    "            X = sample[:-1]\n",
    "            y = sample[-1]\n",
    "            return X.to(torch.float32), y.to(torch.float32)\n",
    "\n",
    "class NeuralNet:\n",
    "    def __init__(self, hidden_layers, sensor, epochs, lr, batch_size, batchnorm=True, relu=True) -> None:\n",
    "        self.hidden_layers = hidden_layers\n",
    "        self.sensor = sensor\n",
    "        self.epochs = epochs\n",
    "        self.lr = lr\n",
    "        self.batch_size = batch_size\n",
    "        self.batchnorm = batchnorm\n",
    "        self.relu = relu\n",
    "        self.model = self.create_model()\n",
    "        \n",
    "\n",
    "    def create_model(self):\n",
    "        model = nn.Sequential()\n",
    "        for i, j in enumerate(self.hidden_layers):\n",
    "            if i != (len(self.hidden_layers) - 1):\n",
    "                model.add_module(f\"linear_{i+1}\", nn.Linear(j[0], j[1]))\n",
    "                if self.batchnorm == True:\n",
    "                    model.add_module(f\"batch_norm_{i+1}\", nn.BatchNorm1d(j[1]))\n",
    "                if self.relu == True:\n",
    "                    model.add_module(f\"relu_{i+1}\", nn.ReLU())\n",
    "            else:\n",
    "                model.add_module(f\"linear_{i+1}\", nn.Linear(j[0], j[1]))\n",
    "        return model\n",
    "    \n",
    "    def train(self, filename):\n",
    "        if self.sensor == \"lidar\":\n",
    "            self.data = lidar_no_dup\n",
    "        else:\n",
    "            self.data = sonar_no_dup\n",
    "        print(\"Training...\")\n",
    "        train_dataset = Dataset(self.data)\n",
    "\n",
    "        train_loader = tud.DataLoader(train_dataset, batch_size=self.batch_size, shuffle=True)\n",
    "\n",
    "        criterion = nn.MSELoss()\n",
    "        optimizer = optim.SGD(self.model.parameters(), lr=self.lr)\n",
    "        self.model.train()\n",
    "\n",
    "        mse_list = []\n",
    "        for epoch in tqdm(range(self.epochs)):\n",
    "            # print(f\"##### EPOCH {epoch} #####\")\n",
    "            losses = []\n",
    "            for i, (x, y) in enumerate(iter(train_loader)):\n",
    "                optimizer.zero_grad()\n",
    "                outputs = self.model(x.to(DEVICE))\n",
    "                loss = criterion(outputs, y.reshape(-1, 1).to(DEVICE))\n",
    "                loss.backward()\n",
    "                optimizer.step()\n",
    "                losses.append(loss.item())\n",
    "            loss_avg = sum(losses) / len(losses)\n",
    "            # print(loss_avg)\n",
    "            mse_list.append(loss_avg)\n",
    "\n",
    "        fig, ax = plt.subplots(figsize=(15, 6))\n",
    "\n",
    "        ax.set(xlabel='epochs', ylabel='MSE', title='Gradient Descent')\n",
    "\n",
    "        ax.plot(range(self.epochs), mse_list, 'blue')\n",
    "        \n",
    "        plt.savefig(f'../loss_graphs/{filename}.png')\n",
    "        # plt.show()\n",
    "        \n",
    "        return mse_list\n",
    "\n",
    "    def save_model(self, filename):\n",
    "        # open a file, where you ant to store the data\n",
    "        file = open(f'../models/{filename}.pickle', 'wb')\n",
    "\n",
    "        # dump information to that file\n",
    "        pickle.dump(self.model, file)\n",
    "\n",
    "        # close the file\n",
    "        file.close()"
   ]
  },
  {
   "cell_type": "markdown",
   "metadata": {},
   "source": [
    "### Training"
   ]
  },
  {
   "cell_type": "code",
   "execution_count": 8,
   "metadata": {
    "tags": []
   },
   "outputs": [],
   "source": [
    "# hyperparameters\n",
    "hidden_layers_list = [\n",
    "    [[16, 64], [64, 64], [64, 128], [128, 1]],\n",
    "    [[16, 64], [64, 128], [128, 1]],\n",
    "    [[16, 64], [64, 1]],\n",
    "    [[16, 32], [32, 64], [64, 128], [128, 1]],\n",
    "    [[16, 32], [32, 128], [128, 1]],\n",
    "    [[16, 32], [32, 1]],\n",
    "    [[16, 16], [16, 32], [32, 64], [64, 1]],\n",
    "    [[16, 16], [16, 32], [32, 1]],\n",
    "    [[16, 16], [16, 1]],\n",
    "]\n",
    "sensor_list = [\"lidar\"]\n",
    "epochs_list = [150, 300, 450]\n",
    "lr_list = [0.0001, 0.000075, 0.00001, 0.0000075]\n",
    "batch_size_list = [50, 100, 200]\n",
    "batchnorm_list = [True, False]\n",
    "relu_list = [True, False]"
   ]
  },
  {
   "cell_type": "code",
   "execution_count": 9,
   "metadata": {},
   "outputs": [
    {
     "name": "stdout",
     "output_type": "stream",
     "text": [
      "[19/Apr/2023 21:13:50] INFO - Running process for Neural Net (lidar) | layers: 4, epochs: 150, lr: 0.0001, batchsize: 50\n",
      "Training...\n"
     ]
    },
    {
     "name": "stderr",
     "output_type": "stream",
     "text": [
      "100%|██████████| 150/150 [00:22<00:00,  6.60it/s]\n",
      "2023/04/19 21:14:16 INFO mlflow.tracking.fluent: Experiment with name 'Autonomous driving of a car' does not exist. Creating a new experiment.\n"
     ]
    },
    {
     "name": "stdout",
     "output_type": "stream",
     "text": [
      "[19/Apr/2023 21:14:16] INFO - Running process for Neural Net (lidar) | layers: 4, epochs: 150, lr: 0.0001, batchsize: 50\n",
      "Training...\n"
     ]
    },
    {
     "name": "stderr",
     "output_type": "stream",
     "text": [
      "100%|██████████| 150/150 [00:20<00:00,  7.26it/s]\n"
     ]
    },
    {
     "name": "stdout",
     "output_type": "stream",
     "text": [
      "[19/Apr/2023 21:14:37] INFO - Running process for Neural Net (lidar) | layers: 4, epochs: 150, lr: 0.0001, batchsize: 50\n",
      "Training...\n"
     ]
    },
    {
     "name": "stderr",
     "output_type": "stream",
     "text": [
      "100%|██████████| 150/150 [00:18<00:00,  8.04it/s]\n"
     ]
    },
    {
     "name": "stdout",
     "output_type": "stream",
     "text": [
      "[19/Apr/2023 21:14:55] INFO - Running process for Neural Net (lidar) | layers: 4, epochs: 150, lr: 0.0001, batchsize: 50\n",
      "Training...\n"
     ]
    },
    {
     "name": "stderr",
     "output_type": "stream",
     "text": [
      "100%|██████████| 150/150 [00:18<00:00,  8.12it/s]\n"
     ]
    },
    {
     "name": "stdout",
     "output_type": "stream",
     "text": [
      "[19/Apr/2023 21:15:14] INFO - Running process for Neural Net (lidar) | layers: 4, epochs: 150, lr: 0.0001, batchsize: 100\n",
      "Training...\n"
     ]
    },
    {
     "name": "stderr",
     "output_type": "stream",
     "text": [
      "100%|██████████| 150/150 [00:12<00:00, 12.34it/s]\n"
     ]
    },
    {
     "name": "stdout",
     "output_type": "stream",
     "text": [
      "[19/Apr/2023 21:15:26] INFO - Running process for Neural Net (lidar) | layers: 4, epochs: 150, lr: 0.0001, batchsize: 100\n",
      "Training...\n"
     ]
    },
    {
     "name": "stderr",
     "output_type": "stream",
     "text": [
      "100%|██████████| 150/150 [00:12<00:00, 11.99it/s]\n"
     ]
    },
    {
     "name": "stdout",
     "output_type": "stream",
     "text": [
      "[19/Apr/2023 21:15:39] INFO - Running process for Neural Net (lidar) | layers: 4, epochs: 150, lr: 0.0001, batchsize: 100\n",
      "Training...\n"
     ]
    },
    {
     "name": "stderr",
     "output_type": "stream",
     "text": [
      "100%|██████████| 150/150 [00:12<00:00, 12.37it/s]\n"
     ]
    },
    {
     "name": "stdout",
     "output_type": "stream",
     "text": [
      "[19/Apr/2023 21:15:51] INFO - Running process for Neural Net (lidar) | layers: 4, epochs: 150, lr: 0.0001, batchsize: 100\n",
      "Training...\n"
     ]
    },
    {
     "name": "stderr",
     "output_type": "stream",
     "text": [
      "100%|██████████| 150/150 [00:12<00:00, 12.27it/s]\n"
     ]
    },
    {
     "name": "stdout",
     "output_type": "stream",
     "text": [
      "[19/Apr/2023 21:16:04] INFO - Running process for Neural Net (lidar) | layers: 4, epochs: 150, lr: 0.0001, batchsize: 200\n",
      "Training...\n"
     ]
    },
    {
     "name": "stderr",
     "output_type": "stream",
     "text": [
      "100%|██████████| 150/150 [00:10<00:00, 14.05it/s]\n"
     ]
    },
    {
     "name": "stdout",
     "output_type": "stream",
     "text": [
      "[19/Apr/2023 21:16:14] INFO - Running process for Neural Net (lidar) | layers: 4, epochs: 150, lr: 0.0001, batchsize: 200\n",
      "Training...\n"
     ]
    },
    {
     "name": "stderr",
     "output_type": "stream",
     "text": [
      "100%|██████████| 150/150 [00:09<00:00, 15.95it/s]\n"
     ]
    },
    {
     "name": "stdout",
     "output_type": "stream",
     "text": [
      "[19/Apr/2023 21:16:24] INFO - Running process for Neural Net (lidar) | layers: 4, epochs: 150, lr: 0.0001, batchsize: 200\n",
      "Training...\n"
     ]
    },
    {
     "name": "stderr",
     "output_type": "stream",
     "text": [
      "100%|██████████| 150/150 [00:10<00:00, 14.54it/s]\n"
     ]
    },
    {
     "name": "stdout",
     "output_type": "stream",
     "text": [
      "[19/Apr/2023 21:16:34] INFO - Running process for Neural Net (lidar) | layers: 4, epochs: 150, lr: 0.0001, batchsize: 200\n",
      "Training...\n"
     ]
    },
    {
     "name": "stderr",
     "output_type": "stream",
     "text": [
      "100%|██████████| 150/150 [00:09<00:00, 15.50it/s]\n"
     ]
    },
    {
     "name": "stdout",
     "output_type": "stream",
     "text": [
      "[19/Apr/2023 21:16:44] INFO - Running process for Neural Net (lidar) | layers: 4, epochs: 150, lr: 7.5e-05, batchsize: 50\n",
      "Training...\n"
     ]
    },
    {
     "name": "stderr",
     "output_type": "stream",
     "text": [
      "100%|██████████| 150/150 [00:21<00:00,  6.98it/s]\n"
     ]
    },
    {
     "name": "stdout",
     "output_type": "stream",
     "text": [
      "[19/Apr/2023 21:17:06] INFO - Running process for Neural Net (lidar) | layers: 4, epochs: 150, lr: 7.5e-05, batchsize: 50\n",
      "Training...\n"
     ]
    },
    {
     "name": "stderr",
     "output_type": "stream",
     "text": [
      "100%|██████████| 150/150 [00:19<00:00,  7.84it/s]\n"
     ]
    },
    {
     "name": "stdout",
     "output_type": "stream",
     "text": [
      "[19/Apr/2023 21:17:25] INFO - Running process for Neural Net (lidar) | layers: 4, epochs: 150, lr: 7.5e-05, batchsize: 50\n",
      "Training...\n"
     ]
    },
    {
     "name": "stderr",
     "output_type": "stream",
     "text": [
      "100%|██████████| 150/150 [00:19<00:00,  7.79it/s]\n"
     ]
    },
    {
     "name": "stdout",
     "output_type": "stream",
     "text": [
      "[19/Apr/2023 21:17:45] INFO - Running process for Neural Net (lidar) | layers: 4, epochs: 150, lr: 7.5e-05, batchsize: 50\n",
      "Training...\n"
     ]
    },
    {
     "name": "stderr",
     "output_type": "stream",
     "text": [
      "100%|██████████| 150/150 [00:19<00:00,  7.68it/s]\n"
     ]
    },
    {
     "name": "stdout",
     "output_type": "stream",
     "text": [
      "[19/Apr/2023 21:18:04] INFO - Running process for Neural Net (lidar) | layers: 4, epochs: 150, lr: 7.5e-05, batchsize: 100\n",
      "Training...\n"
     ]
    },
    {
     "name": "stderr",
     "output_type": "stream",
     "text": [
      "100%|██████████| 150/150 [00:16<00:00,  8.88it/s]\n"
     ]
    },
    {
     "name": "stdout",
     "output_type": "stream",
     "text": [
      "[19/Apr/2023 21:18:21] INFO - Running process for Neural Net (lidar) | layers: 4, epochs: 150, lr: 7.5e-05, batchsize: 100\n",
      "Training...\n"
     ]
    },
    {
     "name": "stderr",
     "output_type": "stream",
     "text": [
      "100%|██████████| 150/150 [00:17<00:00,  8.81it/s]\n"
     ]
    },
    {
     "name": "stdout",
     "output_type": "stream",
     "text": [
      "[19/Apr/2023 21:18:38] INFO - Running process for Neural Net (lidar) | layers: 4, epochs: 150, lr: 7.5e-05, batchsize: 100\n",
      "Training...\n"
     ]
    },
    {
     "name": "stderr",
     "output_type": "stream",
     "text": [
      "100%|██████████| 150/150 [00:17<00:00,  8.79it/s]\n"
     ]
    },
    {
     "name": "stdout",
     "output_type": "stream",
     "text": [
      "[19/Apr/2023 21:18:56] INFO - Running process for Neural Net (lidar) | layers: 4, epochs: 150, lr: 7.5e-05, batchsize: 100\n",
      "Training...\n"
     ]
    },
    {
     "name": "stderr",
     "output_type": "stream",
     "text": [
      "100%|██████████| 150/150 [00:12<00:00, 11.80it/s]\n"
     ]
    },
    {
     "name": "stdout",
     "output_type": "stream",
     "text": [
      "[19/Apr/2023 21:19:08] INFO - Running process for Neural Net (lidar) | layers: 4, epochs: 150, lr: 7.5e-05, batchsize: 200\n",
      "Training...\n"
     ]
    },
    {
     "name": "stderr",
     "output_type": "stream",
     "text": [
      "100%|██████████| 150/150 [00:10<00:00, 14.91it/s]\n",
      "/tmp/ipykernel_444/626842283.py:88: RuntimeWarning: More than 20 figures have been opened. Figures created through the pyplot interface (`matplotlib.pyplot.figure`) are retained until explicitly closed and may consume too much memory. (To control this warning, see the rcParam `figure.max_open_warning`). Consider using `matplotlib.pyplot.close()`.\n",
      "  fig, ax = plt.subplots(figsize=(15, 6))\n"
     ]
    },
    {
     "name": "stdout",
     "output_type": "stream",
     "text": [
      "[19/Apr/2023 21:19:19] INFO - Running process for Neural Net (lidar) | layers: 4, epochs: 150, lr: 7.5e-05, batchsize: 200\n",
      "Training...\n"
     ]
    },
    {
     "name": "stderr",
     "output_type": "stream",
     "text": [
      "100%|██████████| 150/150 [00:09<00:00, 16.39it/s]\n"
     ]
    },
    {
     "name": "stdout",
     "output_type": "stream",
     "text": [
      "[19/Apr/2023 21:19:28] INFO - Running process for Neural Net (lidar) | layers: 4, epochs: 150, lr: 7.5e-05, batchsize: 200\n",
      "Training...\n"
     ]
    },
    {
     "name": "stderr",
     "output_type": "stream",
     "text": [
      "100%|██████████| 150/150 [00:09<00:00, 16.31it/s]\n"
     ]
    },
    {
     "name": "stdout",
     "output_type": "stream",
     "text": [
      "[19/Apr/2023 21:19:37] INFO - Running process for Neural Net (lidar) | layers: 4, epochs: 150, lr: 7.5e-05, batchsize: 200\n",
      "Training...\n"
     ]
    },
    {
     "name": "stderr",
     "output_type": "stream",
     "text": [
      "100%|██████████| 150/150 [00:09<00:00, 16.41it/s]\n"
     ]
    },
    {
     "name": "stdout",
     "output_type": "stream",
     "text": [
      "[19/Apr/2023 21:19:47] INFO - Running process for Neural Net (lidar) | layers: 4, epochs: 150, lr: 1e-05, batchsize: 50\n",
      "Training...\n"
     ]
    },
    {
     "name": "stderr",
     "output_type": "stream",
     "text": [
      "100%|██████████| 150/150 [00:16<00:00,  8.86it/s]\n"
     ]
    },
    {
     "name": "stdout",
     "output_type": "stream",
     "text": [
      "[19/Apr/2023 21:20:04] INFO - Running process for Neural Net (lidar) | layers: 4, epochs: 150, lr: 1e-05, batchsize: 50\n",
      "Training...\n"
     ]
    },
    {
     "name": "stderr",
     "output_type": "stream",
     "text": [
      "100%|██████████| 150/150 [00:16<00:00,  8.92it/s]\n"
     ]
    },
    {
     "name": "stdout",
     "output_type": "stream",
     "text": [
      "[19/Apr/2023 21:20:21] INFO - Running process for Neural Net (lidar) | layers: 4, epochs: 150, lr: 1e-05, batchsize: 50\n",
      "Training...\n"
     ]
    },
    {
     "name": "stderr",
     "output_type": "stream",
     "text": [
      "100%|██████████| 150/150 [00:16<00:00,  8.86it/s]\n"
     ]
    },
    {
     "name": "stdout",
     "output_type": "stream",
     "text": [
      "[19/Apr/2023 21:20:38] INFO - Running process for Neural Net (lidar) | layers: 4, epochs: 150, lr: 1e-05, batchsize: 50\n",
      "Training...\n"
     ]
    },
    {
     "name": "stderr",
     "output_type": "stream",
     "text": [
      "100%|██████████| 150/150 [00:16<00:00,  8.96it/s]\n"
     ]
    },
    {
     "name": "stdout",
     "output_type": "stream",
     "text": [
      "[19/Apr/2023 21:20:55] INFO - Running process for Neural Net (lidar) | layers: 4, epochs: 150, lr: 1e-05, batchsize: 100\n",
      "Training...\n"
     ]
    },
    {
     "name": "stderr",
     "output_type": "stream",
     "text": [
      "100%|██████████| 150/150 [00:10<00:00, 14.24it/s]\n"
     ]
    },
    {
     "name": "stdout",
     "output_type": "stream",
     "text": [
      "[19/Apr/2023 21:21:05] INFO - Running process for Neural Net (lidar) | layers: 4, epochs: 150, lr: 1e-05, batchsize: 100\n",
      "Training...\n"
     ]
    },
    {
     "name": "stderr",
     "output_type": "stream",
     "text": [
      "100%|██████████| 150/150 [00:10<00:00, 14.17it/s]\n"
     ]
    },
    {
     "name": "stdout",
     "output_type": "stream",
     "text": [
      "[19/Apr/2023 21:21:16] INFO - Running process for Neural Net (lidar) | layers: 4, epochs: 150, lr: 1e-05, batchsize: 100\n",
      "Training...\n"
     ]
    },
    {
     "name": "stderr",
     "output_type": "stream",
     "text": [
      "100%|██████████| 150/150 [00:10<00:00, 14.28it/s]\n"
     ]
    },
    {
     "name": "stdout",
     "output_type": "stream",
     "text": [
      "[19/Apr/2023 21:21:27] INFO - Running process for Neural Net (lidar) | layers: 4, epochs: 150, lr: 1e-05, batchsize: 100\n",
      "Training...\n"
     ]
    },
    {
     "name": "stderr",
     "output_type": "stream",
     "text": [
      "100%|██████████| 150/150 [00:10<00:00, 14.28it/s]\n"
     ]
    },
    {
     "name": "stdout",
     "output_type": "stream",
     "text": [
      "[19/Apr/2023 21:21:37] INFO - Running process for Neural Net (lidar) | layers: 4, epochs: 150, lr: 1e-05, batchsize: 200\n",
      "Training...\n"
     ]
    },
    {
     "name": "stderr",
     "output_type": "stream",
     "text": [
      "100%|██████████| 150/150 [00:07<00:00, 19.21it/s]\n"
     ]
    },
    {
     "name": "stdout",
     "output_type": "stream",
     "text": [
      "[19/Apr/2023 21:21:45] INFO - Running process for Neural Net (lidar) | layers: 4, epochs: 150, lr: 1e-05, batchsize: 200\n",
      "Training...\n"
     ]
    },
    {
     "name": "stderr",
     "output_type": "stream",
     "text": [
      "100%|██████████| 150/150 [00:09<00:00, 16.62it/s]\n"
     ]
    },
    {
     "name": "stdout",
     "output_type": "stream",
     "text": [
      "[19/Apr/2023 21:21:54] INFO - Running process for Neural Net (lidar) | layers: 4, epochs: 150, lr: 1e-05, batchsize: 200\n",
      "Training...\n"
     ]
    },
    {
     "name": "stderr",
     "output_type": "stream",
     "text": [
      "100%|██████████| 150/150 [00:09<00:00, 16.23it/s]\n"
     ]
    },
    {
     "name": "stdout",
     "output_type": "stream",
     "text": [
      "[19/Apr/2023 21:22:04] INFO - Running process for Neural Net (lidar) | layers: 4, epochs: 150, lr: 1e-05, batchsize: 200\n",
      "Training...\n"
     ]
    },
    {
     "name": "stderr",
     "output_type": "stream",
     "text": [
      "100%|██████████| 150/150 [00:09<00:00, 16.41it/s]\n"
     ]
    },
    {
     "name": "stdout",
     "output_type": "stream",
     "text": [
      "[19/Apr/2023 21:22:13] INFO - Running process for Neural Net (lidar) | layers: 4, epochs: 150, lr: 7.5e-06, batchsize: 50\n",
      "Training...\n"
     ]
    },
    {
     "name": "stderr",
     "output_type": "stream",
     "text": [
      "100%|██████████| 150/150 [00:17<00:00,  8.82it/s]\n"
     ]
    },
    {
     "name": "stdout",
     "output_type": "stream",
     "text": [
      "[19/Apr/2023 21:22:30] INFO - Running process for Neural Net (lidar) | layers: 4, epochs: 150, lr: 7.5e-06, batchsize: 50\n",
      "Training...\n"
     ]
    },
    {
     "name": "stderr",
     "output_type": "stream",
     "text": [
      "100%|██████████| 150/150 [00:17<00:00,  8.78it/s]\n"
     ]
    },
    {
     "name": "stdout",
     "output_type": "stream",
     "text": [
      "[19/Apr/2023 21:22:47] INFO - Running process for Neural Net (lidar) | layers: 4, epochs: 150, lr: 7.5e-06, batchsize: 50\n",
      "Training...\n"
     ]
    },
    {
     "name": "stderr",
     "output_type": "stream",
     "text": [
      "100%|██████████| 150/150 [00:16<00:00,  8.91it/s]\n"
     ]
    },
    {
     "name": "stdout",
     "output_type": "stream",
     "text": [
      "[19/Apr/2023 21:23:04] INFO - Running process for Neural Net (lidar) | layers: 4, epochs: 150, lr: 7.5e-06, batchsize: 50\n",
      "Training...\n"
     ]
    },
    {
     "name": "stderr",
     "output_type": "stream",
     "text": [
      "100%|██████████| 150/150 [00:17<00:00,  8.69it/s]\n"
     ]
    },
    {
     "name": "stdout",
     "output_type": "stream",
     "text": [
      "[19/Apr/2023 21:23:22] INFO - Running process for Neural Net (lidar) | layers: 4, epochs: 150, lr: 7.5e-06, batchsize: 100\n",
      "Training...\n"
     ]
    },
    {
     "name": "stderr",
     "output_type": "stream",
     "text": [
      "100%|██████████| 150/150 [00:10<00:00, 13.97it/s]\n"
     ]
    },
    {
     "name": "stdout",
     "output_type": "stream",
     "text": [
      "[19/Apr/2023 21:23:33] INFO - Running process for Neural Net (lidar) | layers: 4, epochs: 150, lr: 7.5e-06, batchsize: 100\n",
      "Training...\n"
     ]
    },
    {
     "name": "stderr",
     "output_type": "stream",
     "text": [
      "100%|██████████| 150/150 [00:10<00:00, 13.94it/s]\n"
     ]
    },
    {
     "name": "stdout",
     "output_type": "stream",
     "text": [
      "[19/Apr/2023 21:23:43] INFO - Running process for Neural Net (lidar) | layers: 4, epochs: 150, lr: 7.5e-06, batchsize: 100\n",
      "Training...\n"
     ]
    },
    {
     "name": "stderr",
     "output_type": "stream",
     "text": [
      "100%|██████████| 150/150 [00:10<00:00, 13.84it/s]\n"
     ]
    },
    {
     "name": "stdout",
     "output_type": "stream",
     "text": [
      "[19/Apr/2023 21:23:54] INFO - Running process for Neural Net (lidar) | layers: 4, epochs: 150, lr: 7.5e-06, batchsize: 100\n",
      "Training...\n"
     ]
    },
    {
     "name": "stderr",
     "output_type": "stream",
     "text": [
      "100%|██████████| 150/150 [00:10<00:00, 13.98it/s]\n"
     ]
    },
    {
     "name": "stdout",
     "output_type": "stream",
     "text": [
      "[19/Apr/2023 21:24:05] INFO - Running process for Neural Net (lidar) | layers: 4, epochs: 150, lr: 7.5e-06, batchsize: 200\n",
      "Training...\n"
     ]
    },
    {
     "name": "stderr",
     "output_type": "stream",
     "text": [
      "100%|██████████| 150/150 [00:09<00:00, 16.60it/s]\n"
     ]
    },
    {
     "name": "stdout",
     "output_type": "stream",
     "text": [
      "[19/Apr/2023 21:24:14] INFO - Running process for Neural Net (lidar) | layers: 4, epochs: 150, lr: 7.5e-06, batchsize: 200\n",
      "Training...\n"
     ]
    },
    {
     "name": "stderr",
     "output_type": "stream",
     "text": [
      "100%|██████████| 150/150 [00:09<00:00, 16.25it/s]\n"
     ]
    },
    {
     "name": "stdout",
     "output_type": "stream",
     "text": [
      "[19/Apr/2023 21:24:24] INFO - Running process for Neural Net (lidar) | layers: 4, epochs: 150, lr: 7.5e-06, batchsize: 200\n",
      "Training...\n"
     ]
    },
    {
     "name": "stderr",
     "output_type": "stream",
     "text": [
      "100%|██████████| 150/150 [00:09<00:00, 16.41it/s]\n"
     ]
    },
    {
     "name": "stdout",
     "output_type": "stream",
     "text": [
      "[19/Apr/2023 21:24:33] INFO - Running process for Neural Net (lidar) | layers: 4, epochs: 150, lr: 7.5e-06, batchsize: 200\n",
      "Training...\n"
     ]
    },
    {
     "name": "stderr",
     "output_type": "stream",
     "text": [
      "100%|██████████| 150/150 [00:09<00:00, 16.45it/s]\n"
     ]
    },
    {
     "name": "stdout",
     "output_type": "stream",
     "text": [
      "[19/Apr/2023 21:24:42] INFO - Running process for Neural Net (lidar) | layers: 4, epochs: 300, lr: 0.0001, batchsize: 50\n",
      "Training...\n"
     ]
    },
    {
     "name": "stderr",
     "output_type": "stream",
     "text": [
      "100%|██████████| 300/300 [00:34<00:00,  8.81it/s]\n"
     ]
    },
    {
     "name": "stdout",
     "output_type": "stream",
     "text": [
      "[19/Apr/2023 21:25:17] INFO - Running process for Neural Net (lidar) | layers: 4, epochs: 300, lr: 0.0001, batchsize: 50\n",
      "Training...\n"
     ]
    },
    {
     "name": "stderr",
     "output_type": "stream",
     "text": [
      "100%|██████████| 300/300 [00:33<00:00,  8.88it/s]\n"
     ]
    },
    {
     "name": "stdout",
     "output_type": "stream",
     "text": [
      "[19/Apr/2023 21:25:50] INFO - Running process for Neural Net (lidar) | layers: 4, epochs: 300, lr: 0.0001, batchsize: 50\n",
      "Training...\n"
     ]
    },
    {
     "name": "stderr",
     "output_type": "stream",
     "text": [
      "100%|██████████| 300/300 [00:34<00:00,  8.69it/s]\n"
     ]
    },
    {
     "name": "stdout",
     "output_type": "stream",
     "text": [
      "[19/Apr/2023 21:26:25] INFO - Running process for Neural Net (lidar) | layers: 4, epochs: 300, lr: 0.0001, batchsize: 50\n",
      "Training...\n"
     ]
    },
    {
     "name": "stderr",
     "output_type": "stream",
     "text": [
      "100%|██████████| 300/300 [00:34<00:00,  8.82it/s]\n"
     ]
    },
    {
     "name": "stdout",
     "output_type": "stream",
     "text": [
      "[19/Apr/2023 21:26:59] INFO - Running process for Neural Net (lidar) | layers: 4, epochs: 300, lr: 0.0001, batchsize: 100\n",
      "Training...\n"
     ]
    },
    {
     "name": "stderr",
     "output_type": "stream",
     "text": [
      "100%|██████████| 300/300 [00:21<00:00, 14.14it/s]\n"
     ]
    },
    {
     "name": "stdout",
     "output_type": "stream",
     "text": [
      "[19/Apr/2023 21:27:21] INFO - Running process for Neural Net (lidar) | layers: 4, epochs: 300, lr: 0.0001, batchsize: 100\n",
      "Training...\n"
     ]
    },
    {
     "name": "stderr",
     "output_type": "stream",
     "text": [
      "100%|██████████| 300/300 [00:21<00:00, 13.71it/s]\n"
     ]
    },
    {
     "name": "stdout",
     "output_type": "stream",
     "text": [
      "[19/Apr/2023 21:27:43] INFO - Running process for Neural Net (lidar) | layers: 4, epochs: 300, lr: 0.0001, batchsize: 100\n",
      "Training...\n"
     ]
    },
    {
     "name": "stderr",
     "output_type": "stream",
     "text": [
      "100%|██████████| 300/300 [00:21<00:00, 13.84it/s]\n"
     ]
    },
    {
     "name": "stdout",
     "output_type": "stream",
     "text": [
      "[19/Apr/2023 21:28:05] INFO - Running process for Neural Net (lidar) | layers: 4, epochs: 300, lr: 0.0001, batchsize: 100\n",
      "Training...\n"
     ]
    },
    {
     "name": "stderr",
     "output_type": "stream",
     "text": [
      "100%|██████████| 300/300 [00:36<00:00,  8.30it/s]\n"
     ]
    },
    {
     "name": "stdout",
     "output_type": "stream",
     "text": [
      "[19/Apr/2023 21:28:41] INFO - Running process for Neural Net (lidar) | layers: 4, epochs: 300, lr: 0.0001, batchsize: 200\n",
      "Training...\n"
     ]
    },
    {
     "name": "stderr",
     "output_type": "stream",
     "text": [
      "100%|██████████| 300/300 [00:20<00:00, 14.63it/s]\n"
     ]
    },
    {
     "name": "stdout",
     "output_type": "stream",
     "text": [
      "[19/Apr/2023 21:29:02] INFO - Running process for Neural Net (lidar) | layers: 4, epochs: 300, lr: 0.0001, batchsize: 200\n",
      "Training...\n"
     ]
    },
    {
     "name": "stderr",
     "output_type": "stream",
     "text": [
      "100%|██████████| 300/300 [00:23<00:00, 13.02it/s]\n"
     ]
    },
    {
     "name": "stdout",
     "output_type": "stream",
     "text": [
      "[19/Apr/2023 21:29:25] INFO - Running process for Neural Net (lidar) | layers: 4, epochs: 300, lr: 0.0001, batchsize: 200\n",
      "Training...\n"
     ]
    },
    {
     "name": "stderr",
     "output_type": "stream",
     "text": [
      "100%|██████████| 300/300 [00:22<00:00, 13.05it/s]\n"
     ]
    },
    {
     "name": "stdout",
     "output_type": "stream",
     "text": [
      "[19/Apr/2023 21:29:48] INFO - Running process for Neural Net (lidar) | layers: 4, epochs: 300, lr: 0.0001, batchsize: 200\n",
      "Training...\n"
     ]
    },
    {
     "name": "stderr",
     "output_type": "stream",
     "text": [
      "100%|██████████| 300/300 [00:19<00:00, 15.35it/s]\n"
     ]
    },
    {
     "name": "stdout",
     "output_type": "stream",
     "text": [
      "[19/Apr/2023 21:30:08] INFO - Running process for Neural Net (lidar) | layers: 4, epochs: 300, lr: 7.5e-05, batchsize: 50\n",
      "Training...\n"
     ]
    },
    {
     "name": "stderr",
     "output_type": "stream",
     "text": [
      "100%|██████████| 300/300 [00:40<00:00,  7.34it/s]\n"
     ]
    },
    {
     "name": "stdout",
     "output_type": "stream",
     "text": [
      "[19/Apr/2023 21:30:48] INFO - Running process for Neural Net (lidar) | layers: 4, epochs: 300, lr: 7.5e-05, batchsize: 50\n",
      "Training...\n"
     ]
    },
    {
     "name": "stderr",
     "output_type": "stream",
     "text": [
      "100%|██████████| 300/300 [00:44<00:00,  6.78it/s]\n"
     ]
    },
    {
     "name": "stdout",
     "output_type": "stream",
     "text": [
      "[19/Apr/2023 21:31:33] INFO - Running process for Neural Net (lidar) | layers: 4, epochs: 300, lr: 7.5e-05, batchsize: 50\n",
      "Training...\n"
     ]
    },
    {
     "name": "stderr",
     "output_type": "stream",
     "text": [
      "100%|██████████| 300/300 [00:50<00:00,  5.97it/s]\n"
     ]
    },
    {
     "name": "stdout",
     "output_type": "stream",
     "text": [
      "[19/Apr/2023 21:32:23] INFO - Running process for Neural Net (lidar) | layers: 4, epochs: 300, lr: 7.5e-05, batchsize: 50\n",
      "Training...\n"
     ]
    },
    {
     "name": "stderr",
     "output_type": "stream",
     "text": [
      "100%|██████████| 300/300 [00:53<00:00,  5.66it/s]\n"
     ]
    },
    {
     "name": "stdout",
     "output_type": "stream",
     "text": [
      "[19/Apr/2023 21:33:16] INFO - Running process for Neural Net (lidar) | layers: 4, epochs: 300, lr: 7.5e-05, batchsize: 100\n",
      "Training...\n"
     ]
    },
    {
     "name": "stderr",
     "output_type": "stream",
     "text": [
      "100%|██████████| 300/300 [00:27<00:00, 11.05it/s]\n"
     ]
    },
    {
     "name": "stdout",
     "output_type": "stream",
     "text": [
      "[19/Apr/2023 21:33:44] INFO - Running process for Neural Net (lidar) | layers: 4, epochs: 300, lr: 7.5e-05, batchsize: 100\n",
      "Training...\n"
     ]
    },
    {
     "name": "stderr",
     "output_type": "stream",
     "text": [
      "100%|██████████| 300/300 [00:21<00:00, 13.73it/s]"
     ]
    },
    {
     "name": "stdout",
     "output_type": "stream",
     "text": [
      "[19/Apr/2023 21:34:06] INFO - Running process for Neural Net (lidar) | layers: 4, epochs: 300, lr: 7.5e-05, batchsize: 100\n"
     ]
    },
    {
     "name": "stderr",
     "output_type": "stream",
     "text": [
      "\n"
     ]
    },
    {
     "name": "stdout",
     "output_type": "stream",
     "text": [
      "Training...\n"
     ]
    },
    {
     "name": "stderr",
     "output_type": "stream",
     "text": [
      "100%|██████████| 300/300 [00:32<00:00,  9.12it/s]\n"
     ]
    },
    {
     "name": "stdout",
     "output_type": "stream",
     "text": [
      "[19/Apr/2023 21:34:39] INFO - Running process for Neural Net (lidar) | layers: 4, epochs: 300, lr: 7.5e-05, batchsize: 100\n",
      "Training...\n"
     ]
    },
    {
     "name": "stderr",
     "output_type": "stream",
     "text": [
      "100%|██████████| 300/300 [00:32<00:00,  9.10it/s]\n"
     ]
    },
    {
     "name": "stdout",
     "output_type": "stream",
     "text": [
      "[19/Apr/2023 21:35:12] INFO - Running process for Neural Net (lidar) | layers: 4, epochs: 300, lr: 7.5e-05, batchsize: 200\n",
      "Training...\n"
     ]
    },
    {
     "name": "stderr",
     "output_type": "stream",
     "text": [
      "100%|██████████| 300/300 [00:18<00:00, 16.21it/s]\n"
     ]
    },
    {
     "name": "stdout",
     "output_type": "stream",
     "text": [
      "[19/Apr/2023 21:35:30] INFO - Running process for Neural Net (lidar) | layers: 4, epochs: 300, lr: 7.5e-05, batchsize: 200\n",
      "Training...\n"
     ]
    },
    {
     "name": "stderr",
     "output_type": "stream",
     "text": [
      "100%|██████████| 300/300 [00:23<00:00, 12.84it/s]\n"
     ]
    },
    {
     "name": "stdout",
     "output_type": "stream",
     "text": [
      "[19/Apr/2023 21:35:54] INFO - Running process for Neural Net (lidar) | layers: 4, epochs: 300, lr: 7.5e-05, batchsize: 200\n",
      "Training...\n"
     ]
    },
    {
     "name": "stderr",
     "output_type": "stream",
     "text": [
      "100%|██████████| 300/300 [00:20<00:00, 14.90it/s]\n"
     ]
    },
    {
     "name": "stdout",
     "output_type": "stream",
     "text": [
      "[19/Apr/2023 21:36:14] INFO - Running process for Neural Net (lidar) | layers: 4, epochs: 300, lr: 7.5e-05, batchsize: 200\n",
      "Training...\n"
     ]
    },
    {
     "name": "stderr",
     "output_type": "stream",
     "text": [
      "100%|██████████| 300/300 [00:20<00:00, 14.66it/s]\n"
     ]
    },
    {
     "name": "stdout",
     "output_type": "stream",
     "text": [
      "[19/Apr/2023 21:36:35] INFO - Running process for Neural Net (lidar) | layers: 4, epochs: 300, lr: 1e-05, batchsize: 50\n",
      "Training...\n"
     ]
    },
    {
     "name": "stderr",
     "output_type": "stream",
     "text": [
      "100%|██████████| 300/300 [00:41<00:00,  7.25it/s]\n"
     ]
    },
    {
     "name": "stdout",
     "output_type": "stream",
     "text": [
      "[19/Apr/2023 21:37:16] INFO - Running process for Neural Net (lidar) | layers: 4, epochs: 300, lr: 1e-05, batchsize: 50\n",
      "Training...\n"
     ]
    },
    {
     "name": "stderr",
     "output_type": "stream",
     "text": [
      "100%|██████████| 300/300 [00:40<00:00,  7.33it/s]\n"
     ]
    },
    {
     "name": "stdout",
     "output_type": "stream",
     "text": [
      "[19/Apr/2023 21:37:57] INFO - Running process for Neural Net (lidar) | layers: 4, epochs: 300, lr: 1e-05, batchsize: 50\n",
      "Training...\n"
     ]
    },
    {
     "name": "stderr",
     "output_type": "stream",
     "text": [
      "100%|██████████| 300/300 [00:33<00:00,  8.89it/s]\n"
     ]
    },
    {
     "name": "stdout",
     "output_type": "stream",
     "text": [
      "[19/Apr/2023 21:38:31] INFO - Running process for Neural Net (lidar) | layers: 4, epochs: 300, lr: 1e-05, batchsize: 50\n",
      "Training...\n"
     ]
    },
    {
     "name": "stderr",
     "output_type": "stream",
     "text": [
      "100%|██████████| 300/300 [00:33<00:00,  8.97it/s]\n"
     ]
    },
    {
     "name": "stdout",
     "output_type": "stream",
     "text": [
      "[19/Apr/2023 21:39:05] INFO - Running process for Neural Net (lidar) | layers: 4, epochs: 300, lr: 1e-05, batchsize: 100\n",
      "Training...\n"
     ]
    },
    {
     "name": "stderr",
     "output_type": "stream",
     "text": [
      "100%|██████████| 300/300 [00:23<00:00, 12.65it/s]\n"
     ]
    },
    {
     "name": "stdout",
     "output_type": "stream",
     "text": [
      "[19/Apr/2023 21:39:29] INFO - Running process for Neural Net (lidar) | layers: 4, epochs: 300, lr: 1e-05, batchsize: 100\n",
      "Training...\n"
     ]
    },
    {
     "name": "stderr",
     "output_type": "stream",
     "text": [
      "100%|██████████| 300/300 [00:26<00:00, 11.31it/s]\n"
     ]
    },
    {
     "name": "stdout",
     "output_type": "stream",
     "text": [
      "[19/Apr/2023 21:39:55] INFO - Running process for Neural Net (lidar) | layers: 4, epochs: 300, lr: 1e-05, batchsize: 100\n",
      "Training...\n"
     ]
    },
    {
     "name": "stderr",
     "output_type": "stream",
     "text": [
      "100%|██████████| 300/300 [00:23<00:00, 13.01it/s]\n"
     ]
    },
    {
     "name": "stdout",
     "output_type": "stream",
     "text": [
      "[19/Apr/2023 21:40:19] INFO - Running process for Neural Net (lidar) | layers: 4, epochs: 300, lr: 1e-05, batchsize: 100\n",
      "Training...\n"
     ]
    },
    {
     "name": "stderr",
     "output_type": "stream",
     "text": [
      "100%|██████████| 300/300 [00:23<00:00, 12.54it/s]\n"
     ]
    },
    {
     "name": "stdout",
     "output_type": "stream",
     "text": [
      "[19/Apr/2023 21:40:43] INFO - Running process for Neural Net (lidar) | layers: 4, epochs: 300, lr: 1e-05, batchsize: 200\n",
      "Training...\n"
     ]
    },
    {
     "name": "stderr",
     "output_type": "stream",
     "text": [
      "100%|██████████| 300/300 [00:15<00:00, 19.46it/s]\n"
     ]
    },
    {
     "name": "stdout",
     "output_type": "stream",
     "text": [
      "[19/Apr/2023 21:40:58] INFO - Running process for Neural Net (lidar) | layers: 4, epochs: 300, lr: 1e-05, batchsize: 200\n",
      "Training...\n"
     ]
    },
    {
     "name": "stderr",
     "output_type": "stream",
     "text": [
      "100%|██████████| 300/300 [00:20<00:00, 14.72it/s]\n"
     ]
    },
    {
     "name": "stdout",
     "output_type": "stream",
     "text": [
      "[19/Apr/2023 21:41:19] INFO - Running process for Neural Net (lidar) | layers: 4, epochs: 300, lr: 1e-05, batchsize: 200\n",
      "Training...\n"
     ]
    },
    {
     "name": "stderr",
     "output_type": "stream",
     "text": [
      "100%|██████████| 300/300 [00:21<00:00, 14.18it/s]\n"
     ]
    },
    {
     "name": "stdout",
     "output_type": "stream",
     "text": [
      "[19/Apr/2023 21:41:40] INFO - Running process for Neural Net (lidar) | layers: 4, epochs: 300, lr: 1e-05, batchsize: 200\n",
      "Training...\n"
     ]
    },
    {
     "name": "stderr",
     "output_type": "stream",
     "text": [
      "100%|██████████| 300/300 [00:18<00:00, 16.65it/s]\n"
     ]
    },
    {
     "name": "stdout",
     "output_type": "stream",
     "text": [
      "[19/Apr/2023 21:41:58] INFO - Running process for Neural Net (lidar) | layers: 4, epochs: 300, lr: 7.5e-06, batchsize: 50\n",
      "Training...\n"
     ]
    },
    {
     "name": "stderr",
     "output_type": "stream",
     "text": [
      "100%|██████████| 300/300 [00:33<00:00,  8.87it/s]\n"
     ]
    },
    {
     "name": "stdout",
     "output_type": "stream",
     "text": [
      "[19/Apr/2023 21:42:32] INFO - Running process for Neural Net (lidar) | layers: 4, epochs: 300, lr: 7.5e-06, batchsize: 50\n",
      "Training...\n"
     ]
    },
    {
     "name": "stderr",
     "output_type": "stream",
     "text": [
      "100%|██████████| 300/300 [00:33<00:00,  8.86it/s]\n"
     ]
    },
    {
     "name": "stdout",
     "output_type": "stream",
     "text": [
      "[19/Apr/2023 21:43:06] INFO - Running process for Neural Net (lidar) | layers: 4, epochs: 300, lr: 7.5e-06, batchsize: 50\n",
      "Training...\n"
     ]
    },
    {
     "name": "stderr",
     "output_type": "stream",
     "text": [
      "100%|██████████| 300/300 [00:33<00:00,  8.89it/s]\n"
     ]
    },
    {
     "name": "stdout",
     "output_type": "stream",
     "text": [
      "[19/Apr/2023 21:43:40] INFO - Running process for Neural Net (lidar) | layers: 4, epochs: 300, lr: 7.5e-06, batchsize: 50\n",
      "Training...\n"
     ]
    },
    {
     "name": "stderr",
     "output_type": "stream",
     "text": [
      "100%|██████████| 300/300 [00:38<00:00,  7.87it/s]\n"
     ]
    },
    {
     "name": "stdout",
     "output_type": "stream",
     "text": [
      "[19/Apr/2023 21:44:18] INFO - Running process for Neural Net (lidar) | layers: 4, epochs: 300, lr: 7.5e-06, batchsize: 100\n",
      "Training...\n"
     ]
    },
    {
     "name": "stderr",
     "output_type": "stream",
     "text": [
      "100%|██████████| 300/300 [00:21<00:00, 14.08it/s]\n"
     ]
    },
    {
     "name": "stdout",
     "output_type": "stream",
     "text": [
      "[19/Apr/2023 21:44:40] INFO - Running process for Neural Net (lidar) | layers: 4, epochs: 300, lr: 7.5e-06, batchsize: 100\n",
      "Training...\n"
     ]
    },
    {
     "name": "stderr",
     "output_type": "stream",
     "text": [
      "100%|██████████| 300/300 [00:21<00:00, 14.02it/s]\n"
     ]
    },
    {
     "name": "stdout",
     "output_type": "stream",
     "text": [
      "[19/Apr/2023 21:45:01] INFO - Running process for Neural Net (lidar) | layers: 4, epochs: 300, lr: 7.5e-06, batchsize: 100\n",
      "Training...\n"
     ]
    },
    {
     "name": "stderr",
     "output_type": "stream",
     "text": [
      "100%|██████████| 300/300 [00:21<00:00, 13.75it/s]\n"
     ]
    },
    {
     "name": "stdout",
     "output_type": "stream",
     "text": [
      "[19/Apr/2023 21:45:23] INFO - Running process for Neural Net (lidar) | layers: 4, epochs: 300, lr: 7.5e-06, batchsize: 100\n",
      "Training...\n"
     ]
    },
    {
     "name": "stderr",
     "output_type": "stream",
     "text": [
      "100%|██████████| 300/300 [00:21<00:00, 14.19it/s]"
     ]
    },
    {
     "name": "stdout",
     "output_type": "stream",
     "text": [
      "[19/Apr/2023 21:45:45] INFO - Running process for Neural Net (lidar) | layers: 4, epochs: 300, lr: 7.5e-06, batchsize: 200\n"
     ]
    },
    {
     "name": "stderr",
     "output_type": "stream",
     "text": [
      "\n"
     ]
    },
    {
     "name": "stdout",
     "output_type": "stream",
     "text": [
      "Training...\n"
     ]
    },
    {
     "name": "stderr",
     "output_type": "stream",
     "text": [
      "100%|██████████| 300/300 [00:15<00:00, 19.64it/s]"
     ]
    },
    {
     "name": "stdout",
     "output_type": "stream",
     "text": [
      "[19/Apr/2023 21:46:00] INFO - Running process for Neural Net (lidar) | layers: 4, epochs: 300, lr: 7.5e-06, batchsize: 200\n"
     ]
    },
    {
     "name": "stderr",
     "output_type": "stream",
     "text": [
      "\n"
     ]
    },
    {
     "name": "stdout",
     "output_type": "stream",
     "text": [
      "Training...\n"
     ]
    },
    {
     "name": "stderr",
     "output_type": "stream",
     "text": [
      "100%|██████████| 300/300 [00:15<00:00, 19.25it/s]\n"
     ]
    },
    {
     "name": "stdout",
     "output_type": "stream",
     "text": [
      "[19/Apr/2023 21:46:16] INFO - Running process for Neural Net (lidar) | layers: 4, epochs: 300, lr: 7.5e-06, batchsize: 200\n",
      "Training...\n"
     ]
    },
    {
     "name": "stderr",
     "output_type": "stream",
     "text": [
      "100%|██████████| 300/300 [00:15<00:00, 19.78it/s]\n"
     ]
    },
    {
     "name": "stdout",
     "output_type": "stream",
     "text": [
      "[19/Apr/2023 21:46:31] INFO - Running process for Neural Net (lidar) | layers: 4, epochs: 300, lr: 7.5e-06, batchsize: 200\n",
      "Training...\n"
     ]
    },
    {
     "name": "stderr",
     "output_type": "stream",
     "text": [
      "100%|██████████| 300/300 [00:15<00:00, 19.77it/s]\n"
     ]
    },
    {
     "name": "stdout",
     "output_type": "stream",
     "text": [
      "[19/Apr/2023 21:46:46] INFO - Running process for Neural Net (lidar) | layers: 4, epochs: 450, lr: 0.0001, batchsize: 50\n",
      "Training...\n"
     ]
    },
    {
     "name": "stderr",
     "output_type": "stream",
     "text": [
      "100%|██████████| 450/450 [00:49<00:00,  9.08it/s]\n"
     ]
    },
    {
     "name": "stdout",
     "output_type": "stream",
     "text": [
      "[19/Apr/2023 21:47:36] INFO - Running process for Neural Net (lidar) | layers: 4, epochs: 450, lr: 0.0001, batchsize: 50\n",
      "Training...\n"
     ]
    },
    {
     "name": "stderr",
     "output_type": "stream",
     "text": [
      "100%|██████████| 450/450 [00:49<00:00,  9.11it/s]\n"
     ]
    },
    {
     "name": "stdout",
     "output_type": "stream",
     "text": [
      "[19/Apr/2023 21:48:26] INFO - Running process for Neural Net (lidar) | layers: 4, epochs: 450, lr: 0.0001, batchsize: 50\n",
      "Training...\n"
     ]
    },
    {
     "name": "stderr",
     "output_type": "stream",
     "text": [
      "100%|██████████| 450/450 [00:50<00:00,  8.88it/s]\n"
     ]
    },
    {
     "name": "stdout",
     "output_type": "stream",
     "text": [
      "[19/Apr/2023 21:49:16] INFO - Running process for Neural Net (lidar) | layers: 4, epochs: 450, lr: 0.0001, batchsize: 50\n",
      "Training...\n"
     ]
    },
    {
     "name": "stderr",
     "output_type": "stream",
     "text": [
      "100%|██████████| 450/450 [00:50<00:00,  8.93it/s]\n"
     ]
    },
    {
     "name": "stdout",
     "output_type": "stream",
     "text": [
      "[19/Apr/2023 21:50:07] INFO - Running process for Neural Net (lidar) | layers: 4, epochs: 450, lr: 0.0001, batchsize: 100\n",
      "Training...\n"
     ]
    },
    {
     "name": "stderr",
     "output_type": "stream",
     "text": [
      "100%|██████████| 450/450 [00:31<00:00, 14.18it/s]\n"
     ]
    },
    {
     "name": "stdout",
     "output_type": "stream",
     "text": [
      "[19/Apr/2023 21:50:39] INFO - Running process for Neural Net (lidar) | layers: 4, epochs: 450, lr: 0.0001, batchsize: 100\n",
      "Training...\n"
     ]
    },
    {
     "name": "stderr",
     "output_type": "stream",
     "text": [
      "100%|██████████| 450/450 [00:31<00:00, 14.21it/s]\n"
     ]
    },
    {
     "name": "stdout",
     "output_type": "stream",
     "text": [
      "[19/Apr/2023 21:51:11] INFO - Running process for Neural Net (lidar) | layers: 4, epochs: 450, lr: 0.0001, batchsize: 100\n",
      "Training...\n"
     ]
    },
    {
     "name": "stderr",
     "output_type": "stream",
     "text": [
      "100%|██████████| 450/450 [00:32<00:00, 13.91it/s]\n"
     ]
    },
    {
     "name": "stdout",
     "output_type": "stream",
     "text": [
      "[19/Apr/2023 21:51:43] INFO - Running process for Neural Net (lidar) | layers: 4, epochs: 450, lr: 0.0001, batchsize: 100\n",
      "Training...\n"
     ]
    },
    {
     "name": "stderr",
     "output_type": "stream",
     "text": [
      "100%|██████████| 450/450 [00:42<00:00, 10.59it/s]\n"
     ]
    },
    {
     "name": "stdout",
     "output_type": "stream",
     "text": [
      "[19/Apr/2023 21:52:26] INFO - Running process for Neural Net (lidar) | layers: 4, epochs: 450, lr: 0.0001, batchsize: 200\n",
      "Training...\n"
     ]
    },
    {
     "name": "stderr",
     "output_type": "stream",
     "text": [
      "100%|██████████| 450/450 [00:28<00:00, 15.55it/s]\n"
     ]
    },
    {
     "name": "stdout",
     "output_type": "stream",
     "text": [
      "[19/Apr/2023 21:52:55] INFO - Running process for Neural Net (lidar) | layers: 4, epochs: 450, lr: 0.0001, batchsize: 200\n",
      "Training...\n"
     ]
    },
    {
     "name": "stderr",
     "output_type": "stream",
     "text": [
      "100%|██████████| 450/450 [00:29<00:00, 15.23it/s]\n"
     ]
    },
    {
     "name": "stdout",
     "output_type": "stream",
     "text": [
      "[19/Apr/2023 21:53:24] INFO - Running process for Neural Net (lidar) | layers: 4, epochs: 450, lr: 0.0001, batchsize: 200\n",
      "Training...\n"
     ]
    },
    {
     "name": "stderr",
     "output_type": "stream",
     "text": [
      "100%|██████████| 450/450 [00:34<00:00, 13.00it/s]\n"
     ]
    },
    {
     "name": "stdout",
     "output_type": "stream",
     "text": [
      "[19/Apr/2023 21:53:59] INFO - Running process for Neural Net (lidar) | layers: 4, epochs: 450, lr: 0.0001, batchsize: 200\n",
      "Training...\n"
     ]
    },
    {
     "name": "stderr",
     "output_type": "stream",
     "text": [
      "100%|██████████| 450/450 [00:27<00:00, 16.29it/s]\n"
     ]
    },
    {
     "name": "stdout",
     "output_type": "stream",
     "text": [
      "[19/Apr/2023 21:54:27] INFO - Running process for Neural Net (lidar) | layers: 4, epochs: 450, lr: 7.5e-05, batchsize: 50\n",
      "Training...\n"
     ]
    },
    {
     "name": "stderr",
     "output_type": "stream",
     "text": [
      "100%|██████████| 450/450 [00:51<00:00,  8.67it/s]\n"
     ]
    },
    {
     "name": "stdout",
     "output_type": "stream",
     "text": [
      "[19/Apr/2023 21:55:19] INFO - Running process for Neural Net (lidar) | layers: 4, epochs: 450, lr: 7.5e-05, batchsize: 50\n",
      "Training...\n"
     ]
    },
    {
     "name": "stderr",
     "output_type": "stream",
     "text": [
      "100%|██████████| 450/450 [00:59<00:00,  7.53it/s]\n"
     ]
    },
    {
     "name": "stdout",
     "output_type": "stream",
     "text": [
      "[19/Apr/2023 21:56:19] INFO - Running process for Neural Net (lidar) | layers: 4, epochs: 450, lr: 7.5e-05, batchsize: 50\n",
      "Training...\n"
     ]
    },
    {
     "name": "stderr",
     "output_type": "stream",
     "text": [
      "100%|██████████| 450/450 [00:53<00:00,  8.47it/s]\n"
     ]
    },
    {
     "name": "stdout",
     "output_type": "stream",
     "text": [
      "[19/Apr/2023 21:57:12] INFO - Running process for Neural Net (lidar) | layers: 4, epochs: 450, lr: 7.5e-05, batchsize: 50\n",
      "Training...\n"
     ]
    },
    {
     "name": "stderr",
     "output_type": "stream",
     "text": [
      "100%|██████████| 450/450 [00:51<00:00,  8.75it/s]\n"
     ]
    },
    {
     "name": "stdout",
     "output_type": "stream",
     "text": [
      "[19/Apr/2023 21:58:04] INFO - Running process for Neural Net (lidar) | layers: 4, epochs: 450, lr: 7.5e-05, batchsize: 100\n",
      "Training...\n"
     ]
    },
    {
     "name": "stderr",
     "output_type": "stream",
     "text": [
      "100%|██████████| 450/450 [00:40<00:00, 11.04it/s]\n"
     ]
    },
    {
     "name": "stdout",
     "output_type": "stream",
     "text": [
      "[19/Apr/2023 21:58:44] INFO - Running process for Neural Net (lidar) | layers: 4, epochs: 450, lr: 7.5e-05, batchsize: 100\n",
      "Training...\n"
     ]
    },
    {
     "name": "stderr",
     "output_type": "stream",
     "text": [
      "100%|██████████| 450/450 [00:32<00:00, 13.89it/s]\n"
     ]
    },
    {
     "name": "stdout",
     "output_type": "stream",
     "text": [
      "[19/Apr/2023 21:59:17] INFO - Running process for Neural Net (lidar) | layers: 4, epochs: 450, lr: 7.5e-05, batchsize: 100\n",
      "Training...\n"
     ]
    },
    {
     "name": "stderr",
     "output_type": "stream",
     "text": [
      "100%|██████████| 450/450 [00:32<00:00, 13.88it/s]\n"
     ]
    },
    {
     "name": "stdout",
     "output_type": "stream",
     "text": [
      "[19/Apr/2023 21:59:50] INFO - Running process for Neural Net (lidar) | layers: 4, epochs: 450, lr: 7.5e-05, batchsize: 100\n",
      "Training...\n"
     ]
    },
    {
     "name": "stderr",
     "output_type": "stream",
     "text": [
      "100%|██████████| 450/450 [00:31<00:00, 14.28it/s]\n"
     ]
    },
    {
     "name": "stdout",
     "output_type": "stream",
     "text": [
      "[19/Apr/2023 22:00:21] INFO - Running process for Neural Net (lidar) | layers: 4, epochs: 450, lr: 7.5e-05, batchsize: 200\n",
      "Training...\n"
     ]
    },
    {
     "name": "stderr",
     "output_type": "stream",
     "text": [
      "100%|██████████| 450/450 [00:28<00:00, 15.84it/s]\n"
     ]
    },
    {
     "name": "stdout",
     "output_type": "stream",
     "text": [
      "[19/Apr/2023 22:00:50] INFO - Running process for Neural Net (lidar) | layers: 4, epochs: 450, lr: 7.5e-05, batchsize: 200\n",
      "Training...\n"
     ]
    },
    {
     "name": "stderr",
     "output_type": "stream",
     "text": [
      "100%|██████████| 450/450 [00:27<00:00, 16.36it/s]\n"
     ]
    },
    {
     "name": "stdout",
     "output_type": "stream",
     "text": [
      "[19/Apr/2023 22:01:17] INFO - Running process for Neural Net (lidar) | layers: 4, epochs: 450, lr: 7.5e-05, batchsize: 200\n",
      "Training...\n"
     ]
    },
    {
     "name": "stderr",
     "output_type": "stream",
     "text": [
      "100%|██████████| 450/450 [00:27<00:00, 16.38it/s]\n"
     ]
    },
    {
     "name": "stdout",
     "output_type": "stream",
     "text": [
      "[19/Apr/2023 22:01:45] INFO - Running process for Neural Net (lidar) | layers: 4, epochs: 450, lr: 7.5e-05, batchsize: 200\n",
      "Training...\n"
     ]
    },
    {
     "name": "stderr",
     "output_type": "stream",
     "text": [
      "100%|██████████| 450/450 [00:27<00:00, 16.38it/s]\n"
     ]
    },
    {
     "name": "stdout",
     "output_type": "stream",
     "text": [
      "[19/Apr/2023 22:02:13] INFO - Running process for Neural Net (lidar) | layers: 4, epochs: 450, lr: 1e-05, batchsize: 50\n",
      "Training...\n"
     ]
    },
    {
     "name": "stderr",
     "output_type": "stream",
     "text": [
      "100%|██████████| 450/450 [00:55<00:00,  8.11it/s]\n"
     ]
    },
    {
     "name": "stdout",
     "output_type": "stream",
     "text": [
      "[19/Apr/2023 22:03:08] INFO - Running process for Neural Net (lidar) | layers: 4, epochs: 450, lr: 1e-05, batchsize: 50\n",
      "Training...\n"
     ]
    },
    {
     "name": "stderr",
     "output_type": "stream",
     "text": [
      "100%|██████████| 450/450 [00:56<00:00,  7.95it/s]\n"
     ]
    },
    {
     "name": "stdout",
     "output_type": "stream",
     "text": [
      "[19/Apr/2023 22:04:05] INFO - Running process for Neural Net (lidar) | layers: 4, epochs: 450, lr: 1e-05, batchsize: 50\n",
      "Training...\n"
     ]
    },
    {
     "name": "stderr",
     "output_type": "stream",
     "text": [
      "100%|██████████| 450/450 [00:50<00:00,  8.98it/s]\n"
     ]
    },
    {
     "name": "stdout",
     "output_type": "stream",
     "text": [
      "[19/Apr/2023 22:04:55] INFO - Running process for Neural Net (lidar) | layers: 4, epochs: 450, lr: 1e-05, batchsize: 50\n",
      "Training...\n"
     ]
    },
    {
     "name": "stderr",
     "output_type": "stream",
     "text": [
      "100%|██████████| 450/450 [00:50<00:00,  8.90it/s]\n"
     ]
    },
    {
     "name": "stdout",
     "output_type": "stream",
     "text": [
      "[19/Apr/2023 22:05:46] INFO - Running process for Neural Net (lidar) | layers: 4, epochs: 450, lr: 1e-05, batchsize: 100\n",
      "Training...\n"
     ]
    },
    {
     "name": "stderr",
     "output_type": "stream",
     "text": [
      "100%|██████████| 450/450 [00:32<00:00, 14.04it/s]\n"
     ]
    },
    {
     "name": "stdout",
     "output_type": "stream",
     "text": [
      "[19/Apr/2023 22:06:18] INFO - Running process for Neural Net (lidar) | layers: 4, epochs: 450, lr: 1e-05, batchsize: 100\n",
      "Training...\n"
     ]
    },
    {
     "name": "stderr",
     "output_type": "stream",
     "text": [
      "100%|██████████| 450/450 [00:32<00:00, 14.03it/s]\n"
     ]
    },
    {
     "name": "stdout",
     "output_type": "stream",
     "text": [
      "[19/Apr/2023 22:06:50] INFO - Running process for Neural Net (lidar) | layers: 4, epochs: 450, lr: 1e-05, batchsize: 100\n",
      "Training...\n"
     ]
    },
    {
     "name": "stderr",
     "output_type": "stream",
     "text": [
      "100%|██████████| 450/450 [00:32<00:00, 13.95it/s]\n"
     ]
    },
    {
     "name": "stdout",
     "output_type": "stream",
     "text": [
      "[19/Apr/2023 22:07:23] INFO - Running process for Neural Net (lidar) | layers: 4, epochs: 450, lr: 1e-05, batchsize: 100\n",
      "Training...\n"
     ]
    },
    {
     "name": "stderr",
     "output_type": "stream",
     "text": [
      "100%|██████████| 450/450 [00:31<00:00, 14.23it/s]\n"
     ]
    },
    {
     "name": "stdout",
     "output_type": "stream",
     "text": [
      "[19/Apr/2023 22:07:55] INFO - Running process for Neural Net (lidar) | layers: 4, epochs: 450, lr: 1e-05, batchsize: 200\n",
      "Training...\n"
     ]
    },
    {
     "name": "stderr",
     "output_type": "stream",
     "text": [
      "100%|██████████| 450/450 [00:30<00:00, 14.59it/s]\n"
     ]
    },
    {
     "name": "stdout",
     "output_type": "stream",
     "text": [
      "[19/Apr/2023 22:08:25] INFO - Running process for Neural Net (lidar) | layers: 4, epochs: 450, lr: 1e-05, batchsize: 200\n",
      "Training...\n"
     ]
    },
    {
     "name": "stderr",
     "output_type": "stream",
     "text": [
      "100%|██████████| 450/450 [00:28<00:00, 15.64it/s]\n"
     ]
    },
    {
     "name": "stdout",
     "output_type": "stream",
     "text": [
      "[19/Apr/2023 22:08:54] INFO - Running process for Neural Net (lidar) | layers: 4, epochs: 450, lr: 1e-05, batchsize: 200\n",
      "Training...\n"
     ]
    },
    {
     "name": "stderr",
     "output_type": "stream",
     "text": [
      "100%|██████████| 450/450 [00:29<00:00, 15.41it/s]\n"
     ]
    },
    {
     "name": "stdout",
     "output_type": "stream",
     "text": [
      "[19/Apr/2023 22:09:24] INFO - Running process for Neural Net (lidar) | layers: 4, epochs: 450, lr: 1e-05, batchsize: 200\n",
      "Training...\n"
     ]
    },
    {
     "name": "stderr",
     "output_type": "stream",
     "text": [
      "100%|██████████| 450/450 [00:27<00:00, 16.46it/s]\n"
     ]
    },
    {
     "name": "stdout",
     "output_type": "stream",
     "text": [
      "[19/Apr/2023 22:09:51] INFO - Running process for Neural Net (lidar) | layers: 4, epochs: 450, lr: 7.5e-06, batchsize: 50\n",
      "Training...\n"
     ]
    },
    {
     "name": "stderr",
     "output_type": "stream",
     "text": [
      "100%|██████████| 450/450 [00:51<00:00,  8.72it/s]\n"
     ]
    },
    {
     "name": "stdout",
     "output_type": "stream",
     "text": [
      "[19/Apr/2023 22:10:43] INFO - Running process for Neural Net (lidar) | layers: 4, epochs: 450, lr: 7.5e-06, batchsize: 50\n",
      "Training...\n"
     ]
    },
    {
     "name": "stderr",
     "output_type": "stream",
     "text": [
      "100%|██████████| 450/450 [00:51<00:00,  8.69it/s]\n"
     ]
    },
    {
     "name": "stdout",
     "output_type": "stream",
     "text": [
      "[19/Apr/2023 22:11:35] INFO - Running process for Neural Net (lidar) | layers: 4, epochs: 450, lr: 7.5e-06, batchsize: 50\n",
      "Training...\n"
     ]
    },
    {
     "name": "stderr",
     "output_type": "stream",
     "text": [
      "100%|██████████| 450/450 [00:51<00:00,  8.79it/s]\n"
     ]
    },
    {
     "name": "stdout",
     "output_type": "stream",
     "text": [
      "[19/Apr/2023 22:12:26] INFO - Running process for Neural Net (lidar) | layers: 4, epochs: 450, lr: 7.5e-06, batchsize: 50\n",
      "Training...\n"
     ]
    },
    {
     "name": "stderr",
     "output_type": "stream",
     "text": [
      "100%|██████████| 450/450 [00:55<00:00,  8.08it/s]\n"
     ]
    },
    {
     "name": "stdout",
     "output_type": "stream",
     "text": [
      "[19/Apr/2023 22:13:23] INFO - Running process for Neural Net (lidar) | layers: 4, epochs: 450, lr: 7.5e-06, batchsize: 100\n",
      "Training...\n"
     ]
    },
    {
     "name": "stderr",
     "output_type": "stream",
     "text": [
      "100%|██████████| 450/450 [00:32<00:00, 13.96it/s]\n"
     ]
    },
    {
     "name": "stdout",
     "output_type": "stream",
     "text": [
      "[19/Apr/2023 22:13:55] INFO - Running process for Neural Net (lidar) | layers: 4, epochs: 450, lr: 7.5e-06, batchsize: 100\n",
      "Training...\n"
     ]
    },
    {
     "name": "stderr",
     "output_type": "stream",
     "text": [
      "100%|██████████| 450/450 [00:39<00:00, 11.32it/s]\n"
     ]
    },
    {
     "name": "stdout",
     "output_type": "stream",
     "text": [
      "[19/Apr/2023 22:14:35] INFO - Running process for Neural Net (lidar) | layers: 4, epochs: 450, lr: 7.5e-06, batchsize: 100\n",
      "Training...\n"
     ]
    },
    {
     "name": "stderr",
     "output_type": "stream",
     "text": [
      "100%|██████████| 450/450 [00:33<00:00, 13.34it/s]\n"
     ]
    },
    {
     "name": "stdout",
     "output_type": "stream",
     "text": [
      "[19/Apr/2023 22:15:09] INFO - Running process for Neural Net (lidar) | layers: 4, epochs: 450, lr: 7.5e-06, batchsize: 100\n",
      "Training...\n"
     ]
    },
    {
     "name": "stderr",
     "output_type": "stream",
     "text": [
      "100%|██████████| 450/450 [00:31<00:00, 14.18it/s]\n"
     ]
    },
    {
     "name": "stdout",
     "output_type": "stream",
     "text": [
      "[19/Apr/2023 22:15:41] INFO - Running process for Neural Net (lidar) | layers: 4, epochs: 450, lr: 7.5e-06, batchsize: 200\n",
      "Training...\n"
     ]
    },
    {
     "name": "stderr",
     "output_type": "stream",
     "text": [
      "100%|██████████| 450/450 [00:23<00:00, 19.40it/s]\n"
     ]
    },
    {
     "name": "stdout",
     "output_type": "stream",
     "text": [
      "[19/Apr/2023 22:16:04] INFO - Running process for Neural Net (lidar) | layers: 4, epochs: 450, lr: 7.5e-06, batchsize: 200\n",
      "Training...\n"
     ]
    },
    {
     "name": "stderr",
     "output_type": "stream",
     "text": [
      "100%|██████████| 450/450 [00:27<00:00, 16.52it/s]\n"
     ]
    },
    {
     "name": "stdout",
     "output_type": "stream",
     "text": [
      "[19/Apr/2023 22:16:31] INFO - Running process for Neural Net (lidar) | layers: 4, epochs: 450, lr: 7.5e-06, batchsize: 200\n",
      "Training...\n"
     ]
    },
    {
     "name": "stderr",
     "output_type": "stream",
     "text": [
      "100%|██████████| 450/450 [00:29<00:00, 15.32it/s]\n"
     ]
    },
    {
     "name": "stdout",
     "output_type": "stream",
     "text": [
      "[19/Apr/2023 22:17:01] INFO - Running process for Neural Net (lidar) | layers: 4, epochs: 450, lr: 7.5e-06, batchsize: 200\n",
      "Training...\n"
     ]
    },
    {
     "name": "stderr",
     "output_type": "stream",
     "text": [
      "100%|██████████| 450/450 [00:27<00:00, 16.35it/s]\n"
     ]
    },
    {
     "name": "stdout",
     "output_type": "stream",
     "text": [
      "[19/Apr/2023 22:17:28] INFO - Running process for Neural Net (lidar) | layers: 3, epochs: 150, lr: 0.0001, batchsize: 50\n",
      "Training...\n"
     ]
    },
    {
     "name": "stderr",
     "output_type": "stream",
     "text": [
      "100%|██████████| 150/150 [00:14<00:00, 10.21it/s]\n"
     ]
    },
    {
     "name": "stdout",
     "output_type": "stream",
     "text": [
      "[19/Apr/2023 22:17:43] INFO - Running process for Neural Net (lidar) | layers: 3, epochs: 150, lr: 0.0001, batchsize: 50\n",
      "Training...\n"
     ]
    },
    {
     "name": "stderr",
     "output_type": "stream",
     "text": [
      "100%|██████████| 150/150 [00:14<00:00, 10.37it/s]\n"
     ]
    },
    {
     "name": "stdout",
     "output_type": "stream",
     "text": [
      "[19/Apr/2023 22:17:58] INFO - Running process for Neural Net (lidar) | layers: 3, epochs: 150, lr: 0.0001, batchsize: 50\n",
      "Training...\n"
     ]
    },
    {
     "name": "stderr",
     "output_type": "stream",
     "text": [
      "100%|██████████| 150/150 [00:14<00:00, 10.37it/s]\n"
     ]
    },
    {
     "name": "stdout",
     "output_type": "stream",
     "text": [
      "[19/Apr/2023 22:18:12] INFO - Running process for Neural Net (lidar) | layers: 3, epochs: 150, lr: 0.0001, batchsize: 50\n",
      "Training...\n"
     ]
    },
    {
     "name": "stderr",
     "output_type": "stream",
     "text": [
      "100%|██████████| 150/150 [00:14<00:00, 10.37it/s]\n"
     ]
    },
    {
     "name": "stdout",
     "output_type": "stream",
     "text": [
      "[19/Apr/2023 22:18:27] INFO - Running process for Neural Net (lidar) | layers: 3, epochs: 150, lr: 0.0001, batchsize: 100\n",
      "Training...\n"
     ]
    },
    {
     "name": "stderr",
     "output_type": "stream",
     "text": [
      "100%|██████████| 150/150 [00:09<00:00, 15.79it/s]\n"
     ]
    },
    {
     "name": "stdout",
     "output_type": "stream",
     "text": [
      "[19/Apr/2023 22:18:37] INFO - Running process for Neural Net (lidar) | layers: 3, epochs: 150, lr: 0.0001, batchsize: 100\n",
      "Training...\n"
     ]
    },
    {
     "name": "stderr",
     "output_type": "stream",
     "text": [
      "100%|██████████| 150/150 [00:09<00:00, 15.38it/s]\n"
     ]
    },
    {
     "name": "stdout",
     "output_type": "stream",
     "text": [
      "[19/Apr/2023 22:18:47] INFO - Running process for Neural Net (lidar) | layers: 3, epochs: 150, lr: 0.0001, batchsize: 100\n",
      "Training...\n"
     ]
    },
    {
     "name": "stderr",
     "output_type": "stream",
     "text": [
      "100%|██████████| 150/150 [00:10<00:00, 14.03it/s]\n"
     ]
    },
    {
     "name": "stdout",
     "output_type": "stream",
     "text": [
      "[19/Apr/2023 22:18:57] INFO - Running process for Neural Net (lidar) | layers: 3, epochs: 150, lr: 0.0001, batchsize: 100\n",
      "Training...\n"
     ]
    },
    {
     "name": "stderr",
     "output_type": "stream",
     "text": [
      "100%|██████████| 150/150 [00:10<00:00, 14.62it/s]\n"
     ]
    },
    {
     "name": "stdout",
     "output_type": "stream",
     "text": [
      "[19/Apr/2023 22:19:08] INFO - Running process for Neural Net (lidar) | layers: 3, epochs: 150, lr: 0.0001, batchsize: 200\n",
      "Training...\n"
     ]
    },
    {
     "name": "stderr",
     "output_type": "stream",
     "text": [
      "100%|██████████| 150/150 [00:07<00:00, 19.60it/s]\n"
     ]
    },
    {
     "name": "stdout",
     "output_type": "stream",
     "text": [
      "[19/Apr/2023 22:19:16] INFO - Running process for Neural Net (lidar) | layers: 3, epochs: 150, lr: 0.0001, batchsize: 200\n",
      "Training...\n"
     ]
    },
    {
     "name": "stderr",
     "output_type": "stream",
     "text": [
      "100%|██████████| 150/150 [00:06<00:00, 21.70it/s]\n"
     ]
    },
    {
     "name": "stdout",
     "output_type": "stream",
     "text": [
      "[19/Apr/2023 22:19:23] INFO - Running process for Neural Net (lidar) | layers: 3, epochs: 150, lr: 0.0001, batchsize: 200\n",
      "Training...\n"
     ]
    },
    {
     "name": "stderr",
     "output_type": "stream",
     "text": [
      "100%|██████████| 150/150 [00:09<00:00, 16.50it/s]\n"
     ]
    },
    {
     "name": "stdout",
     "output_type": "stream",
     "text": [
      "[19/Apr/2023 22:19:32] INFO - Running process for Neural Net (lidar) | layers: 3, epochs: 150, lr: 0.0001, batchsize: 200\n",
      "Training...\n"
     ]
    },
    {
     "name": "stderr",
     "output_type": "stream",
     "text": [
      "100%|██████████| 150/150 [00:08<00:00, 17.67it/s]\n"
     ]
    },
    {
     "name": "stdout",
     "output_type": "stream",
     "text": [
      "[19/Apr/2023 22:19:41] INFO - Running process for Neural Net (lidar) | layers: 3, epochs: 150, lr: 7.5e-05, batchsize: 50\n",
      "Training...\n"
     ]
    },
    {
     "name": "stderr",
     "output_type": "stream",
     "text": [
      "100%|██████████| 150/150 [00:17<00:00,  8.45it/s]\n"
     ]
    },
    {
     "name": "stdout",
     "output_type": "stream",
     "text": [
      "[19/Apr/2023 22:19:58] INFO - Running process for Neural Net (lidar) | layers: 3, epochs: 150, lr: 7.5e-05, batchsize: 50\n",
      "Training...\n"
     ]
    },
    {
     "name": "stderr",
     "output_type": "stream",
     "text": [
      "100%|██████████| 150/150 [00:14<00:00, 10.45it/s]\n"
     ]
    },
    {
     "name": "stdout",
     "output_type": "stream",
     "text": [
      "[19/Apr/2023 22:20:13] INFO - Running process for Neural Net (lidar) | layers: 3, epochs: 150, lr: 7.5e-05, batchsize: 50\n",
      "Training...\n"
     ]
    },
    {
     "name": "stderr",
     "output_type": "stream",
     "text": [
      "100%|██████████| 150/150 [00:18<00:00,  8.28it/s]\n"
     ]
    },
    {
     "name": "stdout",
     "output_type": "stream",
     "text": [
      "[19/Apr/2023 22:20:31] INFO - Running process for Neural Net (lidar) | layers: 3, epochs: 150, lr: 7.5e-05, batchsize: 50\n",
      "Training...\n"
     ]
    },
    {
     "name": "stderr",
     "output_type": "stream",
     "text": [
      "100%|██████████| 150/150 [00:14<00:00, 10.41it/s]\n"
     ]
    },
    {
     "name": "stdout",
     "output_type": "stream",
     "text": [
      "[19/Apr/2023 22:20:46] INFO - Running process for Neural Net (lidar) | layers: 3, epochs: 150, lr: 7.5e-05, batchsize: 100\n",
      "Training...\n"
     ]
    },
    {
     "name": "stderr",
     "output_type": "stream",
     "text": [
      "100%|██████████| 150/150 [00:11<00:00, 13.49it/s]\n"
     ]
    },
    {
     "name": "stdout",
     "output_type": "stream",
     "text": [
      "[19/Apr/2023 22:20:57] INFO - Running process for Neural Net (lidar) | layers: 3, epochs: 150, lr: 7.5e-05, batchsize: 100\n",
      "Training...\n"
     ]
    },
    {
     "name": "stderr",
     "output_type": "stream",
     "text": [
      "100%|██████████| 150/150 [00:11<00:00, 13.45it/s]\n"
     ]
    },
    {
     "name": "stdout",
     "output_type": "stream",
     "text": [
      "[19/Apr/2023 22:21:08] INFO - Running process for Neural Net (lidar) | layers: 3, epochs: 150, lr: 7.5e-05, batchsize: 100\n",
      "Training...\n"
     ]
    },
    {
     "name": "stderr",
     "output_type": "stream",
     "text": [
      "100%|██████████| 150/150 [00:11<00:00, 13.57it/s]\n"
     ]
    },
    {
     "name": "stdout",
     "output_type": "stream",
     "text": [
      "[19/Apr/2023 22:21:19] INFO - Running process for Neural Net (lidar) | layers: 3, epochs: 150, lr: 7.5e-05, batchsize: 100\n",
      "Training...\n"
     ]
    },
    {
     "name": "stderr",
     "output_type": "stream",
     "text": [
      "100%|██████████| 150/150 [00:11<00:00, 13.36it/s]\n"
     ]
    },
    {
     "name": "stdout",
     "output_type": "stream",
     "text": [
      "[19/Apr/2023 22:21:31] INFO - Running process for Neural Net (lidar) | layers: 3, epochs: 150, lr: 7.5e-05, batchsize: 200\n",
      "Training...\n"
     ]
    },
    {
     "name": "stderr",
     "output_type": "stream",
     "text": [
      "100%|██████████| 150/150 [00:09<00:00, 16.39it/s]\n"
     ]
    },
    {
     "name": "stdout",
     "output_type": "stream",
     "text": [
      "[19/Apr/2023 22:21:40] INFO - Running process for Neural Net (lidar) | layers: 3, epochs: 150, lr: 7.5e-05, batchsize: 200\n",
      "Training...\n"
     ]
    },
    {
     "name": "stderr",
     "output_type": "stream",
     "text": [
      "100%|██████████| 150/150 [00:09<00:00, 16.11it/s]\n"
     ]
    },
    {
     "name": "stdout",
     "output_type": "stream",
     "text": [
      "[19/Apr/2023 22:21:50] INFO - Running process for Neural Net (lidar) | layers: 3, epochs: 150, lr: 7.5e-05, batchsize: 200\n",
      "Training...\n"
     ]
    },
    {
     "name": "stderr",
     "output_type": "stream",
     "text": [
      "100%|██████████| 150/150 [00:09<00:00, 16.15it/s]\n"
     ]
    },
    {
     "name": "stdout",
     "output_type": "stream",
     "text": [
      "[19/Apr/2023 22:21:59] INFO - Running process for Neural Net (lidar) | layers: 3, epochs: 150, lr: 7.5e-05, batchsize: 200\n",
      "Training...\n"
     ]
    },
    {
     "name": "stderr",
     "output_type": "stream",
     "text": [
      "100%|██████████| 150/150 [00:08<00:00, 17.55it/s]\n"
     ]
    },
    {
     "name": "stdout",
     "output_type": "stream",
     "text": [
      "[19/Apr/2023 22:22:08] INFO - Running process for Neural Net (lidar) | layers: 3, epochs: 150, lr: 1e-05, batchsize: 50\n",
      "Training...\n"
     ]
    },
    {
     "name": "stderr",
     "output_type": "stream",
     "text": [
      "100%|██████████| 150/150 [00:14<00:00, 10.38it/s]\n"
     ]
    },
    {
     "name": "stdout",
     "output_type": "stream",
     "text": [
      "[19/Apr/2023 22:22:22] INFO - Running process for Neural Net (lidar) | layers: 3, epochs: 150, lr: 1e-05, batchsize: 50\n",
      "Training...\n"
     ]
    },
    {
     "name": "stderr",
     "output_type": "stream",
     "text": [
      "100%|██████████| 150/150 [00:16<00:00,  9.17it/s]\n"
     ]
    },
    {
     "name": "stdout",
     "output_type": "stream",
     "text": [
      "[19/Apr/2023 22:22:39] INFO - Running process for Neural Net (lidar) | layers: 3, epochs: 150, lr: 1e-05, batchsize: 50\n",
      "Training...\n"
     ]
    },
    {
     "name": "stderr",
     "output_type": "stream",
     "text": [
      "100%|██████████| 150/150 [00:14<00:00, 10.07it/s]\n"
     ]
    },
    {
     "name": "stdout",
     "output_type": "stream",
     "text": [
      "[19/Apr/2023 22:22:54] INFO - Running process for Neural Net (lidar) | layers: 3, epochs: 150, lr: 1e-05, batchsize: 50\n",
      "Training...\n"
     ]
    },
    {
     "name": "stderr",
     "output_type": "stream",
     "text": [
      "100%|██████████| 150/150 [00:18<00:00,  7.99it/s]\n"
     ]
    },
    {
     "name": "stdout",
     "output_type": "stream",
     "text": [
      "[19/Apr/2023 22:23:13] INFO - Running process for Neural Net (lidar) | layers: 3, epochs: 150, lr: 1e-05, batchsize: 100\n",
      "Training...\n"
     ]
    },
    {
     "name": "stderr",
     "output_type": "stream",
     "text": [
      "100%|██████████| 150/150 [00:09<00:00, 15.56it/s]\n"
     ]
    },
    {
     "name": "stdout",
     "output_type": "stream",
     "text": [
      "[19/Apr/2023 22:23:22] INFO - Running process for Neural Net (lidar) | layers: 3, epochs: 150, lr: 1e-05, batchsize: 100\n",
      "Training...\n"
     ]
    },
    {
     "name": "stderr",
     "output_type": "stream",
     "text": [
      "100%|██████████| 150/150 [00:11<00:00, 13.36it/s]\n"
     ]
    },
    {
     "name": "stdout",
     "output_type": "stream",
     "text": [
      "[19/Apr/2023 22:23:34] INFO - Running process for Neural Net (lidar) | layers: 3, epochs: 150, lr: 1e-05, batchsize: 100\n",
      "Training...\n"
     ]
    },
    {
     "name": "stderr",
     "output_type": "stream",
     "text": [
      "100%|██████████| 150/150 [00:11<00:00, 13.31it/s]\n"
     ]
    },
    {
     "name": "stdout",
     "output_type": "stream",
     "text": [
      "[19/Apr/2023 22:23:45] INFO - Running process for Neural Net (lidar) | layers: 3, epochs: 150, lr: 1e-05, batchsize: 100\n",
      "Training...\n"
     ]
    },
    {
     "name": "stderr",
     "output_type": "stream",
     "text": [
      "100%|██████████| 150/150 [00:09<00:00, 15.80it/s]\n"
     ]
    },
    {
     "name": "stdout",
     "output_type": "stream",
     "text": [
      "[19/Apr/2023 22:23:55] INFO - Running process for Neural Net (lidar) | layers: 3, epochs: 150, lr: 1e-05, batchsize: 200\n",
      "Training...\n"
     ]
    },
    {
     "name": "stderr",
     "output_type": "stream",
     "text": [
      "100%|██████████| 150/150 [00:06<00:00, 21.67it/s]\n"
     ]
    },
    {
     "name": "stdout",
     "output_type": "stream",
     "text": [
      "[19/Apr/2023 22:24:02] INFO - Running process for Neural Net (lidar) | layers: 3, epochs: 150, lr: 1e-05, batchsize: 200\n",
      "Training...\n"
     ]
    },
    {
     "name": "stderr",
     "output_type": "stream",
     "text": [
      "100%|██████████| 150/150 [00:07<00:00, 21.41it/s]\n"
     ]
    },
    {
     "name": "stdout",
     "output_type": "stream",
     "text": [
      "[19/Apr/2023 22:24:09] INFO - Running process for Neural Net (lidar) | layers: 3, epochs: 150, lr: 1e-05, batchsize: 200\n",
      "Training...\n"
     ]
    },
    {
     "name": "stderr",
     "output_type": "stream",
     "text": [
      "100%|██████████| 150/150 [00:07<00:00, 21.25it/s]\n"
     ]
    },
    {
     "name": "stdout",
     "output_type": "stream",
     "text": [
      "[19/Apr/2023 22:24:16] INFO - Running process for Neural Net (lidar) | layers: 3, epochs: 150, lr: 1e-05, batchsize: 200\n",
      "Training...\n"
     ]
    },
    {
     "name": "stderr",
     "output_type": "stream",
     "text": [
      "100%|██████████| 150/150 [00:06<00:00, 21.67it/s]\n"
     ]
    },
    {
     "name": "stdout",
     "output_type": "stream",
     "text": [
      "[19/Apr/2023 22:24:23] INFO - Running process for Neural Net (lidar) | layers: 3, epochs: 150, lr: 7.5e-06, batchsize: 50\n",
      "Training...\n"
     ]
    },
    {
     "name": "stderr",
     "output_type": "stream",
     "text": [
      "100%|██████████| 150/150 [00:14<00:00, 10.21it/s]\n"
     ]
    },
    {
     "name": "stdout",
     "output_type": "stream",
     "text": [
      "[19/Apr/2023 22:24:38] INFO - Running process for Neural Net (lidar) | layers: 3, epochs: 150, lr: 7.5e-06, batchsize: 50\n",
      "Training...\n"
     ]
    },
    {
     "name": "stderr",
     "output_type": "stream",
     "text": [
      "100%|██████████| 150/150 [00:14<00:00, 10.33it/s]\n"
     ]
    },
    {
     "name": "stdout",
     "output_type": "stream",
     "text": [
      "[19/Apr/2023 22:24:53] INFO - Running process for Neural Net (lidar) | layers: 3, epochs: 150, lr: 7.5e-06, batchsize: 50\n",
      "Training...\n"
     ]
    },
    {
     "name": "stderr",
     "output_type": "stream",
     "text": [
      "100%|██████████| 150/150 [00:14<00:00, 10.45it/s]\n"
     ]
    },
    {
     "name": "stdout",
     "output_type": "stream",
     "text": [
      "[19/Apr/2023 22:25:07] INFO - Running process for Neural Net (lidar) | layers: 3, epochs: 150, lr: 7.5e-06, batchsize: 50\n",
      "Training...\n"
     ]
    },
    {
     "name": "stderr",
     "output_type": "stream",
     "text": [
      "100%|██████████| 150/150 [00:14<00:00, 10.51it/s]\n"
     ]
    },
    {
     "name": "stdout",
     "output_type": "stream",
     "text": [
      "[19/Apr/2023 22:25:22] INFO - Running process for Neural Net (lidar) | layers: 3, epochs: 150, lr: 7.5e-06, batchsize: 100\n",
      "Training...\n"
     ]
    },
    {
     "name": "stderr",
     "output_type": "stream",
     "text": [
      "100%|██████████| 150/150 [00:09<00:00, 15.77it/s]\n"
     ]
    },
    {
     "name": "stdout",
     "output_type": "stream",
     "text": [
      "[19/Apr/2023 22:25:31] INFO - Running process for Neural Net (lidar) | layers: 3, epochs: 150, lr: 7.5e-06, batchsize: 100\n",
      "Training...\n"
     ]
    },
    {
     "name": "stderr",
     "output_type": "stream",
     "text": [
      "100%|██████████| 150/150 [00:09<00:00, 15.53it/s]\n"
     ]
    },
    {
     "name": "stdout",
     "output_type": "stream",
     "text": [
      "[19/Apr/2023 22:25:41] INFO - Running process for Neural Net (lidar) | layers: 3, epochs: 150, lr: 7.5e-06, batchsize: 100\n",
      "Training...\n"
     ]
    },
    {
     "name": "stderr",
     "output_type": "stream",
     "text": [
      "100%|██████████| 150/150 [00:09<00:00, 15.58it/s]\n"
     ]
    },
    {
     "name": "stdout",
     "output_type": "stream",
     "text": [
      "[19/Apr/2023 22:25:51] INFO - Running process for Neural Net (lidar) | layers: 3, epochs: 150, lr: 7.5e-06, batchsize: 100\n",
      "Training...\n"
     ]
    },
    {
     "name": "stderr",
     "output_type": "stream",
     "text": [
      "100%|██████████| 150/150 [00:09<00:00, 15.53it/s]\n"
     ]
    },
    {
     "name": "stdout",
     "output_type": "stream",
     "text": [
      "[19/Apr/2023 22:26:01] INFO - Running process for Neural Net (lidar) | layers: 3, epochs: 150, lr: 7.5e-06, batchsize: 200\n",
      "Training...\n"
     ]
    },
    {
     "name": "stderr",
     "output_type": "stream",
     "text": [
      "100%|██████████| 150/150 [00:06<00:00, 21.60it/s]\n"
     ]
    },
    {
     "name": "stdout",
     "output_type": "stream",
     "text": [
      "[19/Apr/2023 22:26:08] INFO - Running process for Neural Net (lidar) | layers: 3, epochs: 150, lr: 7.5e-06, batchsize: 200\n",
      "Training...\n"
     ]
    },
    {
     "name": "stderr",
     "output_type": "stream",
     "text": [
      "100%|██████████| 150/150 [00:06<00:00, 21.56it/s]\n"
     ]
    },
    {
     "name": "stdout",
     "output_type": "stream",
     "text": [
      "[19/Apr/2023 22:26:15] INFO - Running process for Neural Net (lidar) | layers: 3, epochs: 150, lr: 7.5e-06, batchsize: 200\n",
      "Training...\n"
     ]
    },
    {
     "name": "stderr",
     "output_type": "stream",
     "text": [
      "100%|██████████| 150/150 [00:06<00:00, 21.47it/s]\n"
     ]
    },
    {
     "name": "stdout",
     "output_type": "stream",
     "text": [
      "[19/Apr/2023 22:26:22] INFO - Running process for Neural Net (lidar) | layers: 3, epochs: 150, lr: 7.5e-06, batchsize: 200\n",
      "Training...\n"
     ]
    },
    {
     "name": "stderr",
     "output_type": "stream",
     "text": [
      "100%|██████████| 150/150 [00:06<00:00, 21.74it/s]\n"
     ]
    },
    {
     "name": "stdout",
     "output_type": "stream",
     "text": [
      "[19/Apr/2023 22:26:29] INFO - Running process for Neural Net (lidar) | layers: 3, epochs: 300, lr: 0.0001, batchsize: 50\n",
      "Training...\n"
     ]
    },
    {
     "name": "stderr",
     "output_type": "stream",
     "text": [
      "100%|██████████| 300/300 [00:28<00:00, 10.40it/s]\n"
     ]
    },
    {
     "name": "stdout",
     "output_type": "stream",
     "text": [
      "[19/Apr/2023 22:26:58] INFO - Running process for Neural Net (lidar) | layers: 3, epochs: 300, lr: 0.0001, batchsize: 50\n",
      "Training...\n"
     ]
    },
    {
     "name": "stderr",
     "output_type": "stream",
     "text": [
      "100%|██████████| 300/300 [00:29<00:00, 10.34it/s]\n"
     ]
    },
    {
     "name": "stdout",
     "output_type": "stream",
     "text": [
      "[19/Apr/2023 22:27:28] INFO - Running process for Neural Net (lidar) | layers: 3, epochs: 300, lr: 0.0001, batchsize: 50\n",
      "Training...\n"
     ]
    },
    {
     "name": "stderr",
     "output_type": "stream",
     "text": [
      "100%|██████████| 300/300 [00:28<00:00, 10.47it/s]\n"
     ]
    },
    {
     "name": "stdout",
     "output_type": "stream",
     "text": [
      "[19/Apr/2023 22:27:56] INFO - Running process for Neural Net (lidar) | layers: 3, epochs: 300, lr: 0.0001, batchsize: 50\n",
      "Training...\n"
     ]
    },
    {
     "name": "stderr",
     "output_type": "stream",
     "text": [
      "100%|██████████| 300/300 [00:31<00:00,  9.60it/s]\n"
     ]
    },
    {
     "name": "stdout",
     "output_type": "stream",
     "text": [
      "[19/Apr/2023 22:28:28] INFO - Running process for Neural Net (lidar) | layers: 3, epochs: 300, lr: 0.0001, batchsize: 100\n",
      "Training...\n"
     ]
    },
    {
     "name": "stderr",
     "output_type": "stream",
     "text": [
      "100%|██████████| 300/300 [00:26<00:00, 11.35it/s]\n"
     ]
    },
    {
     "name": "stdout",
     "output_type": "stream",
     "text": [
      "[19/Apr/2023 22:28:54] INFO - Running process for Neural Net (lidar) | layers: 3, epochs: 300, lr: 0.0001, batchsize: 100\n",
      "Training...\n"
     ]
    },
    {
     "name": "stderr",
     "output_type": "stream",
     "text": [
      "100%|██████████| 300/300 [00:20<00:00, 14.50it/s]\n"
     ]
    },
    {
     "name": "stdout",
     "output_type": "stream",
     "text": [
      "[19/Apr/2023 22:29:15] INFO - Running process for Neural Net (lidar) | layers: 3, epochs: 300, lr: 0.0001, batchsize: 100\n",
      "Training...\n"
     ]
    },
    {
     "name": "stderr",
     "output_type": "stream",
     "text": [
      "100%|██████████| 300/300 [00:20<00:00, 14.81it/s]\n"
     ]
    },
    {
     "name": "stdout",
     "output_type": "stream",
     "text": [
      "[19/Apr/2023 22:29:36] INFO - Running process for Neural Net (lidar) | layers: 3, epochs: 300, lr: 0.0001, batchsize: 100\n",
      "Training...\n"
     ]
    },
    {
     "name": "stderr",
     "output_type": "stream",
     "text": [
      "100%|██████████| 300/300 [00:21<00:00, 14.06it/s]\n"
     ]
    },
    {
     "name": "stdout",
     "output_type": "stream",
     "text": [
      "[19/Apr/2023 22:29:57] INFO - Running process for Neural Net (lidar) | layers: 3, epochs: 300, lr: 0.0001, batchsize: 200\n",
      "Training...\n"
     ]
    },
    {
     "name": "stderr",
     "output_type": "stream",
     "text": [
      "100%|██████████| 300/300 [00:17<00:00, 16.73it/s]\n"
     ]
    },
    {
     "name": "stdout",
     "output_type": "stream",
     "text": [
      "[19/Apr/2023 22:30:15] INFO - Running process for Neural Net (lidar) | layers: 3, epochs: 300, lr: 0.0001, batchsize: 200\n",
      "Training...\n"
     ]
    },
    {
     "name": "stderr",
     "output_type": "stream",
     "text": [
      "100%|██████████| 300/300 [00:19<00:00, 15.76it/s]\n"
     ]
    },
    {
     "name": "stdout",
     "output_type": "stream",
     "text": [
      "[19/Apr/2023 22:30:34] INFO - Running process for Neural Net (lidar) | layers: 3, epochs: 300, lr: 0.0001, batchsize: 200\n",
      "Training...\n"
     ]
    },
    {
     "name": "stderr",
     "output_type": "stream",
     "text": [
      "100%|██████████| 300/300 [00:18<00:00, 15.98it/s]\n"
     ]
    },
    {
     "name": "stdout",
     "output_type": "stream",
     "text": [
      "[19/Apr/2023 22:30:53] INFO - Running process for Neural Net (lidar) | layers: 3, epochs: 300, lr: 0.0001, batchsize: 200\n",
      "Training...\n"
     ]
    },
    {
     "name": "stderr",
     "output_type": "stream",
     "text": [
      "100%|██████████| 300/300 [00:16<00:00, 17.69it/s]\n"
     ]
    },
    {
     "name": "stdout",
     "output_type": "stream",
     "text": [
      "[19/Apr/2023 22:31:10] INFO - Running process for Neural Net (lidar) | layers: 3, epochs: 300, lr: 7.5e-05, batchsize: 50\n",
      "Training...\n"
     ]
    },
    {
     "name": "stderr",
     "output_type": "stream",
     "text": [
      "100%|██████████| 300/300 [00:29<00:00, 10.02it/s]\n"
     ]
    },
    {
     "name": "stdout",
     "output_type": "stream",
     "text": [
      "[19/Apr/2023 22:31:40] INFO - Running process for Neural Net (lidar) | layers: 3, epochs: 300, lr: 7.5e-05, batchsize: 50\n",
      "Training...\n"
     ]
    },
    {
     "name": "stderr",
     "output_type": "stream",
     "text": [
      "100%|██████████| 300/300 [00:28<00:00, 10.48it/s]\n"
     ]
    },
    {
     "name": "stdout",
     "output_type": "stream",
     "text": [
      "[19/Apr/2023 22:32:09] INFO - Running process for Neural Net (lidar) | layers: 3, epochs: 300, lr: 7.5e-05, batchsize: 50\n",
      "Training...\n"
     ]
    },
    {
     "name": "stderr",
     "output_type": "stream",
     "text": [
      "100%|██████████| 300/300 [00:28<00:00, 10.43it/s]\n"
     ]
    },
    {
     "name": "stdout",
     "output_type": "stream",
     "text": [
      "[19/Apr/2023 22:32:38] INFO - Running process for Neural Net (lidar) | layers: 3, epochs: 300, lr: 7.5e-05, batchsize: 50\n",
      "Training...\n"
     ]
    },
    {
     "name": "stderr",
     "output_type": "stream",
     "text": [
      "100%|██████████| 300/300 [00:28<00:00, 10.50it/s]\n"
     ]
    },
    {
     "name": "stdout",
     "output_type": "stream",
     "text": [
      "[19/Apr/2023 22:33:07] INFO - Running process for Neural Net (lidar) | layers: 3, epochs: 300, lr: 7.5e-05, batchsize: 100\n",
      "Training...\n"
     ]
    },
    {
     "name": "stderr",
     "output_type": "stream",
     "text": [
      "100%|██████████| 300/300 [00:19<00:00, 15.14it/s]\n"
     ]
    },
    {
     "name": "stdout",
     "output_type": "stream",
     "text": [
      "[19/Apr/2023 22:33:27] INFO - Running process for Neural Net (lidar) | layers: 3, epochs: 300, lr: 7.5e-05, batchsize: 100\n",
      "Training...\n"
     ]
    },
    {
     "name": "stderr",
     "output_type": "stream",
     "text": [
      "100%|██████████| 300/300 [00:22<00:00, 13.16it/s]\n"
     ]
    },
    {
     "name": "stdout",
     "output_type": "stream",
     "text": [
      "[19/Apr/2023 22:33:50] INFO - Running process for Neural Net (lidar) | layers: 3, epochs: 300, lr: 7.5e-05, batchsize: 100\n",
      "Training...\n"
     ]
    },
    {
     "name": "stderr",
     "output_type": "stream",
     "text": [
      "100%|██████████| 300/300 [00:22<00:00, 13.09it/s]\n"
     ]
    },
    {
     "name": "stdout",
     "output_type": "stream",
     "text": [
      "[19/Apr/2023 22:34:13] INFO - Running process for Neural Net (lidar) | layers: 3, epochs: 300, lr: 7.5e-05, batchsize: 100\n",
      "Training...\n"
     ]
    },
    {
     "name": "stderr",
     "output_type": "stream",
     "text": [
      "100%|██████████| 300/300 [00:21<00:00, 13.92it/s]\n"
     ]
    },
    {
     "name": "stdout",
     "output_type": "stream",
     "text": [
      "[19/Apr/2023 22:34:34] INFO - Running process for Neural Net (lidar) | layers: 3, epochs: 300, lr: 7.5e-05, batchsize: 200\n",
      "Training...\n"
     ]
    },
    {
     "name": "stderr",
     "output_type": "stream",
     "text": [
      "100%|██████████| 300/300 [00:20<00:00, 14.64it/s]\n"
     ]
    },
    {
     "name": "stdout",
     "output_type": "stream",
     "text": [
      "[19/Apr/2023 22:34:55] INFO - Running process for Neural Net (lidar) | layers: 3, epochs: 300, lr: 7.5e-05, batchsize: 200\n",
      "Training...\n"
     ]
    },
    {
     "name": "stderr",
     "output_type": "stream",
     "text": [
      "100%|██████████| 300/300 [00:20<00:00, 14.52it/s]\n"
     ]
    },
    {
     "name": "stdout",
     "output_type": "stream",
     "text": [
      "[19/Apr/2023 22:35:16] INFO - Running process for Neural Net (lidar) | layers: 3, epochs: 300, lr: 7.5e-05, batchsize: 200\n",
      "Training...\n"
     ]
    },
    {
     "name": "stderr",
     "output_type": "stream",
     "text": [
      "100%|██████████| 300/300 [00:20<00:00, 14.50it/s]\n"
     ]
    },
    {
     "name": "stdout",
     "output_type": "stream",
     "text": [
      "[19/Apr/2023 22:35:37] INFO - Running process for Neural Net (lidar) | layers: 3, epochs: 300, lr: 7.5e-05, batchsize: 200\n",
      "Training...\n"
     ]
    },
    {
     "name": "stderr",
     "output_type": "stream",
     "text": [
      "100%|██████████| 300/300 [00:20<00:00, 14.89it/s]\n"
     ]
    },
    {
     "name": "stdout",
     "output_type": "stream",
     "text": [
      "[19/Apr/2023 22:35:57] INFO - Running process for Neural Net (lidar) | layers: 3, epochs: 300, lr: 1e-05, batchsize: 50\n",
      "Training...\n"
     ]
    },
    {
     "name": "stderr",
     "output_type": "stream",
     "text": [
      "100%|██████████| 300/300 [00:33<00:00,  9.05it/s]\n"
     ]
    },
    {
     "name": "stdout",
     "output_type": "stream",
     "text": [
      "[19/Apr/2023 22:36:30] INFO - Running process for Neural Net (lidar) | layers: 3, epochs: 300, lr: 1e-05, batchsize: 50\n",
      "Training...\n"
     ]
    },
    {
     "name": "stderr",
     "output_type": "stream",
     "text": [
      "100%|██████████| 300/300 [00:45<00:00,  6.63it/s]\n"
     ]
    },
    {
     "name": "stdout",
     "output_type": "stream",
     "text": [
      "[19/Apr/2023 22:37:16] INFO - Running process for Neural Net (lidar) | layers: 3, epochs: 300, lr: 1e-05, batchsize: 50\n",
      "Training...\n"
     ]
    },
    {
     "name": "stderr",
     "output_type": "stream",
     "text": [
      "100%|██████████| 300/300 [00:37<00:00,  7.99it/s]\n"
     ]
    },
    {
     "name": "stdout",
     "output_type": "stream",
     "text": [
      "[19/Apr/2023 22:37:53] INFO - Running process for Neural Net (lidar) | layers: 3, epochs: 300, lr: 1e-05, batchsize: 50\n",
      "Training...\n"
     ]
    },
    {
     "name": "stderr",
     "output_type": "stream",
     "text": [
      "100%|██████████| 300/300 [00:43<00:00,  6.90it/s]\n"
     ]
    },
    {
     "name": "stdout",
     "output_type": "stream",
     "text": [
      "[19/Apr/2023 22:38:37] INFO - Running process for Neural Net (lidar) | layers: 3, epochs: 300, lr: 1e-05, batchsize: 100\n",
      "Training...\n"
     ]
    },
    {
     "name": "stderr",
     "output_type": "stream",
     "text": [
      "100%|██████████| 300/300 [00:27<00:00, 10.96it/s]\n"
     ]
    },
    {
     "name": "stdout",
     "output_type": "stream",
     "text": [
      "[19/Apr/2023 22:39:04] INFO - Running process for Neural Net (lidar) | layers: 3, epochs: 300, lr: 1e-05, batchsize: 100\n",
      "Training...\n"
     ]
    },
    {
     "name": "stderr",
     "output_type": "stream",
     "text": [
      "100%|██████████| 300/300 [00:27<00:00, 11.01it/s]\n"
     ]
    },
    {
     "name": "stdout",
     "output_type": "stream",
     "text": [
      "[19/Apr/2023 22:39:32] INFO - Running process for Neural Net (lidar) | layers: 3, epochs: 300, lr: 1e-05, batchsize: 100\n",
      "Training...\n"
     ]
    },
    {
     "name": "stderr",
     "output_type": "stream",
     "text": [
      "100%|██████████| 300/300 [00:26<00:00, 11.20it/s]\n"
     ]
    },
    {
     "name": "stdout",
     "output_type": "stream",
     "text": [
      "[19/Apr/2023 22:39:59] INFO - Running process for Neural Net (lidar) | layers: 3, epochs: 300, lr: 1e-05, batchsize: 100\n",
      "Training...\n"
     ]
    },
    {
     "name": "stderr",
     "output_type": "stream",
     "text": [
      "100%|██████████| 300/300 [00:26<00:00, 11.15it/s]\n"
     ]
    },
    {
     "name": "stdout",
     "output_type": "stream",
     "text": [
      "[19/Apr/2023 22:40:26] INFO - Running process for Neural Net (lidar) | layers: 3, epochs: 300, lr: 1e-05, batchsize: 200\n",
      "Training...\n"
     ]
    },
    {
     "name": "stderr",
     "output_type": "stream",
     "text": [
      "100%|██████████| 300/300 [00:19<00:00, 15.13it/s]\n"
     ]
    },
    {
     "name": "stdout",
     "output_type": "stream",
     "text": [
      "[19/Apr/2023 22:40:46] INFO - Running process for Neural Net (lidar) | layers: 3, epochs: 300, lr: 1e-05, batchsize: 200\n",
      "Training...\n"
     ]
    },
    {
     "name": "stderr",
     "output_type": "stream",
     "text": [
      "100%|██████████| 300/300 [00:20<00:00, 14.47it/s]\n"
     ]
    },
    {
     "name": "stdout",
     "output_type": "stream",
     "text": [
      "[19/Apr/2023 22:41:07] INFO - Running process for Neural Net (lidar) | layers: 3, epochs: 300, lr: 1e-05, batchsize: 200\n",
      "Training...\n"
     ]
    },
    {
     "name": "stderr",
     "output_type": "stream",
     "text": [
      "100%|██████████| 300/300 [00:20<00:00, 14.46it/s]\n"
     ]
    },
    {
     "name": "stdout",
     "output_type": "stream",
     "text": [
      "[19/Apr/2023 22:41:27] INFO - Running process for Neural Net (lidar) | layers: 3, epochs: 300, lr: 1e-05, batchsize: 200\n",
      "Training...\n"
     ]
    },
    {
     "name": "stderr",
     "output_type": "stream",
     "text": [
      "100%|██████████| 300/300 [00:20<00:00, 14.50it/s]\n"
     ]
    },
    {
     "name": "stdout",
     "output_type": "stream",
     "text": [
      "[19/Apr/2023 22:41:48] INFO - Running process for Neural Net (lidar) | layers: 3, epochs: 300, lr: 7.5e-06, batchsize: 50\n",
      "Training...\n"
     ]
    },
    {
     "name": "stderr",
     "output_type": "stream",
     "text": [
      "100%|██████████| 300/300 [00:46<00:00,  6.45it/s]\n"
     ]
    },
    {
     "name": "stdout",
     "output_type": "stream",
     "text": [
      "[19/Apr/2023 22:42:35] INFO - Running process for Neural Net (lidar) | layers: 3, epochs: 300, lr: 7.5e-06, batchsize: 50\n",
      "Training...\n"
     ]
    },
    {
     "name": "stderr",
     "output_type": "stream",
     "text": [
      "100%|██████████| 300/300 [00:46<00:00,  6.50it/s]\n"
     ]
    },
    {
     "name": "stdout",
     "output_type": "stream",
     "text": [
      "[19/Apr/2023 22:43:21] INFO - Running process for Neural Net (lidar) | layers: 3, epochs: 300, lr: 7.5e-06, batchsize: 50\n",
      "Training...\n"
     ]
    },
    {
     "name": "stderr",
     "output_type": "stream",
     "text": [
      "100%|██████████| 300/300 [00:46<00:00,  6.38it/s]\n"
     ]
    },
    {
     "name": "stdout",
     "output_type": "stream",
     "text": [
      "[19/Apr/2023 22:44:08] INFO - Running process for Neural Net (lidar) | layers: 3, epochs: 300, lr: 7.5e-06, batchsize: 50\n",
      "Training...\n"
     ]
    },
    {
     "name": "stderr",
     "output_type": "stream",
     "text": [
      "100%|██████████| 300/300 [00:40<00:00,  7.48it/s]\n"
     ]
    },
    {
     "name": "stdout",
     "output_type": "stream",
     "text": [
      "[19/Apr/2023 22:44:49] INFO - Running process for Neural Net (lidar) | layers: 3, epochs: 300, lr: 7.5e-06, batchsize: 100\n",
      "Training...\n"
     ]
    },
    {
     "name": "stderr",
     "output_type": "stream",
     "text": [
      "100%|██████████| 300/300 [00:22<00:00, 13.29it/s]\n"
     ]
    },
    {
     "name": "stdout",
     "output_type": "stream",
     "text": [
      "[19/Apr/2023 22:45:11] INFO - Running process for Neural Net (lidar) | layers: 3, epochs: 300, lr: 7.5e-06, batchsize: 100\n",
      "Training...\n"
     ]
    },
    {
     "name": "stderr",
     "output_type": "stream",
     "text": [
      "100%|██████████| 300/300 [00:26<00:00, 11.18it/s]\n"
     ]
    },
    {
     "name": "stdout",
     "output_type": "stream",
     "text": [
      "[19/Apr/2023 22:45:38] INFO - Running process for Neural Net (lidar) | layers: 3, epochs: 300, lr: 7.5e-06, batchsize: 100\n",
      "Training...\n"
     ]
    },
    {
     "name": "stderr",
     "output_type": "stream",
     "text": [
      "100%|██████████| 300/300 [00:23<00:00, 12.82it/s]"
     ]
    },
    {
     "name": "stdout",
     "output_type": "stream",
     "text": [
      "[19/Apr/2023 22:46:02] INFO - Running process for Neural Net (lidar) | layers: 3, epochs: 300, lr: 7.5e-06, batchsize: 100\n"
     ]
    },
    {
     "name": "stderr",
     "output_type": "stream",
     "text": [
      "\n"
     ]
    },
    {
     "name": "stdout",
     "output_type": "stream",
     "text": [
      "Training...\n"
     ]
    },
    {
     "name": "stderr",
     "output_type": "stream",
     "text": [
      "100%|██████████| 300/300 [00:24<00:00, 12.43it/s]\n"
     ]
    },
    {
     "name": "stdout",
     "output_type": "stream",
     "text": [
      "[19/Apr/2023 22:46:26] INFO - Running process for Neural Net (lidar) | layers: 3, epochs: 300, lr: 7.5e-06, batchsize: 200\n",
      "Training...\n"
     ]
    },
    {
     "name": "stderr",
     "output_type": "stream",
     "text": [
      "100%|██████████| 300/300 [00:20<00:00, 14.58it/s]\n"
     ]
    },
    {
     "name": "stdout",
     "output_type": "stream",
     "text": [
      "[19/Apr/2023 22:46:47] INFO - Running process for Neural Net (lidar) | layers: 3, epochs: 300, lr: 7.5e-06, batchsize: 200\n",
      "Training...\n"
     ]
    },
    {
     "name": "stderr",
     "output_type": "stream",
     "text": [
      "100%|██████████| 300/300 [00:19<00:00, 15.01it/s]\n"
     ]
    },
    {
     "name": "stdout",
     "output_type": "stream",
     "text": [
      "[19/Apr/2023 22:47:07] INFO - Running process for Neural Net (lidar) | layers: 3, epochs: 300, lr: 7.5e-06, batchsize: 200\n",
      "Training...\n"
     ]
    },
    {
     "name": "stderr",
     "output_type": "stream",
     "text": [
      "100%|██████████| 300/300 [00:20<00:00, 14.58it/s]\n"
     ]
    },
    {
     "name": "stdout",
     "output_type": "stream",
     "text": [
      "[19/Apr/2023 22:47:28] INFO - Running process for Neural Net (lidar) | layers: 3, epochs: 300, lr: 7.5e-06, batchsize: 200\n",
      "Training...\n"
     ]
    },
    {
     "name": "stderr",
     "output_type": "stream",
     "text": [
      "100%|██████████| 300/300 [00:20<00:00, 14.63it/s]\n"
     ]
    },
    {
     "name": "stdout",
     "output_type": "stream",
     "text": [
      "[19/Apr/2023 22:47:48] INFO - Running process for Neural Net (lidar) | layers: 3, epochs: 450, lr: 0.0001, batchsize: 50\n",
      "Training...\n"
     ]
    },
    {
     "name": "stderr",
     "output_type": "stream",
     "text": [
      "100%|██████████| 450/450 [00:43<00:00, 10.31it/s]\n"
     ]
    },
    {
     "name": "stdout",
     "output_type": "stream",
     "text": [
      "[19/Apr/2023 22:48:32] INFO - Running process for Neural Net (lidar) | layers: 3, epochs: 450, lr: 0.0001, batchsize: 50\n",
      "Training...\n"
     ]
    },
    {
     "name": "stderr",
     "output_type": "stream",
     "text": [
      "100%|██████████| 450/450 [00:42<00:00, 10.53it/s]\n"
     ]
    },
    {
     "name": "stdout",
     "output_type": "stream",
     "text": [
      "[19/Apr/2023 22:49:15] INFO - Running process for Neural Net (lidar) | layers: 3, epochs: 450, lr: 0.0001, batchsize: 50\n",
      "Training...\n"
     ]
    },
    {
     "name": "stderr",
     "output_type": "stream",
     "text": [
      "100%|██████████| 450/450 [00:42<00:00, 10.54it/s]\n"
     ]
    },
    {
     "name": "stdout",
     "output_type": "stream",
     "text": [
      "[19/Apr/2023 22:49:58] INFO - Running process for Neural Net (lidar) | layers: 3, epochs: 450, lr: 0.0001, batchsize: 50\n",
      "Training...\n"
     ]
    },
    {
     "name": "stderr",
     "output_type": "stream",
     "text": [
      "100%|██████████| 450/450 [00:42<00:00, 10.52it/s]\n"
     ]
    },
    {
     "name": "stdout",
     "output_type": "stream",
     "text": [
      "[19/Apr/2023 22:50:41] INFO - Running process for Neural Net (lidar) | layers: 3, epochs: 450, lr: 0.0001, batchsize: 100\n",
      "Training...\n"
     ]
    },
    {
     "name": "stderr",
     "output_type": "stream",
     "text": [
      "100%|██████████| 450/450 [00:28<00:00, 15.91it/s]\n"
     ]
    },
    {
     "name": "stdout",
     "output_type": "stream",
     "text": [
      "[19/Apr/2023 22:51:09] INFO - Running process for Neural Net (lidar) | layers: 3, epochs: 450, lr: 0.0001, batchsize: 100\n",
      "Training...\n"
     ]
    },
    {
     "name": "stderr",
     "output_type": "stream",
     "text": [
      "100%|██████████| 450/450 [00:28<00:00, 15.87it/s]\n"
     ]
    },
    {
     "name": "stdout",
     "output_type": "stream",
     "text": [
      "[19/Apr/2023 22:51:37] INFO - Running process for Neural Net (lidar) | layers: 3, epochs: 450, lr: 0.0001, batchsize: 100\n",
      "Training...\n"
     ]
    },
    {
     "name": "stderr",
     "output_type": "stream",
     "text": [
      "100%|██████████| 450/450 [00:32<00:00, 13.91it/s]\n"
     ]
    },
    {
     "name": "stdout",
     "output_type": "stream",
     "text": [
      "[19/Apr/2023 22:52:10] INFO - Running process for Neural Net (lidar) | layers: 3, epochs: 450, lr: 0.0001, batchsize: 100\n",
      "Training...\n"
     ]
    },
    {
     "name": "stderr",
     "output_type": "stream",
     "text": [
      "100%|██████████| 450/450 [00:28<00:00, 15.94it/s]\n"
     ]
    },
    {
     "name": "stdout",
     "output_type": "stream",
     "text": [
      "[19/Apr/2023 22:52:38] INFO - Running process for Neural Net (lidar) | layers: 3, epochs: 450, lr: 0.0001, batchsize: 200\n",
      "Training...\n"
     ]
    },
    {
     "name": "stderr",
     "output_type": "stream",
     "text": [
      "100%|██████████| 450/450 [00:20<00:00, 22.14it/s]\n"
     ]
    },
    {
     "name": "stdout",
     "output_type": "stream",
     "text": [
      "[19/Apr/2023 22:52:59] INFO - Running process for Neural Net (lidar) | layers: 3, epochs: 450, lr: 0.0001, batchsize: 200\n",
      "Training...\n"
     ]
    },
    {
     "name": "stderr",
     "output_type": "stream",
     "text": [
      "100%|██████████| 450/450 [00:20<00:00, 22.14it/s]\n"
     ]
    },
    {
     "name": "stdout",
     "output_type": "stream",
     "text": [
      "[19/Apr/2023 22:53:19] INFO - Running process for Neural Net (lidar) | layers: 3, epochs: 450, lr: 0.0001, batchsize: 200\n",
      "Training...\n"
     ]
    },
    {
     "name": "stderr",
     "output_type": "stream",
     "text": [
      "100%|██████████| 450/450 [00:23<00:00, 19.53it/s]\n"
     ]
    },
    {
     "name": "stdout",
     "output_type": "stream",
     "text": [
      "[19/Apr/2023 22:53:42] INFO - Running process for Neural Net (lidar) | layers: 3, epochs: 450, lr: 0.0001, batchsize: 200\n",
      "Training...\n"
     ]
    },
    {
     "name": "stderr",
     "output_type": "stream",
     "text": [
      "100%|██████████| 450/450 [00:20<00:00, 21.70it/s]\n"
     ]
    },
    {
     "name": "stdout",
     "output_type": "stream",
     "text": [
      "[19/Apr/2023 22:54:03] INFO - Running process for Neural Net (lidar) | layers: 3, epochs: 450, lr: 7.5e-05, batchsize: 50\n",
      "Training...\n"
     ]
    },
    {
     "name": "stderr",
     "output_type": "stream",
     "text": [
      "100%|██████████| 450/450 [00:41<00:00, 10.73it/s]\n"
     ]
    },
    {
     "name": "stdout",
     "output_type": "stream",
     "text": [
      "[19/Apr/2023 22:54:45] INFO - Running process for Neural Net (lidar) | layers: 3, epochs: 450, lr: 7.5e-05, batchsize: 50\n",
      "Training...\n"
     ]
    },
    {
     "name": "stderr",
     "output_type": "stream",
     "text": [
      "100%|██████████| 450/450 [00:42<00:00, 10.53it/s]\n"
     ]
    },
    {
     "name": "stdout",
     "output_type": "stream",
     "text": [
      "[19/Apr/2023 22:55:28] INFO - Running process for Neural Net (lidar) | layers: 3, epochs: 450, lr: 7.5e-05, batchsize: 50\n",
      "Training...\n"
     ]
    },
    {
     "name": "stderr",
     "output_type": "stream",
     "text": [
      "100%|██████████| 450/450 [00:41<00:00, 10.76it/s]\n"
     ]
    },
    {
     "name": "stdout",
     "output_type": "stream",
     "text": [
      "[19/Apr/2023 22:56:10] INFO - Running process for Neural Net (lidar) | layers: 3, epochs: 450, lr: 7.5e-05, batchsize: 50\n",
      "Training...\n"
     ]
    },
    {
     "name": "stderr",
     "output_type": "stream",
     "text": [
      "100%|██████████| 450/450 [00:41<00:00, 10.74it/s]\n"
     ]
    },
    {
     "name": "stdout",
     "output_type": "stream",
     "text": [
      "[19/Apr/2023 22:56:52] INFO - Running process for Neural Net (lidar) | layers: 3, epochs: 450, lr: 7.5e-05, batchsize: 100\n",
      "Training...\n"
     ]
    },
    {
     "name": "stderr",
     "output_type": "stream",
     "text": [
      "100%|██████████| 450/450 [00:28<00:00, 15.94it/s]\n"
     ]
    },
    {
     "name": "stdout",
     "output_type": "stream",
     "text": [
      "[19/Apr/2023 22:57:21] INFO - Running process for Neural Net (lidar) | layers: 3, epochs: 450, lr: 7.5e-05, batchsize: 100\n",
      "Training...\n"
     ]
    },
    {
     "name": "stderr",
     "output_type": "stream",
     "text": [
      "100%|██████████| 450/450 [00:28<00:00, 15.95it/s]\n"
     ]
    },
    {
     "name": "stdout",
     "output_type": "stream",
     "text": [
      "[19/Apr/2023 22:57:49] INFO - Running process for Neural Net (lidar) | layers: 3, epochs: 450, lr: 7.5e-05, batchsize: 100\n",
      "Training...\n"
     ]
    },
    {
     "name": "stderr",
     "output_type": "stream",
     "text": [
      "100%|██████████| 450/450 [00:28<00:00, 16.05it/s]\n"
     ]
    },
    {
     "name": "stdout",
     "output_type": "stream",
     "text": [
      "[19/Apr/2023 22:58:17] INFO - Running process for Neural Net (lidar) | layers: 3, epochs: 450, lr: 7.5e-05, batchsize: 100\n",
      "Training...\n"
     ]
    },
    {
     "name": "stderr",
     "output_type": "stream",
     "text": [
      "100%|██████████| 450/450 [00:28<00:00, 15.95it/s]\n"
     ]
    },
    {
     "name": "stdout",
     "output_type": "stream",
     "text": [
      "[19/Apr/2023 22:58:45] INFO - Running process for Neural Net (lidar) | layers: 3, epochs: 450, lr: 7.5e-05, batchsize: 200\n",
      "Training...\n"
     ]
    },
    {
     "name": "stderr",
     "output_type": "stream",
     "text": [
      "100%|██████████| 450/450 [00:20<00:00, 22.04it/s]\n"
     ]
    },
    {
     "name": "stdout",
     "output_type": "stream",
     "text": [
      "[19/Apr/2023 22:59:06] INFO - Running process for Neural Net (lidar) | layers: 3, epochs: 450, lr: 7.5e-05, batchsize: 200\n",
      "Training...\n"
     ]
    },
    {
     "name": "stderr",
     "output_type": "stream",
     "text": [
      "100%|██████████| 450/450 [00:20<00:00, 22.06it/s]\n"
     ]
    },
    {
     "name": "stdout",
     "output_type": "stream",
     "text": [
      "[19/Apr/2023 22:59:27] INFO - Running process for Neural Net (lidar) | layers: 3, epochs: 450, lr: 7.5e-05, batchsize: 200\n",
      "Training...\n"
     ]
    },
    {
     "name": "stderr",
     "output_type": "stream",
     "text": [
      "100%|██████████| 450/450 [00:24<00:00, 18.36it/s]\n"
     ]
    },
    {
     "name": "stdout",
     "output_type": "stream",
     "text": [
      "[19/Apr/2023 22:59:52] INFO - Running process for Neural Net (lidar) | layers: 3, epochs: 450, lr: 7.5e-05, batchsize: 200\n",
      "Training...\n"
     ]
    },
    {
     "name": "stderr",
     "output_type": "stream",
     "text": [
      "100%|██████████| 450/450 [00:21<00:00, 21.18it/s]\n"
     ]
    },
    {
     "name": "stdout",
     "output_type": "stream",
     "text": [
      "[19/Apr/2023 23:00:13] INFO - Running process for Neural Net (lidar) | layers: 3, epochs: 450, lr: 1e-05, batchsize: 50\n",
      "Training...\n"
     ]
    },
    {
     "name": "stderr",
     "output_type": "stream",
     "text": [
      "100%|██████████| 450/450 [00:42<00:00, 10.67it/s]\n"
     ]
    },
    {
     "name": "stdout",
     "output_type": "stream",
     "text": [
      "[19/Apr/2023 23:00:56] INFO - Running process for Neural Net (lidar) | layers: 3, epochs: 450, lr: 1e-05, batchsize: 50\n",
      "Training...\n"
     ]
    },
    {
     "name": "stderr",
     "output_type": "stream",
     "text": [
      "100%|██████████| 450/450 [00:42<00:00, 10.62it/s]\n"
     ]
    },
    {
     "name": "stdout",
     "output_type": "stream",
     "text": [
      "[19/Apr/2023 23:01:38] INFO - Running process for Neural Net (lidar) | layers: 3, epochs: 450, lr: 1e-05, batchsize: 50\n",
      "Training...\n"
     ]
    },
    {
     "name": "stderr",
     "output_type": "stream",
     "text": [
      "100%|██████████| 450/450 [00:42<00:00, 10.56it/s]\n"
     ]
    },
    {
     "name": "stdout",
     "output_type": "stream",
     "text": [
      "[19/Apr/2023 23:02:21] INFO - Running process for Neural Net (lidar) | layers: 3, epochs: 450, lr: 1e-05, batchsize: 50\n",
      "Training...\n"
     ]
    },
    {
     "name": "stderr",
     "output_type": "stream",
     "text": [
      "100%|██████████| 450/450 [00:42<00:00, 10.70it/s]\n"
     ]
    },
    {
     "name": "stdout",
     "output_type": "stream",
     "text": [
      "[19/Apr/2023 23:03:03] INFO - Running process for Neural Net (lidar) | layers: 3, epochs: 450, lr: 1e-05, batchsize: 100\n",
      "Training...\n"
     ]
    },
    {
     "name": "stderr",
     "output_type": "stream",
     "text": [
      "100%|██████████| 450/450 [00:27<00:00, 16.21it/s]\n"
     ]
    },
    {
     "name": "stdout",
     "output_type": "stream",
     "text": [
      "[19/Apr/2023 23:03:31] INFO - Running process for Neural Net (lidar) | layers: 3, epochs: 450, lr: 1e-05, batchsize: 100\n",
      "Training...\n"
     ]
    },
    {
     "name": "stderr",
     "output_type": "stream",
     "text": [
      "100%|██████████| 450/450 [00:28<00:00, 15.73it/s]\n"
     ]
    },
    {
     "name": "stdout",
     "output_type": "stream",
     "text": [
      "[19/Apr/2023 23:04:00] INFO - Running process for Neural Net (lidar) | layers: 3, epochs: 450, lr: 1e-05, batchsize: 100\n",
      "Training...\n"
     ]
    },
    {
     "name": "stderr",
     "output_type": "stream",
     "text": [
      "100%|██████████| 450/450 [00:37<00:00, 12.14it/s]\n"
     ]
    },
    {
     "name": "stdout",
     "output_type": "stream",
     "text": [
      "[19/Apr/2023 23:04:37] INFO - Running process for Neural Net (lidar) | layers: 3, epochs: 450, lr: 1e-05, batchsize: 100\n",
      "Training...\n"
     ]
    },
    {
     "name": "stderr",
     "output_type": "stream",
     "text": [
      "100%|██████████| 450/450 [00:35<00:00, 12.70it/s]\n"
     ]
    },
    {
     "name": "stdout",
     "output_type": "stream",
     "text": [
      "[19/Apr/2023 23:05:13] INFO - Running process for Neural Net (lidar) | layers: 3, epochs: 450, lr: 1e-05, batchsize: 200\n",
      "Training...\n"
     ]
    },
    {
     "name": "stderr",
     "output_type": "stream",
     "text": [
      "100%|██████████| 450/450 [00:22<00:00, 19.73it/s]\n"
     ]
    },
    {
     "name": "stdout",
     "output_type": "stream",
     "text": [
      "[19/Apr/2023 23:05:35] INFO - Running process for Neural Net (lidar) | layers: 3, epochs: 450, lr: 1e-05, batchsize: 200\n",
      "Training...\n"
     ]
    },
    {
     "name": "stderr",
     "output_type": "stream",
     "text": [
      "100%|██████████| 450/450 [00:20<00:00, 22.20it/s]\n"
     ]
    },
    {
     "name": "stdout",
     "output_type": "stream",
     "text": [
      "[19/Apr/2023 23:05:56] INFO - Running process for Neural Net (lidar) | layers: 3, epochs: 450, lr: 1e-05, batchsize: 200\n",
      "Training...\n"
     ]
    },
    {
     "name": "stderr",
     "output_type": "stream",
     "text": [
      "100%|██████████| 450/450 [00:20<00:00, 22.01it/s]\n"
     ]
    },
    {
     "name": "stdout",
     "output_type": "stream",
     "text": [
      "[19/Apr/2023 23:06:16] INFO - Running process for Neural Net (lidar) | layers: 3, epochs: 450, lr: 1e-05, batchsize: 200\n",
      "Training...\n"
     ]
    },
    {
     "name": "stderr",
     "output_type": "stream",
     "text": [
      "100%|██████████| 450/450 [00:20<00:00, 22.25it/s]\n"
     ]
    },
    {
     "name": "stdout",
     "output_type": "stream",
     "text": [
      "[19/Apr/2023 23:06:37] INFO - Running process for Neural Net (lidar) | layers: 3, epochs: 450, lr: 7.5e-06, batchsize: 50\n",
      "Training...\n"
     ]
    },
    {
     "name": "stderr",
     "output_type": "stream",
     "text": [
      "100%|██████████| 450/450 [00:42<00:00, 10.69it/s]\n"
     ]
    },
    {
     "name": "stdout",
     "output_type": "stream",
     "text": [
      "[19/Apr/2023 23:07:19] INFO - Running process for Neural Net (lidar) | layers: 3, epochs: 450, lr: 7.5e-06, batchsize: 50\n",
      "Training...\n"
     ]
    },
    {
     "name": "stderr",
     "output_type": "stream",
     "text": [
      "100%|██████████| 450/450 [00:42<00:00, 10.64it/s]\n"
     ]
    },
    {
     "name": "stdout",
     "output_type": "stream",
     "text": [
      "[19/Apr/2023 23:08:01] INFO - Running process for Neural Net (lidar) | layers: 3, epochs: 450, lr: 7.5e-06, batchsize: 50\n",
      "Training...\n"
     ]
    },
    {
     "name": "stderr",
     "output_type": "stream",
     "text": [
      "100%|██████████| 450/450 [00:43<00:00, 10.36it/s]\n"
     ]
    },
    {
     "name": "stdout",
     "output_type": "stream",
     "text": [
      "[19/Apr/2023 23:08:45] INFO - Running process for Neural Net (lidar) | layers: 3, epochs: 450, lr: 7.5e-06, batchsize: 50\n",
      "Training...\n"
     ]
    },
    {
     "name": "stderr",
     "output_type": "stream",
     "text": [
      "100%|██████████| 450/450 [00:42<00:00, 10.50it/s]\n"
     ]
    },
    {
     "name": "stdout",
     "output_type": "stream",
     "text": [
      "[19/Apr/2023 23:09:28] INFO - Running process for Neural Net (lidar) | layers: 3, epochs: 450, lr: 7.5e-06, batchsize: 100\n",
      "Training...\n"
     ]
    },
    {
     "name": "stderr",
     "output_type": "stream",
     "text": [
      "100%|██████████| 450/450 [00:28<00:00, 15.86it/s]\n"
     ]
    },
    {
     "name": "stdout",
     "output_type": "stream",
     "text": [
      "[19/Apr/2023 23:09:56] INFO - Running process for Neural Net (lidar) | layers: 3, epochs: 450, lr: 7.5e-06, batchsize: 100\n",
      "Training...\n"
     ]
    },
    {
     "name": "stderr",
     "output_type": "stream",
     "text": [
      "100%|██████████| 450/450 [00:28<00:00, 15.85it/s]\n"
     ]
    },
    {
     "name": "stdout",
     "output_type": "stream",
     "text": [
      "[19/Apr/2023 23:10:25] INFO - Running process for Neural Net (lidar) | layers: 3, epochs: 450, lr: 7.5e-06, batchsize: 100\n",
      "Training...\n"
     ]
    },
    {
     "name": "stderr",
     "output_type": "stream",
     "text": [
      "100%|██████████| 450/450 [00:28<00:00, 15.85it/s]\n"
     ]
    },
    {
     "name": "stdout",
     "output_type": "stream",
     "text": [
      "[19/Apr/2023 23:10:53] INFO - Running process for Neural Net (lidar) | layers: 3, epochs: 450, lr: 7.5e-06, batchsize: 100\n",
      "Training...\n"
     ]
    },
    {
     "name": "stderr",
     "output_type": "stream",
     "text": [
      "100%|██████████| 450/450 [00:28<00:00, 15.90it/s]\n"
     ]
    },
    {
     "name": "stdout",
     "output_type": "stream",
     "text": [
      "[19/Apr/2023 23:11:22] INFO - Running process for Neural Net (lidar) | layers: 3, epochs: 450, lr: 7.5e-06, batchsize: 200\n",
      "Training...\n"
     ]
    },
    {
     "name": "stderr",
     "output_type": "stream",
     "text": [
      "100%|██████████| 450/450 [00:20<00:00, 22.22it/s]\n"
     ]
    },
    {
     "name": "stdout",
     "output_type": "stream",
     "text": [
      "[19/Apr/2023 23:11:42] INFO - Running process for Neural Net (lidar) | layers: 3, epochs: 450, lr: 7.5e-06, batchsize: 200\n",
      "Training...\n"
     ]
    },
    {
     "name": "stderr",
     "output_type": "stream",
     "text": [
      "100%|██████████| 450/450 [00:20<00:00, 22.14it/s]\n"
     ]
    },
    {
     "name": "stdout",
     "output_type": "stream",
     "text": [
      "[19/Apr/2023 23:12:03] INFO - Running process for Neural Net (lidar) | layers: 3, epochs: 450, lr: 7.5e-06, batchsize: 200\n",
      "Training...\n"
     ]
    },
    {
     "name": "stderr",
     "output_type": "stream",
     "text": [
      "100%|██████████| 450/450 [00:25<00:00, 17.55it/s]\n"
     ]
    },
    {
     "name": "stdout",
     "output_type": "stream",
     "text": [
      "[19/Apr/2023 23:12:29] INFO - Running process for Neural Net (lidar) | layers: 3, epochs: 450, lr: 7.5e-06, batchsize: 200\n",
      "Training...\n"
     ]
    },
    {
     "name": "stderr",
     "output_type": "stream",
     "text": [
      "100%|██████████| 450/450 [00:21<00:00, 20.74it/s]\n"
     ]
    },
    {
     "name": "stdout",
     "output_type": "stream",
     "text": [
      "[19/Apr/2023 23:12:50] INFO - Running process for Neural Net (lidar) | layers: 2, epochs: 150, lr: 0.0001, batchsize: 50\n",
      "Training...\n"
     ]
    },
    {
     "name": "stderr",
     "output_type": "stream",
     "text": [
      "100%|██████████| 150/150 [00:11<00:00, 12.90it/s]\n"
     ]
    },
    {
     "name": "stdout",
     "output_type": "stream",
     "text": [
      "[19/Apr/2023 23:13:02] INFO - Running process for Neural Net (lidar) | layers: 2, epochs: 150, lr: 0.0001, batchsize: 50\n",
      "Training...\n"
     ]
    },
    {
     "name": "stderr",
     "output_type": "stream",
     "text": [
      "100%|██████████| 150/150 [00:12<00:00, 12.44it/s]\n"
     ]
    },
    {
     "name": "stdout",
     "output_type": "stream",
     "text": [
      "[19/Apr/2023 23:13:14] INFO - Running process for Neural Net (lidar) | layers: 2, epochs: 150, lr: 0.0001, batchsize: 50\n",
      "Training...\n"
     ]
    },
    {
     "name": "stderr",
     "output_type": "stream",
     "text": [
      "100%|██████████| 150/150 [00:11<00:00, 12.72it/s]\n"
     ]
    },
    {
     "name": "stdout",
     "output_type": "stream",
     "text": [
      "[19/Apr/2023 23:13:26] INFO - Running process for Neural Net (lidar) | layers: 2, epochs: 150, lr: 0.0001, batchsize: 50\n",
      "Training...\n"
     ]
    },
    {
     "name": "stderr",
     "output_type": "stream",
     "text": [
      "100%|██████████| 150/150 [00:11<00:00, 12.88it/s]\n"
     ]
    },
    {
     "name": "stdout",
     "output_type": "stream",
     "text": [
      "[19/Apr/2023 23:13:38] INFO - Running process for Neural Net (lidar) | layers: 2, epochs: 150, lr: 0.0001, batchsize: 100\n",
      "Training...\n"
     ]
    },
    {
     "name": "stderr",
     "output_type": "stream",
     "text": [
      "100%|██████████| 150/150 [00:07<00:00, 19.42it/s]\n"
     ]
    },
    {
     "name": "stdout",
     "output_type": "stream",
     "text": [
      "[19/Apr/2023 23:13:46] INFO - Running process for Neural Net (lidar) | layers: 2, epochs: 150, lr: 0.0001, batchsize: 100\n",
      "Training...\n"
     ]
    },
    {
     "name": "stderr",
     "output_type": "stream",
     "text": [
      "100%|██████████| 150/150 [00:07<00:00, 19.36it/s]\n"
     ]
    },
    {
     "name": "stdout",
     "output_type": "stream",
     "text": [
      "[19/Apr/2023 23:13:54] INFO - Running process for Neural Net (lidar) | layers: 2, epochs: 150, lr: 0.0001, batchsize: 100\n",
      "Training...\n"
     ]
    },
    {
     "name": "stderr",
     "output_type": "stream",
     "text": [
      "100%|██████████| 150/150 [00:07<00:00, 19.16it/s]\n"
     ]
    },
    {
     "name": "stdout",
     "output_type": "stream",
     "text": [
      "[19/Apr/2023 23:14:02] INFO - Running process for Neural Net (lidar) | layers: 2, epochs: 150, lr: 0.0001, batchsize: 100\n",
      "Training...\n"
     ]
    },
    {
     "name": "stderr",
     "output_type": "stream",
     "text": [
      "100%|██████████| 150/150 [00:07<00:00, 19.18it/s]\n"
     ]
    },
    {
     "name": "stdout",
     "output_type": "stream",
     "text": [
      "[19/Apr/2023 23:14:10] INFO - Running process for Neural Net (lidar) | layers: 2, epochs: 150, lr: 0.0001, batchsize: 200\n",
      "Training...\n"
     ]
    },
    {
     "name": "stderr",
     "output_type": "stream",
     "text": [
      "100%|██████████| 150/150 [00:05<00:00, 25.44it/s]\n"
     ]
    },
    {
     "name": "stdout",
     "output_type": "stream",
     "text": [
      "[19/Apr/2023 23:14:16] INFO - Running process for Neural Net (lidar) | layers: 2, epochs: 150, lr: 0.0001, batchsize: 200\n",
      "Training...\n"
     ]
    },
    {
     "name": "stderr",
     "output_type": "stream",
     "text": [
      "100%|██████████| 150/150 [00:06<00:00, 24.83it/s]\n"
     ]
    },
    {
     "name": "stdout",
     "output_type": "stream",
     "text": [
      "[19/Apr/2023 23:14:22] INFO - Running process for Neural Net (lidar) | layers: 2, epochs: 150, lr: 0.0001, batchsize: 200\n",
      "Training...\n"
     ]
    },
    {
     "name": "stderr",
     "output_type": "stream",
     "text": [
      "100%|██████████| 150/150 [00:05<00:00, 25.40it/s]\n"
     ]
    },
    {
     "name": "stdout",
     "output_type": "stream",
     "text": [
      "[19/Apr/2023 23:14:28] INFO - Running process for Neural Net (lidar) | layers: 2, epochs: 150, lr: 0.0001, batchsize: 200\n",
      "Training...\n"
     ]
    },
    {
     "name": "stderr",
     "output_type": "stream",
     "text": [
      "100%|██████████| 150/150 [00:06<00:00, 22.82it/s]\n"
     ]
    },
    {
     "name": "stdout",
     "output_type": "stream",
     "text": [
      "[19/Apr/2023 23:14:35] INFO - Running process for Neural Net (lidar) | layers: 2, epochs: 150, lr: 7.5e-05, batchsize: 50\n",
      "Training...\n"
     ]
    },
    {
     "name": "stderr",
     "output_type": "stream",
     "text": [
      "100%|██████████| 150/150 [00:15<00:00,  9.69it/s]\n"
     ]
    },
    {
     "name": "stdout",
     "output_type": "stream",
     "text": [
      "[19/Apr/2023 23:14:50] INFO - Running process for Neural Net (lidar) | layers: 2, epochs: 150, lr: 7.5e-05, batchsize: 50\n",
      "Training...\n"
     ]
    },
    {
     "name": "stderr",
     "output_type": "stream",
     "text": [
      "100%|██████████| 150/150 [00:16<00:00,  9.17it/s]\n"
     ]
    },
    {
     "name": "stdout",
     "output_type": "stream",
     "text": [
      "[19/Apr/2023 23:15:07] INFO - Running process for Neural Net (lidar) | layers: 2, epochs: 150, lr: 7.5e-05, batchsize: 50\n",
      "Training...\n"
     ]
    },
    {
     "name": "stderr",
     "output_type": "stream",
     "text": [
      "100%|██████████| 150/150 [00:12<00:00, 12.08it/s]\n"
     ]
    },
    {
     "name": "stdout",
     "output_type": "stream",
     "text": [
      "[19/Apr/2023 23:15:19] INFO - Running process for Neural Net (lidar) | layers: 2, epochs: 150, lr: 7.5e-05, batchsize: 50\n",
      "Training...\n"
     ]
    },
    {
     "name": "stderr",
     "output_type": "stream",
     "text": [
      "100%|██████████| 150/150 [00:15<00:00,  9.39it/s]\n"
     ]
    },
    {
     "name": "stdout",
     "output_type": "stream",
     "text": [
      "[19/Apr/2023 23:15:35] INFO - Running process for Neural Net (lidar) | layers: 2, epochs: 150, lr: 7.5e-05, batchsize: 100\n",
      "Training...\n"
     ]
    },
    {
     "name": "stderr",
     "output_type": "stream",
     "text": [
      "100%|██████████| 150/150 [00:09<00:00, 15.72it/s]\n"
     ]
    },
    {
     "name": "stdout",
     "output_type": "stream",
     "text": [
      "[19/Apr/2023 23:15:45] INFO - Running process for Neural Net (lidar) | layers: 2, epochs: 150, lr: 7.5e-05, batchsize: 100\n",
      "Training...\n"
     ]
    },
    {
     "name": "stderr",
     "output_type": "stream",
     "text": [
      "100%|██████████| 150/150 [00:09<00:00, 15.32it/s]\n"
     ]
    },
    {
     "name": "stdout",
     "output_type": "stream",
     "text": [
      "[19/Apr/2023 23:15:55] INFO - Running process for Neural Net (lidar) | layers: 2, epochs: 150, lr: 7.5e-05, batchsize: 100\n",
      "Training...\n"
     ]
    },
    {
     "name": "stderr",
     "output_type": "stream",
     "text": [
      "100%|██████████| 150/150 [00:10<00:00, 14.32it/s]\n"
     ]
    },
    {
     "name": "stdout",
     "output_type": "stream",
     "text": [
      "[19/Apr/2023 23:16:06] INFO - Running process for Neural Net (lidar) | layers: 2, epochs: 150, lr: 7.5e-05, batchsize: 100\n",
      "Training...\n"
     ]
    },
    {
     "name": "stderr",
     "output_type": "stream",
     "text": [
      "100%|██████████| 150/150 [00:11<00:00, 13.56it/s]\n"
     ]
    },
    {
     "name": "stdout",
     "output_type": "stream",
     "text": [
      "[19/Apr/2023 23:16:17] INFO - Running process for Neural Net (lidar) | layers: 2, epochs: 150, lr: 7.5e-05, batchsize: 200\n",
      "Training...\n"
     ]
    },
    {
     "name": "stderr",
     "output_type": "stream",
     "text": [
      "100%|██████████| 150/150 [00:06<00:00, 24.05it/s]\n"
     ]
    },
    {
     "name": "stdout",
     "output_type": "stream",
     "text": [
      "[19/Apr/2023 23:16:23] INFO - Running process for Neural Net (lidar) | layers: 2, epochs: 150, lr: 7.5e-05, batchsize: 200\n",
      "Training...\n"
     ]
    },
    {
     "name": "stderr",
     "output_type": "stream",
     "text": [
      "100%|██████████| 150/150 [00:05<00:00, 25.31it/s]\n"
     ]
    },
    {
     "name": "stdout",
     "output_type": "stream",
     "text": [
      "[19/Apr/2023 23:16:29] INFO - Running process for Neural Net (lidar) | layers: 2, epochs: 150, lr: 7.5e-05, batchsize: 200\n",
      "Training...\n"
     ]
    },
    {
     "name": "stderr",
     "output_type": "stream",
     "text": [
      "100%|██████████| 150/150 [00:07<00:00, 20.47it/s]\n"
     ]
    },
    {
     "name": "stdout",
     "output_type": "stream",
     "text": [
      "[19/Apr/2023 23:16:37] INFO - Running process for Neural Net (lidar) | layers: 2, epochs: 150, lr: 7.5e-05, batchsize: 200\n",
      "Training...\n"
     ]
    },
    {
     "name": "stderr",
     "output_type": "stream",
     "text": [
      "100%|██████████| 150/150 [00:06<00:00, 22.63it/s]\n"
     ]
    },
    {
     "name": "stdout",
     "output_type": "stream",
     "text": [
      "[19/Apr/2023 23:16:44] INFO - Running process for Neural Net (lidar) | layers: 2, epochs: 150, lr: 1e-05, batchsize: 50\n",
      "Training...\n"
     ]
    },
    {
     "name": "stderr",
     "output_type": "stream",
     "text": [
      "100%|██████████| 150/150 [00:14<00:00, 10.46it/s]\n"
     ]
    },
    {
     "name": "stdout",
     "output_type": "stream",
     "text": [
      "[19/Apr/2023 23:16:58] INFO - Running process for Neural Net (lidar) | layers: 2, epochs: 150, lr: 1e-05, batchsize: 50\n",
      "Training...\n"
     ]
    },
    {
     "name": "stderr",
     "output_type": "stream",
     "text": [
      "100%|██████████| 150/150 [00:11<00:00, 12.62it/s]\n"
     ]
    },
    {
     "name": "stdout",
     "output_type": "stream",
     "text": [
      "[19/Apr/2023 23:17:10] INFO - Running process for Neural Net (lidar) | layers: 2, epochs: 150, lr: 1e-05, batchsize: 50\n",
      "Training...\n"
     ]
    },
    {
     "name": "stderr",
     "output_type": "stream",
     "text": [
      "100%|██████████| 150/150 [00:11<00:00, 12.62it/s]\n"
     ]
    },
    {
     "name": "stdout",
     "output_type": "stream",
     "text": [
      "[19/Apr/2023 23:17:22] INFO - Running process for Neural Net (lidar) | layers: 2, epochs: 150, lr: 1e-05, batchsize: 50\n",
      "Training...\n"
     ]
    },
    {
     "name": "stderr",
     "output_type": "stream",
     "text": [
      "100%|██████████| 150/150 [00:11<00:00, 12.67it/s]"
     ]
    },
    {
     "name": "stdout",
     "output_type": "stream",
     "text": [
      "[19/Apr/2023 23:17:34] INFO - Running process for Neural Net (lidar) | layers: 2, epochs: 150, lr: 1e-05, batchsize: 100\n"
     ]
    },
    {
     "name": "stderr",
     "output_type": "stream",
     "text": [
      "\n"
     ]
    },
    {
     "name": "stdout",
     "output_type": "stream",
     "text": [
      "Training...\n"
     ]
    },
    {
     "name": "stderr",
     "output_type": "stream",
     "text": [
      "100%|██████████| 150/150 [00:11<00:00, 13.58it/s]\n"
     ]
    },
    {
     "name": "stdout",
     "output_type": "stream",
     "text": [
      "[19/Apr/2023 23:17:45] INFO - Running process for Neural Net (lidar) | layers: 2, epochs: 150, lr: 1e-05, batchsize: 100\n",
      "Training...\n"
     ]
    },
    {
     "name": "stderr",
     "output_type": "stream",
     "text": [
      "100%|██████████| 150/150 [00:11<00:00, 13.52it/s]\n"
     ]
    },
    {
     "name": "stdout",
     "output_type": "stream",
     "text": [
      "[19/Apr/2023 23:17:56] INFO - Running process for Neural Net (lidar) | layers: 2, epochs: 150, lr: 1e-05, batchsize: 100\n",
      "Training...\n"
     ]
    },
    {
     "name": "stderr",
     "output_type": "stream",
     "text": [
      "100%|██████████| 150/150 [00:07<00:00, 19.00it/s]\n"
     ]
    },
    {
     "name": "stdout",
     "output_type": "stream",
     "text": [
      "[19/Apr/2023 23:18:04] INFO - Running process for Neural Net (lidar) | layers: 2, epochs: 150, lr: 1e-05, batchsize: 100\n",
      "Training...\n"
     ]
    },
    {
     "name": "stderr",
     "output_type": "stream",
     "text": [
      "100%|██████████| 150/150 [00:08<00:00, 18.56it/s]\n"
     ]
    },
    {
     "name": "stdout",
     "output_type": "stream",
     "text": [
      "[19/Apr/2023 23:18:13] INFO - Running process for Neural Net (lidar) | layers: 2, epochs: 150, lr: 1e-05, batchsize: 200\n",
      "Training...\n"
     ]
    },
    {
     "name": "stderr",
     "output_type": "stream",
     "text": [
      "100%|██████████| 150/150 [00:06<00:00, 24.93it/s]\n"
     ]
    },
    {
     "name": "stdout",
     "output_type": "stream",
     "text": [
      "[19/Apr/2023 23:18:19] INFO - Running process for Neural Net (lidar) | layers: 2, epochs: 150, lr: 1e-05, batchsize: 200\n",
      "Training...\n"
     ]
    },
    {
     "name": "stderr",
     "output_type": "stream",
     "text": [
      "100%|██████████| 150/150 [00:06<00:00, 22.52it/s]\n"
     ]
    },
    {
     "name": "stdout",
     "output_type": "stream",
     "text": [
      "[19/Apr/2023 23:18:26] INFO - Running process for Neural Net (lidar) | layers: 2, epochs: 150, lr: 1e-05, batchsize: 200\n",
      "Training...\n"
     ]
    },
    {
     "name": "stderr",
     "output_type": "stream",
     "text": [
      "100%|██████████| 150/150 [00:06<00:00, 22.56it/s]\n"
     ]
    },
    {
     "name": "stdout",
     "output_type": "stream",
     "text": [
      "[19/Apr/2023 23:18:32] INFO - Running process for Neural Net (lidar) | layers: 2, epochs: 150, lr: 1e-05, batchsize: 200\n",
      "Training...\n"
     ]
    },
    {
     "name": "stderr",
     "output_type": "stream",
     "text": [
      "100%|██████████| 150/150 [00:06<00:00, 22.45it/s]\n"
     ]
    },
    {
     "name": "stdout",
     "output_type": "stream",
     "text": [
      "[19/Apr/2023 23:18:39] INFO - Running process for Neural Net (lidar) | layers: 2, epochs: 150, lr: 7.5e-06, batchsize: 50\n",
      "Training...\n"
     ]
    },
    {
     "name": "stderr",
     "output_type": "stream",
     "text": [
      "100%|██████████| 150/150 [00:12<00:00, 12.37it/s]\n"
     ]
    },
    {
     "name": "stdout",
     "output_type": "stream",
     "text": [
      "[19/Apr/2023 23:18:51] INFO - Running process for Neural Net (lidar) | layers: 2, epochs: 150, lr: 7.5e-06, batchsize: 50\n",
      "Training...\n"
     ]
    },
    {
     "name": "stderr",
     "output_type": "stream",
     "text": [
      "100%|██████████| 150/150 [00:12<00:00, 12.38it/s]\n"
     ]
    },
    {
     "name": "stdout",
     "output_type": "stream",
     "text": [
      "[19/Apr/2023 23:19:04] INFO - Running process for Neural Net (lidar) | layers: 2, epochs: 150, lr: 7.5e-06, batchsize: 50\n",
      "Training...\n"
     ]
    },
    {
     "name": "stderr",
     "output_type": "stream",
     "text": [
      "100%|██████████| 150/150 [00:11<00:00, 12.50it/s]\n"
     ]
    },
    {
     "name": "stdout",
     "output_type": "stream",
     "text": [
      "[19/Apr/2023 23:19:16] INFO - Running process for Neural Net (lidar) | layers: 2, epochs: 150, lr: 7.5e-06, batchsize: 50\n",
      "Training...\n"
     ]
    },
    {
     "name": "stderr",
     "output_type": "stream",
     "text": [
      "100%|██████████| 150/150 [00:12<00:00, 12.50it/s]\n"
     ]
    },
    {
     "name": "stdout",
     "output_type": "stream",
     "text": [
      "[19/Apr/2023 23:19:28] INFO - Running process for Neural Net (lidar) | layers: 2, epochs: 150, lr: 7.5e-06, batchsize: 100\n",
      "Training...\n"
     ]
    },
    {
     "name": "stderr",
     "output_type": "stream",
     "text": [
      "100%|██████████| 150/150 [00:08<00:00, 17.52it/s]\n"
     ]
    },
    {
     "name": "stdout",
     "output_type": "stream",
     "text": [
      "[19/Apr/2023 23:19:37] INFO - Running process for Neural Net (lidar) | layers: 2, epochs: 150, lr: 7.5e-06, batchsize: 100\n",
      "Training...\n"
     ]
    },
    {
     "name": "stderr",
     "output_type": "stream",
     "text": [
      "100%|██████████| 150/150 [00:08<00:00, 18.61it/s]\n"
     ]
    },
    {
     "name": "stdout",
     "output_type": "stream",
     "text": [
      "[19/Apr/2023 23:19:45] INFO - Running process for Neural Net (lidar) | layers: 2, epochs: 150, lr: 7.5e-06, batchsize: 100\n",
      "Training...\n"
     ]
    },
    {
     "name": "stderr",
     "output_type": "stream",
     "text": [
      "100%|██████████| 150/150 [00:08<00:00, 18.54it/s]\n"
     ]
    },
    {
     "name": "stdout",
     "output_type": "stream",
     "text": [
      "[19/Apr/2023 23:19:53] INFO - Running process for Neural Net (lidar) | layers: 2, epochs: 150, lr: 7.5e-06, batchsize: 100\n",
      "Training...\n"
     ]
    },
    {
     "name": "stderr",
     "output_type": "stream",
     "text": [
      "100%|██████████| 150/150 [00:08<00:00, 18.34it/s]\n"
     ]
    },
    {
     "name": "stdout",
     "output_type": "stream",
     "text": [
      "[19/Apr/2023 23:20:01] INFO - Running process for Neural Net (lidar) | layers: 2, epochs: 150, lr: 7.5e-06, batchsize: 200\n",
      "Training...\n"
     ]
    },
    {
     "name": "stderr",
     "output_type": "stream",
     "text": [
      "100%|██████████| 150/150 [00:06<00:00, 22.11it/s]\n"
     ]
    },
    {
     "name": "stdout",
     "output_type": "stream",
     "text": [
      "[19/Apr/2023 23:20:08] INFO - Running process for Neural Net (lidar) | layers: 2, epochs: 150, lr: 7.5e-06, batchsize: 200\n",
      "Training...\n"
     ]
    },
    {
     "name": "stderr",
     "output_type": "stream",
     "text": [
      "100%|██████████| 150/150 [00:06<00:00, 22.20it/s]\n"
     ]
    },
    {
     "name": "stdout",
     "output_type": "stream",
     "text": [
      "[19/Apr/2023 23:20:15] INFO - Running process for Neural Net (lidar) | layers: 2, epochs: 150, lr: 7.5e-06, batchsize: 200\n",
      "Training...\n"
     ]
    },
    {
     "name": "stderr",
     "output_type": "stream",
     "text": [
      "100%|██████████| 150/150 [00:07<00:00, 21.37it/s]\n"
     ]
    },
    {
     "name": "stdout",
     "output_type": "stream",
     "text": [
      "[19/Apr/2023 23:20:22] INFO - Running process for Neural Net (lidar) | layers: 2, epochs: 150, lr: 7.5e-06, batchsize: 200\n",
      "Training...\n"
     ]
    },
    {
     "name": "stderr",
     "output_type": "stream",
     "text": [
      "100%|██████████| 150/150 [00:06<00:00, 22.39it/s]\n"
     ]
    },
    {
     "name": "stdout",
     "output_type": "stream",
     "text": [
      "[19/Apr/2023 23:20:29] INFO - Running process for Neural Net (lidar) | layers: 2, epochs: 300, lr: 0.0001, batchsize: 50\n",
      "Training...\n"
     ]
    },
    {
     "name": "stderr",
     "output_type": "stream",
     "text": [
      "100%|██████████| 300/300 [00:31<00:00,  9.51it/s]\n"
     ]
    },
    {
     "name": "stdout",
     "output_type": "stream",
     "text": [
      "[19/Apr/2023 23:21:01] INFO - Running process for Neural Net (lidar) | layers: 2, epochs: 300, lr: 0.0001, batchsize: 50\n",
      "Training...\n"
     ]
    },
    {
     "name": "stderr",
     "output_type": "stream",
     "text": [
      "100%|██████████| 300/300 [00:32<00:00,  9.19it/s]\n"
     ]
    },
    {
     "name": "stdout",
     "output_type": "stream",
     "text": [
      "[19/Apr/2023 23:21:34] INFO - Running process for Neural Net (lidar) | layers: 2, epochs: 300, lr: 0.0001, batchsize: 50\n",
      "Training...\n"
     ]
    },
    {
     "name": "stderr",
     "output_type": "stream",
     "text": [
      "100%|██████████| 300/300 [00:32<00:00,  9.31it/s]\n"
     ]
    },
    {
     "name": "stdout",
     "output_type": "stream",
     "text": [
      "[19/Apr/2023 23:22:06] INFO - Running process for Neural Net (lidar) | layers: 2, epochs: 300, lr: 0.0001, batchsize: 50\n",
      "Training...\n"
     ]
    },
    {
     "name": "stderr",
     "output_type": "stream",
     "text": [
      "100%|██████████| 300/300 [00:32<00:00,  9.23it/s]\n"
     ]
    },
    {
     "name": "stdout",
     "output_type": "stream",
     "text": [
      "[19/Apr/2023 23:22:39] INFO - Running process for Neural Net (lidar) | layers: 2, epochs: 300, lr: 0.0001, batchsize: 100\n",
      "Training...\n"
     ]
    },
    {
     "name": "stderr",
     "output_type": "stream",
     "text": [
      "100%|██████████| 300/300 [00:17<00:00, 17.16it/s]\n"
     ]
    },
    {
     "name": "stdout",
     "output_type": "stream",
     "text": [
      "[19/Apr/2023 23:22:56] INFO - Running process for Neural Net (lidar) | layers: 2, epochs: 300, lr: 0.0001, batchsize: 100\n",
      "Training...\n"
     ]
    },
    {
     "name": "stderr",
     "output_type": "stream",
     "text": [
      "100%|██████████| 300/300 [00:20<00:00, 14.65it/s]\n"
     ]
    },
    {
     "name": "stdout",
     "output_type": "stream",
     "text": [
      "[19/Apr/2023 23:23:17] INFO - Running process for Neural Net (lidar) | layers: 2, epochs: 300, lr: 0.0001, batchsize: 100\n",
      "Training...\n"
     ]
    },
    {
     "name": "stderr",
     "output_type": "stream",
     "text": [
      "100%|██████████| 300/300 [00:20<00:00, 14.49it/s]\n"
     ]
    },
    {
     "name": "stdout",
     "output_type": "stream",
     "text": [
      "[19/Apr/2023 23:23:38] INFO - Running process for Neural Net (lidar) | layers: 2, epochs: 300, lr: 0.0001, batchsize: 100\n",
      "Training...\n"
     ]
    },
    {
     "name": "stderr",
     "output_type": "stream",
     "text": [
      "100%|██████████| 300/300 [00:20<00:00, 14.60it/s]\n"
     ]
    },
    {
     "name": "stdout",
     "output_type": "stream",
     "text": [
      "[19/Apr/2023 23:23:58] INFO - Running process for Neural Net (lidar) | layers: 2, epochs: 300, lr: 0.0001, batchsize: 200\n",
      "Training...\n"
     ]
    },
    {
     "name": "stderr",
     "output_type": "stream",
     "text": [
      "100%|██████████| 300/300 [00:13<00:00, 22.46it/s]\n"
     ]
    },
    {
     "name": "stdout",
     "output_type": "stream",
     "text": [
      "[19/Apr/2023 23:24:12] INFO - Running process for Neural Net (lidar) | layers: 2, epochs: 300, lr: 0.0001, batchsize: 200\n",
      "Training...\n"
     ]
    },
    {
     "name": "stderr",
     "output_type": "stream",
     "text": [
      "100%|██████████| 300/300 [00:13<00:00, 22.30it/s]\n"
     ]
    },
    {
     "name": "stdout",
     "output_type": "stream",
     "text": [
      "[19/Apr/2023 23:24:26] INFO - Running process for Neural Net (lidar) | layers: 2, epochs: 300, lr: 0.0001, batchsize: 200\n",
      "Training...\n"
     ]
    },
    {
     "name": "stderr",
     "output_type": "stream",
     "text": [
      "100%|██████████| 300/300 [00:13<00:00, 22.38it/s]\n"
     ]
    },
    {
     "name": "stdout",
     "output_type": "stream",
     "text": [
      "[19/Apr/2023 23:24:39] INFO - Running process for Neural Net (lidar) | layers: 2, epochs: 300, lr: 0.0001, batchsize: 200\n",
      "Training...\n"
     ]
    },
    {
     "name": "stderr",
     "output_type": "stream",
     "text": [
      "100%|██████████| 300/300 [00:13<00:00, 21.60it/s]\n"
     ]
    },
    {
     "name": "stdout",
     "output_type": "stream",
     "text": [
      "[19/Apr/2023 23:24:53] INFO - Running process for Neural Net (lidar) | layers: 2, epochs: 300, lr: 7.5e-05, batchsize: 50\n",
      "Training...\n"
     ]
    },
    {
     "name": "stderr",
     "output_type": "stream",
     "text": [
      "100%|██████████| 300/300 [00:31<00:00,  9.51it/s]\n"
     ]
    },
    {
     "name": "stdout",
     "output_type": "stream",
     "text": [
      "[19/Apr/2023 23:25:25] INFO - Running process for Neural Net (lidar) | layers: 2, epochs: 300, lr: 7.5e-05, batchsize: 50\n",
      "Training...\n"
     ]
    },
    {
     "name": "stderr",
     "output_type": "stream",
     "text": [
      "100%|██████████| 300/300 [00:32<00:00,  9.21it/s]\n"
     ]
    },
    {
     "name": "stdout",
     "output_type": "stream",
     "text": [
      "[19/Apr/2023 23:25:57] INFO - Running process for Neural Net (lidar) | layers: 2, epochs: 300, lr: 7.5e-05, batchsize: 50\n",
      "Training...\n"
     ]
    },
    {
     "name": "stderr",
     "output_type": "stream",
     "text": [
      "100%|██████████| 300/300 [00:25<00:00, 11.54it/s]\n"
     ]
    },
    {
     "name": "stdout",
     "output_type": "stream",
     "text": [
      "[19/Apr/2023 23:26:24] INFO - Running process for Neural Net (lidar) | layers: 2, epochs: 300, lr: 7.5e-05, batchsize: 50\n",
      "Training...\n"
     ]
    },
    {
     "name": "stderr",
     "output_type": "stream",
     "text": [
      "100%|██████████| 300/300 [00:29<00:00, 10.11it/s]\n"
     ]
    },
    {
     "name": "stdout",
     "output_type": "stream",
     "text": [
      "[19/Apr/2023 23:26:54] INFO - Running process for Neural Net (lidar) | layers: 2, epochs: 300, lr: 7.5e-05, batchsize: 100\n",
      "Training...\n"
     ]
    },
    {
     "name": "stderr",
     "output_type": "stream",
     "text": [
      "100%|██████████| 300/300 [00:16<00:00, 18.59it/s]\n"
     ]
    },
    {
     "name": "stdout",
     "output_type": "stream",
     "text": [
      "[19/Apr/2023 23:27:10] INFO - Running process for Neural Net (lidar) | layers: 2, epochs: 300, lr: 7.5e-05, batchsize: 100\n",
      "Training...\n"
     ]
    },
    {
     "name": "stderr",
     "output_type": "stream",
     "text": [
      "100%|██████████| 300/300 [00:18<00:00, 16.33it/s]\n"
     ]
    },
    {
     "name": "stdout",
     "output_type": "stream",
     "text": [
      "[19/Apr/2023 23:27:29] INFO - Running process for Neural Net (lidar) | layers: 2, epochs: 300, lr: 7.5e-05, batchsize: 100\n",
      "Training...\n"
     ]
    },
    {
     "name": "stderr",
     "output_type": "stream",
     "text": [
      "100%|██████████| 300/300 [00:16<00:00, 18.30it/s]\n"
     ]
    },
    {
     "name": "stdout",
     "output_type": "stream",
     "text": [
      "[19/Apr/2023 23:27:45] INFO - Running process for Neural Net (lidar) | layers: 2, epochs: 300, lr: 7.5e-05, batchsize: 100\n",
      "Training...\n"
     ]
    },
    {
     "name": "stderr",
     "output_type": "stream",
     "text": [
      "100%|██████████| 300/300 [00:16<00:00, 17.77it/s]\n"
     ]
    },
    {
     "name": "stdout",
     "output_type": "stream",
     "text": [
      "[19/Apr/2023 23:28:02] INFO - Running process for Neural Net (lidar) | layers: 2, epochs: 300, lr: 7.5e-05, batchsize: 200\n",
      "Training...\n"
     ]
    },
    {
     "name": "stderr",
     "output_type": "stream",
     "text": [
      "100%|██████████| 300/300 [00:11<00:00, 25.22it/s]\n"
     ]
    },
    {
     "name": "stdout",
     "output_type": "stream",
     "text": [
      "[19/Apr/2023 23:28:14] INFO - Running process for Neural Net (lidar) | layers: 2, epochs: 300, lr: 7.5e-05, batchsize: 200\n",
      "Training...\n"
     ]
    },
    {
     "name": "stderr",
     "output_type": "stream",
     "text": [
      "100%|██████████| 300/300 [00:12<00:00, 24.71it/s]\n"
     ]
    },
    {
     "name": "stdout",
     "output_type": "stream",
     "text": [
      "[19/Apr/2023 23:28:27] INFO - Running process for Neural Net (lidar) | layers: 2, epochs: 300, lr: 7.5e-05, batchsize: 200\n",
      "Training...\n"
     ]
    },
    {
     "name": "stderr",
     "output_type": "stream",
     "text": [
      "100%|██████████| 300/300 [00:11<00:00, 25.11it/s]\n"
     ]
    },
    {
     "name": "stdout",
     "output_type": "stream",
     "text": [
      "[19/Apr/2023 23:28:39] INFO - Running process for Neural Net (lidar) | layers: 2, epochs: 300, lr: 7.5e-05, batchsize: 200\n",
      "Training...\n"
     ]
    },
    {
     "name": "stderr",
     "output_type": "stream",
     "text": [
      "100%|██████████| 300/300 [00:12<00:00, 24.57it/s]\n"
     ]
    },
    {
     "name": "stdout",
     "output_type": "stream",
     "text": [
      "[19/Apr/2023 23:28:51] INFO - Running process for Neural Net (lidar) | layers: 2, epochs: 300, lr: 1e-05, batchsize: 50\n",
      "Training...\n"
     ]
    },
    {
     "name": "stderr",
     "output_type": "stream",
     "text": [
      "100%|██████████| 300/300 [00:23<00:00, 12.92it/s]\n"
     ]
    },
    {
     "name": "stdout",
     "output_type": "stream",
     "text": [
      "[19/Apr/2023 23:29:14] INFO - Running process for Neural Net (lidar) | layers: 2, epochs: 300, lr: 1e-05, batchsize: 50\n",
      "Training...\n"
     ]
    },
    {
     "name": "stderr",
     "output_type": "stream",
     "text": [
      "100%|██████████| 300/300 [00:23<00:00, 12.68it/s]\n"
     ]
    },
    {
     "name": "stdout",
     "output_type": "stream",
     "text": [
      "[19/Apr/2023 23:29:38] INFO - Running process for Neural Net (lidar) | layers: 2, epochs: 300, lr: 1e-05, batchsize: 50\n",
      "Training...\n"
     ]
    },
    {
     "name": "stderr",
     "output_type": "stream",
     "text": [
      "100%|██████████| 300/300 [00:23<00:00, 12.86it/s]\n"
     ]
    },
    {
     "name": "stdout",
     "output_type": "stream",
     "text": [
      "[19/Apr/2023 23:30:02] INFO - Running process for Neural Net (lidar) | layers: 2, epochs: 300, lr: 1e-05, batchsize: 50\n",
      "Training...\n"
     ]
    },
    {
     "name": "stderr",
     "output_type": "stream",
     "text": [
      "100%|██████████| 300/300 [00:28<00:00, 10.53it/s]\n"
     ]
    },
    {
     "name": "stdout",
     "output_type": "stream",
     "text": [
      "[19/Apr/2023 23:30:30] INFO - Running process for Neural Net (lidar) | layers: 2, epochs: 300, lr: 1e-05, batchsize: 100\n",
      "Training...\n"
     ]
    },
    {
     "name": "stderr",
     "output_type": "stream",
     "text": [
      "100%|██████████| 300/300 [00:16<00:00, 18.64it/s]\n"
     ]
    },
    {
     "name": "stdout",
     "output_type": "stream",
     "text": [
      "[19/Apr/2023 23:30:47] INFO - Running process for Neural Net (lidar) | layers: 2, epochs: 300, lr: 1e-05, batchsize: 100\n",
      "Training...\n"
     ]
    },
    {
     "name": "stderr",
     "output_type": "stream",
     "text": [
      "100%|██████████| 300/300 [00:16<00:00, 18.56it/s]\n"
     ]
    },
    {
     "name": "stdout",
     "output_type": "stream",
     "text": [
      "[19/Apr/2023 23:31:03] INFO - Running process for Neural Net (lidar) | layers: 2, epochs: 300, lr: 1e-05, batchsize: 100\n",
      "Training...\n"
     ]
    },
    {
     "name": "stderr",
     "output_type": "stream",
     "text": [
      "100%|██████████| 300/300 [00:17<00:00, 17.43it/s]\n"
     ]
    },
    {
     "name": "stdout",
     "output_type": "stream",
     "text": [
      "[19/Apr/2023 23:31:20] INFO - Running process for Neural Net (lidar) | layers: 2, epochs: 300, lr: 1e-05, batchsize: 100\n",
      "Training...\n"
     ]
    },
    {
     "name": "stderr",
     "output_type": "stream",
     "text": [
      "100%|██████████| 300/300 [00:15<00:00, 18.83it/s]\n"
     ]
    },
    {
     "name": "stdout",
     "output_type": "stream",
     "text": [
      "[19/Apr/2023 23:31:36] INFO - Running process for Neural Net (lidar) | layers: 2, epochs: 300, lr: 1e-05, batchsize: 200\n",
      "Training...\n"
     ]
    },
    {
     "name": "stderr",
     "output_type": "stream",
     "text": [
      "100%|██████████| 300/300 [00:12<00:00, 24.70it/s]\n"
     ]
    },
    {
     "name": "stdout",
     "output_type": "stream",
     "text": [
      "[19/Apr/2023 23:31:49] INFO - Running process for Neural Net (lidar) | layers: 2, epochs: 300, lr: 1e-05, batchsize: 200\n",
      "Training...\n"
     ]
    },
    {
     "name": "stderr",
     "output_type": "stream",
     "text": [
      "100%|██████████| 300/300 [00:11<00:00, 25.19it/s]\n"
     ]
    },
    {
     "name": "stdout",
     "output_type": "stream",
     "text": [
      "[19/Apr/2023 23:32:01] INFO - Running process for Neural Net (lidar) | layers: 2, epochs: 300, lr: 1e-05, batchsize: 200\n",
      "Training...\n"
     ]
    },
    {
     "name": "stderr",
     "output_type": "stream",
     "text": [
      "100%|██████████| 300/300 [00:11<00:00, 25.28it/s]\n"
     ]
    },
    {
     "name": "stdout",
     "output_type": "stream",
     "text": [
      "[19/Apr/2023 23:32:13] INFO - Running process for Neural Net (lidar) | layers: 2, epochs: 300, lr: 1e-05, batchsize: 200\n",
      "Training...\n"
     ]
    },
    {
     "name": "stderr",
     "output_type": "stream",
     "text": [
      "100%|██████████| 300/300 [00:11<00:00, 25.14it/s]\n"
     ]
    },
    {
     "name": "stdout",
     "output_type": "stream",
     "text": [
      "[19/Apr/2023 23:32:25] INFO - Running process for Neural Net (lidar) | layers: 2, epochs: 300, lr: 7.5e-06, batchsize: 50\n",
      "Training...\n"
     ]
    },
    {
     "name": "stderr",
     "output_type": "stream",
     "text": [
      "100%|██████████| 300/300 [00:23<00:00, 12.99it/s]\n"
     ]
    },
    {
     "name": "stdout",
     "output_type": "stream",
     "text": [
      "[19/Apr/2023 23:32:48] INFO - Running process for Neural Net (lidar) | layers: 2, epochs: 300, lr: 7.5e-06, batchsize: 50\n",
      "Training...\n"
     ]
    },
    {
     "name": "stderr",
     "output_type": "stream",
     "text": [
      "100%|██████████| 300/300 [00:23<00:00, 13.00it/s]\n"
     ]
    },
    {
     "name": "stdout",
     "output_type": "stream",
     "text": [
      "[19/Apr/2023 23:33:11] INFO - Running process for Neural Net (lidar) | layers: 2, epochs: 300, lr: 7.5e-06, batchsize: 50\n",
      "Training...\n"
     ]
    },
    {
     "name": "stderr",
     "output_type": "stream",
     "text": [
      "100%|██████████| 300/300 [00:25<00:00, 11.59it/s]\n"
     ]
    },
    {
     "name": "stdout",
     "output_type": "stream",
     "text": [
      "[19/Apr/2023 23:33:37] INFO - Running process for Neural Net (lidar) | layers: 2, epochs: 300, lr: 7.5e-06, batchsize: 50\n",
      "Training...\n"
     ]
    },
    {
     "name": "stderr",
     "output_type": "stream",
     "text": [
      "100%|██████████| 300/300 [00:28<00:00, 10.68it/s]\n"
     ]
    },
    {
     "name": "stdout",
     "output_type": "stream",
     "text": [
      "[19/Apr/2023 23:34:05] INFO - Running process for Neural Net (lidar) | layers: 2, epochs: 300, lr: 7.5e-06, batchsize: 100\n",
      "Training...\n"
     ]
    },
    {
     "name": "stderr",
     "output_type": "stream",
     "text": [
      "100%|██████████| 300/300 [00:17<00:00, 17.16it/s]\n"
     ]
    },
    {
     "name": "stdout",
     "output_type": "stream",
     "text": [
      "[19/Apr/2023 23:34:23] INFO - Running process for Neural Net (lidar) | layers: 2, epochs: 300, lr: 7.5e-06, batchsize: 100\n",
      "Training...\n"
     ]
    },
    {
     "name": "stderr",
     "output_type": "stream",
     "text": [
      "100%|██████████| 300/300 [00:15<00:00, 19.00it/s]\n"
     ]
    },
    {
     "name": "stdout",
     "output_type": "stream",
     "text": [
      "[19/Apr/2023 23:34:39] INFO - Running process for Neural Net (lidar) | layers: 2, epochs: 300, lr: 7.5e-06, batchsize: 100\n",
      "Training...\n"
     ]
    },
    {
     "name": "stderr",
     "output_type": "stream",
     "text": [
      "100%|██████████| 300/300 [00:15<00:00, 18.99it/s]\n"
     ]
    },
    {
     "name": "stdout",
     "output_type": "stream",
     "text": [
      "[19/Apr/2023 23:34:55] INFO - Running process for Neural Net (lidar) | layers: 2, epochs: 300, lr: 7.5e-06, batchsize: 100\n",
      "Training...\n"
     ]
    },
    {
     "name": "stderr",
     "output_type": "stream",
     "text": [
      "100%|██████████| 300/300 [00:18<00:00, 15.94it/s]\n"
     ]
    },
    {
     "name": "stdout",
     "output_type": "stream",
     "text": [
      "[19/Apr/2023 23:35:14] INFO - Running process for Neural Net (lidar) | layers: 2, epochs: 300, lr: 7.5e-06, batchsize: 200\n",
      "Training...\n"
     ]
    },
    {
     "name": "stderr",
     "output_type": "stream",
     "text": [
      "100%|██████████| 300/300 [00:13<00:00, 22.33it/s]\n"
     ]
    },
    {
     "name": "stdout",
     "output_type": "stream",
     "text": [
      "[19/Apr/2023 23:35:27] INFO - Running process for Neural Net (lidar) | layers: 2, epochs: 300, lr: 7.5e-06, batchsize: 200\n",
      "Training...\n"
     ]
    },
    {
     "name": "stderr",
     "output_type": "stream",
     "text": [
      "100%|██████████| 300/300 [00:12<00:00, 24.43it/s]\n"
     ]
    },
    {
     "name": "stdout",
     "output_type": "stream",
     "text": [
      "[19/Apr/2023 23:35:40] INFO - Running process for Neural Net (lidar) | layers: 2, epochs: 300, lr: 7.5e-06, batchsize: 200\n",
      "Training...\n"
     ]
    },
    {
     "name": "stderr",
     "output_type": "stream",
     "text": [
      "100%|██████████| 300/300 [00:11<00:00, 25.44it/s]\n"
     ]
    },
    {
     "name": "stdout",
     "output_type": "stream",
     "text": [
      "[19/Apr/2023 23:35:52] INFO - Running process for Neural Net (lidar) | layers: 2, epochs: 300, lr: 7.5e-06, batchsize: 200\n",
      "Training...\n"
     ]
    },
    {
     "name": "stderr",
     "output_type": "stream",
     "text": [
      "100%|██████████| 300/300 [00:13<00:00, 22.71it/s]\n"
     ]
    },
    {
     "name": "stdout",
     "output_type": "stream",
     "text": [
      "[19/Apr/2023 23:36:05] INFO - Running process for Neural Net (lidar) | layers: 2, epochs: 450, lr: 0.0001, batchsize: 50\n",
      "Training...\n"
     ]
    },
    {
     "name": "stderr",
     "output_type": "stream",
     "text": [
      "100%|██████████| 450/450 [00:36<00:00, 12.32it/s]\n"
     ]
    },
    {
     "name": "stdout",
     "output_type": "stream",
     "text": [
      "[19/Apr/2023 23:36:42] INFO - Running process for Neural Net (lidar) | layers: 2, epochs: 450, lr: 0.0001, batchsize: 50\n",
      "Training...\n"
     ]
    },
    {
     "name": "stderr",
     "output_type": "stream",
     "text": [
      "100%|██████████| 450/450 [00:35<00:00, 12.55it/s]\n"
     ]
    },
    {
     "name": "stdout",
     "output_type": "stream",
     "text": [
      "[19/Apr/2023 23:37:18] INFO - Running process for Neural Net (lidar) | layers: 2, epochs: 450, lr: 0.0001, batchsize: 50\n",
      "Training...\n"
     ]
    },
    {
     "name": "stderr",
     "output_type": "stream",
     "text": [
      "100%|██████████| 450/450 [00:40<00:00, 11.00it/s]\n"
     ]
    },
    {
     "name": "stdout",
     "output_type": "stream",
     "text": [
      "[19/Apr/2023 23:37:59] INFO - Running process for Neural Net (lidar) | layers: 2, epochs: 450, lr: 0.0001, batchsize: 50\n",
      "Training...\n"
     ]
    },
    {
     "name": "stderr",
     "output_type": "stream",
     "text": [
      "100%|██████████| 450/450 [00:42<00:00, 10.56it/s]\n"
     ]
    },
    {
     "name": "stdout",
     "output_type": "stream",
     "text": [
      "[19/Apr/2023 23:38:42] INFO - Running process for Neural Net (lidar) | layers: 2, epochs: 450, lr: 0.0001, batchsize: 100\n",
      "Training...\n"
     ]
    },
    {
     "name": "stderr",
     "output_type": "stream",
     "text": [
      "100%|██████████| 450/450 [00:28<00:00, 15.90it/s]\n"
     ]
    },
    {
     "name": "stdout",
     "output_type": "stream",
     "text": [
      "[19/Apr/2023 23:39:10] INFO - Running process for Neural Net (lidar) | layers: 2, epochs: 450, lr: 0.0001, batchsize: 100\n",
      "Training...\n"
     ]
    },
    {
     "name": "stderr",
     "output_type": "stream",
     "text": [
      "100%|██████████| 450/450 [00:28<00:00, 15.96it/s]\n"
     ]
    },
    {
     "name": "stdout",
     "output_type": "stream",
     "text": [
      "[19/Apr/2023 23:39:38] INFO - Running process for Neural Net (lidar) | layers: 2, epochs: 450, lr: 0.0001, batchsize: 100\n",
      "Training...\n"
     ]
    },
    {
     "name": "stderr",
     "output_type": "stream",
     "text": [
      "100%|██████████| 450/450 [00:24<00:00, 18.74it/s]\n"
     ]
    },
    {
     "name": "stdout",
     "output_type": "stream",
     "text": [
      "[19/Apr/2023 23:40:02] INFO - Running process for Neural Net (lidar) | layers: 2, epochs: 450, lr: 0.0001, batchsize: 100\n",
      "Training...\n"
     ]
    },
    {
     "name": "stderr",
     "output_type": "stream",
     "text": [
      "100%|██████████| 450/450 [00:23<00:00, 18.89it/s]\n"
     ]
    },
    {
     "name": "stdout",
     "output_type": "stream",
     "text": [
      "[19/Apr/2023 23:40:26] INFO - Running process for Neural Net (lidar) | layers: 2, epochs: 450, lr: 0.0001, batchsize: 200\n",
      "Training...\n"
     ]
    },
    {
     "name": "stderr",
     "output_type": "stream",
     "text": [
      "100%|██████████| 450/450 [00:17<00:00, 25.34it/s]\n"
     ]
    },
    {
     "name": "stdout",
     "output_type": "stream",
     "text": [
      "[19/Apr/2023 23:40:44] INFO - Running process for Neural Net (lidar) | layers: 2, epochs: 450, lr: 0.0001, batchsize: 200\n",
      "Training...\n"
     ]
    },
    {
     "name": "stderr",
     "output_type": "stream",
     "text": [
      "100%|██████████| 450/450 [00:17<00:00, 25.36it/s]\n"
     ]
    },
    {
     "name": "stdout",
     "output_type": "stream",
     "text": [
      "[19/Apr/2023 23:41:02] INFO - Running process for Neural Net (lidar) | layers: 2, epochs: 450, lr: 0.0001, batchsize: 200\n",
      "Training...\n"
     ]
    },
    {
     "name": "stderr",
     "output_type": "stream",
     "text": [
      "100%|██████████| 450/450 [00:18<00:00, 24.77it/s]\n"
     ]
    },
    {
     "name": "stdout",
     "output_type": "stream",
     "text": [
      "[19/Apr/2023 23:41:20] INFO - Running process for Neural Net (lidar) | layers: 2, epochs: 450, lr: 0.0001, batchsize: 200\n",
      "Training...\n"
     ]
    },
    {
     "name": "stderr",
     "output_type": "stream",
     "text": [
      "100%|██████████| 450/450 [00:17<00:00, 25.07it/s]\n"
     ]
    },
    {
     "name": "stdout",
     "output_type": "stream",
     "text": [
      "[19/Apr/2023 23:41:39] INFO - Running process for Neural Net (lidar) | layers: 2, epochs: 450, lr: 7.5e-05, batchsize: 50\n",
      "Training...\n"
     ]
    },
    {
     "name": "stderr",
     "output_type": "stream",
     "text": [
      "100%|██████████| 450/450 [00:42<00:00, 10.62it/s]\n"
     ]
    },
    {
     "name": "stdout",
     "output_type": "stream",
     "text": [
      "[19/Apr/2023 23:42:21] INFO - Running process for Neural Net (lidar) | layers: 2, epochs: 450, lr: 7.5e-05, batchsize: 50\n",
      "Training...\n"
     ]
    },
    {
     "name": "stderr",
     "output_type": "stream",
     "text": [
      "100%|██████████| 450/450 [00:44<00:00, 10.02it/s]\n"
     ]
    },
    {
     "name": "stdout",
     "output_type": "stream",
     "text": [
      "[19/Apr/2023 23:43:06] INFO - Running process for Neural Net (lidar) | layers: 2, epochs: 450, lr: 7.5e-05, batchsize: 50\n",
      "Training...\n"
     ]
    },
    {
     "name": "stderr",
     "output_type": "stream",
     "text": [
      "100%|██████████| 450/450 [00:36<00:00, 12.38it/s]\n"
     ]
    },
    {
     "name": "stdout",
     "output_type": "stream",
     "text": [
      "[19/Apr/2023 23:43:43] INFO - Running process for Neural Net (lidar) | layers: 2, epochs: 450, lr: 7.5e-05, batchsize: 50\n",
      "Training...\n"
     ]
    },
    {
     "name": "stderr",
     "output_type": "stream",
     "text": [
      "100%|██████████| 450/450 [00:41<00:00, 10.83it/s]\n"
     ]
    },
    {
     "name": "stdout",
     "output_type": "stream",
     "text": [
      "[19/Apr/2023 23:44:24] INFO - Running process for Neural Net (lidar) | layers: 2, epochs: 450, lr: 7.5e-05, batchsize: 100\n",
      "Training...\n"
     ]
    },
    {
     "name": "stderr",
     "output_type": "stream",
     "text": [
      "100%|██████████| 450/450 [00:28<00:00, 15.98it/s]\n"
     ]
    },
    {
     "name": "stdout",
     "output_type": "stream",
     "text": [
      "[19/Apr/2023 23:44:53] INFO - Running process for Neural Net (lidar) | layers: 2, epochs: 450, lr: 7.5e-05, batchsize: 100\n",
      "Training...\n"
     ]
    },
    {
     "name": "stderr",
     "output_type": "stream",
     "text": [
      "100%|██████████| 450/450 [00:26<00:00, 16.75it/s]\n"
     ]
    },
    {
     "name": "stdout",
     "output_type": "stream",
     "text": [
      "[19/Apr/2023 23:45:20] INFO - Running process for Neural Net (lidar) | layers: 2, epochs: 450, lr: 7.5e-05, batchsize: 100\n",
      "Training...\n"
     ]
    },
    {
     "name": "stderr",
     "output_type": "stream",
     "text": [
      "100%|██████████| 450/450 [00:23<00:00, 18.93it/s]\n"
     ]
    },
    {
     "name": "stdout",
     "output_type": "stream",
     "text": [
      "[19/Apr/2023 23:45:43] INFO - Running process for Neural Net (lidar) | layers: 2, epochs: 450, lr: 7.5e-05, batchsize: 100\n",
      "Training...\n"
     ]
    },
    {
     "name": "stderr",
     "output_type": "stream",
     "text": [
      "100%|██████████| 450/450 [00:23<00:00, 18.78it/s]\n"
     ]
    },
    {
     "name": "stdout",
     "output_type": "stream",
     "text": [
      "[19/Apr/2023 23:46:08] INFO - Running process for Neural Net (lidar) | layers: 2, epochs: 450, lr: 7.5e-05, batchsize: 200\n",
      "Training...\n"
     ]
    },
    {
     "name": "stderr",
     "output_type": "stream",
     "text": [
      "100%|██████████| 450/450 [00:17<00:00, 25.31it/s]\n"
     ]
    },
    {
     "name": "stdout",
     "output_type": "stream",
     "text": [
      "[19/Apr/2023 23:46:25] INFO - Running process for Neural Net (lidar) | layers: 2, epochs: 450, lr: 7.5e-05, batchsize: 200\n",
      "Training...\n"
     ]
    },
    {
     "name": "stderr",
     "output_type": "stream",
     "text": [
      "100%|██████████| 450/450 [00:17<00:00, 25.12it/s]\n"
     ]
    },
    {
     "name": "stdout",
     "output_type": "stream",
     "text": [
      "[19/Apr/2023 23:46:43] INFO - Running process for Neural Net (lidar) | layers: 2, epochs: 450, lr: 7.5e-05, batchsize: 200\n",
      "Training...\n"
     ]
    },
    {
     "name": "stderr",
     "output_type": "stream",
     "text": [
      "100%|██████████| 450/450 [00:17<00:00, 25.42it/s]\n"
     ]
    },
    {
     "name": "stdout",
     "output_type": "stream",
     "text": [
      "[19/Apr/2023 23:47:01] INFO - Running process for Neural Net (lidar) | layers: 2, epochs: 450, lr: 7.5e-05, batchsize: 200\n",
      "Training...\n"
     ]
    },
    {
     "name": "stderr",
     "output_type": "stream",
     "text": [
      "100%|██████████| 450/450 [00:17<00:00, 25.34it/s]\n"
     ]
    },
    {
     "name": "stdout",
     "output_type": "stream",
     "text": [
      "[19/Apr/2023 23:47:19] INFO - Running process for Neural Net (lidar) | layers: 2, epochs: 450, lr: 1e-05, batchsize: 50\n",
      "Training...\n"
     ]
    },
    {
     "name": "stderr",
     "output_type": "stream",
     "text": [
      "100%|██████████| 450/450 [00:34<00:00, 12.88it/s]\n"
     ]
    },
    {
     "name": "stdout",
     "output_type": "stream",
     "text": [
      "[19/Apr/2023 23:47:54] INFO - Running process for Neural Net (lidar) | layers: 2, epochs: 450, lr: 1e-05, batchsize: 50\n",
      "Training...\n"
     ]
    },
    {
     "name": "stderr",
     "output_type": "stream",
     "text": [
      "100%|██████████| 450/450 [00:35<00:00, 12.80it/s]\n"
     ]
    },
    {
     "name": "stdout",
     "output_type": "stream",
     "text": [
      "[19/Apr/2023 23:48:30] INFO - Running process for Neural Net (lidar) | layers: 2, epochs: 450, lr: 1e-05, batchsize: 50\n",
      "Training...\n"
     ]
    },
    {
     "name": "stderr",
     "output_type": "stream",
     "text": [
      "100%|██████████| 450/450 [00:36<00:00, 12.43it/s]\n"
     ]
    },
    {
     "name": "stdout",
     "output_type": "stream",
     "text": [
      "[19/Apr/2023 23:49:06] INFO - Running process for Neural Net (lidar) | layers: 2, epochs: 450, lr: 1e-05, batchsize: 50\n",
      "Training...\n"
     ]
    },
    {
     "name": "stderr",
     "output_type": "stream",
     "text": [
      "100%|██████████| 450/450 [00:35<00:00, 12.83it/s]\n"
     ]
    },
    {
     "name": "stdout",
     "output_type": "stream",
     "text": [
      "[19/Apr/2023 23:49:41] INFO - Running process for Neural Net (lidar) | layers: 2, epochs: 450, lr: 1e-05, batchsize: 100\n",
      "Training...\n"
     ]
    },
    {
     "name": "stderr",
     "output_type": "stream",
     "text": [
      "100%|██████████| 450/450 [00:23<00:00, 18.83it/s]\n"
     ]
    },
    {
     "name": "stdout",
     "output_type": "stream",
     "text": [
      "[19/Apr/2023 23:50:05] INFO - Running process for Neural Net (lidar) | layers: 2, epochs: 450, lr: 1e-05, batchsize: 100\n",
      "Training...\n"
     ]
    },
    {
     "name": "stderr",
     "output_type": "stream",
     "text": [
      "100%|██████████| 450/450 [00:23<00:00, 19.16it/s]\n"
     ]
    },
    {
     "name": "stdout",
     "output_type": "stream",
     "text": [
      "[19/Apr/2023 23:50:29] INFO - Running process for Neural Net (lidar) | layers: 2, epochs: 450, lr: 1e-05, batchsize: 100\n",
      "Training...\n"
     ]
    },
    {
     "name": "stderr",
     "output_type": "stream",
     "text": [
      "100%|██████████| 450/450 [00:23<00:00, 19.07it/s]\n"
     ]
    },
    {
     "name": "stdout",
     "output_type": "stream",
     "text": [
      "[19/Apr/2023 23:50:52] INFO - Running process for Neural Net (lidar) | layers: 2, epochs: 450, lr: 1e-05, batchsize: 100\n",
      "Training...\n"
     ]
    },
    {
     "name": "stderr",
     "output_type": "stream",
     "text": [
      "100%|██████████| 450/450 [00:23<00:00, 18.87it/s]\n"
     ]
    },
    {
     "name": "stdout",
     "output_type": "stream",
     "text": [
      "[19/Apr/2023 23:51:16] INFO - Running process for Neural Net (lidar) | layers: 2, epochs: 450, lr: 1e-05, batchsize: 200\n",
      "Training...\n"
     ]
    },
    {
     "name": "stderr",
     "output_type": "stream",
     "text": [
      "100%|██████████| 450/450 [00:17<00:00, 25.21it/s]\n"
     ]
    },
    {
     "name": "stdout",
     "output_type": "stream",
     "text": [
      "[19/Apr/2023 23:51:34] INFO - Running process for Neural Net (lidar) | layers: 2, epochs: 450, lr: 1e-05, batchsize: 200\n",
      "Training...\n"
     ]
    },
    {
     "name": "stderr",
     "output_type": "stream",
     "text": [
      "100%|██████████| 450/450 [00:17<00:00, 25.19it/s]\n"
     ]
    },
    {
     "name": "stdout",
     "output_type": "stream",
     "text": [
      "[19/Apr/2023 23:51:52] INFO - Running process for Neural Net (lidar) | layers: 2, epochs: 450, lr: 1e-05, batchsize: 200\n",
      "Training...\n"
     ]
    },
    {
     "name": "stderr",
     "output_type": "stream",
     "text": [
      "100%|██████████| 450/450 [00:17<00:00, 25.27it/s]\n"
     ]
    },
    {
     "name": "stdout",
     "output_type": "stream",
     "text": [
      "[19/Apr/2023 23:52:10] INFO - Running process for Neural Net (lidar) | layers: 2, epochs: 450, lr: 1e-05, batchsize: 200\n",
      "Training...\n"
     ]
    },
    {
     "name": "stderr",
     "output_type": "stream",
     "text": [
      "100%|██████████| 450/450 [00:17<00:00, 25.27it/s]\n"
     ]
    },
    {
     "name": "stdout",
     "output_type": "stream",
     "text": [
      "[19/Apr/2023 23:52:28] INFO - Running process for Neural Net (lidar) | layers: 2, epochs: 450, lr: 7.5e-06, batchsize: 50\n",
      "Training...\n"
     ]
    },
    {
     "name": "stderr",
     "output_type": "stream",
     "text": [
      "100%|██████████| 450/450 [00:35<00:00, 12.73it/s]\n"
     ]
    },
    {
     "name": "stdout",
     "output_type": "stream",
     "text": [
      "[19/Apr/2023 23:53:04] INFO - Running process for Neural Net (lidar) | layers: 2, epochs: 450, lr: 7.5e-06, batchsize: 50\n",
      "Training...\n"
     ]
    },
    {
     "name": "stderr",
     "output_type": "stream",
     "text": [
      "100%|██████████| 450/450 [00:36<00:00, 12.45it/s]\n"
     ]
    },
    {
     "name": "stdout",
     "output_type": "stream",
     "text": [
      "[19/Apr/2023 23:53:40] INFO - Running process for Neural Net (lidar) | layers: 2, epochs: 450, lr: 7.5e-06, batchsize: 50\n",
      "Training...\n"
     ]
    },
    {
     "name": "stderr",
     "output_type": "stream",
     "text": [
      "100%|██████████| 450/450 [00:34<00:00, 12.94it/s]\n"
     ]
    },
    {
     "name": "stdout",
     "output_type": "stream",
     "text": [
      "[19/Apr/2023 23:54:15] INFO - Running process for Neural Net (lidar) | layers: 2, epochs: 450, lr: 7.5e-06, batchsize: 50\n",
      "Training...\n"
     ]
    },
    {
     "name": "stderr",
     "output_type": "stream",
     "text": [
      "100%|██████████| 450/450 [00:34<00:00, 13.01it/s]\n"
     ]
    },
    {
     "name": "stdout",
     "output_type": "stream",
     "text": [
      "[19/Apr/2023 23:54:50] INFO - Running process for Neural Net (lidar) | layers: 2, epochs: 450, lr: 7.5e-06, batchsize: 100\n",
      "Training...\n"
     ]
    },
    {
     "name": "stderr",
     "output_type": "stream",
     "text": [
      "100%|██████████| 450/450 [00:23<00:00, 19.30it/s]\n"
     ]
    },
    {
     "name": "stdout",
     "output_type": "stream",
     "text": [
      "[19/Apr/2023 23:55:13] INFO - Running process for Neural Net (lidar) | layers: 2, epochs: 450, lr: 7.5e-06, batchsize: 100\n",
      "Training...\n"
     ]
    },
    {
     "name": "stderr",
     "output_type": "stream",
     "text": [
      "100%|██████████| 450/450 [00:23<00:00, 19.39it/s]\n"
     ]
    },
    {
     "name": "stdout",
     "output_type": "stream",
     "text": [
      "[19/Apr/2023 23:55:37] INFO - Running process for Neural Net (lidar) | layers: 2, epochs: 450, lr: 7.5e-06, batchsize: 100\n",
      "Training...\n"
     ]
    },
    {
     "name": "stderr",
     "output_type": "stream",
     "text": [
      "100%|██████████| 450/450 [00:23<00:00, 19.26it/s]\n"
     ]
    },
    {
     "name": "stdout",
     "output_type": "stream",
     "text": [
      "[19/Apr/2023 23:56:00] INFO - Running process for Neural Net (lidar) | layers: 2, epochs: 450, lr: 7.5e-06, batchsize: 100\n",
      "Training...\n"
     ]
    },
    {
     "name": "stderr",
     "output_type": "stream",
     "text": [
      "100%|██████████| 450/450 [00:24<00:00, 18.59it/s]\n"
     ]
    },
    {
     "name": "stdout",
     "output_type": "stream",
     "text": [
      "[19/Apr/2023 23:56:24] INFO - Running process for Neural Net (lidar) | layers: 2, epochs: 450, lr: 7.5e-06, batchsize: 200\n",
      "Training...\n"
     ]
    },
    {
     "name": "stderr",
     "output_type": "stream",
     "text": [
      "100%|██████████| 450/450 [00:19<00:00, 22.77it/s]\n"
     ]
    },
    {
     "name": "stdout",
     "output_type": "stream",
     "text": [
      "[19/Apr/2023 23:56:44] INFO - Running process for Neural Net (lidar) | layers: 2, epochs: 450, lr: 7.5e-06, batchsize: 200\n",
      "Training...\n"
     ]
    },
    {
     "name": "stderr",
     "output_type": "stream",
     "text": [
      "100%|██████████| 450/450 [00:17<00:00, 25.34it/s]\n"
     ]
    },
    {
     "name": "stdout",
     "output_type": "stream",
     "text": [
      "[19/Apr/2023 23:57:02] INFO - Running process for Neural Net (lidar) | layers: 2, epochs: 450, lr: 7.5e-06, batchsize: 200\n",
      "Training...\n"
     ]
    },
    {
     "name": "stderr",
     "output_type": "stream",
     "text": [
      "100%|██████████| 450/450 [00:17<00:00, 25.26it/s]\n"
     ]
    },
    {
     "name": "stdout",
     "output_type": "stream",
     "text": [
      "[19/Apr/2023 23:57:20] INFO - Running process for Neural Net (lidar) | layers: 2, epochs: 450, lr: 7.5e-06, batchsize: 200\n",
      "Training...\n"
     ]
    },
    {
     "name": "stderr",
     "output_type": "stream",
     "text": [
      "100%|██████████| 450/450 [00:17<00:00, 25.14it/s]\n"
     ]
    },
    {
     "name": "stdout",
     "output_type": "stream",
     "text": [
      "[19/Apr/2023 23:57:38] INFO - Running process for Neural Net (lidar) | layers: 4, epochs: 150, lr: 0.0001, batchsize: 50\n",
      "Training...\n"
     ]
    },
    {
     "name": "stderr",
     "output_type": "stream",
     "text": [
      "100%|██████████| 150/150 [00:17<00:00,  8.52it/s]\n"
     ]
    },
    {
     "name": "stdout",
     "output_type": "stream",
     "text": [
      "[19/Apr/2023 23:57:56] INFO - Running process for Neural Net (lidar) | layers: 4, epochs: 150, lr: 0.0001, batchsize: 50\n",
      "Training...\n"
     ]
    },
    {
     "name": "stderr",
     "output_type": "stream",
     "text": [
      "100%|██████████| 150/150 [00:20<00:00,  7.31it/s]\n"
     ]
    },
    {
     "name": "stdout",
     "output_type": "stream",
     "text": [
      "[19/Apr/2023 23:58:17] INFO - Running process for Neural Net (lidar) | layers: 4, epochs: 150, lr: 0.0001, batchsize: 50\n",
      "Training...\n"
     ]
    },
    {
     "name": "stderr",
     "output_type": "stream",
     "text": [
      "100%|██████████| 150/150 [00:20<00:00,  7.32it/s]\n"
     ]
    },
    {
     "name": "stdout",
     "output_type": "stream",
     "text": [
      "[19/Apr/2023 23:58:37] INFO - Running process for Neural Net (lidar) | layers: 4, epochs: 150, lr: 0.0001, batchsize: 50\n",
      "Training...\n"
     ]
    },
    {
     "name": "stderr",
     "output_type": "stream",
     "text": [
      "100%|██████████| 150/150 [00:16<00:00,  8.85it/s]\n"
     ]
    },
    {
     "name": "stdout",
     "output_type": "stream",
     "text": [
      "[19/Apr/2023 23:58:54] INFO - Running process for Neural Net (lidar) | layers: 4, epochs: 150, lr: 0.0001, batchsize: 100\n",
      "Training...\n"
     ]
    },
    {
     "name": "stderr",
     "output_type": "stream",
     "text": [
      "100%|██████████| 150/150 [00:12<00:00, 12.15it/s]\n"
     ]
    },
    {
     "name": "stdout",
     "output_type": "stream",
     "text": [
      "[19/Apr/2023 23:59:07] INFO - Running process for Neural Net (lidar) | layers: 4, epochs: 150, lr: 0.0001, batchsize: 100\n",
      "Training...\n"
     ]
    },
    {
     "name": "stderr",
     "output_type": "stream",
     "text": [
      "100%|██████████| 150/150 [00:10<00:00, 14.36it/s]\n"
     ]
    },
    {
     "name": "stdout",
     "output_type": "stream",
     "text": [
      "[19/Apr/2023 23:59:18] INFO - Running process for Neural Net (lidar) | layers: 4, epochs: 150, lr: 0.0001, batchsize: 100\n",
      "Training...\n"
     ]
    },
    {
     "name": "stderr",
     "output_type": "stream",
     "text": [
      "100%|██████████| 150/150 [00:10<00:00, 14.59it/s]\n"
     ]
    },
    {
     "name": "stdout",
     "output_type": "stream",
     "text": [
      "[19/Apr/2023 23:59:28] INFO - Running process for Neural Net (lidar) | layers: 4, epochs: 150, lr: 0.0001, batchsize: 100\n",
      "Training...\n"
     ]
    },
    {
     "name": "stderr",
     "output_type": "stream",
     "text": [
      "100%|██████████| 150/150 [00:10<00:00, 14.21it/s]\n"
     ]
    },
    {
     "name": "stdout",
     "output_type": "stream",
     "text": [
      "[19/Apr/2023 23:59:39] INFO - Running process for Neural Net (lidar) | layers: 4, epochs: 150, lr: 0.0001, batchsize: 200\n",
      "Training...\n"
     ]
    },
    {
     "name": "stderr",
     "output_type": "stream",
     "text": [
      "100%|██████████| 150/150 [00:08<00:00, 16.77it/s]\n"
     ]
    },
    {
     "name": "stdout",
     "output_type": "stream",
     "text": [
      "[19/Apr/2023 23:59:48] INFO - Running process for Neural Net (lidar) | layers: 4, epochs: 150, lr: 0.0001, batchsize: 200\n",
      "Training...\n"
     ]
    },
    {
     "name": "stderr",
     "output_type": "stream",
     "text": [
      "100%|██████████| 150/150 [00:08<00:00, 16.71it/s]\n"
     ]
    },
    {
     "name": "stdout",
     "output_type": "stream",
     "text": [
      "[19/Apr/2023 23:59:57] INFO - Running process for Neural Net (lidar) | layers: 4, epochs: 150, lr: 0.0001, batchsize: 200\n",
      "Training...\n"
     ]
    },
    {
     "name": "stderr",
     "output_type": "stream",
     "text": [
      "100%|██████████| 150/150 [00:09<00:00, 16.61it/s]\n"
     ]
    },
    {
     "name": "stdout",
     "output_type": "stream",
     "text": [
      "[20/Apr/2023 00:00:06] INFO - Running process for Neural Net (lidar) | layers: 4, epochs: 150, lr: 0.0001, batchsize: 200\n",
      "Training...\n"
     ]
    },
    {
     "name": "stderr",
     "output_type": "stream",
     "text": [
      "100%|██████████| 150/150 [00:09<00:00, 15.59it/s]\n"
     ]
    },
    {
     "name": "stdout",
     "output_type": "stream",
     "text": [
      "[20/Apr/2023 00:00:16] INFO - Running process for Neural Net (lidar) | layers: 4, epochs: 150, lr: 7.5e-05, batchsize: 50\n",
      "Training...\n"
     ]
    },
    {
     "name": "stderr",
     "output_type": "stream",
     "text": [
      "100%|██████████| 150/150 [00:22<00:00,  6.80it/s]\n"
     ]
    },
    {
     "name": "stdout",
     "output_type": "stream",
     "text": [
      "[20/Apr/2023 00:00:38] INFO - Running process for Neural Net (lidar) | layers: 4, epochs: 150, lr: 7.5e-05, batchsize: 50\n",
      "Training...\n"
     ]
    },
    {
     "name": "stderr",
     "output_type": "stream",
     "text": [
      "100%|██████████| 150/150 [00:17<00:00,  8.70it/s]\n"
     ]
    },
    {
     "name": "stdout",
     "output_type": "stream",
     "text": [
      "[20/Apr/2023 00:00:55] INFO - Running process for Neural Net (lidar) | layers: 4, epochs: 150, lr: 7.5e-05, batchsize: 50\n",
      "Training...\n"
     ]
    },
    {
     "name": "stderr",
     "output_type": "stream",
     "text": [
      "100%|██████████| 150/150 [00:16<00:00,  8.96it/s]\n"
     ]
    },
    {
     "name": "stdout",
     "output_type": "stream",
     "text": [
      "[20/Apr/2023 00:01:12] INFO - Running process for Neural Net (lidar) | layers: 4, epochs: 150, lr: 7.5e-05, batchsize: 50\n",
      "Training...\n"
     ]
    },
    {
     "name": "stderr",
     "output_type": "stream",
     "text": [
      "100%|██████████| 150/150 [00:16<00:00,  8.97it/s]\n"
     ]
    },
    {
     "name": "stdout",
     "output_type": "stream",
     "text": [
      "[20/Apr/2023 00:01:29] INFO - Running process for Neural Net (lidar) | layers: 4, epochs: 150, lr: 7.5e-05, batchsize: 100\n",
      "Training...\n"
     ]
    },
    {
     "name": "stderr",
     "output_type": "stream",
     "text": [
      "100%|██████████| 150/150 [00:10<00:00, 14.45it/s]\n"
     ]
    },
    {
     "name": "stdout",
     "output_type": "stream",
     "text": [
      "[20/Apr/2023 00:01:40] INFO - Running process for Neural Net (lidar) | layers: 4, epochs: 150, lr: 7.5e-05, batchsize: 100\n",
      "Training...\n"
     ]
    },
    {
     "name": "stderr",
     "output_type": "stream",
     "text": [
      "100%|██████████| 150/150 [00:10<00:00, 14.47it/s]\n"
     ]
    },
    {
     "name": "stdout",
     "output_type": "stream",
     "text": [
      "[20/Apr/2023 00:01:50] INFO - Running process for Neural Net (lidar) | layers: 4, epochs: 150, lr: 7.5e-05, batchsize: 100\n",
      "Training...\n"
     ]
    },
    {
     "name": "stderr",
     "output_type": "stream",
     "text": [
      "100%|██████████| 150/150 [00:10<00:00, 14.27it/s]\n"
     ]
    },
    {
     "name": "stdout",
     "output_type": "stream",
     "text": [
      "[20/Apr/2023 00:02:01] INFO - Running process for Neural Net (lidar) | layers: 4, epochs: 150, lr: 7.5e-05, batchsize: 100\n",
      "Training...\n"
     ]
    },
    {
     "name": "stderr",
     "output_type": "stream",
     "text": [
      "100%|██████████| 150/150 [00:10<00:00, 14.33it/s]\n"
     ]
    },
    {
     "name": "stdout",
     "output_type": "stream",
     "text": [
      "[20/Apr/2023 00:02:11] INFO - Running process for Neural Net (lidar) | layers: 4, epochs: 150, lr: 7.5e-05, batchsize: 200\n",
      "Training...\n"
     ]
    },
    {
     "name": "stderr",
     "output_type": "stream",
     "text": [
      "100%|██████████| 150/150 [00:07<00:00, 19.80it/s]\n"
     ]
    },
    {
     "name": "stdout",
     "output_type": "stream",
     "text": [
      "[20/Apr/2023 00:02:19] INFO - Running process for Neural Net (lidar) | layers: 4, epochs: 150, lr: 7.5e-05, batchsize: 200\n",
      "Training...\n"
     ]
    },
    {
     "name": "stderr",
     "output_type": "stream",
     "text": [
      "100%|██████████| 150/150 [00:07<00:00, 19.69it/s]\n"
     ]
    },
    {
     "name": "stdout",
     "output_type": "stream",
     "text": [
      "[20/Apr/2023 00:02:27] INFO - Running process for Neural Net (lidar) | layers: 4, epochs: 150, lr: 7.5e-05, batchsize: 200\n",
      "Training...\n"
     ]
    },
    {
     "name": "stderr",
     "output_type": "stream",
     "text": [
      "100%|██████████| 150/150 [00:07<00:00, 19.38it/s]\n"
     ]
    },
    {
     "name": "stdout",
     "output_type": "stream",
     "text": [
      "[20/Apr/2023 00:02:35] INFO - Running process for Neural Net (lidar) | layers: 4, epochs: 150, lr: 7.5e-05, batchsize: 200\n",
      "Training...\n"
     ]
    },
    {
     "name": "stderr",
     "output_type": "stream",
     "text": [
      "100%|██████████| 150/150 [00:09<00:00, 16.57it/s]\n"
     ]
    },
    {
     "name": "stdout",
     "output_type": "stream",
     "text": [
      "[20/Apr/2023 00:02:44] INFO - Running process for Neural Net (lidar) | layers: 4, epochs: 150, lr: 1e-05, batchsize: 50\n",
      "Training...\n"
     ]
    },
    {
     "name": "stderr",
     "output_type": "stream",
     "text": [
      "100%|██████████| 150/150 [00:16<00:00,  9.16it/s]\n"
     ]
    },
    {
     "name": "stdout",
     "output_type": "stream",
     "text": [
      "[20/Apr/2023 00:03:01] INFO - Running process for Neural Net (lidar) | layers: 4, epochs: 150, lr: 1e-05, batchsize: 50\n",
      "Training...\n"
     ]
    },
    {
     "name": "stderr",
     "output_type": "stream",
     "text": [
      "100%|██████████| 150/150 [00:16<00:00,  9.21it/s]\n"
     ]
    },
    {
     "name": "stdout",
     "output_type": "stream",
     "text": [
      "[20/Apr/2023 00:03:17] INFO - Running process for Neural Net (lidar) | layers: 4, epochs: 150, lr: 1e-05, batchsize: 50\n",
      "Training...\n"
     ]
    },
    {
     "name": "stderr",
     "output_type": "stream",
     "text": [
      "100%|██████████| 150/150 [00:16<00:00,  9.20it/s]\n"
     ]
    },
    {
     "name": "stdout",
     "output_type": "stream",
     "text": [
      "[20/Apr/2023 00:03:33] INFO - Running process for Neural Net (lidar) | layers: 4, epochs: 150, lr: 1e-05, batchsize: 50\n",
      "Training...\n"
     ]
    },
    {
     "name": "stderr",
     "output_type": "stream",
     "text": [
      "100%|██████████| 150/150 [00:17<00:00,  8.66it/s]\n"
     ]
    },
    {
     "name": "stdout",
     "output_type": "stream",
     "text": [
      "[20/Apr/2023 00:03:51] INFO - Running process for Neural Net (lidar) | layers: 4, epochs: 150, lr: 1e-05, batchsize: 100\n",
      "Training...\n"
     ]
    },
    {
     "name": "stderr",
     "output_type": "stream",
     "text": [
      "100%|██████████| 150/150 [00:12<00:00, 11.80it/s]\n"
     ]
    },
    {
     "name": "stdout",
     "output_type": "stream",
     "text": [
      "[20/Apr/2023 00:04:04] INFO - Running process for Neural Net (lidar) | layers: 4, epochs: 150, lr: 1e-05, batchsize: 100\n",
      "Training...\n"
     ]
    },
    {
     "name": "stderr",
     "output_type": "stream",
     "text": [
      "100%|██████████| 150/150 [00:13<00:00, 11.17it/s]\n"
     ]
    },
    {
     "name": "stdout",
     "output_type": "stream",
     "text": [
      "[20/Apr/2023 00:04:17] INFO - Running process for Neural Net (lidar) | layers: 4, epochs: 150, lr: 1e-05, batchsize: 100\n",
      "Training...\n"
     ]
    },
    {
     "name": "stderr",
     "output_type": "stream",
     "text": [
      "100%|██████████| 150/150 [00:14<00:00, 10.44it/s]\n"
     ]
    },
    {
     "name": "stdout",
     "output_type": "stream",
     "text": [
      "[20/Apr/2023 00:04:33] INFO - Running process for Neural Net (lidar) | layers: 4, epochs: 150, lr: 1e-05, batchsize: 100\n",
      "Training...\n"
     ]
    },
    {
     "name": "stderr",
     "output_type": "stream",
     "text": [
      "100%|██████████| 150/150 [00:10<00:00, 14.17it/s]\n"
     ]
    },
    {
     "name": "stdout",
     "output_type": "stream",
     "text": [
      "[20/Apr/2023 00:04:44] INFO - Running process for Neural Net (lidar) | layers: 4, epochs: 150, lr: 1e-05, batchsize: 200\n",
      "Training...\n"
     ]
    },
    {
     "name": "stderr",
     "output_type": "stream",
     "text": [
      "100%|██████████| 150/150 [00:07<00:00, 19.79it/s]\n"
     ]
    },
    {
     "name": "stdout",
     "output_type": "stream",
     "text": [
      "[20/Apr/2023 00:04:52] INFO - Running process for Neural Net (lidar) | layers: 4, epochs: 150, lr: 1e-05, batchsize: 200\n",
      "Training...\n"
     ]
    },
    {
     "name": "stderr",
     "output_type": "stream",
     "text": [
      "100%|██████████| 150/150 [00:07<00:00, 19.30it/s]\n"
     ]
    },
    {
     "name": "stdout",
     "output_type": "stream",
     "text": [
      "[20/Apr/2023 00:05:00] INFO - Running process for Neural Net (lidar) | layers: 4, epochs: 150, lr: 1e-05, batchsize: 200\n",
      "Training...\n"
     ]
    },
    {
     "name": "stderr",
     "output_type": "stream",
     "text": [
      "100%|██████████| 150/150 [00:09<00:00, 16.66it/s]\n"
     ]
    },
    {
     "name": "stdout",
     "output_type": "stream",
     "text": [
      "[20/Apr/2023 00:05:09] INFO - Running process for Neural Net (lidar) | layers: 4, epochs: 150, lr: 1e-05, batchsize: 200\n",
      "Training...\n"
     ]
    },
    {
     "name": "stderr",
     "output_type": "stream",
     "text": [
      "100%|██████████| 150/150 [00:09<00:00, 16.46it/s]\n"
     ]
    },
    {
     "name": "stdout",
     "output_type": "stream",
     "text": [
      "[20/Apr/2023 00:05:18] INFO - Running process for Neural Net (lidar) | layers: 4, epochs: 150, lr: 7.5e-06, batchsize: 50\n",
      "Training...\n"
     ]
    },
    {
     "name": "stderr",
     "output_type": "stream",
     "text": [
      "100%|██████████| 150/150 [00:16<00:00,  8.99it/s]\n"
     ]
    },
    {
     "name": "stdout",
     "output_type": "stream",
     "text": [
      "[20/Apr/2023 00:05:35] INFO - Running process for Neural Net (lidar) | layers: 4, epochs: 150, lr: 7.5e-06, batchsize: 50\n",
      "Training...\n"
     ]
    },
    {
     "name": "stderr",
     "output_type": "stream",
     "text": [
      "100%|██████████| 150/150 [00:16<00:00,  9.01it/s]\n"
     ]
    },
    {
     "name": "stdout",
     "output_type": "stream",
     "text": [
      "[20/Apr/2023 00:05:52] INFO - Running process for Neural Net (lidar) | layers: 4, epochs: 150, lr: 7.5e-06, batchsize: 50\n",
      "Training...\n"
     ]
    },
    {
     "name": "stderr",
     "output_type": "stream",
     "text": [
      "100%|██████████| 150/150 [00:16<00:00,  8.96it/s]\n"
     ]
    },
    {
     "name": "stdout",
     "output_type": "stream",
     "text": [
      "[20/Apr/2023 00:06:09] INFO - Running process for Neural Net (lidar) | layers: 4, epochs: 150, lr: 7.5e-06, batchsize: 50\n",
      "Training...\n"
     ]
    },
    {
     "name": "stderr",
     "output_type": "stream",
     "text": [
      "100%|██████████| 150/150 [00:27<00:00,  5.48it/s]\n"
     ]
    },
    {
     "name": "stdout",
     "output_type": "stream",
     "text": [
      "[20/Apr/2023 00:06:36] INFO - Running process for Neural Net (lidar) | layers: 4, epochs: 150, lr: 7.5e-06, batchsize: 100\n",
      "Training...\n"
     ]
    },
    {
     "name": "stderr",
     "output_type": "stream",
     "text": [
      "100%|██████████| 150/150 [00:10<00:00, 14.65it/s]\n"
     ]
    },
    {
     "name": "stdout",
     "output_type": "stream",
     "text": [
      "[20/Apr/2023 00:06:47] INFO - Running process for Neural Net (lidar) | layers: 4, epochs: 150, lr: 7.5e-06, batchsize: 100\n",
      "Training...\n"
     ]
    },
    {
     "name": "stderr",
     "output_type": "stream",
     "text": [
      "100%|██████████| 150/150 [00:10<00:00, 14.61it/s]\n"
     ]
    },
    {
     "name": "stdout",
     "output_type": "stream",
     "text": [
      "[20/Apr/2023 00:06:57] INFO - Running process for Neural Net (lidar) | layers: 4, epochs: 150, lr: 7.5e-06, batchsize: 100\n",
      "Training...\n"
     ]
    },
    {
     "name": "stderr",
     "output_type": "stream",
     "text": [
      "100%|██████████| 150/150 [00:10<00:00, 14.67it/s]\n"
     ]
    },
    {
     "name": "stdout",
     "output_type": "stream",
     "text": [
      "[20/Apr/2023 00:07:07] INFO - Running process for Neural Net (lidar) | layers: 4, epochs: 150, lr: 7.5e-06, batchsize: 100\n",
      "Training...\n"
     ]
    },
    {
     "name": "stderr",
     "output_type": "stream",
     "text": [
      "100%|██████████| 150/150 [00:15<00:00,  9.59it/s]\n"
     ]
    },
    {
     "name": "stdout",
     "output_type": "stream",
     "text": [
      "[20/Apr/2023 00:07:23] INFO - Running process for Neural Net (lidar) | layers: 4, epochs: 150, lr: 7.5e-06, batchsize: 200\n",
      "Training...\n"
     ]
    },
    {
     "name": "stderr",
     "output_type": "stream",
     "text": [
      "100%|██████████| 150/150 [00:11<00:00, 12.92it/s]\n"
     ]
    },
    {
     "name": "stdout",
     "output_type": "stream",
     "text": [
      "[20/Apr/2023 00:07:35] INFO - Running process for Neural Net (lidar) | layers: 4, epochs: 150, lr: 7.5e-06, batchsize: 200\n",
      "Training...\n"
     ]
    },
    {
     "name": "stderr",
     "output_type": "stream",
     "text": [
      "100%|██████████| 150/150 [00:11<00:00, 12.96it/s]\n"
     ]
    },
    {
     "name": "stdout",
     "output_type": "stream",
     "text": [
      "[20/Apr/2023 00:07:47] INFO - Running process for Neural Net (lidar) | layers: 4, epochs: 150, lr: 7.5e-06, batchsize: 200\n",
      "Training...\n"
     ]
    },
    {
     "name": "stderr",
     "output_type": "stream",
     "text": [
      "100%|██████████| 150/150 [00:11<00:00, 12.97it/s]\n"
     ]
    },
    {
     "name": "stdout",
     "output_type": "stream",
     "text": [
      "[20/Apr/2023 00:07:58] INFO - Running process for Neural Net (lidar) | layers: 4, epochs: 150, lr: 7.5e-06, batchsize: 200\n",
      "Training...\n"
     ]
    },
    {
     "name": "stderr",
     "output_type": "stream",
     "text": [
      "100%|██████████| 150/150 [00:09<00:00, 16.59it/s]\n"
     ]
    },
    {
     "name": "stdout",
     "output_type": "stream",
     "text": [
      "[20/Apr/2023 00:08:07] INFO - Running process for Neural Net (lidar) | layers: 4, epochs: 300, lr: 0.0001, batchsize: 50\n",
      "Training...\n"
     ]
    },
    {
     "name": "stderr",
     "output_type": "stream",
     "text": [
      "100%|██████████| 300/300 [00:32<00:00,  9.17it/s]\n"
     ]
    },
    {
     "name": "stdout",
     "output_type": "stream",
     "text": [
      "[20/Apr/2023 00:08:40] INFO - Running process for Neural Net (lidar) | layers: 4, epochs: 300, lr: 0.0001, batchsize: 50\n",
      "Training...\n"
     ]
    },
    {
     "name": "stderr",
     "output_type": "stream",
     "text": [
      "100%|██████████| 300/300 [00:32<00:00,  9.15it/s]\n"
     ]
    },
    {
     "name": "stdout",
     "output_type": "stream",
     "text": [
      "[20/Apr/2023 00:09:13] INFO - Running process for Neural Net (lidar) | layers: 4, epochs: 300, lr: 0.0001, batchsize: 50\n",
      "Training...\n"
     ]
    },
    {
     "name": "stderr",
     "output_type": "stream",
     "text": [
      "100%|██████████| 300/300 [00:33<00:00,  9.03it/s]\n"
     ]
    },
    {
     "name": "stdout",
     "output_type": "stream",
     "text": [
      "[20/Apr/2023 00:09:47] INFO - Running process for Neural Net (lidar) | layers: 4, epochs: 300, lr: 0.0001, batchsize: 50\n",
      "Training...\n"
     ]
    },
    {
     "name": "stderr",
     "output_type": "stream",
     "text": [
      "100%|██████████| 300/300 [00:32<00:00,  9.17it/s]\n"
     ]
    },
    {
     "name": "stdout",
     "output_type": "stream",
     "text": [
      "[20/Apr/2023 00:10:19] INFO - Running process for Neural Net (lidar) | layers: 4, epochs: 300, lr: 0.0001, batchsize: 100\n",
      "Training...\n"
     ]
    },
    {
     "name": "stderr",
     "output_type": "stream",
     "text": [
      "100%|██████████| 300/300 [00:25<00:00, 11.91it/s]\n"
     ]
    },
    {
     "name": "stdout",
     "output_type": "stream",
     "text": [
      "[20/Apr/2023 00:10:45] INFO - Running process for Neural Net (lidar) | layers: 4, epochs: 300, lr: 0.0001, batchsize: 100\n",
      "Training...\n"
     ]
    },
    {
     "name": "stderr",
     "output_type": "stream",
     "text": [
      "100%|██████████| 300/300 [00:26<00:00, 11.26it/s]\n"
     ]
    },
    {
     "name": "stdout",
     "output_type": "stream",
     "text": [
      "[20/Apr/2023 00:11:12] INFO - Running process for Neural Net (lidar) | layers: 4, epochs: 300, lr: 0.0001, batchsize: 100\n",
      "Training...\n"
     ]
    },
    {
     "name": "stderr",
     "output_type": "stream",
     "text": [
      "100%|██████████| 300/300 [00:25<00:00, 11.62it/s]\n"
     ]
    },
    {
     "name": "stdout",
     "output_type": "stream",
     "text": [
      "[20/Apr/2023 00:11:38] INFO - Running process for Neural Net (lidar) | layers: 4, epochs: 300, lr: 0.0001, batchsize: 100\n",
      "Training...\n"
     ]
    },
    {
     "name": "stderr",
     "output_type": "stream",
     "text": [
      "100%|██████████| 300/300 [00:20<00:00, 14.30it/s]\n"
     ]
    },
    {
     "name": "stdout",
     "output_type": "stream",
     "text": [
      "[20/Apr/2023 00:11:59] INFO - Running process for Neural Net (lidar) | layers: 4, epochs: 300, lr: 0.0001, batchsize: 200\n",
      "Training...\n"
     ]
    },
    {
     "name": "stderr",
     "output_type": "stream",
     "text": [
      "100%|██████████| 300/300 [00:17<00:00, 16.71it/s]\n"
     ]
    },
    {
     "name": "stdout",
     "output_type": "stream",
     "text": [
      "[20/Apr/2023 00:12:17] INFO - Running process for Neural Net (lidar) | layers: 4, epochs: 300, lr: 0.0001, batchsize: 200\n",
      "Training...\n"
     ]
    },
    {
     "name": "stderr",
     "output_type": "stream",
     "text": [
      "100%|██████████| 300/300 [00:18<00:00, 16.57it/s]\n"
     ]
    },
    {
     "name": "stdout",
     "output_type": "stream",
     "text": [
      "[20/Apr/2023 00:12:35] INFO - Running process for Neural Net (lidar) | layers: 4, epochs: 300, lr: 0.0001, batchsize: 200\n",
      "Training...\n"
     ]
    },
    {
     "name": "stderr",
     "output_type": "stream",
     "text": [
      "100%|██████████| 300/300 [00:18<00:00, 16.66it/s]\n"
     ]
    },
    {
     "name": "stdout",
     "output_type": "stream",
     "text": [
      "[20/Apr/2023 00:12:53] INFO - Running process for Neural Net (lidar) | layers: 4, epochs: 300, lr: 0.0001, batchsize: 200\n",
      "Training...\n"
     ]
    },
    {
     "name": "stderr",
     "output_type": "stream",
     "text": [
      "100%|██████████| 300/300 [00:18<00:00, 16.55it/s]\n"
     ]
    },
    {
     "name": "stdout",
     "output_type": "stream",
     "text": [
      "[20/Apr/2023 00:13:11] INFO - Running process for Neural Net (lidar) | layers: 4, epochs: 300, lr: 7.5e-05, batchsize: 50\n",
      "Training...\n"
     ]
    },
    {
     "name": "stderr",
     "output_type": "stream",
     "text": [
      "100%|██████████| 300/300 [00:32<00:00,  9.13it/s]\n"
     ]
    },
    {
     "name": "stdout",
     "output_type": "stream",
     "text": [
      "[20/Apr/2023 00:13:44] INFO - Running process for Neural Net (lidar) | layers: 4, epochs: 300, lr: 7.5e-05, batchsize: 50\n",
      "Training...\n"
     ]
    },
    {
     "name": "stderr",
     "output_type": "stream",
     "text": [
      "100%|██████████| 300/300 [00:32<00:00,  9.19it/s]\n"
     ]
    },
    {
     "name": "stdout",
     "output_type": "stream",
     "text": [
      "[20/Apr/2023 00:14:17] INFO - Running process for Neural Net (lidar) | layers: 4, epochs: 300, lr: 7.5e-05, batchsize: 50\n",
      "Training...\n"
     ]
    },
    {
     "name": "stderr",
     "output_type": "stream",
     "text": [
      "100%|██████████| 300/300 [00:33<00:00,  9.01it/s]\n"
     ]
    },
    {
     "name": "stdout",
     "output_type": "stream",
     "text": [
      "[20/Apr/2023 00:14:51] INFO - Running process for Neural Net (lidar) | layers: 4, epochs: 300, lr: 7.5e-05, batchsize: 50\n",
      "Training...\n"
     ]
    },
    {
     "name": "stderr",
     "output_type": "stream",
     "text": [
      "100%|██████████| 300/300 [00:41<00:00,  7.24it/s]\n"
     ]
    },
    {
     "name": "stdout",
     "output_type": "stream",
     "text": [
      "[20/Apr/2023 00:15:32] INFO - Running process for Neural Net (lidar) | layers: 4, epochs: 300, lr: 7.5e-05, batchsize: 100\n",
      "Training...\n"
     ]
    },
    {
     "name": "stderr",
     "output_type": "stream",
     "text": [
      "100%|██████████| 300/300 [00:23<00:00, 12.69it/s]\n"
     ]
    },
    {
     "name": "stdout",
     "output_type": "stream",
     "text": [
      "[20/Apr/2023 00:15:56] INFO - Running process for Neural Net (lidar) | layers: 4, epochs: 300, lr: 7.5e-05, batchsize: 100\n",
      "Training...\n"
     ]
    },
    {
     "name": "stderr",
     "output_type": "stream",
     "text": [
      "100%|██████████| 300/300 [00:21<00:00, 14.27it/s]\n"
     ]
    },
    {
     "name": "stdout",
     "output_type": "stream",
     "text": [
      "[20/Apr/2023 00:16:17] INFO - Running process for Neural Net (lidar) | layers: 4, epochs: 300, lr: 7.5e-05, batchsize: 100\n",
      "Training...\n"
     ]
    },
    {
     "name": "stderr",
     "output_type": "stream",
     "text": [
      "100%|██████████| 300/300 [00:22<00:00, 13.26it/s]\n"
     ]
    },
    {
     "name": "stdout",
     "output_type": "stream",
     "text": [
      "[20/Apr/2023 00:16:40] INFO - Running process for Neural Net (lidar) | layers: 4, epochs: 300, lr: 7.5e-05, batchsize: 100\n",
      "Training...\n"
     ]
    },
    {
     "name": "stderr",
     "output_type": "stream",
     "text": [
      "100%|██████████| 300/300 [00:21<00:00, 14.07it/s]\n"
     ]
    },
    {
     "name": "stdout",
     "output_type": "stream",
     "text": [
      "[20/Apr/2023 00:17:01] INFO - Running process for Neural Net (lidar) | layers: 4, epochs: 300, lr: 7.5e-05, batchsize: 200\n",
      "Training...\n"
     ]
    },
    {
     "name": "stderr",
     "output_type": "stream",
     "text": [
      "100%|██████████| 300/300 [00:15<00:00, 19.40it/s]\n"
     ]
    },
    {
     "name": "stdout",
     "output_type": "stream",
     "text": [
      "[20/Apr/2023 00:17:17] INFO - Running process for Neural Net (lidar) | layers: 4, epochs: 300, lr: 7.5e-05, batchsize: 200\n",
      "Training...\n"
     ]
    },
    {
     "name": "stderr",
     "output_type": "stream",
     "text": [
      "100%|██████████| 300/300 [00:18<00:00, 16.57it/s]\n"
     ]
    },
    {
     "name": "stdout",
     "output_type": "stream",
     "text": [
      "[20/Apr/2023 00:17:35] INFO - Running process for Neural Net (lidar) | layers: 4, epochs: 300, lr: 7.5e-05, batchsize: 200\n",
      "Training...\n"
     ]
    },
    {
     "name": "stderr",
     "output_type": "stream",
     "text": [
      "100%|██████████| 300/300 [00:18<00:00, 16.62it/s]\n"
     ]
    },
    {
     "name": "stdout",
     "output_type": "stream",
     "text": [
      "[20/Apr/2023 00:17:53] INFO - Running process for Neural Net (lidar) | layers: 4, epochs: 300, lr: 7.5e-05, batchsize: 200\n",
      "Training...\n"
     ]
    },
    {
     "name": "stderr",
     "output_type": "stream",
     "text": [
      "100%|██████████| 300/300 [00:18<00:00, 16.59it/s]\n"
     ]
    },
    {
     "name": "stdout",
     "output_type": "stream",
     "text": [
      "[20/Apr/2023 00:18:12] INFO - Running process for Neural Net (lidar) | layers: 4, epochs: 300, lr: 1e-05, batchsize: 50\n",
      "Training...\n"
     ]
    },
    {
     "name": "stderr",
     "output_type": "stream",
     "text": [
      "100%|██████████| 300/300 [00:33<00:00,  8.89it/s]\n"
     ]
    },
    {
     "name": "stdout",
     "output_type": "stream",
     "text": [
      "[20/Apr/2023 00:18:46] INFO - Running process for Neural Net (lidar) | layers: 4, epochs: 300, lr: 1e-05, batchsize: 50\n",
      "Training...\n"
     ]
    },
    {
     "name": "stderr",
     "output_type": "stream",
     "text": [
      "100%|██████████| 300/300 [00:33<00:00,  8.91it/s]\n"
     ]
    },
    {
     "name": "stdout",
     "output_type": "stream",
     "text": [
      "[20/Apr/2023 00:19:19] INFO - Running process for Neural Net (lidar) | layers: 4, epochs: 300, lr: 1e-05, batchsize: 50\n",
      "Training...\n"
     ]
    },
    {
     "name": "stderr",
     "output_type": "stream",
     "text": [
      "100%|██████████| 300/300 [00:36<00:00,  8.14it/s]\n"
     ]
    },
    {
     "name": "stdout",
     "output_type": "stream",
     "text": [
      "[20/Apr/2023 00:19:56] INFO - Running process for Neural Net (lidar) | layers: 4, epochs: 300, lr: 1e-05, batchsize: 50\n",
      "Training...\n"
     ]
    },
    {
     "name": "stderr",
     "output_type": "stream",
     "text": [
      "100%|██████████| 300/300 [00:33<00:00,  8.98it/s]\n"
     ]
    },
    {
     "name": "stdout",
     "output_type": "stream",
     "text": [
      "[20/Apr/2023 00:20:30] INFO - Running process for Neural Net (lidar) | layers: 4, epochs: 300, lr: 1e-05, batchsize: 100\n",
      "Training...\n"
     ]
    },
    {
     "name": "stderr",
     "output_type": "stream",
     "text": [
      "100%|██████████| 300/300 [00:20<00:00, 14.30it/s]\n"
     ]
    },
    {
     "name": "stdout",
     "output_type": "stream",
     "text": [
      "[20/Apr/2023 00:20:51] INFO - Running process for Neural Net (lidar) | layers: 4, epochs: 300, lr: 1e-05, batchsize: 100\n",
      "Training...\n"
     ]
    },
    {
     "name": "stderr",
     "output_type": "stream",
     "text": [
      "100%|██████████| 300/300 [00:20<00:00, 14.55it/s]"
     ]
    },
    {
     "name": "stdout",
     "output_type": "stream",
     "text": [
      "[20/Apr/2023 00:21:12] INFO - Running process for Neural Net (lidar) | layers: 4, epochs: 300, lr: 1e-05, batchsize: 100\n"
     ]
    },
    {
     "name": "stderr",
     "output_type": "stream",
     "text": [
      "\n"
     ]
    },
    {
     "name": "stdout",
     "output_type": "stream",
     "text": [
      "Training...\n"
     ]
    },
    {
     "name": "stderr",
     "output_type": "stream",
     "text": [
      "100%|██████████| 300/300 [00:20<00:00, 14.50it/s]\n"
     ]
    },
    {
     "name": "stdout",
     "output_type": "stream",
     "text": [
      "[20/Apr/2023 00:21:33] INFO - Running process for Neural Net (lidar) | layers: 4, epochs: 300, lr: 1e-05, batchsize: 100\n",
      "Training...\n"
     ]
    },
    {
     "name": "stderr",
     "output_type": "stream",
     "text": [
      "100%|██████████| 300/300 [00:24<00:00, 12.46it/s]\n"
     ]
    },
    {
     "name": "stdout",
     "output_type": "stream",
     "text": [
      "[20/Apr/2023 00:21:57] INFO - Running process for Neural Net (lidar) | layers: 4, epochs: 300, lr: 1e-05, batchsize: 200\n",
      "Training...\n"
     ]
    },
    {
     "name": "stderr",
     "output_type": "stream",
     "text": [
      "100%|██████████| 300/300 [00:16<00:00, 18.41it/s]\n"
     ]
    },
    {
     "name": "stdout",
     "output_type": "stream",
     "text": [
      "[20/Apr/2023 00:22:13] INFO - Running process for Neural Net (lidar) | layers: 4, epochs: 300, lr: 1e-05, batchsize: 200\n",
      "Training...\n"
     ]
    },
    {
     "name": "stderr",
     "output_type": "stream",
     "text": [
      "100%|██████████| 300/300 [00:18<00:00, 16.57it/s]\n"
     ]
    },
    {
     "name": "stdout",
     "output_type": "stream",
     "text": [
      "[20/Apr/2023 00:22:31] INFO - Running process for Neural Net (lidar) | layers: 4, epochs: 300, lr: 1e-05, batchsize: 200\n",
      "Training...\n"
     ]
    },
    {
     "name": "stderr",
     "output_type": "stream",
     "text": [
      "100%|██████████| 300/300 [00:18<00:00, 16.48it/s]\n"
     ]
    },
    {
     "name": "stdout",
     "output_type": "stream",
     "text": [
      "[20/Apr/2023 00:22:50] INFO - Running process for Neural Net (lidar) | layers: 4, epochs: 300, lr: 1e-05, batchsize: 200\n",
      "Training...\n"
     ]
    },
    {
     "name": "stderr",
     "output_type": "stream",
     "text": [
      "100%|██████████| 300/300 [00:18<00:00, 16.63it/s]\n"
     ]
    },
    {
     "name": "stdout",
     "output_type": "stream",
     "text": [
      "[20/Apr/2023 00:23:08] INFO - Running process for Neural Net (lidar) | layers: 4, epochs: 300, lr: 7.5e-06, batchsize: 50\n",
      "Training...\n"
     ]
    },
    {
     "name": "stderr",
     "output_type": "stream",
     "text": [
      "100%|██████████| 300/300 [00:32<00:00,  9.10it/s]\n"
     ]
    },
    {
     "name": "stdout",
     "output_type": "stream",
     "text": [
      "[20/Apr/2023 00:23:41] INFO - Running process for Neural Net (lidar) | layers: 4, epochs: 300, lr: 7.5e-06, batchsize: 50\n",
      "Training...\n"
     ]
    },
    {
     "name": "stderr",
     "output_type": "stream",
     "text": [
      "100%|██████████| 300/300 [00:33<00:00,  9.05it/s]\n"
     ]
    },
    {
     "name": "stdout",
     "output_type": "stream",
     "text": [
      "[20/Apr/2023 00:24:14] INFO - Running process for Neural Net (lidar) | layers: 4, epochs: 300, lr: 7.5e-06, batchsize: 50\n",
      "Training...\n"
     ]
    },
    {
     "name": "stderr",
     "output_type": "stream",
     "text": [
      "100%|██████████| 300/300 [00:33<00:00,  9.03it/s]\n"
     ]
    },
    {
     "name": "stdout",
     "output_type": "stream",
     "text": [
      "[20/Apr/2023 00:24:48] INFO - Running process for Neural Net (lidar) | layers: 4, epochs: 300, lr: 7.5e-06, batchsize: 50\n",
      "Training...\n"
     ]
    },
    {
     "name": "stderr",
     "output_type": "stream",
     "text": [
      "100%|██████████| 300/300 [00:33<00:00,  8.97it/s]\n"
     ]
    },
    {
     "name": "stdout",
     "output_type": "stream",
     "text": [
      "[20/Apr/2023 00:25:21] INFO - Running process for Neural Net (lidar) | layers: 4, epochs: 300, lr: 7.5e-06, batchsize: 100\n",
      "Training...\n"
     ]
    },
    {
     "name": "stderr",
     "output_type": "stream",
     "text": [
      "100%|██████████| 300/300 [00:20<00:00, 14.35it/s]\n"
     ]
    },
    {
     "name": "stdout",
     "output_type": "stream",
     "text": [
      "[20/Apr/2023 00:25:42] INFO - Running process for Neural Net (lidar) | layers: 4, epochs: 300, lr: 7.5e-06, batchsize: 100\n",
      "Training...\n"
     ]
    },
    {
     "name": "stderr",
     "output_type": "stream",
     "text": [
      "100%|██████████| 300/300 [00:21<00:00, 14.15it/s]\n"
     ]
    },
    {
     "name": "stdout",
     "output_type": "stream",
     "text": [
      "[20/Apr/2023 00:26:04] INFO - Running process for Neural Net (lidar) | layers: 4, epochs: 300, lr: 7.5e-06, batchsize: 100\n",
      "Training...\n"
     ]
    },
    {
     "name": "stderr",
     "output_type": "stream",
     "text": [
      "100%|██████████| 300/300 [00:20<00:00, 14.38it/s]\n"
     ]
    },
    {
     "name": "stdout",
     "output_type": "stream",
     "text": [
      "[20/Apr/2023 00:26:25] INFO - Running process for Neural Net (lidar) | layers: 4, epochs: 300, lr: 7.5e-06, batchsize: 100\n",
      "Training...\n"
     ]
    },
    {
     "name": "stderr",
     "output_type": "stream",
     "text": [
      "100%|██████████| 300/300 [00:20<00:00, 14.36it/s]\n"
     ]
    },
    {
     "name": "stdout",
     "output_type": "stream",
     "text": [
      "[20/Apr/2023 00:26:46] INFO - Running process for Neural Net (lidar) | layers: 4, epochs: 300, lr: 7.5e-06, batchsize: 200\n",
      "Training...\n"
     ]
    },
    {
     "name": "stderr",
     "output_type": "stream",
     "text": [
      "100%|██████████| 300/300 [00:15<00:00, 19.60it/s]\n"
     ]
    },
    {
     "name": "stdout",
     "output_type": "stream",
     "text": [
      "[20/Apr/2023 00:27:01] INFO - Running process for Neural Net (lidar) | layers: 4, epochs: 300, lr: 7.5e-06, batchsize: 200\n",
      "Training...\n"
     ]
    },
    {
     "name": "stderr",
     "output_type": "stream",
     "text": [
      "100%|██████████| 300/300 [00:15<00:00, 19.54it/s]\n"
     ]
    },
    {
     "name": "stdout",
     "output_type": "stream",
     "text": [
      "[20/Apr/2023 00:27:17] INFO - Running process for Neural Net (lidar) | layers: 4, epochs: 300, lr: 7.5e-06, batchsize: 200\n",
      "Training...\n"
     ]
    },
    {
     "name": "stderr",
     "output_type": "stream",
     "text": [
      "100%|██████████| 300/300 [00:15<00:00, 19.64it/s]\n"
     ]
    },
    {
     "name": "stdout",
     "output_type": "stream",
     "text": [
      "[20/Apr/2023 00:27:32] INFO - Running process for Neural Net (lidar) | layers: 4, epochs: 300, lr: 7.5e-06, batchsize: 200\n",
      "Training...\n"
     ]
    },
    {
     "name": "stderr",
     "output_type": "stream",
     "text": [
      "100%|██████████| 300/300 [00:17<00:00, 16.72it/s]\n"
     ]
    },
    {
     "name": "stdout",
     "output_type": "stream",
     "text": [
      "[20/Apr/2023 00:27:50] INFO - Running process for Neural Net (lidar) | layers: 4, epochs: 450, lr: 0.0001, batchsize: 50\n",
      "Training...\n"
     ]
    },
    {
     "name": "stderr",
     "output_type": "stream",
     "text": [
      "100%|██████████| 450/450 [00:49<00:00,  9.05it/s]\n"
     ]
    },
    {
     "name": "stdout",
     "output_type": "stream",
     "text": [
      "[20/Apr/2023 00:28:40] INFO - Running process for Neural Net (lidar) | layers: 4, epochs: 450, lr: 0.0001, batchsize: 50\n",
      "Training...\n"
     ]
    },
    {
     "name": "stderr",
     "output_type": "stream",
     "text": [
      "100%|██████████| 450/450 [00:49<00:00,  9.16it/s]\n"
     ]
    },
    {
     "name": "stdout",
     "output_type": "stream",
     "text": [
      "[20/Apr/2023 00:29:29] INFO - Running process for Neural Net (lidar) | layers: 4, epochs: 450, lr: 0.0001, batchsize: 50\n",
      "Training...\n"
     ]
    },
    {
     "name": "stderr",
     "output_type": "stream",
     "text": [
      "100%|██████████| 450/450 [00:49<00:00,  9.11it/s]\n"
     ]
    },
    {
     "name": "stdout",
     "output_type": "stream",
     "text": [
      "[20/Apr/2023 00:30:19] INFO - Running process for Neural Net (lidar) | layers: 4, epochs: 450, lr: 0.0001, batchsize: 50\n",
      "Training...\n"
     ]
    },
    {
     "name": "stderr",
     "output_type": "stream",
     "text": [
      "100%|██████████| 450/450 [00:49<00:00,  9.06it/s]\n"
     ]
    },
    {
     "name": "stdout",
     "output_type": "stream",
     "text": [
      "[20/Apr/2023 00:31:09] INFO - Running process for Neural Net (lidar) | layers: 4, epochs: 450, lr: 0.0001, batchsize: 100\n",
      "Training...\n"
     ]
    },
    {
     "name": "stderr",
     "output_type": "stream",
     "text": [
      "100%|██████████| 450/450 [00:35<00:00, 12.50it/s]\n"
     ]
    },
    {
     "name": "stdout",
     "output_type": "stream",
     "text": [
      "[20/Apr/2023 00:31:45] INFO - Running process for Neural Net (lidar) | layers: 4, epochs: 450, lr: 0.0001, batchsize: 100\n",
      "Training...\n"
     ]
    },
    {
     "name": "stderr",
     "output_type": "stream",
     "text": [
      "100%|██████████| 450/450 [00:41<00:00, 10.86it/s]\n"
     ]
    },
    {
     "name": "stdout",
     "output_type": "stream",
     "text": [
      "[20/Apr/2023 00:32:26] INFO - Running process for Neural Net (lidar) | layers: 4, epochs: 450, lr: 0.0001, batchsize: 100\n",
      "Training...\n"
     ]
    },
    {
     "name": "stderr",
     "output_type": "stream",
     "text": [
      "100%|██████████| 450/450 [00:31<00:00, 14.30it/s]\n"
     ]
    },
    {
     "name": "stdout",
     "output_type": "stream",
     "text": [
      "[20/Apr/2023 00:32:58] INFO - Running process for Neural Net (lidar) | layers: 4, epochs: 450, lr: 0.0001, batchsize: 100\n",
      "Training...\n"
     ]
    },
    {
     "name": "stderr",
     "output_type": "stream",
     "text": [
      "100%|██████████| 450/450 [00:31<00:00, 14.38it/s]\n"
     ]
    },
    {
     "name": "stdout",
     "output_type": "stream",
     "text": [
      "[20/Apr/2023 00:33:29] INFO - Running process for Neural Net (lidar) | layers: 4, epochs: 450, lr: 0.0001, batchsize: 200\n",
      "Training...\n"
     ]
    },
    {
     "name": "stderr",
     "output_type": "stream",
     "text": [
      "100%|██████████| 450/450 [00:22<00:00, 19.79it/s]\n"
     ]
    },
    {
     "name": "stdout",
     "output_type": "stream",
     "text": [
      "[20/Apr/2023 00:33:52] INFO - Running process for Neural Net (lidar) | layers: 4, epochs: 450, lr: 0.0001, batchsize: 200\n",
      "Training...\n"
     ]
    },
    {
     "name": "stderr",
     "output_type": "stream",
     "text": [
      "100%|██████████| 450/450 [00:22<00:00, 19.67it/s]\n"
     ]
    },
    {
     "name": "stdout",
     "output_type": "stream",
     "text": [
      "[20/Apr/2023 00:34:15] INFO - Running process for Neural Net (lidar) | layers: 4, epochs: 450, lr: 0.0001, batchsize: 200\n",
      "Training...\n"
     ]
    },
    {
     "name": "stderr",
     "output_type": "stream",
     "text": [
      "100%|██████████| 450/450 [00:23<00:00, 19.55it/s]\n"
     ]
    },
    {
     "name": "stdout",
     "output_type": "stream",
     "text": [
      "[20/Apr/2023 00:34:38] INFO - Running process for Neural Net (lidar) | layers: 4, epochs: 450, lr: 0.0001, batchsize: 200\n",
      "Training...\n"
     ]
    },
    {
     "name": "stderr",
     "output_type": "stream",
     "text": [
      "100%|██████████| 450/450 [00:23<00:00, 19.54it/s]\n"
     ]
    },
    {
     "name": "stdout",
     "output_type": "stream",
     "text": [
      "[20/Apr/2023 00:35:02] INFO - Running process for Neural Net (lidar) | layers: 4, epochs: 450, lr: 7.5e-05, batchsize: 50\n",
      "Training...\n"
     ]
    },
    {
     "name": "stderr",
     "output_type": "stream",
     "text": [
      "100%|██████████| 450/450 [00:49<00:00,  9.03it/s]\n"
     ]
    },
    {
     "name": "stdout",
     "output_type": "stream",
     "text": [
      "[20/Apr/2023 00:35:52] INFO - Running process for Neural Net (lidar) | layers: 4, epochs: 450, lr: 7.5e-05, batchsize: 50\n",
      "Training...\n"
     ]
    },
    {
     "name": "stderr",
     "output_type": "stream",
     "text": [
      "100%|██████████| 450/450 [00:49<00:00,  9.06it/s]\n"
     ]
    },
    {
     "name": "stdout",
     "output_type": "stream",
     "text": [
      "[20/Apr/2023 00:36:41] INFO - Running process for Neural Net (lidar) | layers: 4, epochs: 450, lr: 7.5e-05, batchsize: 50\n",
      "Training...\n"
     ]
    },
    {
     "name": "stderr",
     "output_type": "stream",
     "text": [
      "100%|██████████| 450/450 [00:49<00:00,  9.00it/s]\n"
     ]
    },
    {
     "name": "stdout",
     "output_type": "stream",
     "text": [
      "[20/Apr/2023 00:37:32] INFO - Running process for Neural Net (lidar) | layers: 4, epochs: 450, lr: 7.5e-05, batchsize: 50\n",
      "Training...\n"
     ]
    },
    {
     "name": "stderr",
     "output_type": "stream",
     "text": [
      "100%|██████████| 450/450 [00:49<00:00,  9.08it/s]\n"
     ]
    },
    {
     "name": "stdout",
     "output_type": "stream",
     "text": [
      "[20/Apr/2023 00:38:21] INFO - Running process for Neural Net (lidar) | layers: 4, epochs: 450, lr: 7.5e-05, batchsize: 100\n",
      "Training...\n"
     ]
    },
    {
     "name": "stderr",
     "output_type": "stream",
     "text": [
      "100%|██████████| 450/450 [00:31<00:00, 14.14it/s]\n"
     ]
    },
    {
     "name": "stdout",
     "output_type": "stream",
     "text": [
      "[20/Apr/2023 00:38:53] INFO - Running process for Neural Net (lidar) | layers: 4, epochs: 450, lr: 7.5e-05, batchsize: 100\n",
      "Training...\n"
     ]
    },
    {
     "name": "stderr",
     "output_type": "stream",
     "text": [
      "100%|██████████| 450/450 [00:31<00:00, 14.27it/s]\n"
     ]
    },
    {
     "name": "stdout",
     "output_type": "stream",
     "text": [
      "[20/Apr/2023 00:39:25] INFO - Running process for Neural Net (lidar) | layers: 4, epochs: 450, lr: 7.5e-05, batchsize: 100\n",
      "Training...\n"
     ]
    },
    {
     "name": "stderr",
     "output_type": "stream",
     "text": [
      "100%|██████████| 450/450 [00:31<00:00, 14.28it/s]\n"
     ]
    },
    {
     "name": "stdout",
     "output_type": "stream",
     "text": [
      "[20/Apr/2023 00:39:57] INFO - Running process for Neural Net (lidar) | layers: 4, epochs: 450, lr: 7.5e-05, batchsize: 100\n",
      "Training...\n"
     ]
    },
    {
     "name": "stderr",
     "output_type": "stream",
     "text": [
      "100%|██████████| 450/450 [00:31<00:00, 14.33it/s]\n"
     ]
    },
    {
     "name": "stdout",
     "output_type": "stream",
     "text": [
      "[20/Apr/2023 00:40:28] INFO - Running process for Neural Net (lidar) | layers: 4, epochs: 450, lr: 7.5e-05, batchsize: 200\n",
      "Training...\n"
     ]
    },
    {
     "name": "stderr",
     "output_type": "stream",
     "text": [
      "100%|██████████| 450/450 [00:26<00:00, 16.80it/s]\n"
     ]
    },
    {
     "name": "stdout",
     "output_type": "stream",
     "text": [
      "[20/Apr/2023 00:40:55] INFO - Running process for Neural Net (lidar) | layers: 4, epochs: 450, lr: 7.5e-05, batchsize: 200\n",
      "Training...\n"
     ]
    },
    {
     "name": "stderr",
     "output_type": "stream",
     "text": [
      "100%|██████████| 450/450 [00:27<00:00, 16.64it/s]\n"
     ]
    },
    {
     "name": "stdout",
     "output_type": "stream",
     "text": [
      "[20/Apr/2023 00:41:22] INFO - Running process for Neural Net (lidar) | layers: 4, epochs: 450, lr: 7.5e-05, batchsize: 200\n",
      "Training...\n"
     ]
    },
    {
     "name": "stderr",
     "output_type": "stream",
     "text": [
      "100%|██████████| 450/450 [00:26<00:00, 16.75it/s]\n"
     ]
    },
    {
     "name": "stdout",
     "output_type": "stream",
     "text": [
      "[20/Apr/2023 00:41:49] INFO - Running process for Neural Net (lidar) | layers: 4, epochs: 450, lr: 7.5e-05, batchsize: 200\n",
      "Training...\n"
     ]
    },
    {
     "name": "stderr",
     "output_type": "stream",
     "text": [
      "100%|██████████| 450/450 [00:26<00:00, 16.71it/s]\n"
     ]
    },
    {
     "name": "stdout",
     "output_type": "stream",
     "text": [
      "[20/Apr/2023 00:42:16] INFO - Running process for Neural Net (lidar) | layers: 4, epochs: 450, lr: 1e-05, batchsize: 50\n",
      "Training...\n"
     ]
    },
    {
     "name": "stderr",
     "output_type": "stream",
     "text": [
      "100%|██████████| 450/450 [00:50<00:00,  9.00it/s]\n"
     ]
    },
    {
     "name": "stdout",
     "output_type": "stream",
     "text": [
      "[20/Apr/2023 00:43:06] INFO - Running process for Neural Net (lidar) | layers: 4, epochs: 450, lr: 1e-05, batchsize: 50\n",
      "Training...\n"
     ]
    },
    {
     "name": "stderr",
     "output_type": "stream",
     "text": [
      "100%|██████████| 450/450 [00:49<00:00,  9.07it/s]\n"
     ]
    },
    {
     "name": "stdout",
     "output_type": "stream",
     "text": [
      "[20/Apr/2023 00:43:56] INFO - Running process for Neural Net (lidar) | layers: 4, epochs: 450, lr: 1e-05, batchsize: 50\n",
      "Training...\n"
     ]
    },
    {
     "name": "stderr",
     "output_type": "stream",
     "text": [
      "100%|██████████| 450/450 [00:49<00:00,  9.15it/s]\n"
     ]
    },
    {
     "name": "stdout",
     "output_type": "stream",
     "text": [
      "[20/Apr/2023 00:44:46] INFO - Running process for Neural Net (lidar) | layers: 4, epochs: 450, lr: 1e-05, batchsize: 50\n",
      "Training...\n"
     ]
    },
    {
     "name": "stderr",
     "output_type": "stream",
     "text": [
      "100%|██████████| 450/450 [00:49<00:00,  9.01it/s]\n"
     ]
    },
    {
     "name": "stdout",
     "output_type": "stream",
     "text": [
      "[20/Apr/2023 00:45:36] INFO - Running process for Neural Net (lidar) | layers: 4, epochs: 450, lr: 1e-05, batchsize: 100\n",
      "Training...\n"
     ]
    },
    {
     "name": "stderr",
     "output_type": "stream",
     "text": [
      "100%|██████████| 450/450 [00:31<00:00, 14.29it/s]\n"
     ]
    },
    {
     "name": "stdout",
     "output_type": "stream",
     "text": [
      "[20/Apr/2023 00:46:07] INFO - Running process for Neural Net (lidar) | layers: 4, epochs: 450, lr: 1e-05, batchsize: 100\n",
      "Training...\n"
     ]
    },
    {
     "name": "stderr",
     "output_type": "stream",
     "text": [
      "100%|██████████| 450/450 [00:31<00:00, 14.19it/s]\n"
     ]
    },
    {
     "name": "stdout",
     "output_type": "stream",
     "text": [
      "[20/Apr/2023 00:46:39] INFO - Running process for Neural Net (lidar) | layers: 4, epochs: 450, lr: 1e-05, batchsize: 100\n",
      "Training...\n"
     ]
    },
    {
     "name": "stderr",
     "output_type": "stream",
     "text": [
      "100%|██████████| 450/450 [00:32<00:00, 14.00it/s]\n"
     ]
    },
    {
     "name": "stdout",
     "output_type": "stream",
     "text": [
      "[20/Apr/2023 00:47:11] INFO - Running process for Neural Net (lidar) | layers: 4, epochs: 450, lr: 1e-05, batchsize: 100\n",
      "Training...\n"
     ]
    },
    {
     "name": "stderr",
     "output_type": "stream",
     "text": [
      "100%|██████████| 450/450 [00:31<00:00, 14.10it/s]\n"
     ]
    },
    {
     "name": "stdout",
     "output_type": "stream",
     "text": [
      "[20/Apr/2023 00:47:43] INFO - Running process for Neural Net (lidar) | layers: 4, epochs: 450, lr: 1e-05, batchsize: 200\n",
      "Training...\n"
     ]
    },
    {
     "name": "stderr",
     "output_type": "stream",
     "text": [
      "100%|██████████| 450/450 [00:31<00:00, 14.26it/s]\n"
     ]
    },
    {
     "name": "stdout",
     "output_type": "stream",
     "text": [
      "[20/Apr/2023 00:48:15] INFO - Running process for Neural Net (lidar) | layers: 4, epochs: 450, lr: 1e-05, batchsize: 200\n",
      "Training...\n"
     ]
    },
    {
     "name": "stderr",
     "output_type": "stream",
     "text": [
      "100%|██████████| 450/450 [00:28<00:00, 15.73it/s]\n"
     ]
    },
    {
     "name": "stdout",
     "output_type": "stream",
     "text": [
      "[20/Apr/2023 00:48:44] INFO - Running process for Neural Net (lidar) | layers: 4, epochs: 450, lr: 1e-05, batchsize: 200\n",
      "Training...\n"
     ]
    },
    {
     "name": "stderr",
     "output_type": "stream",
     "text": [
      "100%|██████████| 450/450 [00:27<00:00, 16.53it/s]\n"
     ]
    },
    {
     "name": "stdout",
     "output_type": "stream",
     "text": [
      "[20/Apr/2023 00:49:11] INFO - Running process for Neural Net (lidar) | layers: 4, epochs: 450, lr: 1e-05, batchsize: 200\n",
      "Training...\n"
     ]
    },
    {
     "name": "stderr",
     "output_type": "stream",
     "text": [
      "100%|██████████| 450/450 [00:27<00:00, 16.60it/s]\n"
     ]
    },
    {
     "name": "stdout",
     "output_type": "stream",
     "text": [
      "[20/Apr/2023 00:49:38] INFO - Running process for Neural Net (lidar) | layers: 4, epochs: 450, lr: 7.5e-06, batchsize: 50\n",
      "Training...\n"
     ]
    },
    {
     "name": "stderr",
     "output_type": "stream",
     "text": [
      "100%|██████████| 450/450 [01:03<00:00,  7.03it/s]\n"
     ]
    },
    {
     "name": "stdout",
     "output_type": "stream",
     "text": [
      "[20/Apr/2023 00:50:43] INFO - Running process for Neural Net (lidar) | layers: 4, epochs: 450, lr: 7.5e-06, batchsize: 50\n",
      "Training...\n"
     ]
    },
    {
     "name": "stderr",
     "output_type": "stream",
     "text": [
      "100%|██████████| 450/450 [00:49<00:00,  9.07it/s]\n"
     ]
    },
    {
     "name": "stdout",
     "output_type": "stream",
     "text": [
      "[20/Apr/2023 00:51:32] INFO - Running process for Neural Net (lidar) | layers: 4, epochs: 450, lr: 7.5e-06, batchsize: 50\n",
      "Training...\n"
     ]
    },
    {
     "name": "stderr",
     "output_type": "stream",
     "text": [
      "100%|██████████| 450/450 [00:50<00:00,  8.92it/s]\n"
     ]
    },
    {
     "name": "stdout",
     "output_type": "stream",
     "text": [
      "[20/Apr/2023 00:52:23] INFO - Running process for Neural Net (lidar) | layers: 4, epochs: 450, lr: 7.5e-06, batchsize: 50\n",
      "Training...\n"
     ]
    },
    {
     "name": "stderr",
     "output_type": "stream",
     "text": [
      "100%|██████████| 450/450 [00:50<00:00,  8.87it/s]\n"
     ]
    },
    {
     "name": "stdout",
     "output_type": "stream",
     "text": [
      "[20/Apr/2023 00:53:14] INFO - Running process for Neural Net (lidar) | layers: 4, epochs: 450, lr: 7.5e-06, batchsize: 100\n",
      "Training...\n"
     ]
    },
    {
     "name": "stderr",
     "output_type": "stream",
     "text": [
      "100%|██████████| 450/450 [00:31<00:00, 14.15it/s]\n"
     ]
    },
    {
     "name": "stdout",
     "output_type": "stream",
     "text": [
      "[20/Apr/2023 00:53:46] INFO - Running process for Neural Net (lidar) | layers: 4, epochs: 450, lr: 7.5e-06, batchsize: 100\n",
      "Training...\n"
     ]
    },
    {
     "name": "stderr",
     "output_type": "stream",
     "text": [
      "100%|██████████| 450/450 [00:31<00:00, 14.30it/s]\n"
     ]
    },
    {
     "name": "stdout",
     "output_type": "stream",
     "text": [
      "[20/Apr/2023 00:54:17] INFO - Running process for Neural Net (lidar) | layers: 4, epochs: 450, lr: 7.5e-06, batchsize: 100\n",
      "Training...\n"
     ]
    },
    {
     "name": "stderr",
     "output_type": "stream",
     "text": [
      "100%|██████████| 450/450 [00:32<00:00, 13.87it/s]\n"
     ]
    },
    {
     "name": "stdout",
     "output_type": "stream",
     "text": [
      "[20/Apr/2023 00:54:50] INFO - Running process for Neural Net (lidar) | layers: 4, epochs: 450, lr: 7.5e-06, batchsize: 100\n",
      "Training...\n"
     ]
    },
    {
     "name": "stderr",
     "output_type": "stream",
     "text": [
      "100%|██████████| 450/450 [00:31<00:00, 14.22it/s]\n"
     ]
    },
    {
     "name": "stdout",
     "output_type": "stream",
     "text": [
      "[20/Apr/2023 00:55:22] INFO - Running process for Neural Net (lidar) | layers: 4, epochs: 450, lr: 7.5e-06, batchsize: 200\n",
      "Training...\n"
     ]
    },
    {
     "name": "stderr",
     "output_type": "stream",
     "text": [
      "100%|██████████| 450/450 [00:23<00:00, 19.49it/s]\n"
     ]
    },
    {
     "name": "stdout",
     "output_type": "stream",
     "text": [
      "[20/Apr/2023 00:55:45] INFO - Running process for Neural Net (lidar) | layers: 4, epochs: 450, lr: 7.5e-06, batchsize: 200\n",
      "Training...\n"
     ]
    },
    {
     "name": "stderr",
     "output_type": "stream",
     "text": [
      "100%|██████████| 450/450 [00:22<00:00, 19.74it/s]\n"
     ]
    },
    {
     "name": "stdout",
     "output_type": "stream",
     "text": [
      "[20/Apr/2023 00:56:08] INFO - Running process for Neural Net (lidar) | layers: 4, epochs: 450, lr: 7.5e-06, batchsize: 200\n",
      "Training...\n"
     ]
    },
    {
     "name": "stderr",
     "output_type": "stream",
     "text": [
      "100%|██████████| 450/450 [00:22<00:00, 19.69it/s]\n"
     ]
    },
    {
     "name": "stdout",
     "output_type": "stream",
     "text": [
      "[20/Apr/2023 00:56:31] INFO - Running process for Neural Net (lidar) | layers: 4, epochs: 450, lr: 7.5e-06, batchsize: 200\n",
      "Training...\n"
     ]
    },
    {
     "name": "stderr",
     "output_type": "stream",
     "text": [
      "100%|██████████| 450/450 [00:27<00:00, 16.25it/s]\n"
     ]
    },
    {
     "name": "stdout",
     "output_type": "stream",
     "text": [
      "[20/Apr/2023 00:56:59] INFO - Running process for Neural Net (lidar) | layers: 3, epochs: 150, lr: 0.0001, batchsize: 50\n",
      "Training...\n"
     ]
    },
    {
     "name": "stderr",
     "output_type": "stream",
     "text": [
      "100%|██████████| 150/150 [00:14<00:00, 10.03it/s]\n"
     ]
    },
    {
     "name": "stdout",
     "output_type": "stream",
     "text": [
      "[20/Apr/2023 00:57:14] INFO - Running process for Neural Net (lidar) | layers: 3, epochs: 150, lr: 0.0001, batchsize: 50\n",
      "Training...\n"
     ]
    },
    {
     "name": "stderr",
     "output_type": "stream",
     "text": [
      "100%|██████████| 150/150 [00:14<00:00, 10.39it/s]\n"
     ]
    },
    {
     "name": "stdout",
     "output_type": "stream",
     "text": [
      "[20/Apr/2023 00:57:28] INFO - Running process for Neural Net (lidar) | layers: 3, epochs: 150, lr: 0.0001, batchsize: 50\n",
      "Training...\n"
     ]
    },
    {
     "name": "stderr",
     "output_type": "stream",
     "text": [
      "100%|██████████| 150/150 [00:14<00:00, 10.41it/s]\n"
     ]
    },
    {
     "name": "stdout",
     "output_type": "stream",
     "text": [
      "[20/Apr/2023 00:57:43] INFO - Running process for Neural Net (lidar) | layers: 3, epochs: 150, lr: 0.0001, batchsize: 50\n",
      "Training...\n"
     ]
    },
    {
     "name": "stderr",
     "output_type": "stream",
     "text": [
      "100%|██████████| 150/150 [00:17<00:00,  8.71it/s]\n"
     ]
    },
    {
     "name": "stdout",
     "output_type": "stream",
     "text": [
      "[20/Apr/2023 00:58:00] INFO - Running process for Neural Net (lidar) | layers: 3, epochs: 150, lr: 0.0001, batchsize: 100\n",
      "Training...\n"
     ]
    },
    {
     "name": "stderr",
     "output_type": "stream",
     "text": [
      "100%|██████████| 150/150 [00:09<00:00, 16.06it/s]\n"
     ]
    },
    {
     "name": "stdout",
     "output_type": "stream",
     "text": [
      "[20/Apr/2023 00:58:10] INFO - Running process for Neural Net (lidar) | layers: 3, epochs: 150, lr: 0.0001, batchsize: 100\n",
      "Training...\n"
     ]
    },
    {
     "name": "stderr",
     "output_type": "stream",
     "text": [
      "100%|██████████| 150/150 [00:09<00:00, 15.91it/s]\n"
     ]
    },
    {
     "name": "stdout",
     "output_type": "stream",
     "text": [
      "[20/Apr/2023 00:58:19] INFO - Running process for Neural Net (lidar) | layers: 3, epochs: 150, lr: 0.0001, batchsize: 100\n",
      "Training...\n"
     ]
    },
    {
     "name": "stderr",
     "output_type": "stream",
     "text": [
      "100%|██████████| 150/150 [00:09<00:00, 16.00it/s]\n"
     ]
    },
    {
     "name": "stdout",
     "output_type": "stream",
     "text": [
      "[20/Apr/2023 00:58:29] INFO - Running process for Neural Net (lidar) | layers: 3, epochs: 150, lr: 0.0001, batchsize: 100\n",
      "Training...\n"
     ]
    },
    {
     "name": "stderr",
     "output_type": "stream",
     "text": [
      "100%|██████████| 150/150 [00:09<00:00, 15.84it/s]\n"
     ]
    },
    {
     "name": "stdout",
     "output_type": "stream",
     "text": [
      "[20/Apr/2023 00:58:39] INFO - Running process for Neural Net (lidar) | layers: 3, epochs: 150, lr: 0.0001, batchsize: 200\n",
      "Training...\n"
     ]
    },
    {
     "name": "stderr",
     "output_type": "stream",
     "text": [
      "100%|██████████| 150/150 [00:06<00:00, 21.74it/s]\n"
     ]
    },
    {
     "name": "stdout",
     "output_type": "stream",
     "text": [
      "[20/Apr/2023 00:58:46] INFO - Running process for Neural Net (lidar) | layers: 3, epochs: 150, lr: 0.0001, batchsize: 200\n",
      "Training...\n"
     ]
    },
    {
     "name": "stderr",
     "output_type": "stream",
     "text": [
      "100%|██████████| 150/150 [00:06<00:00, 22.13it/s]\n"
     ]
    },
    {
     "name": "stdout",
     "output_type": "stream",
     "text": [
      "[20/Apr/2023 00:58:52] INFO - Running process for Neural Net (lidar) | layers: 3, epochs: 150, lr: 0.0001, batchsize: 200\n",
      "Training...\n"
     ]
    },
    {
     "name": "stderr",
     "output_type": "stream",
     "text": [
      "100%|██████████| 150/150 [00:06<00:00, 22.19it/s]\n"
     ]
    },
    {
     "name": "stdout",
     "output_type": "stream",
     "text": [
      "[20/Apr/2023 00:58:59] INFO - Running process for Neural Net (lidar) | layers: 3, epochs: 150, lr: 0.0001, batchsize: 200\n",
      "Training...\n"
     ]
    },
    {
     "name": "stderr",
     "output_type": "stream",
     "text": [
      "100%|██████████| 150/150 [00:06<00:00, 22.14it/s]\n"
     ]
    },
    {
     "name": "stdout",
     "output_type": "stream",
     "text": [
      "[20/Apr/2023 00:59:06] INFO - Running process for Neural Net (lidar) | layers: 3, epochs: 150, lr: 7.5e-05, batchsize: 50\n",
      "Training...\n"
     ]
    },
    {
     "name": "stderr",
     "output_type": "stream",
     "text": [
      "100%|██████████| 150/150 [00:14<00:00, 10.57it/s]\n"
     ]
    },
    {
     "name": "stdout",
     "output_type": "stream",
     "text": [
      "[20/Apr/2023 00:59:21] INFO - Running process for Neural Net (lidar) | layers: 3, epochs: 150, lr: 7.5e-05, batchsize: 50\n",
      "Training...\n"
     ]
    },
    {
     "name": "stderr",
     "output_type": "stream",
     "text": [
      "100%|██████████| 150/150 [00:14<00:00, 10.60it/s]\n"
     ]
    },
    {
     "name": "stdout",
     "output_type": "stream",
     "text": [
      "[20/Apr/2023 00:59:35] INFO - Running process for Neural Net (lidar) | layers: 3, epochs: 150, lr: 7.5e-05, batchsize: 50\n",
      "Training...\n"
     ]
    },
    {
     "name": "stderr",
     "output_type": "stream",
     "text": [
      "100%|██████████| 150/150 [00:14<00:00, 10.60it/s]\n"
     ]
    },
    {
     "name": "stdout",
     "output_type": "stream",
     "text": [
      "[20/Apr/2023 00:59:49] INFO - Running process for Neural Net (lidar) | layers: 3, epochs: 150, lr: 7.5e-05, batchsize: 50\n",
      "Training...\n"
     ]
    },
    {
     "name": "stderr",
     "output_type": "stream",
     "text": [
      "100%|██████████| 150/150 [00:14<00:00, 10.59it/s]\n"
     ]
    },
    {
     "name": "stdout",
     "output_type": "stream",
     "text": [
      "[20/Apr/2023 01:00:04] INFO - Running process for Neural Net (lidar) | layers: 3, epochs: 150, lr: 7.5e-05, batchsize: 100\n",
      "Training...\n"
     ]
    },
    {
     "name": "stderr",
     "output_type": "stream",
     "text": [
      "100%|██████████| 150/150 [00:09<00:00, 16.09it/s]\n"
     ]
    },
    {
     "name": "stdout",
     "output_type": "stream",
     "text": [
      "[20/Apr/2023 01:00:13] INFO - Running process for Neural Net (lidar) | layers: 3, epochs: 150, lr: 7.5e-05, batchsize: 100\n",
      "Training...\n"
     ]
    },
    {
     "name": "stderr",
     "output_type": "stream",
     "text": [
      "100%|██████████| 150/150 [00:09<00:00, 16.26it/s]\n"
     ]
    },
    {
     "name": "stdout",
     "output_type": "stream",
     "text": [
      "[20/Apr/2023 01:00:22] INFO - Running process for Neural Net (lidar) | layers: 3, epochs: 150, lr: 7.5e-05, batchsize: 100\n",
      "Training...\n"
     ]
    },
    {
     "name": "stderr",
     "output_type": "stream",
     "text": [
      "100%|██████████| 150/150 [00:09<00:00, 15.00it/s]\n"
     ]
    },
    {
     "name": "stdout",
     "output_type": "stream",
     "text": [
      "[20/Apr/2023 01:00:33] INFO - Running process for Neural Net (lidar) | layers: 3, epochs: 150, lr: 7.5e-05, batchsize: 100\n",
      "Training...\n"
     ]
    },
    {
     "name": "stderr",
     "output_type": "stream",
     "text": [
      "100%|██████████| 150/150 [00:09<00:00, 16.36it/s]\n"
     ]
    },
    {
     "name": "stdout",
     "output_type": "stream",
     "text": [
      "[20/Apr/2023 01:00:44] INFO - Running process for Neural Net (lidar) | layers: 3, epochs: 150, lr: 7.5e-05, batchsize: 200\n",
      "Training...\n"
     ]
    },
    {
     "name": "stderr",
     "output_type": "stream",
     "text": [
      "100%|██████████| 150/150 [00:08<00:00, 18.04it/s]\n"
     ]
    },
    {
     "name": "stdout",
     "output_type": "stream",
     "text": [
      "[20/Apr/2023 01:00:52] INFO - Running process for Neural Net (lidar) | layers: 3, epochs: 150, lr: 7.5e-05, batchsize: 200\n",
      "Training...\n"
     ]
    },
    {
     "name": "stderr",
     "output_type": "stream",
     "text": [
      "100%|██████████| 150/150 [00:08<00:00, 17.88it/s]\n"
     ]
    },
    {
     "name": "stdout",
     "output_type": "stream",
     "text": [
      "[20/Apr/2023 01:01:01] INFO - Running process for Neural Net (lidar) | layers: 3, epochs: 150, lr: 7.5e-05, batchsize: 200\n",
      "Training...\n"
     ]
    },
    {
     "name": "stderr",
     "output_type": "stream",
     "text": [
      "100%|██████████| 150/150 [00:07<00:00, 21.23it/s]\n"
     ]
    },
    {
     "name": "stdout",
     "output_type": "stream",
     "text": [
      "[20/Apr/2023 01:01:08] INFO - Running process for Neural Net (lidar) | layers: 3, epochs: 150, lr: 7.5e-05, batchsize: 200\n",
      "Training...\n"
     ]
    },
    {
     "name": "stderr",
     "output_type": "stream",
     "text": [
      "100%|██████████| 150/150 [00:06<00:00, 22.29it/s]\n"
     ]
    },
    {
     "name": "stdout",
     "output_type": "stream",
     "text": [
      "[20/Apr/2023 01:01:15] INFO - Running process for Neural Net (lidar) | layers: 3, epochs: 150, lr: 1e-05, batchsize: 50\n",
      "Training...\n"
     ]
    },
    {
     "name": "stderr",
     "output_type": "stream",
     "text": [
      "100%|██████████| 150/150 [00:14<00:00, 10.70it/s]\n"
     ]
    },
    {
     "name": "stdout",
     "output_type": "stream",
     "text": [
      "[20/Apr/2023 01:01:29] INFO - Running process for Neural Net (lidar) | layers: 3, epochs: 150, lr: 1e-05, batchsize: 50\n",
      "Training...\n"
     ]
    },
    {
     "name": "stderr",
     "output_type": "stream",
     "text": [
      "100%|██████████| 150/150 [00:14<00:00, 10.69it/s]\n"
     ]
    },
    {
     "name": "stdout",
     "output_type": "stream",
     "text": [
      "[20/Apr/2023 01:01:43] INFO - Running process for Neural Net (lidar) | layers: 3, epochs: 150, lr: 1e-05, batchsize: 50\n",
      "Training...\n"
     ]
    },
    {
     "name": "stderr",
     "output_type": "stream",
     "text": [
      "100%|██████████| 150/150 [00:14<00:00, 10.70it/s]\n"
     ]
    },
    {
     "name": "stdout",
     "output_type": "stream",
     "text": [
      "[20/Apr/2023 01:01:57] INFO - Running process for Neural Net (lidar) | layers: 3, epochs: 150, lr: 1e-05, batchsize: 50\n",
      "Training...\n"
     ]
    },
    {
     "name": "stderr",
     "output_type": "stream",
     "text": [
      "100%|██████████| 150/150 [00:14<00:00, 10.68it/s]\n"
     ]
    },
    {
     "name": "stdout",
     "output_type": "stream",
     "text": [
      "[20/Apr/2023 01:02:12] INFO - Running process for Neural Net (lidar) | layers: 3, epochs: 150, lr: 1e-05, batchsize: 100\n",
      "Training...\n"
     ]
    },
    {
     "name": "stderr",
     "output_type": "stream",
     "text": [
      "100%|██████████| 150/150 [00:09<00:00, 16.25it/s]\n"
     ]
    },
    {
     "name": "stdout",
     "output_type": "stream",
     "text": [
      "[20/Apr/2023 01:02:21] INFO - Running process for Neural Net (lidar) | layers: 3, epochs: 150, lr: 1e-05, batchsize: 100\n",
      "Training...\n"
     ]
    },
    {
     "name": "stderr",
     "output_type": "stream",
     "text": [
      "100%|██████████| 150/150 [00:09<00:00, 16.33it/s]\n"
     ]
    },
    {
     "name": "stdout",
     "output_type": "stream",
     "text": [
      "[20/Apr/2023 01:02:30] INFO - Running process for Neural Net (lidar) | layers: 3, epochs: 150, lr: 1e-05, batchsize: 100\n",
      "Training...\n"
     ]
    },
    {
     "name": "stderr",
     "output_type": "stream",
     "text": [
      "100%|██████████| 150/150 [00:09<00:00, 16.46it/s]\n"
     ]
    },
    {
     "name": "stdout",
     "output_type": "stream",
     "text": [
      "[20/Apr/2023 01:02:39] INFO - Running process for Neural Net (lidar) | layers: 3, epochs: 150, lr: 1e-05, batchsize: 100\n",
      "Training...\n"
     ]
    },
    {
     "name": "stderr",
     "output_type": "stream",
     "text": [
      "100%|██████████| 150/150 [00:09<00:00, 16.37it/s]\n"
     ]
    },
    {
     "name": "stdout",
     "output_type": "stream",
     "text": [
      "[20/Apr/2023 01:02:49] INFO - Running process for Neural Net (lidar) | layers: 3, epochs: 150, lr: 1e-05, batchsize: 200\n",
      "Training...\n"
     ]
    },
    {
     "name": "stderr",
     "output_type": "stream",
     "text": [
      "100%|██████████| 150/150 [00:06<00:00, 22.29it/s]\n"
     ]
    },
    {
     "name": "stdout",
     "output_type": "stream",
     "text": [
      "[20/Apr/2023 01:02:56] INFO - Running process for Neural Net (lidar) | layers: 3, epochs: 150, lr: 1e-05, batchsize: 200\n",
      "Training...\n"
     ]
    },
    {
     "name": "stderr",
     "output_type": "stream",
     "text": [
      "100%|██████████| 150/150 [00:06<00:00, 22.39it/s]\n"
     ]
    },
    {
     "name": "stdout",
     "output_type": "stream",
     "text": [
      "[20/Apr/2023 01:03:02] INFO - Running process for Neural Net (lidar) | layers: 3, epochs: 150, lr: 1e-05, batchsize: 200\n",
      "Training...\n"
     ]
    },
    {
     "name": "stderr",
     "output_type": "stream",
     "text": [
      "100%|██████████| 150/150 [00:06<00:00, 22.37it/s]\n"
     ]
    },
    {
     "name": "stdout",
     "output_type": "stream",
     "text": [
      "[20/Apr/2023 01:03:09] INFO - Running process for Neural Net (lidar) | layers: 3, epochs: 150, lr: 1e-05, batchsize: 200\n",
      "Training...\n"
     ]
    },
    {
     "name": "stderr",
     "output_type": "stream",
     "text": [
      "100%|██████████| 150/150 [00:06<00:00, 22.08it/s]\n"
     ]
    },
    {
     "name": "stdout",
     "output_type": "stream",
     "text": [
      "[20/Apr/2023 01:03:16] INFO - Running process for Neural Net (lidar) | layers: 3, epochs: 150, lr: 7.5e-06, batchsize: 50\n",
      "Training...\n"
     ]
    },
    {
     "name": "stderr",
     "output_type": "stream",
     "text": [
      "100%|██████████| 150/150 [00:14<00:00, 10.65it/s]\n"
     ]
    },
    {
     "name": "stdout",
     "output_type": "stream",
     "text": [
      "[20/Apr/2023 01:03:30] INFO - Running process for Neural Net (lidar) | layers: 3, epochs: 150, lr: 7.5e-06, batchsize: 50\n",
      "Training...\n"
     ]
    },
    {
     "name": "stderr",
     "output_type": "stream",
     "text": [
      "100%|██████████| 150/150 [00:14<00:00, 10.59it/s]\n"
     ]
    },
    {
     "name": "stdout",
     "output_type": "stream",
     "text": [
      "[20/Apr/2023 01:03:45] INFO - Running process for Neural Net (lidar) | layers: 3, epochs: 150, lr: 7.5e-06, batchsize: 50\n",
      "Training...\n"
     ]
    },
    {
     "name": "stderr",
     "output_type": "stream",
     "text": [
      "100%|██████████| 150/150 [00:14<00:00, 10.59it/s]\n"
     ]
    },
    {
     "name": "stdout",
     "output_type": "stream",
     "text": [
      "[20/Apr/2023 01:03:59] INFO - Running process for Neural Net (lidar) | layers: 3, epochs: 150, lr: 7.5e-06, batchsize: 50\n",
      "Training...\n"
     ]
    },
    {
     "name": "stderr",
     "output_type": "stream",
     "text": [
      "100%|██████████| 150/150 [00:14<00:00, 10.63it/s]\n"
     ]
    },
    {
     "name": "stdout",
     "output_type": "stream",
     "text": [
      "[20/Apr/2023 01:04:13] INFO - Running process for Neural Net (lidar) | layers: 3, epochs: 150, lr: 7.5e-06, batchsize: 100\n",
      "Training...\n"
     ]
    },
    {
     "name": "stderr",
     "output_type": "stream",
     "text": [
      "100%|██████████| 150/150 [00:09<00:00, 16.30it/s]\n"
     ]
    },
    {
     "name": "stdout",
     "output_type": "stream",
     "text": [
      "[20/Apr/2023 01:04:23] INFO - Running process for Neural Net (lidar) | layers: 3, epochs: 150, lr: 7.5e-06, batchsize: 100\n",
      "Training...\n"
     ]
    },
    {
     "name": "stderr",
     "output_type": "stream",
     "text": [
      "100%|██████████| 150/150 [00:09<00:00, 16.20it/s]\n"
     ]
    },
    {
     "name": "stdout",
     "output_type": "stream",
     "text": [
      "[20/Apr/2023 01:04:32] INFO - Running process for Neural Net (lidar) | layers: 3, epochs: 150, lr: 7.5e-06, batchsize: 100\n",
      "Training...\n"
     ]
    },
    {
     "name": "stderr",
     "output_type": "stream",
     "text": [
      "100%|██████████| 150/150 [00:10<00:00, 13.99it/s]\n"
     ]
    },
    {
     "name": "stdout",
     "output_type": "stream",
     "text": [
      "[20/Apr/2023 01:04:43] INFO - Running process for Neural Net (lidar) | layers: 3, epochs: 150, lr: 7.5e-06, batchsize: 100\n",
      "Training...\n"
     ]
    },
    {
     "name": "stderr",
     "output_type": "stream",
     "text": [
      "100%|██████████| 150/150 [00:09<00:00, 16.21it/s]\n"
     ]
    },
    {
     "name": "stdout",
     "output_type": "stream",
     "text": [
      "[20/Apr/2023 01:04:52] INFO - Running process for Neural Net (lidar) | layers: 3, epochs: 150, lr: 7.5e-06, batchsize: 200\n",
      "Training...\n"
     ]
    },
    {
     "name": "stderr",
     "output_type": "stream",
     "text": [
      "100%|██████████| 150/150 [00:06<00:00, 21.65it/s]\n"
     ]
    },
    {
     "name": "stdout",
     "output_type": "stream",
     "text": [
      "[20/Apr/2023 01:04:59] INFO - Running process for Neural Net (lidar) | layers: 3, epochs: 150, lr: 7.5e-06, batchsize: 200\n",
      "Training...\n"
     ]
    },
    {
     "name": "stderr",
     "output_type": "stream",
     "text": [
      "100%|██████████| 150/150 [00:06<00:00, 22.15it/s]\n"
     ]
    },
    {
     "name": "stdout",
     "output_type": "stream",
     "text": [
      "[20/Apr/2023 01:05:06] INFO - Running process for Neural Net (lidar) | layers: 3, epochs: 150, lr: 7.5e-06, batchsize: 200\n",
      "Training...\n"
     ]
    },
    {
     "name": "stderr",
     "output_type": "stream",
     "text": [
      "100%|██████████| 150/150 [00:06<00:00, 22.42it/s]\n"
     ]
    },
    {
     "name": "stdout",
     "output_type": "stream",
     "text": [
      "[20/Apr/2023 01:05:13] INFO - Running process for Neural Net (lidar) | layers: 3, epochs: 150, lr: 7.5e-06, batchsize: 200\n",
      "Training...\n"
     ]
    },
    {
     "name": "stderr",
     "output_type": "stream",
     "text": [
      "100%|██████████| 150/150 [00:06<00:00, 22.27it/s]\n"
     ]
    },
    {
     "name": "stdout",
     "output_type": "stream",
     "text": [
      "[20/Apr/2023 01:05:20] INFO - Running process for Neural Net (lidar) | layers: 3, epochs: 300, lr: 0.0001, batchsize: 50\n",
      "Training...\n"
     ]
    },
    {
     "name": "stderr",
     "output_type": "stream",
     "text": [
      "100%|██████████| 300/300 [00:28<00:00, 10.66it/s]\n"
     ]
    },
    {
     "name": "stdout",
     "output_type": "stream",
     "text": [
      "[20/Apr/2023 01:05:48] INFO - Running process for Neural Net (lidar) | layers: 3, epochs: 300, lr: 0.0001, batchsize: 50\n",
      "Training...\n"
     ]
    },
    {
     "name": "stderr",
     "output_type": "stream",
     "text": [
      "100%|██████████| 300/300 [00:28<00:00, 10.65it/s]\n"
     ]
    },
    {
     "name": "stdout",
     "output_type": "stream",
     "text": [
      "[20/Apr/2023 01:06:17] INFO - Running process for Neural Net (lidar) | layers: 3, epochs: 300, lr: 0.0001, batchsize: 50\n",
      "Training...\n"
     ]
    },
    {
     "name": "stderr",
     "output_type": "stream",
     "text": [
      "100%|██████████| 300/300 [00:28<00:00, 10.67it/s]\n"
     ]
    },
    {
     "name": "stdout",
     "output_type": "stream",
     "text": [
      "[20/Apr/2023 01:06:45] INFO - Running process for Neural Net (lidar) | layers: 3, epochs: 300, lr: 0.0001, batchsize: 50\n",
      "Training...\n"
     ]
    },
    {
     "name": "stderr",
     "output_type": "stream",
     "text": [
      "100%|██████████| 300/300 [00:27<00:00, 10.79it/s]\n"
     ]
    },
    {
     "name": "stdout",
     "output_type": "stream",
     "text": [
      "[20/Apr/2023 01:07:13] INFO - Running process for Neural Net (lidar) | layers: 3, epochs: 300, lr: 0.0001, batchsize: 100\n",
      "Training...\n"
     ]
    },
    {
     "name": "stderr",
     "output_type": "stream",
     "text": [
      "100%|██████████| 300/300 [00:18<00:00, 16.46it/s]\n"
     ]
    },
    {
     "name": "stdout",
     "output_type": "stream",
     "text": [
      "[20/Apr/2023 01:07:31] INFO - Running process for Neural Net (lidar) | layers: 3, epochs: 300, lr: 0.0001, batchsize: 100\n",
      "Training...\n"
     ]
    },
    {
     "name": "stderr",
     "output_type": "stream",
     "text": [
      "100%|██████████| 300/300 [00:18<00:00, 16.44it/s]\n"
     ]
    },
    {
     "name": "stdout",
     "output_type": "stream",
     "text": [
      "[20/Apr/2023 01:07:50] INFO - Running process for Neural Net (lidar) | layers: 3, epochs: 300, lr: 0.0001, batchsize: 100\n",
      "Training...\n"
     ]
    },
    {
     "name": "stderr",
     "output_type": "stream",
     "text": [
      "100%|██████████| 300/300 [00:18<00:00, 16.58it/s]\n"
     ]
    },
    {
     "name": "stdout",
     "output_type": "stream",
     "text": [
      "[20/Apr/2023 01:08:08] INFO - Running process for Neural Net (lidar) | layers: 3, epochs: 300, lr: 0.0001, batchsize: 100\n",
      "Training...\n"
     ]
    },
    {
     "name": "stderr",
     "output_type": "stream",
     "text": [
      "100%|██████████| 300/300 [00:18<00:00, 16.38it/s]\n"
     ]
    },
    {
     "name": "stdout",
     "output_type": "stream",
     "text": [
      "[20/Apr/2023 01:08:26] INFO - Running process for Neural Net (lidar) | layers: 3, epochs: 300, lr: 0.0001, batchsize: 200\n",
      "Training...\n"
     ]
    },
    {
     "name": "stderr",
     "output_type": "stream",
     "text": [
      "100%|██████████| 300/300 [00:13<00:00, 22.17it/s]\n"
     ]
    },
    {
     "name": "stdout",
     "output_type": "stream",
     "text": [
      "[20/Apr/2023 01:08:40] INFO - Running process for Neural Net (lidar) | layers: 3, epochs: 300, lr: 0.0001, batchsize: 200\n",
      "Training...\n"
     ]
    },
    {
     "name": "stderr",
     "output_type": "stream",
     "text": [
      "100%|██████████| 300/300 [00:13<00:00, 22.39it/s]\n"
     ]
    },
    {
     "name": "stdout",
     "output_type": "stream",
     "text": [
      "[20/Apr/2023 01:08:54] INFO - Running process for Neural Net (lidar) | layers: 3, epochs: 300, lr: 0.0001, batchsize: 200\n",
      "Training...\n"
     ]
    },
    {
     "name": "stderr",
     "output_type": "stream",
     "text": [
      "100%|██████████| 300/300 [00:17<00:00, 16.70it/s]\n"
     ]
    },
    {
     "name": "stdout",
     "output_type": "stream",
     "text": [
      "[20/Apr/2023 01:09:12] INFO - Running process for Neural Net (lidar) | layers: 3, epochs: 300, lr: 0.0001, batchsize: 200\n",
      "Training...\n"
     ]
    },
    {
     "name": "stderr",
     "output_type": "stream",
     "text": [
      "100%|██████████| 300/300 [00:16<00:00, 17.76it/s]\n"
     ]
    },
    {
     "name": "stdout",
     "output_type": "stream",
     "text": [
      "[20/Apr/2023 01:09:29] INFO - Running process for Neural Net (lidar) | layers: 3, epochs: 300, lr: 7.5e-05, batchsize: 50\n",
      "Training...\n"
     ]
    },
    {
     "name": "stderr",
     "output_type": "stream",
     "text": [
      "100%|██████████| 300/300 [00:28<00:00, 10.61it/s]\n"
     ]
    },
    {
     "name": "stdout",
     "output_type": "stream",
     "text": [
      "[20/Apr/2023 01:09:57] INFO - Running process for Neural Net (lidar) | layers: 3, epochs: 300, lr: 7.5e-05, batchsize: 50\n",
      "Training...\n"
     ]
    },
    {
     "name": "stderr",
     "output_type": "stream",
     "text": [
      "100%|██████████| 300/300 [00:28<00:00, 10.43it/s]\n"
     ]
    },
    {
     "name": "stdout",
     "output_type": "stream",
     "text": [
      "[20/Apr/2023 01:10:26] INFO - Running process for Neural Net (lidar) | layers: 3, epochs: 300, lr: 7.5e-05, batchsize: 50\n",
      "Training...\n"
     ]
    },
    {
     "name": "stderr",
     "output_type": "stream",
     "text": [
      "100%|██████████| 300/300 [00:28<00:00, 10.55it/s]\n"
     ]
    },
    {
     "name": "stdout",
     "output_type": "stream",
     "text": [
      "[20/Apr/2023 01:10:55] INFO - Running process for Neural Net (lidar) | layers: 3, epochs: 300, lr: 7.5e-05, batchsize: 50\n",
      "Training...\n"
     ]
    },
    {
     "name": "stderr",
     "output_type": "stream",
     "text": [
      "100%|██████████| 300/300 [00:32<00:00,  9.26it/s]\n"
     ]
    },
    {
     "name": "stdout",
     "output_type": "stream",
     "text": [
      "[20/Apr/2023 01:11:27] INFO - Running process for Neural Net (lidar) | layers: 3, epochs: 300, lr: 7.5e-05, batchsize: 100\n",
      "Training...\n"
     ]
    },
    {
     "name": "stderr",
     "output_type": "stream",
     "text": [
      "100%|██████████| 300/300 [00:18<00:00, 16.26it/s]\n"
     ]
    },
    {
     "name": "stdout",
     "output_type": "stream",
     "text": [
      "[20/Apr/2023 01:11:46] INFO - Running process for Neural Net (lidar) | layers: 3, epochs: 300, lr: 7.5e-05, batchsize: 100\n",
      "Training...\n"
     ]
    },
    {
     "name": "stderr",
     "output_type": "stream",
     "text": [
      "100%|██████████| 300/300 [00:18<00:00, 16.51it/s]\n"
     ]
    },
    {
     "name": "stdout",
     "output_type": "stream",
     "text": [
      "[20/Apr/2023 01:12:04] INFO - Running process for Neural Net (lidar) | layers: 3, epochs: 300, lr: 7.5e-05, batchsize: 100\n",
      "Training...\n"
     ]
    },
    {
     "name": "stderr",
     "output_type": "stream",
     "text": [
      "100%|██████████| 300/300 [00:18<00:00, 16.44it/s]\n"
     ]
    },
    {
     "name": "stdout",
     "output_type": "stream",
     "text": [
      "[20/Apr/2023 01:12:23] INFO - Running process for Neural Net (lidar) | layers: 3, epochs: 300, lr: 7.5e-05, batchsize: 100\n",
      "Training...\n"
     ]
    },
    {
     "name": "stderr",
     "output_type": "stream",
     "text": [
      "100%|██████████| 300/300 [00:18<00:00, 16.17it/s]\n"
     ]
    },
    {
     "name": "stdout",
     "output_type": "stream",
     "text": [
      "[20/Apr/2023 01:12:41] INFO - Running process for Neural Net (lidar) | layers: 3, epochs: 300, lr: 7.5e-05, batchsize: 200\n",
      "Training...\n"
     ]
    },
    {
     "name": "stderr",
     "output_type": "stream",
     "text": [
      "100%|██████████| 300/300 [00:13<00:00, 22.17it/s]\n"
     ]
    },
    {
     "name": "stdout",
     "output_type": "stream",
     "text": [
      "[20/Apr/2023 01:12:55] INFO - Running process for Neural Net (lidar) | layers: 3, epochs: 300, lr: 7.5e-05, batchsize: 200\n",
      "Training...\n"
     ]
    },
    {
     "name": "stderr",
     "output_type": "stream",
     "text": [
      "100%|██████████| 300/300 [00:13<00:00, 22.27it/s]\n"
     ]
    },
    {
     "name": "stdout",
     "output_type": "stream",
     "text": [
      "[20/Apr/2023 01:13:09] INFO - Running process for Neural Net (lidar) | layers: 3, epochs: 300, lr: 7.5e-05, batchsize: 200\n",
      "Training...\n"
     ]
    },
    {
     "name": "stderr",
     "output_type": "stream",
     "text": [
      "100%|██████████| 300/300 [00:14<00:00, 21.16it/s]\n"
     ]
    },
    {
     "name": "stdout",
     "output_type": "stream",
     "text": [
      "[20/Apr/2023 01:13:23] INFO - Running process for Neural Net (lidar) | layers: 3, epochs: 300, lr: 7.5e-05, batchsize: 200\n",
      "Training...\n"
     ]
    },
    {
     "name": "stderr",
     "output_type": "stream",
     "text": [
      "100%|██████████| 300/300 [00:13<00:00, 22.38it/s]\n"
     ]
    },
    {
     "name": "stdout",
     "output_type": "stream",
     "text": [
      "[20/Apr/2023 01:13:36] INFO - Running process for Neural Net (lidar) | layers: 3, epochs: 300, lr: 1e-05, batchsize: 50\n",
      "Training...\n"
     ]
    },
    {
     "name": "stderr",
     "output_type": "stream",
     "text": [
      "100%|██████████| 300/300 [00:28<00:00, 10.55it/s]\n"
     ]
    },
    {
     "name": "stdout",
     "output_type": "stream",
     "text": [
      "[20/Apr/2023 01:14:05] INFO - Running process for Neural Net (lidar) | layers: 3, epochs: 300, lr: 1e-05, batchsize: 50\n",
      "Training...\n"
     ]
    },
    {
     "name": "stderr",
     "output_type": "stream",
     "text": [
      "100%|██████████| 300/300 [00:28<00:00, 10.66it/s]\n"
     ]
    },
    {
     "name": "stdout",
     "output_type": "stream",
     "text": [
      "[20/Apr/2023 01:14:33] INFO - Running process for Neural Net (lidar) | layers: 3, epochs: 300, lr: 1e-05, batchsize: 50\n",
      "Training...\n"
     ]
    },
    {
     "name": "stderr",
     "output_type": "stream",
     "text": [
      "100%|██████████| 300/300 [00:27<00:00, 10.76it/s]\n"
     ]
    },
    {
     "name": "stdout",
     "output_type": "stream",
     "text": [
      "[20/Apr/2023 01:15:01] INFO - Running process for Neural Net (lidar) | layers: 3, epochs: 300, lr: 1e-05, batchsize: 50\n",
      "Training...\n"
     ]
    },
    {
     "name": "stderr",
     "output_type": "stream",
     "text": [
      "100%|██████████| 300/300 [00:27<00:00, 10.77it/s]\n"
     ]
    },
    {
     "name": "stdout",
     "output_type": "stream",
     "text": [
      "[20/Apr/2023 01:15:29] INFO - Running process for Neural Net (lidar) | layers: 3, epochs: 300, lr: 1e-05, batchsize: 100\n",
      "Training...\n"
     ]
    },
    {
     "name": "stderr",
     "output_type": "stream",
     "text": [
      "100%|██████████| 300/300 [00:18<00:00, 16.53it/s]\n"
     ]
    },
    {
     "name": "stdout",
     "output_type": "stream",
     "text": [
      "[20/Apr/2023 01:15:48] INFO - Running process for Neural Net (lidar) | layers: 3, epochs: 300, lr: 1e-05, batchsize: 100\n",
      "Training...\n"
     ]
    },
    {
     "name": "stderr",
     "output_type": "stream",
     "text": [
      "100%|██████████| 300/300 [00:18<00:00, 16.59it/s]\n"
     ]
    },
    {
     "name": "stdout",
     "output_type": "stream",
     "text": [
      "[20/Apr/2023 01:16:06] INFO - Running process for Neural Net (lidar) | layers: 3, epochs: 300, lr: 1e-05, batchsize: 100\n",
      "Training...\n"
     ]
    },
    {
     "name": "stderr",
     "output_type": "stream",
     "text": [
      "100%|██████████| 300/300 [00:21<00:00, 14.00it/s]\n"
     ]
    },
    {
     "name": "stdout",
     "output_type": "stream",
     "text": [
      "[20/Apr/2023 01:16:27] INFO - Running process for Neural Net (lidar) | layers: 3, epochs: 300, lr: 1e-05, batchsize: 100\n",
      "Training...\n"
     ]
    },
    {
     "name": "stderr",
     "output_type": "stream",
     "text": [
      "100%|██████████| 300/300 [00:18<00:00, 16.17it/s]\n"
     ]
    },
    {
     "name": "stdout",
     "output_type": "stream",
     "text": [
      "[20/Apr/2023 01:16:46] INFO - Running process for Neural Net (lidar) | layers: 3, epochs: 300, lr: 1e-05, batchsize: 200\n",
      "Training...\n"
     ]
    },
    {
     "name": "stderr",
     "output_type": "stream",
     "text": [
      "100%|██████████| 300/300 [00:13<00:00, 22.41it/s]\n"
     ]
    },
    {
     "name": "stdout",
     "output_type": "stream",
     "text": [
      "[20/Apr/2023 01:17:00] INFO - Running process for Neural Net (lidar) | layers: 3, epochs: 300, lr: 1e-05, batchsize: 200\n",
      "Training...\n"
     ]
    },
    {
     "name": "stderr",
     "output_type": "stream",
     "text": [
      "100%|██████████| 300/300 [00:13<00:00, 22.36it/s]\n"
     ]
    },
    {
     "name": "stdout",
     "output_type": "stream",
     "text": [
      "[20/Apr/2023 01:17:13] INFO - Running process for Neural Net (lidar) | layers: 3, epochs: 300, lr: 1e-05, batchsize: 200\n",
      "Training...\n"
     ]
    },
    {
     "name": "stderr",
     "output_type": "stream",
     "text": [
      "100%|██████████| 300/300 [00:13<00:00, 22.39it/s]\n"
     ]
    },
    {
     "name": "stdout",
     "output_type": "stream",
     "text": [
      "[20/Apr/2023 01:17:27] INFO - Running process for Neural Net (lidar) | layers: 3, epochs: 300, lr: 1e-05, batchsize: 200\n",
      "Training...\n"
     ]
    },
    {
     "name": "stderr",
     "output_type": "stream",
     "text": [
      "100%|██████████| 300/300 [00:13<00:00, 22.49it/s]\n"
     ]
    },
    {
     "name": "stdout",
     "output_type": "stream",
     "text": [
      "[20/Apr/2023 01:17:40] INFO - Running process for Neural Net (lidar) | layers: 3, epochs: 300, lr: 7.5e-06, batchsize: 50\n",
      "Training...\n"
     ]
    },
    {
     "name": "stderr",
     "output_type": "stream",
     "text": [
      "100%|██████████| 300/300 [00:27<00:00, 10.81it/s]\n"
     ]
    },
    {
     "name": "stdout",
     "output_type": "stream",
     "text": [
      "[20/Apr/2023 01:18:08] INFO - Running process for Neural Net (lidar) | layers: 3, epochs: 300, lr: 7.5e-06, batchsize: 50\n",
      "Training...\n"
     ]
    },
    {
     "name": "stderr",
     "output_type": "stream",
     "text": [
      "100%|██████████| 300/300 [00:27<00:00, 10.83it/s]\n"
     ]
    },
    {
     "name": "stdout",
     "output_type": "stream",
     "text": [
      "[20/Apr/2023 01:18:36] INFO - Running process for Neural Net (lidar) | layers: 3, epochs: 300, lr: 7.5e-06, batchsize: 50\n",
      "Training...\n"
     ]
    },
    {
     "name": "stderr",
     "output_type": "stream",
     "text": [
      "100%|██████████| 300/300 [00:28<00:00, 10.51it/s]\n"
     ]
    },
    {
     "name": "stdout",
     "output_type": "stream",
     "text": [
      "[20/Apr/2023 01:19:05] INFO - Running process for Neural Net (lidar) | layers: 3, epochs: 300, lr: 7.5e-06, batchsize: 50\n",
      "Training...\n"
     ]
    },
    {
     "name": "stderr",
     "output_type": "stream",
     "text": [
      "100%|██████████| 300/300 [00:28<00:00, 10.64it/s]\n"
     ]
    },
    {
     "name": "stdout",
     "output_type": "stream",
     "text": [
      "[20/Apr/2023 01:19:33] INFO - Running process for Neural Net (lidar) | layers: 3, epochs: 300, lr: 7.5e-06, batchsize: 100\n",
      "Training...\n"
     ]
    },
    {
     "name": "stderr",
     "output_type": "stream",
     "text": [
      "100%|██████████| 300/300 [00:18<00:00, 16.20it/s]\n"
     ]
    },
    {
     "name": "stdout",
     "output_type": "stream",
     "text": [
      "[20/Apr/2023 01:19:52] INFO - Running process for Neural Net (lidar) | layers: 3, epochs: 300, lr: 7.5e-06, batchsize: 100\n",
      "Training...\n"
     ]
    },
    {
     "name": "stderr",
     "output_type": "stream",
     "text": [
      "100%|██████████| 300/300 [00:18<00:00, 16.47it/s]\n"
     ]
    },
    {
     "name": "stdout",
     "output_type": "stream",
     "text": [
      "[20/Apr/2023 01:20:10] INFO - Running process for Neural Net (lidar) | layers: 3, epochs: 300, lr: 7.5e-06, batchsize: 100\n",
      "Training...\n"
     ]
    },
    {
     "name": "stderr",
     "output_type": "stream",
     "text": [
      "100%|██████████| 300/300 [00:18<00:00, 16.50it/s]\n"
     ]
    },
    {
     "name": "stdout",
     "output_type": "stream",
     "text": [
      "[20/Apr/2023 01:20:28] INFO - Running process for Neural Net (lidar) | layers: 3, epochs: 300, lr: 7.5e-06, batchsize: 100\n",
      "Training...\n"
     ]
    },
    {
     "name": "stderr",
     "output_type": "stream",
     "text": [
      "100%|██████████| 300/300 [00:18<00:00, 16.53it/s]\n"
     ]
    },
    {
     "name": "stdout",
     "output_type": "stream",
     "text": [
      "[20/Apr/2023 01:20:47] INFO - Running process for Neural Net (lidar) | layers: 3, epochs: 300, lr: 7.5e-06, batchsize: 200\n",
      "Training...\n"
     ]
    },
    {
     "name": "stderr",
     "output_type": "stream",
     "text": [
      "100%|██████████| 300/300 [00:13<00:00, 22.56it/s]\n"
     ]
    },
    {
     "name": "stdout",
     "output_type": "stream",
     "text": [
      "[20/Apr/2023 01:21:00] INFO - Running process for Neural Net (lidar) | layers: 3, epochs: 300, lr: 7.5e-06, batchsize: 200\n",
      "Training...\n"
     ]
    },
    {
     "name": "stderr",
     "output_type": "stream",
     "text": [
      "100%|██████████| 300/300 [00:13<00:00, 22.46it/s]\n"
     ]
    },
    {
     "name": "stdout",
     "output_type": "stream",
     "text": [
      "[20/Apr/2023 01:21:13] INFO - Running process for Neural Net (lidar) | layers: 3, epochs: 300, lr: 7.5e-06, batchsize: 200\n",
      "Training...\n"
     ]
    },
    {
     "name": "stderr",
     "output_type": "stream",
     "text": [
      "100%|██████████| 300/300 [00:13<00:00, 21.80it/s]\n"
     ]
    },
    {
     "name": "stdout",
     "output_type": "stream",
     "text": [
      "[20/Apr/2023 01:21:27] INFO - Running process for Neural Net (lidar) | layers: 3, epochs: 300, lr: 7.5e-06, batchsize: 200\n",
      "Training...\n"
     ]
    },
    {
     "name": "stderr",
     "output_type": "stream",
     "text": [
      "100%|██████████| 300/300 [00:14<00:00, 21.40it/s]"
     ]
    },
    {
     "name": "stdout",
     "output_type": "stream",
     "text": [
      "[20/Apr/2023 01:21:42] INFO - Running process for Neural Net (lidar) | layers: 3, epochs: 450, lr: 0.0001, batchsize: 50\n"
     ]
    },
    {
     "name": "stderr",
     "output_type": "stream",
     "text": [
      "\n"
     ]
    },
    {
     "name": "stdout",
     "output_type": "stream",
     "text": [
      "Training...\n"
     ]
    },
    {
     "name": "stderr",
     "output_type": "stream",
     "text": [
      "100%|██████████| 450/450 [00:48<00:00,  9.35it/s]\n"
     ]
    },
    {
     "name": "stdout",
     "output_type": "stream",
     "text": [
      "[20/Apr/2023 01:22:30] INFO - Running process for Neural Net (lidar) | layers: 3, epochs: 450, lr: 0.0001, batchsize: 50\n",
      "Training...\n"
     ]
    },
    {
     "name": "stderr",
     "output_type": "stream",
     "text": [
      "100%|██████████| 450/450 [00:42<00:00, 10.62it/s]\n"
     ]
    },
    {
     "name": "stdout",
     "output_type": "stream",
     "text": [
      "[20/Apr/2023 01:23:12] INFO - Running process for Neural Net (lidar) | layers: 3, epochs: 450, lr: 0.0001, batchsize: 50\n",
      "Training...\n"
     ]
    },
    {
     "name": "stderr",
     "output_type": "stream",
     "text": [
      "100%|██████████| 450/450 [00:41<00:00, 10.75it/s]\n"
     ]
    },
    {
     "name": "stdout",
     "output_type": "stream",
     "text": [
      "[20/Apr/2023 01:23:54] INFO - Running process for Neural Net (lidar) | layers: 3, epochs: 450, lr: 0.0001, batchsize: 50\n",
      "Training...\n"
     ]
    },
    {
     "name": "stderr",
     "output_type": "stream",
     "text": [
      "100%|██████████| 450/450 [00:42<00:00, 10.53it/s]\n"
     ]
    },
    {
     "name": "stdout",
     "output_type": "stream",
     "text": [
      "[20/Apr/2023 01:24:37] INFO - Running process for Neural Net (lidar) | layers: 3, epochs: 450, lr: 0.0001, batchsize: 100\n",
      "Training...\n"
     ]
    },
    {
     "name": "stderr",
     "output_type": "stream",
     "text": [
      "100%|██████████| 450/450 [00:27<00:00, 16.12it/s]\n"
     ]
    },
    {
     "name": "stdout",
     "output_type": "stream",
     "text": [
      "[20/Apr/2023 01:25:05] INFO - Running process for Neural Net (lidar) | layers: 3, epochs: 450, lr: 0.0001, batchsize: 100\n",
      "Training...\n"
     ]
    },
    {
     "name": "stderr",
     "output_type": "stream",
     "text": [
      "100%|██████████| 450/450 [00:28<00:00, 15.98it/s]\n"
     ]
    },
    {
     "name": "stdout",
     "output_type": "stream",
     "text": [
      "[20/Apr/2023 01:25:34] INFO - Running process for Neural Net (lidar) | layers: 3, epochs: 450, lr: 0.0001, batchsize: 100\n",
      "Training...\n"
     ]
    },
    {
     "name": "stderr",
     "output_type": "stream",
     "text": [
      "100%|██████████| 450/450 [00:28<00:00, 16.05it/s]\n"
     ]
    },
    {
     "name": "stdout",
     "output_type": "stream",
     "text": [
      "[20/Apr/2023 01:26:02] INFO - Running process for Neural Net (lidar) | layers: 3, epochs: 450, lr: 0.0001, batchsize: 100\n",
      "Training...\n"
     ]
    },
    {
     "name": "stderr",
     "output_type": "stream",
     "text": [
      "100%|██████████| 450/450 [00:28<00:00, 15.61it/s]\n"
     ]
    },
    {
     "name": "stdout",
     "output_type": "stream",
     "text": [
      "[20/Apr/2023 01:26:31] INFO - Running process for Neural Net (lidar) | layers: 3, epochs: 450, lr: 0.0001, batchsize: 200\n",
      "Training...\n"
     ]
    },
    {
     "name": "stderr",
     "output_type": "stream",
     "text": [
      "100%|██████████| 450/450 [00:20<00:00, 22.30it/s]\n"
     ]
    },
    {
     "name": "stdout",
     "output_type": "stream",
     "text": [
      "[20/Apr/2023 01:26:51] INFO - Running process for Neural Net (lidar) | layers: 3, epochs: 450, lr: 0.0001, batchsize: 200\n",
      "Training...\n"
     ]
    },
    {
     "name": "stderr",
     "output_type": "stream",
     "text": [
      "100%|██████████| 450/450 [00:20<00:00, 22.40it/s]\n"
     ]
    },
    {
     "name": "stdout",
     "output_type": "stream",
     "text": [
      "[20/Apr/2023 01:27:11] INFO - Running process for Neural Net (lidar) | layers: 3, epochs: 450, lr: 0.0001, batchsize: 200\n",
      "Training...\n"
     ]
    },
    {
     "name": "stderr",
     "output_type": "stream",
     "text": [
      "100%|██████████| 450/450 [00:21<00:00, 21.09it/s]\n"
     ]
    },
    {
     "name": "stdout",
     "output_type": "stream",
     "text": [
      "[20/Apr/2023 01:27:33] INFO - Running process for Neural Net (lidar) | layers: 3, epochs: 450, lr: 0.0001, batchsize: 200\n",
      "Training...\n"
     ]
    },
    {
     "name": "stderr",
     "output_type": "stream",
     "text": [
      "100%|██████████| 450/450 [00:20<00:00, 21.97it/s]\n"
     ]
    },
    {
     "name": "stdout",
     "output_type": "stream",
     "text": [
      "[20/Apr/2023 01:27:53] INFO - Running process for Neural Net (lidar) | layers: 3, epochs: 450, lr: 7.5e-05, batchsize: 50\n",
      "Training...\n"
     ]
    },
    {
     "name": "stderr",
     "output_type": "stream",
     "text": [
      "100%|██████████| 450/450 [00:42<00:00, 10.66it/s]\n"
     ]
    },
    {
     "name": "stdout",
     "output_type": "stream",
     "text": [
      "[20/Apr/2023 01:28:36] INFO - Running process for Neural Net (lidar) | layers: 3, epochs: 450, lr: 7.5e-05, batchsize: 50\n",
      "Training...\n"
     ]
    },
    {
     "name": "stderr",
     "output_type": "stream",
     "text": [
      "100%|██████████| 450/450 [00:42<00:00, 10.61it/s]\n"
     ]
    },
    {
     "name": "stdout",
     "output_type": "stream",
     "text": [
      "[20/Apr/2023 01:29:18] INFO - Running process for Neural Net (lidar) | layers: 3, epochs: 450, lr: 7.5e-05, batchsize: 50\n",
      "Training...\n"
     ]
    },
    {
     "name": "stderr",
     "output_type": "stream",
     "text": [
      "100%|██████████| 450/450 [00:44<00:00, 10.17it/s]\n"
     ]
    },
    {
     "name": "stdout",
     "output_type": "stream",
     "text": [
      "[20/Apr/2023 01:30:03] INFO - Running process for Neural Net (lidar) | layers: 3, epochs: 450, lr: 7.5e-05, batchsize: 50\n",
      "Training...\n"
     ]
    },
    {
     "name": "stderr",
     "output_type": "stream",
     "text": [
      "100%|██████████| 450/450 [00:44<00:00, 10.09it/s]\n"
     ]
    },
    {
     "name": "stdout",
     "output_type": "stream",
     "text": [
      "[20/Apr/2023 01:30:47] INFO - Running process for Neural Net (lidar) | layers: 3, epochs: 450, lr: 7.5e-05, batchsize: 100\n",
      "Training...\n"
     ]
    },
    {
     "name": "stderr",
     "output_type": "stream",
     "text": [
      "100%|██████████| 450/450 [00:30<00:00, 14.96it/s]\n"
     ]
    },
    {
     "name": "stdout",
     "output_type": "stream",
     "text": [
      "[20/Apr/2023 01:31:18] INFO - Running process for Neural Net (lidar) | layers: 3, epochs: 450, lr: 7.5e-05, batchsize: 100\n",
      "Training...\n"
     ]
    },
    {
     "name": "stderr",
     "output_type": "stream",
     "text": [
      "100%|██████████| 450/450 [00:27<00:00, 16.40it/s]\n"
     ]
    },
    {
     "name": "stdout",
     "output_type": "stream",
     "text": [
      "[20/Apr/2023 01:31:45] INFO - Running process for Neural Net (lidar) | layers: 3, epochs: 450, lr: 7.5e-05, batchsize: 100\n",
      "Training...\n"
     ]
    },
    {
     "name": "stderr",
     "output_type": "stream",
     "text": [
      "100%|██████████| 450/450 [00:29<00:00, 15.25it/s]\n"
     ]
    },
    {
     "name": "stdout",
     "output_type": "stream",
     "text": [
      "[20/Apr/2023 01:32:15] INFO - Running process for Neural Net (lidar) | layers: 3, epochs: 450, lr: 7.5e-05, batchsize: 100\n",
      "Training...\n"
     ]
    },
    {
     "name": "stderr",
     "output_type": "stream",
     "text": [
      "100%|██████████| 450/450 [00:30<00:00, 14.95it/s]\n"
     ]
    },
    {
     "name": "stdout",
     "output_type": "stream",
     "text": [
      "[20/Apr/2023 01:32:45] INFO - Running process for Neural Net (lidar) | layers: 3, epochs: 450, lr: 7.5e-05, batchsize: 200\n",
      "Training...\n"
     ]
    },
    {
     "name": "stderr",
     "output_type": "stream",
     "text": [
      "100%|██████████| 450/450 [00:20<00:00, 22.08it/s]\n"
     ]
    },
    {
     "name": "stdout",
     "output_type": "stream",
     "text": [
      "[20/Apr/2023 01:33:06] INFO - Running process for Neural Net (lidar) | layers: 3, epochs: 450, lr: 7.5e-05, batchsize: 200\n",
      "Training...\n"
     ]
    },
    {
     "name": "stderr",
     "output_type": "stream",
     "text": [
      "100%|██████████| 450/450 [00:21<00:00, 21.05it/s]\n"
     ]
    },
    {
     "name": "stdout",
     "output_type": "stream",
     "text": [
      "[20/Apr/2023 01:33:27] INFO - Running process for Neural Net (lidar) | layers: 3, epochs: 450, lr: 7.5e-05, batchsize: 200\n",
      "Training...\n"
     ]
    },
    {
     "name": "stderr",
     "output_type": "stream",
     "text": [
      "100%|██████████| 450/450 [00:20<00:00, 22.40it/s]\n"
     ]
    },
    {
     "name": "stdout",
     "output_type": "stream",
     "text": [
      "[20/Apr/2023 01:33:47] INFO - Running process for Neural Net (lidar) | layers: 3, epochs: 450, lr: 7.5e-05, batchsize: 200\n",
      "Training...\n"
     ]
    },
    {
     "name": "stderr",
     "output_type": "stream",
     "text": [
      "100%|██████████| 450/450 [00:20<00:00, 22.17it/s]\n"
     ]
    },
    {
     "name": "stdout",
     "output_type": "stream",
     "text": [
      "[20/Apr/2023 01:34:08] INFO - Running process for Neural Net (lidar) | layers: 3, epochs: 450, lr: 1e-05, batchsize: 50\n",
      "Training...\n"
     ]
    },
    {
     "name": "stderr",
     "output_type": "stream",
     "text": [
      "100%|██████████| 450/450 [00:42<00:00, 10.60it/s]\n"
     ]
    },
    {
     "name": "stdout",
     "output_type": "stream",
     "text": [
      "[20/Apr/2023 01:34:50] INFO - Running process for Neural Net (lidar) | layers: 3, epochs: 450, lr: 1e-05, batchsize: 50\n",
      "Training...\n"
     ]
    },
    {
     "name": "stderr",
     "output_type": "stream",
     "text": [
      "100%|██████████| 450/450 [00:42<00:00, 10.57it/s]\n"
     ]
    },
    {
     "name": "stdout",
     "output_type": "stream",
     "text": [
      "[20/Apr/2023 01:35:33] INFO - Running process for Neural Net (lidar) | layers: 3, epochs: 450, lr: 1e-05, batchsize: 50\n",
      "Training...\n"
     ]
    },
    {
     "name": "stderr",
     "output_type": "stream",
     "text": [
      "100%|██████████| 450/450 [00:42<00:00, 10.63it/s]\n"
     ]
    },
    {
     "name": "stdout",
     "output_type": "stream",
     "text": [
      "[20/Apr/2023 01:36:16] INFO - Running process for Neural Net (lidar) | layers: 3, epochs: 450, lr: 1e-05, batchsize: 50\n",
      "Training...\n"
     ]
    },
    {
     "name": "stderr",
     "output_type": "stream",
     "text": [
      "100%|██████████| 450/450 [00:41<00:00, 10.74it/s]\n"
     ]
    },
    {
     "name": "stdout",
     "output_type": "stream",
     "text": [
      "[20/Apr/2023 01:36:58] INFO - Running process for Neural Net (lidar) | layers: 3, epochs: 450, lr: 1e-05, batchsize: 100\n",
      "Training...\n"
     ]
    },
    {
     "name": "stderr",
     "output_type": "stream",
     "text": [
      "100%|██████████| 450/450 [00:27<00:00, 16.31it/s]\n"
     ]
    },
    {
     "name": "stdout",
     "output_type": "stream",
     "text": [
      "[20/Apr/2023 01:37:25] INFO - Running process for Neural Net (lidar) | layers: 3, epochs: 450, lr: 1e-05, batchsize: 100\n",
      "Training...\n"
     ]
    },
    {
     "name": "stderr",
     "output_type": "stream",
     "text": [
      "100%|██████████| 450/450 [00:27<00:00, 16.17it/s]\n"
     ]
    },
    {
     "name": "stdout",
     "output_type": "stream",
     "text": [
      "[20/Apr/2023 01:37:53] INFO - Running process for Neural Net (lidar) | layers: 3, epochs: 450, lr: 1e-05, batchsize: 100\n",
      "Training...\n"
     ]
    },
    {
     "name": "stderr",
     "output_type": "stream",
     "text": [
      "100%|██████████| 450/450 [00:27<00:00, 16.22it/s]\n"
     ]
    },
    {
     "name": "stdout",
     "output_type": "stream",
     "text": [
      "[20/Apr/2023 01:38:21] INFO - Running process for Neural Net (lidar) | layers: 3, epochs: 450, lr: 1e-05, batchsize: 100\n",
      "Training...\n"
     ]
    },
    {
     "name": "stderr",
     "output_type": "stream",
     "text": [
      "100%|██████████| 450/450 [00:27<00:00, 16.37it/s]\n"
     ]
    },
    {
     "name": "stdout",
     "output_type": "stream",
     "text": [
      "[20/Apr/2023 01:38:49] INFO - Running process for Neural Net (lidar) | layers: 3, epochs: 450, lr: 1e-05, batchsize: 200\n",
      "Training...\n"
     ]
    },
    {
     "name": "stderr",
     "output_type": "stream",
     "text": [
      "100%|██████████| 450/450 [00:20<00:00, 22.25it/s]\n"
     ]
    },
    {
     "name": "stdout",
     "output_type": "stream",
     "text": [
      "[20/Apr/2023 01:39:09] INFO - Running process for Neural Net (lidar) | layers: 3, epochs: 450, lr: 1e-05, batchsize: 200\n",
      "Training...\n"
     ]
    },
    {
     "name": "stderr",
     "output_type": "stream",
     "text": [
      "100%|██████████| 450/450 [00:20<00:00, 22.28it/s]\n"
     ]
    },
    {
     "name": "stdout",
     "output_type": "stream",
     "text": [
      "[20/Apr/2023 01:39:30] INFO - Running process for Neural Net (lidar) | layers: 3, epochs: 450, lr: 1e-05, batchsize: 200\n",
      "Training...\n"
     ]
    },
    {
     "name": "stderr",
     "output_type": "stream",
     "text": [
      "100%|██████████| 450/450 [00:20<00:00, 22.10it/s]\n"
     ]
    },
    {
     "name": "stdout",
     "output_type": "stream",
     "text": [
      "[20/Apr/2023 01:39:50] INFO - Running process for Neural Net (lidar) | layers: 3, epochs: 450, lr: 1e-05, batchsize: 200\n",
      "Training...\n"
     ]
    },
    {
     "name": "stderr",
     "output_type": "stream",
     "text": [
      "100%|██████████| 450/450 [00:21<00:00, 21.33it/s]\n"
     ]
    },
    {
     "name": "stdout",
     "output_type": "stream",
     "text": [
      "[20/Apr/2023 01:40:11] INFO - Running process for Neural Net (lidar) | layers: 3, epochs: 450, lr: 7.5e-06, batchsize: 50\n",
      "Training...\n"
     ]
    },
    {
     "name": "stderr",
     "output_type": "stream",
     "text": [
      "100%|██████████| 450/450 [00:42<00:00, 10.63it/s]\n"
     ]
    },
    {
     "name": "stdout",
     "output_type": "stream",
     "text": [
      "[20/Apr/2023 01:40:54] INFO - Running process for Neural Net (lidar) | layers: 3, epochs: 450, lr: 7.5e-06, batchsize: 50\n",
      "Training...\n"
     ]
    },
    {
     "name": "stderr",
     "output_type": "stream",
     "text": [
      "100%|██████████| 450/450 [00:41<00:00, 10.73it/s]\n"
     ]
    },
    {
     "name": "stdout",
     "output_type": "stream",
     "text": [
      "[20/Apr/2023 01:41:36] INFO - Running process for Neural Net (lidar) | layers: 3, epochs: 450, lr: 7.5e-06, batchsize: 50\n",
      "Training...\n"
     ]
    },
    {
     "name": "stderr",
     "output_type": "stream",
     "text": [
      "100%|██████████| 450/450 [00:44<00:00, 10.06it/s]\n"
     ]
    },
    {
     "name": "stdout",
     "output_type": "stream",
     "text": [
      "[20/Apr/2023 01:42:21] INFO - Running process for Neural Net (lidar) | layers: 3, epochs: 450, lr: 7.5e-06, batchsize: 50\n",
      "Training...\n"
     ]
    },
    {
     "name": "stderr",
     "output_type": "stream",
     "text": [
      "100%|██████████| 450/450 [00:55<00:00,  8.04it/s]\n"
     ]
    },
    {
     "name": "stdout",
     "output_type": "stream",
     "text": [
      "[20/Apr/2023 01:43:17] INFO - Running process for Neural Net (lidar) | layers: 3, epochs: 450, lr: 7.5e-06, batchsize: 100\n",
      "Training...\n"
     ]
    },
    {
     "name": "stderr",
     "output_type": "stream",
     "text": [
      "100%|██████████| 450/450 [00:31<00:00, 14.33it/s]\n"
     ]
    },
    {
     "name": "stdout",
     "output_type": "stream",
     "text": [
      "[20/Apr/2023 01:43:48] INFO - Running process for Neural Net (lidar) | layers: 3, epochs: 450, lr: 7.5e-06, batchsize: 100\n",
      "Training...\n"
     ]
    },
    {
     "name": "stderr",
     "output_type": "stream",
     "text": [
      "100%|██████████| 450/450 [00:31<00:00, 14.51it/s]\n"
     ]
    },
    {
     "name": "stdout",
     "output_type": "stream",
     "text": [
      "[20/Apr/2023 01:44:20] INFO - Running process for Neural Net (lidar) | layers: 3, epochs: 450, lr: 7.5e-06, batchsize: 100\n",
      "Training...\n"
     ]
    },
    {
     "name": "stderr",
     "output_type": "stream",
     "text": [
      "100%|██████████| 450/450 [00:28<00:00, 15.96it/s]\n"
     ]
    },
    {
     "name": "stdout",
     "output_type": "stream",
     "text": [
      "[20/Apr/2023 01:44:48] INFO - Running process for Neural Net (lidar) | layers: 3, epochs: 450, lr: 7.5e-06, batchsize: 100\n",
      "Training...\n"
     ]
    },
    {
     "name": "stderr",
     "output_type": "stream",
     "text": [
      "100%|██████████| 450/450 [00:28<00:00, 15.99it/s]\n"
     ]
    },
    {
     "name": "stdout",
     "output_type": "stream",
     "text": [
      "[20/Apr/2023 01:45:16] INFO - Running process for Neural Net (lidar) | layers: 3, epochs: 450, lr: 7.5e-06, batchsize: 200\n",
      "Training...\n"
     ]
    },
    {
     "name": "stderr",
     "output_type": "stream",
     "text": [
      "100%|██████████| 450/450 [00:22<00:00, 19.83it/s]\n"
     ]
    },
    {
     "name": "stdout",
     "output_type": "stream",
     "text": [
      "[20/Apr/2023 01:45:39] INFO - Running process for Neural Net (lidar) | layers: 3, epochs: 450, lr: 7.5e-06, batchsize: 200\n",
      "Training...\n"
     ]
    },
    {
     "name": "stderr",
     "output_type": "stream",
     "text": [
      "100%|██████████| 450/450 [00:23<00:00, 19.34it/s]\n"
     ]
    },
    {
     "name": "stdout",
     "output_type": "stream",
     "text": [
      "[20/Apr/2023 01:46:03] INFO - Running process for Neural Net (lidar) | layers: 3, epochs: 450, lr: 7.5e-06, batchsize: 200\n",
      "Training...\n"
     ]
    },
    {
     "name": "stderr",
     "output_type": "stream",
     "text": [
      "100%|██████████| 450/450 [00:23<00:00, 19.36it/s]\n"
     ]
    },
    {
     "name": "stdout",
     "output_type": "stream",
     "text": [
      "[20/Apr/2023 01:46:26] INFO - Running process for Neural Net (lidar) | layers: 3, epochs: 450, lr: 7.5e-06, batchsize: 200\n",
      "Training...\n"
     ]
    },
    {
     "name": "stderr",
     "output_type": "stream",
     "text": [
      "100%|██████████| 450/450 [00:26<00:00, 16.81it/s]\n"
     ]
    },
    {
     "name": "stdout",
     "output_type": "stream",
     "text": [
      "[20/Apr/2023 01:46:53] INFO - Running process for Neural Net (lidar) | layers: 2, epochs: 150, lr: 0.0001, batchsize: 50\n",
      "Training...\n"
     ]
    },
    {
     "name": "stderr",
     "output_type": "stream",
     "text": [
      "100%|██████████| 150/150 [00:11<00:00, 12.70it/s]\n"
     ]
    },
    {
     "name": "stdout",
     "output_type": "stream",
     "text": [
      "[20/Apr/2023 01:47:05] INFO - Running process for Neural Net (lidar) | layers: 2, epochs: 150, lr: 0.0001, batchsize: 50\n",
      "Training...\n"
     ]
    },
    {
     "name": "stderr",
     "output_type": "stream",
     "text": [
      "100%|██████████| 150/150 [00:14<00:00, 10.44it/s]\n"
     ]
    },
    {
     "name": "stdout",
     "output_type": "stream",
     "text": [
      "[20/Apr/2023 01:47:19] INFO - Running process for Neural Net (lidar) | layers: 2, epochs: 150, lr: 0.0001, batchsize: 50\n",
      "Training...\n"
     ]
    },
    {
     "name": "stderr",
     "output_type": "stream",
     "text": [
      "100%|██████████| 150/150 [00:13<00:00, 11.14it/s]\n"
     ]
    },
    {
     "name": "stdout",
     "output_type": "stream",
     "text": [
      "[20/Apr/2023 01:47:33] INFO - Running process for Neural Net (lidar) | layers: 2, epochs: 150, lr: 0.0001, batchsize: 50\n",
      "Training...\n"
     ]
    },
    {
     "name": "stderr",
     "output_type": "stream",
     "text": [
      "100%|██████████| 150/150 [00:11<00:00, 12.68it/s]\n"
     ]
    },
    {
     "name": "stdout",
     "output_type": "stream",
     "text": [
      "[20/Apr/2023 01:47:45] INFO - Running process for Neural Net (lidar) | layers: 2, epochs: 150, lr: 0.0001, batchsize: 100\n",
      "Training...\n"
     ]
    },
    {
     "name": "stderr",
     "output_type": "stream",
     "text": [
      "100%|██████████| 150/150 [00:07<00:00, 18.82it/s]\n"
     ]
    },
    {
     "name": "stdout",
     "output_type": "stream",
     "text": [
      "[20/Apr/2023 01:47:53] INFO - Running process for Neural Net (lidar) | layers: 2, epochs: 150, lr: 0.0001, batchsize: 100\n",
      "Training...\n"
     ]
    },
    {
     "name": "stderr",
     "output_type": "stream",
     "text": [
      "100%|██████████| 150/150 [00:09<00:00, 15.97it/s]\n"
     ]
    },
    {
     "name": "stdout",
     "output_type": "stream",
     "text": [
      "[20/Apr/2023 01:48:02] INFO - Running process for Neural Net (lidar) | layers: 2, epochs: 150, lr: 0.0001, batchsize: 100\n",
      "Training...\n"
     ]
    },
    {
     "name": "stderr",
     "output_type": "stream",
     "text": [
      "100%|██████████| 150/150 [00:07<00:00, 18.94it/s]\n"
     ]
    },
    {
     "name": "stdout",
     "output_type": "stream",
     "text": [
      "[20/Apr/2023 01:48:11] INFO - Running process for Neural Net (lidar) | layers: 2, epochs: 150, lr: 0.0001, batchsize: 100\n",
      "Training...\n"
     ]
    },
    {
     "name": "stderr",
     "output_type": "stream",
     "text": [
      "100%|██████████| 150/150 [00:08<00:00, 18.38it/s]\n"
     ]
    },
    {
     "name": "stdout",
     "output_type": "stream",
     "text": [
      "[20/Apr/2023 01:48:19] INFO - Running process for Neural Net (lidar) | layers: 2, epochs: 150, lr: 0.0001, batchsize: 200\n",
      "Training...\n"
     ]
    },
    {
     "name": "stderr",
     "output_type": "stream",
     "text": [
      "100%|██████████| 150/150 [00:06<00:00, 24.94it/s]\n"
     ]
    },
    {
     "name": "stdout",
     "output_type": "stream",
     "text": [
      "[20/Apr/2023 01:48:25] INFO - Running process for Neural Net (lidar) | layers: 2, epochs: 150, lr: 0.0001, batchsize: 200\n",
      "Training...\n"
     ]
    },
    {
     "name": "stderr",
     "output_type": "stream",
     "text": [
      "100%|██████████| 150/150 [00:06<00:00, 23.36it/s]\n"
     ]
    },
    {
     "name": "stdout",
     "output_type": "stream",
     "text": [
      "[20/Apr/2023 01:48:32] INFO - Running process for Neural Net (lidar) | layers: 2, epochs: 150, lr: 0.0001, batchsize: 200\n",
      "Training...\n"
     ]
    },
    {
     "name": "stderr",
     "output_type": "stream",
     "text": [
      "100%|██████████| 150/150 [00:06<00:00, 23.17it/s]\n"
     ]
    },
    {
     "name": "stdout",
     "output_type": "stream",
     "text": [
      "[20/Apr/2023 01:48:38] INFO - Running process for Neural Net (lidar) | layers: 2, epochs: 150, lr: 0.0001, batchsize: 200\n",
      "Training...\n"
     ]
    },
    {
     "name": "stderr",
     "output_type": "stream",
     "text": [
      "100%|██████████| 150/150 [00:06<00:00, 23.12it/s]\n"
     ]
    },
    {
     "name": "stdout",
     "output_type": "stream",
     "text": [
      "[20/Apr/2023 01:48:45] INFO - Running process for Neural Net (lidar) | layers: 2, epochs: 150, lr: 7.5e-05, batchsize: 50\n",
      "Training...\n"
     ]
    },
    {
     "name": "stderr",
     "output_type": "stream",
     "text": [
      "100%|██████████| 150/150 [00:14<00:00, 10.48it/s]\n"
     ]
    },
    {
     "name": "stdout",
     "output_type": "stream",
     "text": [
      "[20/Apr/2023 01:48:59] INFO - Running process for Neural Net (lidar) | layers: 2, epochs: 150, lr: 7.5e-05, batchsize: 50\n",
      "Training...\n"
     ]
    },
    {
     "name": "stderr",
     "output_type": "stream",
     "text": [
      "100%|██████████| 150/150 [00:13<00:00, 10.88it/s]\n"
     ]
    },
    {
     "name": "stdout",
     "output_type": "stream",
     "text": [
      "[20/Apr/2023 01:49:13] INFO - Running process for Neural Net (lidar) | layers: 2, epochs: 150, lr: 7.5e-05, batchsize: 50\n",
      "Training...\n"
     ]
    },
    {
     "name": "stderr",
     "output_type": "stream",
     "text": [
      "100%|██████████| 150/150 [00:11<00:00, 13.07it/s]\n"
     ]
    },
    {
     "name": "stdout",
     "output_type": "stream",
     "text": [
      "[20/Apr/2023 01:49:25] INFO - Running process for Neural Net (lidar) | layers: 2, epochs: 150, lr: 7.5e-05, batchsize: 50\n",
      "Training...\n"
     ]
    },
    {
     "name": "stderr",
     "output_type": "stream",
     "text": [
      "100%|██████████| 150/150 [00:11<00:00, 12.59it/s]\n"
     ]
    },
    {
     "name": "stdout",
     "output_type": "stream",
     "text": [
      "[20/Apr/2023 01:49:37] INFO - Running process for Neural Net (lidar) | layers: 2, epochs: 150, lr: 7.5e-05, batchsize: 100\n",
      "Training...\n"
     ]
    },
    {
     "name": "stderr",
     "output_type": "stream",
     "text": [
      "100%|██████████| 150/150 [00:07<00:00, 18.97it/s]\n"
     ]
    },
    {
     "name": "stdout",
     "output_type": "stream",
     "text": [
      "[20/Apr/2023 01:49:45] INFO - Running process for Neural Net (lidar) | layers: 2, epochs: 150, lr: 7.5e-05, batchsize: 100\n",
      "Training...\n"
     ]
    },
    {
     "name": "stderr",
     "output_type": "stream",
     "text": [
      "100%|██████████| 150/150 [00:07<00:00, 19.19it/s]\n"
     ]
    },
    {
     "name": "stdout",
     "output_type": "stream",
     "text": [
      "[20/Apr/2023 01:49:53] INFO - Running process for Neural Net (lidar) | layers: 2, epochs: 150, lr: 7.5e-05, batchsize: 100\n",
      "Training...\n"
     ]
    },
    {
     "name": "stderr",
     "output_type": "stream",
     "text": [
      "100%|██████████| 150/150 [00:07<00:00, 19.24it/s]\n"
     ]
    },
    {
     "name": "stdout",
     "output_type": "stream",
     "text": [
      "[20/Apr/2023 01:50:01] INFO - Running process for Neural Net (lidar) | layers: 2, epochs: 150, lr: 7.5e-05, batchsize: 100\n",
      "Training...\n"
     ]
    },
    {
     "name": "stderr",
     "output_type": "stream",
     "text": [
      "100%|██████████| 150/150 [00:07<00:00, 19.39it/s]\n"
     ]
    },
    {
     "name": "stdout",
     "output_type": "stream",
     "text": [
      "[20/Apr/2023 01:50:09] INFO - Running process for Neural Net (lidar) | layers: 2, epochs: 150, lr: 7.5e-05, batchsize: 200\n",
      "Training...\n"
     ]
    },
    {
     "name": "stderr",
     "output_type": "stream",
     "text": [
      "100%|██████████| 150/150 [00:05<00:00, 25.38it/s]\n"
     ]
    },
    {
     "name": "stdout",
     "output_type": "stream",
     "text": [
      "[20/Apr/2023 01:50:15] INFO - Running process for Neural Net (lidar) | layers: 2, epochs: 150, lr: 7.5e-05, batchsize: 200\n",
      "Training...\n"
     ]
    },
    {
     "name": "stderr",
     "output_type": "stream",
     "text": [
      "100%|██████████| 150/150 [00:05<00:00, 25.17it/s]\n"
     ]
    },
    {
     "name": "stdout",
     "output_type": "stream",
     "text": [
      "[20/Apr/2023 01:50:21] INFO - Running process for Neural Net (lidar) | layers: 2, epochs: 150, lr: 7.5e-05, batchsize: 200\n",
      "Training...\n"
     ]
    },
    {
     "name": "stderr",
     "output_type": "stream",
     "text": [
      "100%|██████████| 150/150 [00:06<00:00, 24.84it/s]\n"
     ]
    },
    {
     "name": "stdout",
     "output_type": "stream",
     "text": [
      "[20/Apr/2023 01:50:27] INFO - Running process for Neural Net (lidar) | layers: 2, epochs: 150, lr: 7.5e-05, batchsize: 200\n",
      "Training...\n"
     ]
    },
    {
     "name": "stderr",
     "output_type": "stream",
     "text": [
      "100%|██████████| 150/150 [00:06<00:00, 24.85it/s]\n"
     ]
    },
    {
     "name": "stdout",
     "output_type": "stream",
     "text": [
      "[20/Apr/2023 01:50:33] INFO - Running process for Neural Net (lidar) | layers: 2, epochs: 150, lr: 1e-05, batchsize: 50\n",
      "Training...\n"
     ]
    },
    {
     "name": "stderr",
     "output_type": "stream",
     "text": [
      "100%|██████████| 150/150 [00:11<00:00, 12.99it/s]\n"
     ]
    },
    {
     "name": "stdout",
     "output_type": "stream",
     "text": [
      "[20/Apr/2023 01:50:45] INFO - Running process for Neural Net (lidar) | layers: 2, epochs: 150, lr: 1e-05, batchsize: 50\n",
      "Training...\n"
     ]
    },
    {
     "name": "stderr",
     "output_type": "stream",
     "text": [
      "100%|██████████| 150/150 [00:11<00:00, 12.71it/s]\n"
     ]
    },
    {
     "name": "stdout",
     "output_type": "stream",
     "text": [
      "[20/Apr/2023 01:50:57] INFO - Running process for Neural Net (lidar) | layers: 2, epochs: 150, lr: 1e-05, batchsize: 50\n",
      "Training...\n"
     ]
    },
    {
     "name": "stderr",
     "output_type": "stream",
     "text": [
      "100%|██████████| 150/150 [00:11<00:00, 12.86it/s]\n"
     ]
    },
    {
     "name": "stdout",
     "output_type": "stream",
     "text": [
      "[20/Apr/2023 01:51:09] INFO - Running process for Neural Net (lidar) | layers: 2, epochs: 150, lr: 1e-05, batchsize: 50\n",
      "Training...\n"
     ]
    },
    {
     "name": "stderr",
     "output_type": "stream",
     "text": [
      "100%|██████████| 150/150 [00:11<00:00, 12.80it/s]\n"
     ]
    },
    {
     "name": "stdout",
     "output_type": "stream",
     "text": [
      "[20/Apr/2023 01:51:21] INFO - Running process for Neural Net (lidar) | layers: 2, epochs: 150, lr: 1e-05, batchsize: 100\n",
      "Training...\n"
     ]
    },
    {
     "name": "stderr",
     "output_type": "stream",
     "text": [
      "100%|██████████| 150/150 [00:07<00:00, 19.27it/s]\n"
     ]
    },
    {
     "name": "stdout",
     "output_type": "stream",
     "text": [
      "[20/Apr/2023 01:51:29] INFO - Running process for Neural Net (lidar) | layers: 2, epochs: 150, lr: 1e-05, batchsize: 100\n",
      "Training...\n"
     ]
    },
    {
     "name": "stderr",
     "output_type": "stream",
     "text": [
      "100%|██████████| 150/150 [00:07<00:00, 19.18it/s]\n"
     ]
    },
    {
     "name": "stdout",
     "output_type": "stream",
     "text": [
      "[20/Apr/2023 01:51:37] INFO - Running process for Neural Net (lidar) | layers: 2, epochs: 150, lr: 1e-05, batchsize: 100\n",
      "Training...\n"
     ]
    },
    {
     "name": "stderr",
     "output_type": "stream",
     "text": [
      "100%|██████████| 150/150 [00:07<00:00, 19.46it/s]\n"
     ]
    },
    {
     "name": "stdout",
     "output_type": "stream",
     "text": [
      "[20/Apr/2023 01:51:44] INFO - Running process for Neural Net (lidar) | layers: 2, epochs: 150, lr: 1e-05, batchsize: 100\n",
      "Training...\n"
     ]
    },
    {
     "name": "stderr",
     "output_type": "stream",
     "text": [
      "100%|██████████| 150/150 [00:07<00:00, 19.41it/s]\n"
     ]
    },
    {
     "name": "stdout",
     "output_type": "stream",
     "text": [
      "[20/Apr/2023 01:51:52] INFO - Running process for Neural Net (lidar) | layers: 2, epochs: 150, lr: 1e-05, batchsize: 200\n",
      "Training...\n"
     ]
    },
    {
     "name": "stderr",
     "output_type": "stream",
     "text": [
      "100%|██████████| 150/150 [00:06<00:00, 24.82it/s]\n"
     ]
    },
    {
     "name": "stdout",
     "output_type": "stream",
     "text": [
      "[20/Apr/2023 01:51:58] INFO - Running process for Neural Net (lidar) | layers: 2, epochs: 150, lr: 1e-05, batchsize: 200\n",
      "Training...\n"
     ]
    },
    {
     "name": "stderr",
     "output_type": "stream",
     "text": [
      "100%|██████████| 150/150 [00:06<00:00, 24.89it/s]\n"
     ]
    },
    {
     "name": "stdout",
     "output_type": "stream",
     "text": [
      "[20/Apr/2023 01:52:05] INFO - Running process for Neural Net (lidar) | layers: 2, epochs: 150, lr: 1e-05, batchsize: 200\n",
      "Training...\n"
     ]
    },
    {
     "name": "stderr",
     "output_type": "stream",
     "text": [
      "100%|██████████| 150/150 [00:06<00:00, 22.99it/s]\n"
     ]
    },
    {
     "name": "stdout",
     "output_type": "stream",
     "text": [
      "[20/Apr/2023 01:52:11] INFO - Running process for Neural Net (lidar) | layers: 2, epochs: 150, lr: 1e-05, batchsize: 200\n",
      "Training...\n"
     ]
    },
    {
     "name": "stderr",
     "output_type": "stream",
     "text": [
      "100%|██████████| 150/150 [00:06<00:00, 22.75it/s]\n"
     ]
    },
    {
     "name": "stdout",
     "output_type": "stream",
     "text": [
      "[20/Apr/2023 01:52:18] INFO - Running process for Neural Net (lidar) | layers: 2, epochs: 150, lr: 7.5e-06, batchsize: 50\n",
      "Training...\n"
     ]
    },
    {
     "name": "stderr",
     "output_type": "stream",
     "text": [
      "100%|██████████| 150/150 [00:12<00:00, 11.72it/s]\n"
     ]
    },
    {
     "name": "stdout",
     "output_type": "stream",
     "text": [
      "[20/Apr/2023 01:52:31] INFO - Running process for Neural Net (lidar) | layers: 2, epochs: 150, lr: 7.5e-06, batchsize: 50\n",
      "Training...\n"
     ]
    },
    {
     "name": "stderr",
     "output_type": "stream",
     "text": [
      "100%|██████████| 150/150 [00:12<00:00, 12.42it/s]\n"
     ]
    },
    {
     "name": "stdout",
     "output_type": "stream",
     "text": [
      "[20/Apr/2023 01:52:43] INFO - Running process for Neural Net (lidar) | layers: 2, epochs: 150, lr: 7.5e-06, batchsize: 50\n",
      "Training...\n"
     ]
    },
    {
     "name": "stderr",
     "output_type": "stream",
     "text": [
      "100%|██████████| 150/150 [00:13<00:00, 11.08it/s]\n"
     ]
    },
    {
     "name": "stdout",
     "output_type": "stream",
     "text": [
      "[20/Apr/2023 01:52:57] INFO - Running process for Neural Net (lidar) | layers: 2, epochs: 150, lr: 7.5e-06, batchsize: 50\n",
      "Training...\n"
     ]
    },
    {
     "name": "stderr",
     "output_type": "stream",
     "text": [
      "100%|██████████| 150/150 [00:14<00:00, 10.62it/s]\n"
     ]
    },
    {
     "name": "stdout",
     "output_type": "stream",
     "text": [
      "[20/Apr/2023 01:53:11] INFO - Running process for Neural Net (lidar) | layers: 2, epochs: 150, lr: 7.5e-06, batchsize: 100\n",
      "Training...\n"
     ]
    },
    {
     "name": "stderr",
     "output_type": "stream",
     "text": [
      "100%|██████████| 150/150 [00:08<00:00, 17.58it/s]\n"
     ]
    },
    {
     "name": "stdout",
     "output_type": "stream",
     "text": [
      "[20/Apr/2023 01:53:20] INFO - Running process for Neural Net (lidar) | layers: 2, epochs: 150, lr: 7.5e-06, batchsize: 100\n",
      "Training...\n"
     ]
    },
    {
     "name": "stderr",
     "output_type": "stream",
     "text": [
      "100%|██████████| 150/150 [00:07<00:00, 19.27it/s]\n"
     ]
    },
    {
     "name": "stdout",
     "output_type": "stream",
     "text": [
      "[20/Apr/2023 01:53:30] INFO - Running process for Neural Net (lidar) | layers: 2, epochs: 150, lr: 7.5e-06, batchsize: 100\n",
      "Training...\n"
     ]
    },
    {
     "name": "stderr",
     "output_type": "stream",
     "text": [
      "100%|██████████| 150/150 [00:09<00:00, 16.52it/s]\n"
     ]
    },
    {
     "name": "stdout",
     "output_type": "stream",
     "text": [
      "[20/Apr/2023 01:53:39] INFO - Running process for Neural Net (lidar) | layers: 2, epochs: 150, lr: 7.5e-06, batchsize: 100\n",
      "Training...\n"
     ]
    },
    {
     "name": "stderr",
     "output_type": "stream",
     "text": [
      "100%|██████████| 150/150 [00:07<00:00, 18.90it/s]\n"
     ]
    },
    {
     "name": "stdout",
     "output_type": "stream",
     "text": [
      "[20/Apr/2023 01:53:47] INFO - Running process for Neural Net (lidar) | layers: 2, epochs: 150, lr: 7.5e-06, batchsize: 200\n",
      "Training...\n"
     ]
    },
    {
     "name": "stderr",
     "output_type": "stream",
     "text": [
      "100%|██████████| 150/150 [00:05<00:00, 25.12it/s]\n"
     ]
    },
    {
     "name": "stdout",
     "output_type": "stream",
     "text": [
      "[20/Apr/2023 01:53:53] INFO - Running process for Neural Net (lidar) | layers: 2, epochs: 150, lr: 7.5e-06, batchsize: 200\n",
      "Training...\n"
     ]
    },
    {
     "name": "stderr",
     "output_type": "stream",
     "text": [
      "100%|██████████| 150/150 [00:06<00:00, 24.37it/s]\n"
     ]
    },
    {
     "name": "stdout",
     "output_type": "stream",
     "text": [
      "[20/Apr/2023 01:54:00] INFO - Running process for Neural Net (lidar) | layers: 2, epochs: 150, lr: 7.5e-06, batchsize: 200\n",
      "Training...\n"
     ]
    },
    {
     "name": "stderr",
     "output_type": "stream",
     "text": [
      "100%|██████████| 150/150 [00:05<00:00, 25.05it/s]\n"
     ]
    },
    {
     "name": "stdout",
     "output_type": "stream",
     "text": [
      "[20/Apr/2023 01:54:06] INFO - Running process for Neural Net (lidar) | layers: 2, epochs: 150, lr: 7.5e-06, batchsize: 200\n",
      "Training...\n"
     ]
    },
    {
     "name": "stderr",
     "output_type": "stream",
     "text": [
      "100%|██████████| 150/150 [00:06<00:00, 24.66it/s]\n"
     ]
    },
    {
     "name": "stdout",
     "output_type": "stream",
     "text": [
      "[20/Apr/2023 01:54:12] INFO - Running process for Neural Net (lidar) | layers: 2, epochs: 300, lr: 0.0001, batchsize: 50\n",
      "Training...\n"
     ]
    },
    {
     "name": "stderr",
     "output_type": "stream",
     "text": [
      "100%|██████████| 300/300 [00:23<00:00, 12.77it/s]\n"
     ]
    },
    {
     "name": "stdout",
     "output_type": "stream",
     "text": [
      "[20/Apr/2023 01:54:36] INFO - Running process for Neural Net (lidar) | layers: 2, epochs: 300, lr: 0.0001, batchsize: 50\n",
      "Training...\n"
     ]
    },
    {
     "name": "stderr",
     "output_type": "stream",
     "text": [
      "100%|██████████| 300/300 [00:23<00:00, 12.76it/s]\n"
     ]
    },
    {
     "name": "stdout",
     "output_type": "stream",
     "text": [
      "[20/Apr/2023 01:54:59] INFO - Running process for Neural Net (lidar) | layers: 2, epochs: 300, lr: 0.0001, batchsize: 50\n",
      "Training...\n"
     ]
    },
    {
     "name": "stderr",
     "output_type": "stream",
     "text": [
      "100%|██████████| 300/300 [00:28<00:00, 10.53it/s]\n"
     ]
    },
    {
     "name": "stdout",
     "output_type": "stream",
     "text": [
      "[20/Apr/2023 01:55:28] INFO - Running process for Neural Net (lidar) | layers: 2, epochs: 300, lr: 0.0001, batchsize: 50\n",
      "Training...\n"
     ]
    },
    {
     "name": "stderr",
     "output_type": "stream",
     "text": [
      "100%|██████████| 300/300 [00:23<00:00, 12.82it/s]\n"
     ]
    },
    {
     "name": "stdout",
     "output_type": "stream",
     "text": [
      "[20/Apr/2023 01:55:51] INFO - Running process for Neural Net (lidar) | layers: 2, epochs: 300, lr: 0.0001, batchsize: 100\n",
      "Training...\n"
     ]
    },
    {
     "name": "stderr",
     "output_type": "stream",
     "text": [
      "100%|██████████| 300/300 [00:15<00:00, 19.02it/s]\n"
     ]
    },
    {
     "name": "stdout",
     "output_type": "stream",
     "text": [
      "[20/Apr/2023 01:56:07] INFO - Running process for Neural Net (lidar) | layers: 2, epochs: 300, lr: 0.0001, batchsize: 100\n",
      "Training...\n"
     ]
    },
    {
     "name": "stderr",
     "output_type": "stream",
     "text": [
      "100%|██████████| 300/300 [00:15<00:00, 18.97it/s]\n"
     ]
    },
    {
     "name": "stdout",
     "output_type": "stream",
     "text": [
      "[20/Apr/2023 01:56:23] INFO - Running process for Neural Net (lidar) | layers: 2, epochs: 300, lr: 0.0001, batchsize: 100\n",
      "Training...\n"
     ]
    },
    {
     "name": "stderr",
     "output_type": "stream",
     "text": [
      "100%|██████████| 300/300 [00:15<00:00, 18.98it/s]\n"
     ]
    },
    {
     "name": "stdout",
     "output_type": "stream",
     "text": [
      "[20/Apr/2023 01:56:39] INFO - Running process for Neural Net (lidar) | layers: 2, epochs: 300, lr: 0.0001, batchsize: 100\n",
      "Training...\n"
     ]
    },
    {
     "name": "stderr",
     "output_type": "stream",
     "text": [
      "100%|██████████| 300/300 [00:15<00:00, 18.99it/s]\n"
     ]
    },
    {
     "name": "stdout",
     "output_type": "stream",
     "text": [
      "[20/Apr/2023 01:56:55] INFO - Running process for Neural Net (lidar) | layers: 2, epochs: 300, lr: 0.0001, batchsize: 200\n",
      "Training...\n"
     ]
    },
    {
     "name": "stderr",
     "output_type": "stream",
     "text": [
      "100%|██████████| 300/300 [00:12<00:00, 24.76it/s]\n"
     ]
    },
    {
     "name": "stdout",
     "output_type": "stream",
     "text": [
      "[20/Apr/2023 01:57:08] INFO - Running process for Neural Net (lidar) | layers: 2, epochs: 300, lr: 0.0001, batchsize: 200\n",
      "Training...\n"
     ]
    },
    {
     "name": "stderr",
     "output_type": "stream",
     "text": [
      "100%|██████████| 300/300 [00:12<00:00, 24.67it/s]\n"
     ]
    },
    {
     "name": "stdout",
     "output_type": "stream",
     "text": [
      "[20/Apr/2023 01:57:20] INFO - Running process for Neural Net (lidar) | layers: 2, epochs: 300, lr: 0.0001, batchsize: 200\n",
      "Training...\n"
     ]
    },
    {
     "name": "stderr",
     "output_type": "stream",
     "text": [
      "100%|██████████| 300/300 [00:12<00:00, 24.84it/s]\n"
     ]
    },
    {
     "name": "stdout",
     "output_type": "stream",
     "text": [
      "[20/Apr/2023 01:57:32] INFO - Running process for Neural Net (lidar) | layers: 2, epochs: 300, lr: 0.0001, batchsize: 200\n",
      "Training...\n"
     ]
    },
    {
     "name": "stderr",
     "output_type": "stream",
     "text": [
      "100%|██████████| 300/300 [00:12<00:00, 24.78it/s]\n"
     ]
    },
    {
     "name": "stdout",
     "output_type": "stream",
     "text": [
      "[20/Apr/2023 01:57:44] INFO - Running process for Neural Net (lidar) | layers: 2, epochs: 300, lr: 7.5e-05, batchsize: 50\n",
      "Training...\n"
     ]
    },
    {
     "name": "stderr",
     "output_type": "stream",
     "text": [
      "100%|██████████| 300/300 [00:26<00:00, 11.31it/s]\n"
     ]
    },
    {
     "name": "stdout",
     "output_type": "stream",
     "text": [
      "[20/Apr/2023 01:58:11] INFO - Running process for Neural Net (lidar) | layers: 2, epochs: 300, lr: 7.5e-05, batchsize: 50\n",
      "Training...\n"
     ]
    },
    {
     "name": "stderr",
     "output_type": "stream",
     "text": [
      "100%|██████████| 300/300 [00:23<00:00, 12.70it/s]\n"
     ]
    },
    {
     "name": "stdout",
     "output_type": "stream",
     "text": [
      "[20/Apr/2023 01:58:35] INFO - Running process for Neural Net (lidar) | layers: 2, epochs: 300, lr: 7.5e-05, batchsize: 50\n",
      "Training...\n"
     ]
    },
    {
     "name": "stderr",
     "output_type": "stream",
     "text": [
      "100%|██████████| 300/300 [00:23<00:00, 12.67it/s]\n"
     ]
    },
    {
     "name": "stdout",
     "output_type": "stream",
     "text": [
      "[20/Apr/2023 01:58:59] INFO - Running process for Neural Net (lidar) | layers: 2, epochs: 300, lr: 7.5e-05, batchsize: 50\n",
      "Training...\n"
     ]
    },
    {
     "name": "stderr",
     "output_type": "stream",
     "text": [
      "100%|██████████| 300/300 [00:23<00:00, 12.81it/s]\n"
     ]
    },
    {
     "name": "stdout",
     "output_type": "stream",
     "text": [
      "[20/Apr/2023 01:59:22] INFO - Running process for Neural Net (lidar) | layers: 2, epochs: 300, lr: 7.5e-05, batchsize: 100\n",
      "Training...\n"
     ]
    },
    {
     "name": "stderr",
     "output_type": "stream",
     "text": [
      "100%|██████████| 300/300 [00:15<00:00, 18.83it/s]\n"
     ]
    },
    {
     "name": "stdout",
     "output_type": "stream",
     "text": [
      "[20/Apr/2023 01:59:38] INFO - Running process for Neural Net (lidar) | layers: 2, epochs: 300, lr: 7.5e-05, batchsize: 100\n",
      "Training...\n"
     ]
    },
    {
     "name": "stderr",
     "output_type": "stream",
     "text": [
      "100%|██████████| 300/300 [00:15<00:00, 19.00it/s]\n"
     ]
    },
    {
     "name": "stdout",
     "output_type": "stream",
     "text": [
      "[20/Apr/2023 01:59:54] INFO - Running process for Neural Net (lidar) | layers: 2, epochs: 300, lr: 7.5e-05, batchsize: 100\n",
      "Training...\n"
     ]
    },
    {
     "name": "stderr",
     "output_type": "stream",
     "text": [
      "100%|██████████| 300/300 [00:15<00:00, 19.02it/s]\n"
     ]
    },
    {
     "name": "stdout",
     "output_type": "stream",
     "text": [
      "[20/Apr/2023 02:00:10] INFO - Running process for Neural Net (lidar) | layers: 2, epochs: 300, lr: 7.5e-05, batchsize: 100\n",
      "Training...\n"
     ]
    },
    {
     "name": "stderr",
     "output_type": "stream",
     "text": [
      "100%|██████████| 300/300 [00:15<00:00, 18.79it/s]\n"
     ]
    },
    {
     "name": "stdout",
     "output_type": "stream",
     "text": [
      "[20/Apr/2023 02:00:26] INFO - Running process for Neural Net (lidar) | layers: 2, epochs: 300, lr: 7.5e-05, batchsize: 200\n",
      "Training...\n"
     ]
    },
    {
     "name": "stderr",
     "output_type": "stream",
     "text": [
      "100%|██████████| 300/300 [00:13<00:00, 22.92it/s]\n"
     ]
    },
    {
     "name": "stdout",
     "output_type": "stream",
     "text": [
      "[20/Apr/2023 02:00:39] INFO - Running process for Neural Net (lidar) | layers: 2, epochs: 300, lr: 7.5e-05, batchsize: 200\n",
      "Training...\n"
     ]
    },
    {
     "name": "stderr",
     "output_type": "stream",
     "text": [
      "100%|██████████| 300/300 [00:12<00:00, 23.61it/s]\n"
     ]
    },
    {
     "name": "stdout",
     "output_type": "stream",
     "text": [
      "[20/Apr/2023 02:00:52] INFO - Running process for Neural Net (lidar) | layers: 2, epochs: 300, lr: 7.5e-05, batchsize: 200\n",
      "Training...\n"
     ]
    },
    {
     "name": "stderr",
     "output_type": "stream",
     "text": [
      "100%|██████████| 300/300 [00:12<00:00, 23.36it/s]\n"
     ]
    },
    {
     "name": "stdout",
     "output_type": "stream",
     "text": [
      "[20/Apr/2023 02:01:05] INFO - Running process for Neural Net (lidar) | layers: 2, epochs: 300, lr: 7.5e-05, batchsize: 200\n",
      "Training...\n"
     ]
    },
    {
     "name": "stderr",
     "output_type": "stream",
     "text": [
      "100%|██████████| 300/300 [00:13<00:00, 22.97it/s]\n"
     ]
    },
    {
     "name": "stdout",
     "output_type": "stream",
     "text": [
      "[20/Apr/2023 02:01:18] INFO - Running process for Neural Net (lidar) | layers: 2, epochs: 300, lr: 1e-05, batchsize: 50\n",
      "Training...\n"
     ]
    },
    {
     "name": "stderr",
     "output_type": "stream",
     "text": [
      "100%|██████████| 300/300 [00:23<00:00, 13.02it/s]\n"
     ]
    },
    {
     "name": "stdout",
     "output_type": "stream",
     "text": [
      "[20/Apr/2023 02:01:42] INFO - Running process for Neural Net (lidar) | layers: 2, epochs: 300, lr: 1e-05, batchsize: 50\n",
      "Training...\n"
     ]
    },
    {
     "name": "stderr",
     "output_type": "stream",
     "text": [
      "100%|██████████| 300/300 [00:24<00:00, 12.08it/s]\n"
     ]
    },
    {
     "name": "stdout",
     "output_type": "stream",
     "text": [
      "[20/Apr/2023 02:02:07] INFO - Running process for Neural Net (lidar) | layers: 2, epochs: 300, lr: 1e-05, batchsize: 50\n",
      "Training...\n"
     ]
    },
    {
     "name": "stderr",
     "output_type": "stream",
     "text": [
      "100%|██████████| 300/300 [00:24<00:00, 12.45it/s]\n"
     ]
    },
    {
     "name": "stdout",
     "output_type": "stream",
     "text": [
      "[20/Apr/2023 02:02:31] INFO - Running process for Neural Net (lidar) | layers: 2, epochs: 300, lr: 1e-05, batchsize: 50\n",
      "Training...\n"
     ]
    },
    {
     "name": "stderr",
     "output_type": "stream",
     "text": [
      "100%|██████████| 300/300 [00:23<00:00, 12.96it/s]\n"
     ]
    },
    {
     "name": "stdout",
     "output_type": "stream",
     "text": [
      "[20/Apr/2023 02:02:54] INFO - Running process for Neural Net (lidar) | layers: 2, epochs: 300, lr: 1e-05, batchsize: 100\n",
      "Training...\n"
     ]
    },
    {
     "name": "stderr",
     "output_type": "stream",
     "text": [
      "100%|██████████| 300/300 [00:15<00:00, 19.18it/s]\n"
     ]
    },
    {
     "name": "stdout",
     "output_type": "stream",
     "text": [
      "[20/Apr/2023 02:03:10] INFO - Running process for Neural Net (lidar) | layers: 2, epochs: 300, lr: 1e-05, batchsize: 100\n",
      "Training...\n"
     ]
    },
    {
     "name": "stderr",
     "output_type": "stream",
     "text": [
      "100%|██████████| 300/300 [00:15<00:00, 18.83it/s]\n"
     ]
    },
    {
     "name": "stdout",
     "output_type": "stream",
     "text": [
      "[20/Apr/2023 02:03:26] INFO - Running process for Neural Net (lidar) | layers: 2, epochs: 300, lr: 1e-05, batchsize: 100\n",
      "Training...\n"
     ]
    },
    {
     "name": "stderr",
     "output_type": "stream",
     "text": [
      "100%|██████████| 300/300 [00:15<00:00, 18.91it/s]\n"
     ]
    },
    {
     "name": "stdout",
     "output_type": "stream",
     "text": [
      "[20/Apr/2023 02:03:42] INFO - Running process for Neural Net (lidar) | layers: 2, epochs: 300, lr: 1e-05, batchsize: 100\n",
      "Training...\n"
     ]
    },
    {
     "name": "stderr",
     "output_type": "stream",
     "text": [
      "100%|██████████| 300/300 [00:18<00:00, 16.55it/s]\n"
     ]
    },
    {
     "name": "stdout",
     "output_type": "stream",
     "text": [
      "[20/Apr/2023 02:04:00] INFO - Running process for Neural Net (lidar) | layers: 2, epochs: 300, lr: 1e-05, batchsize: 200\n",
      "Training...\n"
     ]
    },
    {
     "name": "stderr",
     "output_type": "stream",
     "text": [
      "100%|██████████| 300/300 [00:12<00:00, 24.67it/s]\n"
     ]
    },
    {
     "name": "stdout",
     "output_type": "stream",
     "text": [
      "[20/Apr/2023 02:04:13] INFO - Running process for Neural Net (lidar) | layers: 2, epochs: 300, lr: 1e-05, batchsize: 200\n",
      "Training...\n"
     ]
    },
    {
     "name": "stderr",
     "output_type": "stream",
     "text": [
      "100%|██████████| 300/300 [00:12<00:00, 24.33it/s]\n"
     ]
    },
    {
     "name": "stdout",
     "output_type": "stream",
     "text": [
      "[20/Apr/2023 02:04:25] INFO - Running process for Neural Net (lidar) | layers: 2, epochs: 300, lr: 1e-05, batchsize: 200\n",
      "Training...\n"
     ]
    },
    {
     "name": "stderr",
     "output_type": "stream",
     "text": [
      "100%|██████████| 300/300 [00:12<00:00, 23.85it/s]\n"
     ]
    },
    {
     "name": "stdout",
     "output_type": "stream",
     "text": [
      "[20/Apr/2023 02:04:38] INFO - Running process for Neural Net (lidar) | layers: 2, epochs: 300, lr: 1e-05, batchsize: 200\n",
      "Training...\n"
     ]
    },
    {
     "name": "stderr",
     "output_type": "stream",
     "text": [
      "100%|██████████| 300/300 [00:12<00:00, 24.45it/s]\n"
     ]
    },
    {
     "name": "stdout",
     "output_type": "stream",
     "text": [
      "[20/Apr/2023 02:04:50] INFO - Running process for Neural Net (lidar) | layers: 2, epochs: 300, lr: 7.5e-06, batchsize: 50\n",
      "Training...\n"
     ]
    },
    {
     "name": "stderr",
     "output_type": "stream",
     "text": [
      "100%|██████████| 300/300 [00:26<00:00, 11.12it/s]\n"
     ]
    },
    {
     "name": "stdout",
     "output_type": "stream",
     "text": [
      "[20/Apr/2023 02:05:17] INFO - Running process for Neural Net (lidar) | layers: 2, epochs: 300, lr: 7.5e-06, batchsize: 50\n",
      "Training...\n"
     ]
    },
    {
     "name": "stderr",
     "output_type": "stream",
     "text": [
      "100%|██████████| 300/300 [00:27<00:00, 11.00it/s]\n"
     ]
    },
    {
     "name": "stdout",
     "output_type": "stream",
     "text": [
      "[20/Apr/2023 02:05:45] INFO - Running process for Neural Net (lidar) | layers: 2, epochs: 300, lr: 7.5e-06, batchsize: 50\n",
      "Training...\n"
     ]
    },
    {
     "name": "stderr",
     "output_type": "stream",
     "text": [
      "100%|██████████| 300/300 [00:24<00:00, 12.35it/s]\n"
     ]
    },
    {
     "name": "stdout",
     "output_type": "stream",
     "text": [
      "[20/Apr/2023 02:06:09] INFO - Running process for Neural Net (lidar) | layers: 2, epochs: 300, lr: 7.5e-06, batchsize: 50\n",
      "Training...\n"
     ]
    },
    {
     "name": "stderr",
     "output_type": "stream",
     "text": [
      "100%|██████████| 300/300 [00:24<00:00, 12.28it/s]\n"
     ]
    },
    {
     "name": "stdout",
     "output_type": "stream",
     "text": [
      "[20/Apr/2023 02:06:34] INFO - Running process for Neural Net (lidar) | layers: 2, epochs: 300, lr: 7.5e-06, batchsize: 100\n",
      "Training...\n"
     ]
    },
    {
     "name": "stderr",
     "output_type": "stream",
     "text": [
      "100%|██████████| 300/300 [00:16<00:00, 18.61it/s]\n"
     ]
    },
    {
     "name": "stdout",
     "output_type": "stream",
     "text": [
      "[20/Apr/2023 02:06:50] INFO - Running process for Neural Net (lidar) | layers: 2, epochs: 300, lr: 7.5e-06, batchsize: 100\n",
      "Training...\n"
     ]
    },
    {
     "name": "stderr",
     "output_type": "stream",
     "text": [
      "100%|██████████| 300/300 [00:15<00:00, 18.83it/s]\n"
     ]
    },
    {
     "name": "stdout",
     "output_type": "stream",
     "text": [
      "[20/Apr/2023 02:07:06] INFO - Running process for Neural Net (lidar) | layers: 2, epochs: 300, lr: 7.5e-06, batchsize: 100\n",
      "Training...\n"
     ]
    },
    {
     "name": "stderr",
     "output_type": "stream",
     "text": [
      "100%|██████████| 300/300 [00:18<00:00, 16.28it/s]\n"
     ]
    },
    {
     "name": "stdout",
     "output_type": "stream",
     "text": [
      "[20/Apr/2023 02:07:25] INFO - Running process for Neural Net (lidar) | layers: 2, epochs: 300, lr: 7.5e-06, batchsize: 100\n",
      "Training...\n"
     ]
    },
    {
     "name": "stderr",
     "output_type": "stream",
     "text": [
      "100%|██████████| 300/300 [00:18<00:00, 16.25it/s]\n"
     ]
    },
    {
     "name": "stdout",
     "output_type": "stream",
     "text": [
      "[20/Apr/2023 02:07:43] INFO - Running process for Neural Net (lidar) | layers: 2, epochs: 300, lr: 7.5e-06, batchsize: 200\n",
      "Training...\n"
     ]
    },
    {
     "name": "stderr",
     "output_type": "stream",
     "text": [
      "100%|██████████| 300/300 [00:12<00:00, 23.71it/s]\n"
     ]
    },
    {
     "name": "stdout",
     "output_type": "stream",
     "text": [
      "[20/Apr/2023 02:07:56] INFO - Running process for Neural Net (lidar) | layers: 2, epochs: 300, lr: 7.5e-06, batchsize: 200\n",
      "Training...\n"
     ]
    },
    {
     "name": "stderr",
     "output_type": "stream",
     "text": [
      "100%|██████████| 300/300 [00:12<00:00, 24.54it/s]\n"
     ]
    },
    {
     "name": "stdout",
     "output_type": "stream",
     "text": [
      "[20/Apr/2023 02:08:08] INFO - Running process for Neural Net (lidar) | layers: 2, epochs: 300, lr: 7.5e-06, batchsize: 200\n",
      "Training...\n"
     ]
    },
    {
     "name": "stderr",
     "output_type": "stream",
     "text": [
      "100%|██████████| 300/300 [00:12<00:00, 24.37it/s]\n"
     ]
    },
    {
     "name": "stdout",
     "output_type": "stream",
     "text": [
      "[20/Apr/2023 02:08:21] INFO - Running process for Neural Net (lidar) | layers: 2, epochs: 300, lr: 7.5e-06, batchsize: 200\n",
      "Training...\n"
     ]
    },
    {
     "name": "stderr",
     "output_type": "stream",
     "text": [
      "100%|██████████| 300/300 [00:12<00:00, 23.93it/s]\n"
     ]
    },
    {
     "name": "stdout",
     "output_type": "stream",
     "text": [
      "[20/Apr/2023 02:08:34] INFO - Running process for Neural Net (lidar) | layers: 2, epochs: 450, lr: 0.0001, batchsize: 50\n",
      "Training...\n"
     ]
    },
    {
     "name": "stderr",
     "output_type": "stream",
     "text": [
      "100%|██████████| 450/450 [00:35<00:00, 12.69it/s]\n"
     ]
    },
    {
     "name": "stdout",
     "output_type": "stream",
     "text": [
      "[20/Apr/2023 02:09:09] INFO - Running process for Neural Net (lidar) | layers: 2, epochs: 450, lr: 0.0001, batchsize: 50\n",
      "Training...\n"
     ]
    },
    {
     "name": "stderr",
     "output_type": "stream",
     "text": [
      "100%|██████████| 450/450 [00:39<00:00, 11.31it/s]\n"
     ]
    },
    {
     "name": "stdout",
     "output_type": "stream",
     "text": [
      "[20/Apr/2023 02:09:49] INFO - Running process for Neural Net (lidar) | layers: 2, epochs: 450, lr: 0.0001, batchsize: 50\n",
      "Training...\n"
     ]
    },
    {
     "name": "stderr",
     "output_type": "stream",
     "text": [
      "100%|██████████| 450/450 [00:41<00:00, 10.89it/s]\n"
     ]
    },
    {
     "name": "stdout",
     "output_type": "stream",
     "text": [
      "[20/Apr/2023 02:10:31] INFO - Running process for Neural Net (lidar) | layers: 2, epochs: 450, lr: 0.0001, batchsize: 50\n",
      "Training...\n"
     ]
    },
    {
     "name": "stderr",
     "output_type": "stream",
     "text": [
      "100%|██████████| 450/450 [00:35<00:00, 12.55it/s]\n"
     ]
    },
    {
     "name": "stdout",
     "output_type": "stream",
     "text": [
      "[20/Apr/2023 02:11:07] INFO - Running process for Neural Net (lidar) | layers: 2, epochs: 450, lr: 0.0001, batchsize: 100\n",
      "Training...\n"
     ]
    },
    {
     "name": "stderr",
     "output_type": "stream",
     "text": [
      "100%|██████████| 450/450 [00:23<00:00, 18.98it/s]\n"
     ]
    },
    {
     "name": "stdout",
     "output_type": "stream",
     "text": [
      "[20/Apr/2023 02:11:30] INFO - Running process for Neural Net (lidar) | layers: 2, epochs: 450, lr: 0.0001, batchsize: 100\n",
      "Training...\n"
     ]
    },
    {
     "name": "stderr",
     "output_type": "stream",
     "text": [
      "100%|██████████| 450/450 [00:28<00:00, 15.86it/s]\n"
     ]
    },
    {
     "name": "stdout",
     "output_type": "stream",
     "text": [
      "[20/Apr/2023 02:11:59] INFO - Running process for Neural Net (lidar) | layers: 2, epochs: 450, lr: 0.0001, batchsize: 100\n",
      "Training...\n"
     ]
    },
    {
     "name": "stderr",
     "output_type": "stream",
     "text": [
      "100%|██████████| 450/450 [00:24<00:00, 18.69it/s]\n"
     ]
    },
    {
     "name": "stdout",
     "output_type": "stream",
     "text": [
      "[20/Apr/2023 02:12:23] INFO - Running process for Neural Net (lidar) | layers: 2, epochs: 450, lr: 0.0001, batchsize: 100\n",
      "Training...\n"
     ]
    },
    {
     "name": "stderr",
     "output_type": "stream",
     "text": [
      "100%|██████████| 450/450 [00:24<00:00, 18.33it/s]\n"
     ]
    },
    {
     "name": "stdout",
     "output_type": "stream",
     "text": [
      "[20/Apr/2023 02:12:48] INFO - Running process for Neural Net (lidar) | layers: 2, epochs: 450, lr: 0.0001, batchsize: 200\n",
      "Training...\n"
     ]
    },
    {
     "name": "stderr",
     "output_type": "stream",
     "text": [
      "100%|██████████| 450/450 [00:17<00:00, 25.08it/s]\n"
     ]
    },
    {
     "name": "stdout",
     "output_type": "stream",
     "text": [
      "[20/Apr/2023 02:13:06] INFO - Running process for Neural Net (lidar) | layers: 2, epochs: 450, lr: 0.0001, batchsize: 200\n",
      "Training...\n"
     ]
    },
    {
     "name": "stderr",
     "output_type": "stream",
     "text": [
      "100%|██████████| 450/450 [00:18<00:00, 24.01it/s]\n"
     ]
    },
    {
     "name": "stdout",
     "output_type": "stream",
     "text": [
      "[20/Apr/2023 02:13:25] INFO - Running process for Neural Net (lidar) | layers: 2, epochs: 450, lr: 0.0001, batchsize: 200\n",
      "Training...\n"
     ]
    },
    {
     "name": "stderr",
     "output_type": "stream",
     "text": [
      "100%|██████████| 450/450 [00:17<00:00, 25.15it/s]\n"
     ]
    },
    {
     "name": "stdout",
     "output_type": "stream",
     "text": [
      "[20/Apr/2023 02:13:43] INFO - Running process for Neural Net (lidar) | layers: 2, epochs: 450, lr: 0.0001, batchsize: 200\n",
      "Training...\n"
     ]
    },
    {
     "name": "stderr",
     "output_type": "stream",
     "text": [
      "100%|██████████| 450/450 [00:18<00:00, 24.53it/s]\n"
     ]
    },
    {
     "name": "stdout",
     "output_type": "stream",
     "text": [
      "[20/Apr/2023 02:14:01] INFO - Running process for Neural Net (lidar) | layers: 2, epochs: 450, lr: 7.5e-05, batchsize: 50\n",
      "Training...\n"
     ]
    },
    {
     "name": "stderr",
     "output_type": "stream",
     "text": [
      "100%|██████████| 450/450 [00:34<00:00, 12.91it/s]\n"
     ]
    },
    {
     "name": "stdout",
     "output_type": "stream",
     "text": [
      "[20/Apr/2023 02:14:36] INFO - Running process for Neural Net (lidar) | layers: 2, epochs: 450, lr: 7.5e-05, batchsize: 50\n",
      "Training...\n"
     ]
    },
    {
     "name": "stderr",
     "output_type": "stream",
     "text": [
      "100%|██████████| 450/450 [00:35<00:00, 12.82it/s]\n"
     ]
    },
    {
     "name": "stdout",
     "output_type": "stream",
     "text": [
      "[20/Apr/2023 02:15:12] INFO - Running process for Neural Net (lidar) | layers: 2, epochs: 450, lr: 7.5e-05, batchsize: 50\n",
      "Training...\n"
     ]
    },
    {
     "name": "stderr",
     "output_type": "stream",
     "text": [
      "100%|██████████| 450/450 [00:36<00:00, 12.35it/s]\n"
     ]
    },
    {
     "name": "stdout",
     "output_type": "stream",
     "text": [
      "[20/Apr/2023 02:15:48] INFO - Running process for Neural Net (lidar) | layers: 2, epochs: 450, lr: 7.5e-05, batchsize: 50\n",
      "Training...\n"
     ]
    },
    {
     "name": "stderr",
     "output_type": "stream",
     "text": [
      "100%|██████████| 450/450 [00:44<00:00, 10.15it/s]\n"
     ]
    },
    {
     "name": "stdout",
     "output_type": "stream",
     "text": [
      "[20/Apr/2023 02:16:33] INFO - Running process for Neural Net (lidar) | layers: 2, epochs: 450, lr: 7.5e-05, batchsize: 100\n",
      "Training...\n"
     ]
    },
    {
     "name": "stderr",
     "output_type": "stream",
     "text": [
      "100%|██████████| 450/450 [00:23<00:00, 19.40it/s]\n"
     ]
    },
    {
     "name": "stdout",
     "output_type": "stream",
     "text": [
      "[20/Apr/2023 02:16:56] INFO - Running process for Neural Net (lidar) | layers: 2, epochs: 450, lr: 7.5e-05, batchsize: 100\n",
      "Training...\n"
     ]
    },
    {
     "name": "stderr",
     "output_type": "stream",
     "text": [
      "100%|██████████| 450/450 [00:23<00:00, 19.04it/s]\n"
     ]
    },
    {
     "name": "stdout",
     "output_type": "stream",
     "text": [
      "[20/Apr/2023 02:17:20] INFO - Running process for Neural Net (lidar) | layers: 2, epochs: 450, lr: 7.5e-05, batchsize: 100\n",
      "Training...\n"
     ]
    },
    {
     "name": "stderr",
     "output_type": "stream",
     "text": [
      "100%|██████████| 450/450 [00:23<00:00, 19.02it/s]\n"
     ]
    },
    {
     "name": "stdout",
     "output_type": "stream",
     "text": [
      "[20/Apr/2023 02:17:44] INFO - Running process for Neural Net (lidar) | layers: 2, epochs: 450, lr: 7.5e-05, batchsize: 100\n",
      "Training...\n"
     ]
    },
    {
     "name": "stderr",
     "output_type": "stream",
     "text": [
      "100%|██████████| 450/450 [00:23<00:00, 19.16it/s]\n"
     ]
    },
    {
     "name": "stdout",
     "output_type": "stream",
     "text": [
      "[20/Apr/2023 02:18:07] INFO - Running process for Neural Net (lidar) | layers: 2, epochs: 450, lr: 7.5e-05, batchsize: 200\n",
      "Training...\n"
     ]
    },
    {
     "name": "stderr",
     "output_type": "stream",
     "text": [
      "100%|██████████| 450/450 [00:18<00:00, 24.93it/s]\n"
     ]
    },
    {
     "name": "stdout",
     "output_type": "stream",
     "text": [
      "[20/Apr/2023 02:18:25] INFO - Running process for Neural Net (lidar) | layers: 2, epochs: 450, lr: 7.5e-05, batchsize: 200\n",
      "Training...\n"
     ]
    },
    {
     "name": "stderr",
     "output_type": "stream",
     "text": [
      "100%|██████████| 450/450 [00:17<00:00, 25.01it/s]\n"
     ]
    },
    {
     "name": "stdout",
     "output_type": "stream",
     "text": [
      "[20/Apr/2023 02:18:44] INFO - Running process for Neural Net (lidar) | layers: 2, epochs: 450, lr: 7.5e-05, batchsize: 200\n",
      "Training...\n"
     ]
    },
    {
     "name": "stderr",
     "output_type": "stream",
     "text": [
      "100%|██████████| 450/450 [00:18<00:00, 24.96it/s]\n"
     ]
    },
    {
     "name": "stdout",
     "output_type": "stream",
     "text": [
      "[20/Apr/2023 02:19:02] INFO - Running process for Neural Net (lidar) | layers: 2, epochs: 450, lr: 7.5e-05, batchsize: 200\n",
      "Training...\n"
     ]
    },
    {
     "name": "stderr",
     "output_type": "stream",
     "text": [
      "100%|██████████| 450/450 [00:18<00:00, 23.85it/s]\n"
     ]
    },
    {
     "name": "stdout",
     "output_type": "stream",
     "text": [
      "[20/Apr/2023 02:19:21] INFO - Running process for Neural Net (lidar) | layers: 2, epochs: 450, lr: 1e-05, batchsize: 50\n",
      "Training...\n"
     ]
    },
    {
     "name": "stderr",
     "output_type": "stream",
     "text": [
      "100%|██████████| 450/450 [00:40<00:00, 11.14it/s]\n"
     ]
    },
    {
     "name": "stdout",
     "output_type": "stream",
     "text": [
      "[20/Apr/2023 02:20:01] INFO - Running process for Neural Net (lidar) | layers: 2, epochs: 450, lr: 1e-05, batchsize: 50\n",
      "Training...\n"
     ]
    },
    {
     "name": "stderr",
     "output_type": "stream",
     "text": [
      "100%|██████████| 450/450 [00:35<00:00, 12.50it/s]\n"
     ]
    },
    {
     "name": "stdout",
     "output_type": "stream",
     "text": [
      "[20/Apr/2023 02:20:37] INFO - Running process for Neural Net (lidar) | layers: 2, epochs: 450, lr: 1e-05, batchsize: 50\n",
      "Training...\n"
     ]
    },
    {
     "name": "stderr",
     "output_type": "stream",
     "text": [
      "100%|██████████| 450/450 [00:34<00:00, 12.97it/s]\n"
     ]
    },
    {
     "name": "stdout",
     "output_type": "stream",
     "text": [
      "[20/Apr/2023 02:21:12] INFO - Running process for Neural Net (lidar) | layers: 2, epochs: 450, lr: 1e-05, batchsize: 50\n",
      "Training...\n"
     ]
    },
    {
     "name": "stderr",
     "output_type": "stream",
     "text": [
      "100%|██████████| 450/450 [00:34<00:00, 12.96it/s]\n"
     ]
    },
    {
     "name": "stdout",
     "output_type": "stream",
     "text": [
      "[20/Apr/2023 02:21:47] INFO - Running process for Neural Net (lidar) | layers: 2, epochs: 450, lr: 1e-05, batchsize: 100\n",
      "Training...\n"
     ]
    },
    {
     "name": "stderr",
     "output_type": "stream",
     "text": [
      "100%|██████████| 450/450 [00:23<00:00, 19.11it/s]\n"
     ]
    },
    {
     "name": "stdout",
     "output_type": "stream",
     "text": [
      "[20/Apr/2023 02:22:11] INFO - Running process for Neural Net (lidar) | layers: 2, epochs: 450, lr: 1e-05, batchsize: 100\n",
      "Training...\n"
     ]
    },
    {
     "name": "stderr",
     "output_type": "stream",
     "text": [
      "100%|██████████| 450/450 [00:23<00:00, 19.16it/s]\n"
     ]
    },
    {
     "name": "stdout",
     "output_type": "stream",
     "text": [
      "[20/Apr/2023 02:22:34] INFO - Running process for Neural Net (lidar) | layers: 2, epochs: 450, lr: 1e-05, batchsize: 100\n",
      "Training...\n"
     ]
    },
    {
     "name": "stderr",
     "output_type": "stream",
     "text": [
      "100%|██████████| 450/450 [00:23<00:00, 18.80it/s]\n"
     ]
    },
    {
     "name": "stdout",
     "output_type": "stream",
     "text": [
      "[20/Apr/2023 02:22:59] INFO - Running process for Neural Net (lidar) | layers: 2, epochs: 450, lr: 1e-05, batchsize: 100\n",
      "Training...\n"
     ]
    },
    {
     "name": "stderr",
     "output_type": "stream",
     "text": [
      "100%|██████████| 450/450 [00:24<00:00, 18.15it/s]\n"
     ]
    },
    {
     "name": "stdout",
     "output_type": "stream",
     "text": [
      "[20/Apr/2023 02:23:23] INFO - Running process for Neural Net (lidar) | layers: 2, epochs: 450, lr: 1e-05, batchsize: 200\n",
      "Training...\n"
     ]
    },
    {
     "name": "stderr",
     "output_type": "stream",
     "text": [
      "100%|██████████| 450/450 [00:18<00:00, 24.75it/s]\n"
     ]
    },
    {
     "name": "stdout",
     "output_type": "stream",
     "text": [
      "[20/Apr/2023 02:23:42] INFO - Running process for Neural Net (lidar) | layers: 2, epochs: 450, lr: 1e-05, batchsize: 200\n",
      "Training...\n"
     ]
    },
    {
     "name": "stderr",
     "output_type": "stream",
     "text": [
      "100%|██████████| 450/450 [00:17<00:00, 25.45it/s]\n"
     ]
    },
    {
     "name": "stdout",
     "output_type": "stream",
     "text": [
      "[20/Apr/2023 02:24:00] INFO - Running process for Neural Net (lidar) | layers: 2, epochs: 450, lr: 1e-05, batchsize: 200\n",
      "Training...\n"
     ]
    },
    {
     "name": "stderr",
     "output_type": "stream",
     "text": [
      "100%|██████████| 450/450 [00:18<00:00, 23.92it/s]\n"
     ]
    },
    {
     "name": "stdout",
     "output_type": "stream",
     "text": [
      "[20/Apr/2023 02:24:19] INFO - Running process for Neural Net (lidar) | layers: 2, epochs: 450, lr: 1e-05, batchsize: 200\n",
      "Training...\n"
     ]
    },
    {
     "name": "stderr",
     "output_type": "stream",
     "text": [
      "100%|██████████| 450/450 [00:19<00:00, 23.42it/s]\n"
     ]
    },
    {
     "name": "stdout",
     "output_type": "stream",
     "text": [
      "[20/Apr/2023 02:24:38] INFO - Running process for Neural Net (lidar) | layers: 2, epochs: 450, lr: 7.5e-06, batchsize: 50\n",
      "Training...\n"
     ]
    },
    {
     "name": "stderr",
     "output_type": "stream",
     "text": [
      "100%|██████████| 450/450 [00:40<00:00, 11.21it/s]\n"
     ]
    },
    {
     "name": "stdout",
     "output_type": "stream",
     "text": [
      "[20/Apr/2023 02:25:18] INFO - Running process for Neural Net (lidar) | layers: 2, epochs: 450, lr: 7.5e-06, batchsize: 50\n",
      "Training...\n"
     ]
    },
    {
     "name": "stderr",
     "output_type": "stream",
     "text": [
      "100%|██████████| 450/450 [00:35<00:00, 12.72it/s]\n"
     ]
    },
    {
     "name": "stdout",
     "output_type": "stream",
     "text": [
      "[20/Apr/2023 02:25:54] INFO - Running process for Neural Net (lidar) | layers: 2, epochs: 450, lr: 7.5e-06, batchsize: 50\n",
      "Training...\n"
     ]
    },
    {
     "name": "stderr",
     "output_type": "stream",
     "text": [
      "100%|██████████| 450/450 [00:36<00:00, 12.50it/s]\n"
     ]
    },
    {
     "name": "stdout",
     "output_type": "stream",
     "text": [
      "[20/Apr/2023 02:26:30] INFO - Running process for Neural Net (lidar) | layers: 2, epochs: 450, lr: 7.5e-06, batchsize: 50\n",
      "Training...\n"
     ]
    },
    {
     "name": "stderr",
     "output_type": "stream",
     "text": [
      "100%|██████████| 450/450 [00:35<00:00, 12.70it/s]\n"
     ]
    },
    {
     "name": "stdout",
     "output_type": "stream",
     "text": [
      "[20/Apr/2023 02:27:05] INFO - Running process for Neural Net (lidar) | layers: 2, epochs: 450, lr: 7.5e-06, batchsize: 100\n",
      "Training...\n"
     ]
    },
    {
     "name": "stderr",
     "output_type": "stream",
     "text": [
      "100%|██████████| 450/450 [00:24<00:00, 18.66it/s]\n"
     ]
    },
    {
     "name": "stdout",
     "output_type": "stream",
     "text": [
      "[20/Apr/2023 02:27:30] INFO - Running process for Neural Net (lidar) | layers: 2, epochs: 450, lr: 7.5e-06, batchsize: 100\n",
      "Training...\n"
     ]
    },
    {
     "name": "stderr",
     "output_type": "stream",
     "text": [
      "100%|██████████| 450/450 [00:23<00:00, 19.03it/s]\n"
     ]
    },
    {
     "name": "stdout",
     "output_type": "stream",
     "text": [
      "[20/Apr/2023 02:27:54] INFO - Running process for Neural Net (lidar) | layers: 2, epochs: 450, lr: 7.5e-06, batchsize: 100\n",
      "Training...\n"
     ]
    },
    {
     "name": "stderr",
     "output_type": "stream",
     "text": [
      "100%|██████████| 450/450 [00:23<00:00, 19.12it/s]\n"
     ]
    },
    {
     "name": "stdout",
     "output_type": "stream",
     "text": [
      "[20/Apr/2023 02:28:17] INFO - Running process for Neural Net (lidar) | layers: 2, epochs: 450, lr: 7.5e-06, batchsize: 100\n",
      "Training...\n"
     ]
    },
    {
     "name": "stderr",
     "output_type": "stream",
     "text": [
      "100%|██████████| 450/450 [00:23<00:00, 19.18it/s]\n"
     ]
    },
    {
     "name": "stdout",
     "output_type": "stream",
     "text": [
      "[20/Apr/2023 02:28:41] INFO - Running process for Neural Net (lidar) | layers: 2, epochs: 450, lr: 7.5e-06, batchsize: 200\n",
      "Training...\n"
     ]
    },
    {
     "name": "stderr",
     "output_type": "stream",
     "text": [
      "100%|██████████| 450/450 [00:17<00:00, 25.13it/s]\n"
     ]
    },
    {
     "name": "stdout",
     "output_type": "stream",
     "text": [
      "[20/Apr/2023 02:28:59] INFO - Running process for Neural Net (lidar) | layers: 2, epochs: 450, lr: 7.5e-06, batchsize: 200\n",
      "Training...\n"
     ]
    },
    {
     "name": "stderr",
     "output_type": "stream",
     "text": [
      "100%|██████████| 450/450 [00:17<00:00, 25.26it/s]\n"
     ]
    },
    {
     "name": "stdout",
     "output_type": "stream",
     "text": [
      "[20/Apr/2023 02:29:17] INFO - Running process for Neural Net (lidar) | layers: 2, epochs: 450, lr: 7.5e-06, batchsize: 200\n",
      "Training...\n"
     ]
    },
    {
     "name": "stderr",
     "output_type": "stream",
     "text": [
      "100%|██████████| 450/450 [00:17<00:00, 25.16it/s]\n"
     ]
    },
    {
     "name": "stdout",
     "output_type": "stream",
     "text": [
      "[20/Apr/2023 02:29:35] INFO - Running process for Neural Net (lidar) | layers: 2, epochs: 450, lr: 7.5e-06, batchsize: 200\n",
      "Training...\n"
     ]
    },
    {
     "name": "stderr",
     "output_type": "stream",
     "text": [
      "100%|██████████| 450/450 [00:17<00:00, 25.03it/s]\n"
     ]
    },
    {
     "name": "stdout",
     "output_type": "stream",
     "text": [
      "[20/Apr/2023 02:29:53] INFO - Running process for Neural Net (lidar) | layers: 4, epochs: 150, lr: 0.0001, batchsize: 50\n",
      "Training...\n"
     ]
    },
    {
     "name": "stderr",
     "output_type": "stream",
     "text": [
      "100%|██████████| 150/150 [00:16<00:00,  9.01it/s]\n"
     ]
    },
    {
     "name": "stdout",
     "output_type": "stream",
     "text": [
      "[20/Apr/2023 02:30:10] INFO - Running process for Neural Net (lidar) | layers: 4, epochs: 150, lr: 0.0001, batchsize: 50\n",
      "Training...\n"
     ]
    },
    {
     "name": "stderr",
     "output_type": "stream",
     "text": [
      "100%|██████████| 150/150 [00:16<00:00,  8.98it/s]\n"
     ]
    },
    {
     "name": "stdout",
     "output_type": "stream",
     "text": [
      "[20/Apr/2023 02:30:27] INFO - Running process for Neural Net (lidar) | layers: 4, epochs: 150, lr: 0.0001, batchsize: 50\n",
      "Training...\n"
     ]
    },
    {
     "name": "stderr",
     "output_type": "stream",
     "text": [
      "100%|██████████| 150/150 [00:16<00:00,  9.02it/s]\n"
     ]
    },
    {
     "name": "stdout",
     "output_type": "stream",
     "text": [
      "[20/Apr/2023 02:30:43] INFO - Running process for Neural Net (lidar) | layers: 4, epochs: 150, lr: 0.0001, batchsize: 50\n",
      "Training...\n"
     ]
    },
    {
     "name": "stderr",
     "output_type": "stream",
     "text": [
      "100%|██████████| 150/150 [00:16<00:00,  9.09it/s]\n"
     ]
    },
    {
     "name": "stdout",
     "output_type": "stream",
     "text": [
      "[20/Apr/2023 02:31:00] INFO - Running process for Neural Net (lidar) | layers: 4, epochs: 150, lr: 0.0001, batchsize: 100\n",
      "Training...\n"
     ]
    },
    {
     "name": "stderr",
     "output_type": "stream",
     "text": [
      "100%|██████████| 150/150 [00:10<00:00, 13.98it/s]\n"
     ]
    },
    {
     "name": "stdout",
     "output_type": "stream",
     "text": [
      "[20/Apr/2023 02:31:11] INFO - Running process for Neural Net (lidar) | layers: 4, epochs: 150, lr: 0.0001, batchsize: 100\n",
      "Training...\n"
     ]
    },
    {
     "name": "stderr",
     "output_type": "stream",
     "text": [
      "100%|██████████| 150/150 [00:10<00:00, 14.00it/s]\n"
     ]
    },
    {
     "name": "stdout",
     "output_type": "stream",
     "text": [
      "[20/Apr/2023 02:31:22] INFO - Running process for Neural Net (lidar) | layers: 4, epochs: 150, lr: 0.0001, batchsize: 100\n",
      "Training...\n"
     ]
    },
    {
     "name": "stderr",
     "output_type": "stream",
     "text": [
      "100%|██████████| 150/150 [00:10<00:00, 14.03it/s]\n"
     ]
    },
    {
     "name": "stdout",
     "output_type": "stream",
     "text": [
      "[20/Apr/2023 02:31:33] INFO - Running process for Neural Net (lidar) | layers: 4, epochs: 150, lr: 0.0001, batchsize: 100\n",
      "Training...\n"
     ]
    },
    {
     "name": "stderr",
     "output_type": "stream",
     "text": [
      "100%|██████████| 150/150 [00:10<00:00, 14.33it/s]\n"
     ]
    },
    {
     "name": "stdout",
     "output_type": "stream",
     "text": [
      "[20/Apr/2023 02:31:43] INFO - Running process for Neural Net (lidar) | layers: 4, epochs: 150, lr: 0.0001, batchsize: 200\n",
      "Training...\n"
     ]
    },
    {
     "name": "stderr",
     "output_type": "stream",
     "text": [
      "100%|██████████| 150/150 [00:07<00:00, 19.96it/s]\n"
     ]
    },
    {
     "name": "stdout",
     "output_type": "stream",
     "text": [
      "[20/Apr/2023 02:31:51] INFO - Running process for Neural Net (lidar) | layers: 4, epochs: 150, lr: 0.0001, batchsize: 200\n",
      "Training...\n"
     ]
    },
    {
     "name": "stderr",
     "output_type": "stream",
     "text": [
      "100%|██████████| 150/150 [00:08<00:00, 16.86it/s]\n"
     ]
    },
    {
     "name": "stdout",
     "output_type": "stream",
     "text": [
      "[20/Apr/2023 02:32:00] INFO - Running process for Neural Net (lidar) | layers: 4, epochs: 150, lr: 0.0001, batchsize: 200\n",
      "Training...\n"
     ]
    },
    {
     "name": "stderr",
     "output_type": "stream",
     "text": [
      "100%|██████████| 150/150 [00:08<00:00, 16.78it/s]\n"
     ]
    },
    {
     "name": "stdout",
     "output_type": "stream",
     "text": [
      "[20/Apr/2023 02:32:09] INFO - Running process for Neural Net (lidar) | layers: 4, epochs: 150, lr: 0.0001, batchsize: 200\n",
      "Training...\n"
     ]
    },
    {
     "name": "stderr",
     "output_type": "stream",
     "text": [
      "100%|██████████| 150/150 [00:08<00:00, 16.77it/s]\n"
     ]
    },
    {
     "name": "stdout",
     "output_type": "stream",
     "text": [
      "[20/Apr/2023 02:32:18] INFO - Running process for Neural Net (lidar) | layers: 4, epochs: 150, lr: 7.5e-05, batchsize: 50\n",
      "Training...\n"
     ]
    },
    {
     "name": "stderr",
     "output_type": "stream",
     "text": [
      "100%|██████████| 150/150 [00:16<00:00,  8.95it/s]\n"
     ]
    },
    {
     "name": "stdout",
     "output_type": "stream",
     "text": [
      "[20/Apr/2023 02:32:35] INFO - Running process for Neural Net (lidar) | layers: 4, epochs: 150, lr: 7.5e-05, batchsize: 50\n",
      "Training...\n"
     ]
    },
    {
     "name": "stderr",
     "output_type": "stream",
     "text": [
      "100%|██████████| 150/150 [00:16<00:00,  9.04it/s]\n"
     ]
    },
    {
     "name": "stdout",
     "output_type": "stream",
     "text": [
      "[20/Apr/2023 02:32:52] INFO - Running process for Neural Net (lidar) | layers: 4, epochs: 150, lr: 7.5e-05, batchsize: 50\n",
      "Training...\n"
     ]
    },
    {
     "name": "stderr",
     "output_type": "stream",
     "text": [
      "100%|██████████| 150/150 [00:16<00:00,  9.01it/s]\n"
     ]
    },
    {
     "name": "stdout",
     "output_type": "stream",
     "text": [
      "[20/Apr/2023 02:33:09] INFO - Running process for Neural Net (lidar) | layers: 4, epochs: 150, lr: 7.5e-05, batchsize: 50\n",
      "Training...\n"
     ]
    },
    {
     "name": "stderr",
     "output_type": "stream",
     "text": [
      "100%|██████████| 150/150 [00:18<00:00,  8.15it/s]\n"
     ]
    },
    {
     "name": "stdout",
     "output_type": "stream",
     "text": [
      "[20/Apr/2023 02:33:27] INFO - Running process for Neural Net (lidar) | layers: 4, epochs: 150, lr: 7.5e-05, batchsize: 100\n",
      "Training...\n"
     ]
    },
    {
     "name": "stderr",
     "output_type": "stream",
     "text": [
      "100%|██████████| 150/150 [00:10<00:00, 14.20it/s]\n"
     ]
    },
    {
     "name": "stdout",
     "output_type": "stream",
     "text": [
      "[20/Apr/2023 02:33:38] INFO - Running process for Neural Net (lidar) | layers: 4, epochs: 150, lr: 7.5e-05, batchsize: 100\n",
      "Training...\n"
     ]
    },
    {
     "name": "stderr",
     "output_type": "stream",
     "text": [
      "100%|██████████| 150/150 [00:10<00:00, 13.83it/s]\n"
     ]
    },
    {
     "name": "stdout",
     "output_type": "stream",
     "text": [
      "[20/Apr/2023 02:33:49] INFO - Running process for Neural Net (lidar) | layers: 4, epochs: 150, lr: 7.5e-05, batchsize: 100\n",
      "Training...\n"
     ]
    },
    {
     "name": "stderr",
     "output_type": "stream",
     "text": [
      "100%|██████████| 150/150 [00:11<00:00, 13.30it/s]\n"
     ]
    },
    {
     "name": "stdout",
     "output_type": "stream",
     "text": [
      "[20/Apr/2023 02:34:00] INFO - Running process for Neural Net (lidar) | layers: 4, epochs: 150, lr: 7.5e-05, batchsize: 100\n",
      "Training...\n"
     ]
    },
    {
     "name": "stderr",
     "output_type": "stream",
     "text": [
      "100%|██████████| 150/150 [00:10<00:00, 14.45it/s]\n"
     ]
    },
    {
     "name": "stdout",
     "output_type": "stream",
     "text": [
      "[20/Apr/2023 02:34:11] INFO - Running process for Neural Net (lidar) | layers: 4, epochs: 150, lr: 7.5e-05, batchsize: 200\n",
      "Training...\n"
     ]
    },
    {
     "name": "stderr",
     "output_type": "stream",
     "text": [
      "100%|██████████| 150/150 [00:10<00:00, 14.67it/s]\n"
     ]
    },
    {
     "name": "stdout",
     "output_type": "stream",
     "text": [
      "[20/Apr/2023 02:34:21] INFO - Running process for Neural Net (lidar) | layers: 4, epochs: 150, lr: 7.5e-05, batchsize: 200\n",
      "Training...\n"
     ]
    },
    {
     "name": "stderr",
     "output_type": "stream",
     "text": [
      "100%|██████████| 150/150 [00:08<00:00, 16.77it/s]\n"
     ]
    },
    {
     "name": "stdout",
     "output_type": "stream",
     "text": [
      "[20/Apr/2023 02:34:30] INFO - Running process for Neural Net (lidar) | layers: 4, epochs: 150, lr: 7.5e-05, batchsize: 200\n",
      "Training...\n"
     ]
    },
    {
     "name": "stderr",
     "output_type": "stream",
     "text": [
      "100%|██████████| 150/150 [00:10<00:00, 14.60it/s]\n"
     ]
    },
    {
     "name": "stdout",
     "output_type": "stream",
     "text": [
      "[20/Apr/2023 02:34:41] INFO - Running process for Neural Net (lidar) | layers: 4, epochs: 150, lr: 7.5e-05, batchsize: 200\n",
      "Training...\n"
     ]
    },
    {
     "name": "stderr",
     "output_type": "stream",
     "text": [
      "100%|██████████| 150/150 [00:08<00:00, 16.78it/s]\n"
     ]
    },
    {
     "name": "stdout",
     "output_type": "stream",
     "text": [
      "[20/Apr/2023 02:34:50] INFO - Running process for Neural Net (lidar) | layers: 4, epochs: 150, lr: 1e-05, batchsize: 50\n",
      "Training...\n"
     ]
    },
    {
     "name": "stderr",
     "output_type": "stream",
     "text": [
      "100%|██████████| 150/150 [00:16<00:00,  9.03it/s]\n"
     ]
    },
    {
     "name": "stdout",
     "output_type": "stream",
     "text": [
      "[20/Apr/2023 02:35:07] INFO - Running process for Neural Net (lidar) | layers: 4, epochs: 150, lr: 1e-05, batchsize: 50\n",
      "Training...\n"
     ]
    },
    {
     "name": "stderr",
     "output_type": "stream",
     "text": [
      "100%|██████████| 150/150 [00:16<00:00,  8.94it/s]\n"
     ]
    },
    {
     "name": "stdout",
     "output_type": "stream",
     "text": [
      "[20/Apr/2023 02:35:24] INFO - Running process for Neural Net (lidar) | layers: 4, epochs: 150, lr: 1e-05, batchsize: 50\n",
      "Training...\n"
     ]
    },
    {
     "name": "stderr",
     "output_type": "stream",
     "text": [
      "100%|██████████| 150/150 [00:16<00:00,  9.00it/s]\n"
     ]
    },
    {
     "name": "stdout",
     "output_type": "stream",
     "text": [
      "[20/Apr/2023 02:35:40] INFO - Running process for Neural Net (lidar) | layers: 4, epochs: 150, lr: 1e-05, batchsize: 50\n",
      "Training...\n"
     ]
    },
    {
     "name": "stderr",
     "output_type": "stream",
     "text": [
      "100%|██████████| 150/150 [00:16<00:00,  9.04it/s]\n"
     ]
    },
    {
     "name": "stdout",
     "output_type": "stream",
     "text": [
      "[20/Apr/2023 02:35:57] INFO - Running process for Neural Net (lidar) | layers: 4, epochs: 150, lr: 1e-05, batchsize: 100\n",
      "Training...\n"
     ]
    },
    {
     "name": "stderr",
     "output_type": "stream",
     "text": [
      "100%|██████████| 150/150 [00:10<00:00, 14.08it/s]\n"
     ]
    },
    {
     "name": "stdout",
     "output_type": "stream",
     "text": [
      "[20/Apr/2023 02:36:08] INFO - Running process for Neural Net (lidar) | layers: 4, epochs: 150, lr: 1e-05, batchsize: 100\n",
      "Training...\n"
     ]
    },
    {
     "name": "stderr",
     "output_type": "stream",
     "text": [
      "100%|██████████| 150/150 [00:11<00:00, 13.48it/s]\n"
     ]
    },
    {
     "name": "stdout",
     "output_type": "stream",
     "text": [
      "[20/Apr/2023 02:36:20] INFO - Running process for Neural Net (lidar) | layers: 4, epochs: 150, lr: 1e-05, batchsize: 100\n",
      "Training...\n"
     ]
    },
    {
     "name": "stderr",
     "output_type": "stream",
     "text": [
      "100%|██████████| 150/150 [00:18<00:00,  7.95it/s]\n"
     ]
    },
    {
     "name": "stdout",
     "output_type": "stream",
     "text": [
      "[20/Apr/2023 02:36:39] INFO - Running process for Neural Net (lidar) | layers: 4, epochs: 150, lr: 1e-05, batchsize: 100\n",
      "Training...\n"
     ]
    },
    {
     "name": "stderr",
     "output_type": "stream",
     "text": [
      "100%|██████████| 150/150 [00:10<00:00, 13.78it/s]\n"
     ]
    },
    {
     "name": "stdout",
     "output_type": "stream",
     "text": [
      "[20/Apr/2023 02:36:50] INFO - Running process for Neural Net (lidar) | layers: 4, epochs: 150, lr: 1e-05, batchsize: 200\n",
      "Training...\n"
     ]
    },
    {
     "name": "stderr",
     "output_type": "stream",
     "text": [
      "100%|██████████| 150/150 [00:09<00:00, 15.23it/s]\n"
     ]
    },
    {
     "name": "stdout",
     "output_type": "stream",
     "text": [
      "[20/Apr/2023 02:37:00] INFO - Running process for Neural Net (lidar) | layers: 4, epochs: 150, lr: 1e-05, batchsize: 200\n",
      "Training...\n"
     ]
    },
    {
     "name": "stderr",
     "output_type": "stream",
     "text": [
      "100%|██████████| 150/150 [00:12<00:00, 12.32it/s]\n"
     ]
    },
    {
     "name": "stdout",
     "output_type": "stream",
     "text": [
      "[20/Apr/2023 02:37:13] INFO - Running process for Neural Net (lidar) | layers: 4, epochs: 150, lr: 1e-05, batchsize: 200\n",
      "Training...\n"
     ]
    },
    {
     "name": "stderr",
     "output_type": "stream",
     "text": [
      "100%|██████████| 150/150 [00:22<00:00,  6.73it/s]\n"
     ]
    },
    {
     "name": "stdout",
     "output_type": "stream",
     "text": [
      "[20/Apr/2023 02:37:35] INFO - Running process for Neural Net (lidar) | layers: 4, epochs: 150, lr: 1e-05, batchsize: 200\n",
      "Training...\n"
     ]
    },
    {
     "name": "stderr",
     "output_type": "stream",
     "text": [
      "100%|██████████| 150/150 [00:12<00:00, 12.38it/s]\n"
     ]
    },
    {
     "name": "stdout",
     "output_type": "stream",
     "text": [
      "[20/Apr/2023 02:37:48] INFO - Running process for Neural Net (lidar) | layers: 4, epochs: 150, lr: 7.5e-06, batchsize: 50\n",
      "Training...\n"
     ]
    },
    {
     "name": "stderr",
     "output_type": "stream",
     "text": [
      "100%|██████████| 150/150 [00:21<00:00,  6.93it/s]\n"
     ]
    },
    {
     "name": "stdout",
     "output_type": "stream",
     "text": [
      "[20/Apr/2023 02:38:10] INFO - Running process for Neural Net (lidar) | layers: 4, epochs: 150, lr: 7.5e-06, batchsize: 50\n",
      "Training...\n"
     ]
    },
    {
     "name": "stderr",
     "output_type": "stream",
     "text": [
      "100%|██████████| 150/150 [00:37<00:00,  4.04it/s]\n"
     ]
    },
    {
     "name": "stdout",
     "output_type": "stream",
     "text": [
      "[20/Apr/2023 02:38:47] INFO - Running process for Neural Net (lidar) | layers: 4, epochs: 150, lr: 7.5e-06, batchsize: 50\n",
      "Training...\n"
     ]
    },
    {
     "name": "stderr",
     "output_type": "stream",
     "text": [
      "100%|██████████| 150/150 [02:10<00:00,  1.15it/s]\n"
     ]
    },
    {
     "name": "stdout",
     "output_type": "stream",
     "text": [
      "[20/Apr/2023 02:40:59] INFO - Running process for Neural Net (lidar) | layers: 4, epochs: 150, lr: 7.5e-06, batchsize: 50\n",
      "Training...\n"
     ]
    },
    {
     "name": "stderr",
     "output_type": "stream",
     "text": [
      "100%|██████████| 150/150 [01:04<00:00,  2.34it/s]\n"
     ]
    },
    {
     "name": "stdout",
     "output_type": "stream",
     "text": [
      "[20/Apr/2023 02:42:03] INFO - Running process for Neural Net (lidar) | layers: 4, epochs: 150, lr: 7.5e-06, batchsize: 100\n",
      "Training...\n"
     ]
    },
    {
     "name": "stderr",
     "output_type": "stream",
     "text": [
      "100%|██████████| 150/150 [14:22<00:00,  5.75s/it] \n"
     ]
    },
    {
     "name": "stdout",
     "output_type": "stream",
     "text": [
      "[20/Apr/2023 02:56:26] INFO - Running process for Neural Net (lidar) | layers: 4, epochs: 150, lr: 7.5e-06, batchsize: 100\n",
      "Training...\n"
     ]
    },
    {
     "name": "stderr",
     "output_type": "stream",
     "text": [
      "100%|██████████| 150/150 [01:12<00:00,  2.08it/s]\n"
     ]
    },
    {
     "name": "stdout",
     "output_type": "stream",
     "text": [
      "[20/Apr/2023 02:57:38] INFO - Running process for Neural Net (lidar) | layers: 4, epochs: 150, lr: 7.5e-06, batchsize: 100\n",
      "Training...\n"
     ]
    },
    {
     "name": "stderr",
     "output_type": "stream",
     "text": [
      "100%|██████████| 150/150 [01:57<00:00,  1.28it/s]\n"
     ]
    },
    {
     "name": "stdout",
     "output_type": "stream",
     "text": [
      "[20/Apr/2023 02:59:36] INFO - Running process for Neural Net (lidar) | layers: 4, epochs: 150, lr: 7.5e-06, batchsize: 100\n",
      "Training...\n"
     ]
    },
    {
     "name": "stderr",
     "output_type": "stream",
     "text": [
      "100%|██████████| 150/150 [00:10<00:00, 13.84it/s]\n"
     ]
    },
    {
     "name": "stdout",
     "output_type": "stream",
     "text": [
      "[20/Apr/2023 02:59:47] INFO - Running process for Neural Net (lidar) | layers: 4, epochs: 150, lr: 7.5e-06, batchsize: 200\n",
      "Training...\n"
     ]
    },
    {
     "name": "stderr",
     "output_type": "stream",
     "text": [
      "100%|██████████| 150/150 [00:09<00:00, 16.43it/s]\n"
     ]
    },
    {
     "name": "stdout",
     "output_type": "stream",
     "text": [
      "[20/Apr/2023 02:59:57] INFO - Running process for Neural Net (lidar) | layers: 4, epochs: 150, lr: 7.5e-06, batchsize: 200\n",
      "Training...\n"
     ]
    },
    {
     "name": "stderr",
     "output_type": "stream",
     "text": [
      "100%|██████████| 150/150 [00:09<00:00, 16.50it/s]\n"
     ]
    },
    {
     "name": "stdout",
     "output_type": "stream",
     "text": [
      "[20/Apr/2023 03:00:06] INFO - Running process for Neural Net (lidar) | layers: 4, epochs: 150, lr: 7.5e-06, batchsize: 200\n",
      "Training...\n"
     ]
    },
    {
     "name": "stderr",
     "output_type": "stream",
     "text": [
      "100%|██████████| 150/150 [00:08<00:00, 16.69it/s]\n"
     ]
    },
    {
     "name": "stdout",
     "output_type": "stream",
     "text": [
      "[20/Apr/2023 03:00:15] INFO - Running process for Neural Net (lidar) | layers: 4, epochs: 150, lr: 7.5e-06, batchsize: 200\n",
      "Training...\n"
     ]
    },
    {
     "name": "stderr",
     "output_type": "stream",
     "text": [
      "100%|██████████| 150/150 [00:09<00:00, 15.08it/s]\n"
     ]
    },
    {
     "name": "stdout",
     "output_type": "stream",
     "text": [
      "[20/Apr/2023 03:00:25] INFO - Running process for Neural Net (lidar) | layers: 4, epochs: 300, lr: 0.0001, batchsize: 50\n",
      "Training...\n"
     ]
    },
    {
     "name": "stderr",
     "output_type": "stream",
     "text": [
      "100%|██████████| 300/300 [00:35<00:00,  8.52it/s]\n"
     ]
    },
    {
     "name": "stdout",
     "output_type": "stream",
     "text": [
      "[20/Apr/2023 03:01:01] INFO - Running process for Neural Net (lidar) | layers: 4, epochs: 300, lr: 0.0001, batchsize: 50\n",
      "Training...\n"
     ]
    },
    {
     "name": "stderr",
     "output_type": "stream",
     "text": [
      "100%|██████████| 300/300 [00:34<00:00,  8.82it/s]\n"
     ]
    },
    {
     "name": "stdout",
     "output_type": "stream",
     "text": [
      "[20/Apr/2023 03:01:35] INFO - Running process for Neural Net (lidar) | layers: 4, epochs: 300, lr: 0.0001, batchsize: 50\n",
      "Training...\n"
     ]
    },
    {
     "name": "stderr",
     "output_type": "stream",
     "text": [
      "100%|██████████| 300/300 [01:06<00:00,  4.49it/s]\n"
     ]
    },
    {
     "name": "stdout",
     "output_type": "stream",
     "text": [
      "[20/Apr/2023 03:02:42] INFO - Running process for Neural Net (lidar) | layers: 4, epochs: 300, lr: 0.0001, batchsize: 50\n",
      "Training...\n"
     ]
    },
    {
     "name": "stderr",
     "output_type": "stream",
     "text": [
      "100%|██████████| 300/300 [00:58<00:00,  5.12it/s]\n"
     ]
    },
    {
     "name": "stdout",
     "output_type": "stream",
     "text": [
      "[20/Apr/2023 03:03:41] INFO - Running process for Neural Net (lidar) | layers: 4, epochs: 300, lr: 0.0001, batchsize: 100\n",
      "Training...\n"
     ]
    },
    {
     "name": "stderr",
     "output_type": "stream",
     "text": [
      "100%|██████████| 300/300 [09:36<00:00,  1.92s/it]\n"
     ]
    },
    {
     "name": "stdout",
     "output_type": "stream",
     "text": [
      "[20/Apr/2023 03:13:19] INFO - Running process for Neural Net (lidar) | layers: 4, epochs: 300, lr: 0.0001, batchsize: 100\n",
      "Training...\n"
     ]
    },
    {
     "name": "stderr",
     "output_type": "stream",
     "text": [
      "100%|██████████| 300/300 [20:57<00:00,  4.19s/it]   \n"
     ]
    },
    {
     "name": "stdout",
     "output_type": "stream",
     "text": [
      "[20/Apr/2023 03:34:17] INFO - Running process for Neural Net (lidar) | layers: 4, epochs: 300, lr: 0.0001, batchsize: 100\n",
      "Training...\n"
     ]
    },
    {
     "name": "stderr",
     "output_type": "stream",
     "text": [
      "100%|██████████| 300/300 [00:21<00:00, 14.04it/s]\n"
     ]
    },
    {
     "name": "stdout",
     "output_type": "stream",
     "text": [
      "[20/Apr/2023 03:34:39] INFO - Running process for Neural Net (lidar) | layers: 4, epochs: 300, lr: 0.0001, batchsize: 100\n",
      "Training...\n"
     ]
    },
    {
     "name": "stderr",
     "output_type": "stream",
     "text": [
      "100%|██████████| 300/300 [00:22<00:00, 13.53it/s]\n"
     ]
    },
    {
     "name": "stdout",
     "output_type": "stream",
     "text": [
      "[20/Apr/2023 03:35:01] INFO - Running process for Neural Net (lidar) | layers: 4, epochs: 300, lr: 0.0001, batchsize: 200\n",
      "Training...\n"
     ]
    },
    {
     "name": "stderr",
     "output_type": "stream",
     "text": [
      "100%|██████████| 300/300 [00:20<00:00, 14.44it/s]\n"
     ]
    },
    {
     "name": "stdout",
     "output_type": "stream",
     "text": [
      "[20/Apr/2023 03:35:22] INFO - Running process for Neural Net (lidar) | layers: 4, epochs: 300, lr: 0.0001, batchsize: 200\n",
      "Training...\n"
     ]
    },
    {
     "name": "stderr",
     "output_type": "stream",
     "text": [
      "100%|██████████| 300/300 [00:18<00:00, 16.60it/s]\n"
     ]
    },
    {
     "name": "stdout",
     "output_type": "stream",
     "text": [
      "[20/Apr/2023 03:35:40] INFO - Running process for Neural Net (lidar) | layers: 4, epochs: 300, lr: 0.0001, batchsize: 200\n",
      "Training...\n"
     ]
    },
    {
     "name": "stderr",
     "output_type": "stream",
     "text": [
      "100%|██████████| 300/300 [00:18<00:00, 16.31it/s]\n"
     ]
    },
    {
     "name": "stdout",
     "output_type": "stream",
     "text": [
      "[20/Apr/2023 03:35:59] INFO - Running process for Neural Net (lidar) | layers: 4, epochs: 300, lr: 0.0001, batchsize: 200\n",
      "Training...\n"
     ]
    },
    {
     "name": "stderr",
     "output_type": "stream",
     "text": [
      "100%|██████████| 300/300 [00:18<00:00, 15.99it/s]\n"
     ]
    },
    {
     "name": "stdout",
     "output_type": "stream",
     "text": [
      "[20/Apr/2023 03:36:18] INFO - Running process for Neural Net (lidar) | layers: 4, epochs: 300, lr: 7.5e-05, batchsize: 50\n",
      "Training...\n"
     ]
    },
    {
     "name": "stderr",
     "output_type": "stream",
     "text": [
      "100%|██████████| 300/300 [00:37<00:00,  8.08it/s]\n"
     ]
    },
    {
     "name": "stdout",
     "output_type": "stream",
     "text": [
      "[20/Apr/2023 03:36:56] INFO - Running process for Neural Net (lidar) | layers: 4, epochs: 300, lr: 7.5e-05, batchsize: 50\n",
      "Training...\n"
     ]
    },
    {
     "name": "stderr",
     "output_type": "stream",
     "text": [
      "100%|██████████| 300/300 [01:10<00:00,  4.26it/s]\n"
     ]
    },
    {
     "name": "stdout",
     "output_type": "stream",
     "text": [
      "[20/Apr/2023 03:38:07] INFO - Running process for Neural Net (lidar) | layers: 4, epochs: 300, lr: 7.5e-05, batchsize: 50\n",
      "Training...\n"
     ]
    },
    {
     "name": "stderr",
     "output_type": "stream",
     "text": [
      " 35%|███▍      | 104/300 [59:21<12:16:54, 225.58s/it]"
     ]
    },
    {
     "ename": "",
     "evalue": "",
     "output_type": "error",
     "traceback": [
      "\u001b[1;31mCanceled future for execute_request message before replies were done"
     ]
    },
    {
     "ename": "",
     "evalue": "",
     "output_type": "error",
     "traceback": [
      "\u001b[1;31mThe Kernel crashed while executing code in the the current cell or a previous cell. Please review the code in the cell(s) to identify a possible cause of the failure. Click <a href='https://aka.ms/vscodeJupyterKernelCrash'>here</a> for more info. View Jupyter <a href='command:jupyter.viewOutput'>log</a> for further details."
     ]
    }
   ],
   "source": [
    "# loop over all possibilities\n",
    "for sensor in sensor_list:\n",
    "    for hidden_layers in hidden_layers_list:\n",
    "        for epochs in epochs_list:\n",
    "            for lr in lr_list:\n",
    "                for batch_size in batch_size_list:\n",
    "                    for batchnorm in batchnorm_list:\n",
    "                        for relu in relu_list:\n",
    "                            if sensor == \"sonar\":\n",
    "                                hidden_layers[0][0] = 3\n",
    "                            # get hidden layers string\n",
    "                            hidden_layers_str = \"\"\n",
    "                            for layer in hidden_layers[:-1]:\n",
    "                                hidden_layers_str += f\"{str(layer[1])}_\"\n",
    "\n",
    "                            # get notebook_str\n",
    "                            notebook_str = f\"nn_{sensor}_layers_{len(hidden_layers)}_{hidden_layers_str}epochs_{epochs}_lr_{str(lr)[2:]}_batchsize_{batch_size}\"\n",
    "\n",
    "                            if batchnorm:\n",
    "                                notebook_str += \"_batchnorm\"\n",
    "                            if relu:\n",
    "                                notebook_str += \"_relu\"\n",
    "                            \n",
    "                            logger.info(f'Running process for Neural Net ({sensor}) | layers: {len(hidden_layers)}, epochs: {epochs}, lr: {lr}, batchsize: {batch_size}')\n",
    "                                                        \n",
    "                            # create network\n",
    "                            neural_net = NeuralNet(hidden_layers, sensor, epochs, lr, batch_size)\n",
    "                            # send network to GPU\n",
    "                            neural_net.model.to(DEVICE)\n",
    "                            # train network\n",
    "                            mse = neural_net.train(notebook_str)\n",
    "                            # save model\n",
    "                            neural_net.save_model(notebook_str)\n",
    "\n",
    "                            # evaluate accuracy after training\n",
    "                            # model.eval()\n",
    "                            # y_pred = model(trainingSetX)\n",
    "                            # acc = (y_pred.round() == trainingSetY).float().mean()\n",
    "                            # acc = float(acc)\n",
    "                            # print(\"Model accuracy: %.2f%%\" % (acc*100))\n",
    "                            \n",
    "                            # register experiments in mlflow\n",
    "                            mlflow.set_experiment('Autonomous driving of a car')\n",
    "                            with mlflow.start_run(run_name=f'Neural net ({sensor}) | layers: {len(hidden_layers)}, epochs: {epochs}, lr: {lr}, batchsize: {batch_size}'):\n",
    "                                mlflow.log_param('sensor', sensor)\n",
    "                                mlflow.log_param('num_layers', len(hidden_layers))\n",
    "                                mlflow.log_param('layers', hidden_layers_str)\n",
    "                                mlflow.log_param('batchnorm', batchnorm)\n",
    "                                mlflow.log_param('relu', relu)\n",
    "                                mlflow.log_param('epochs', epochs)\n",
    "                                mlflow.log_param('lr', lr)\n",
    "                                mlflow.log_param('batch_size', batch_size)\n",
    "                                mlflow.log_param('lr', lr)\n",
    "                                mlflow.log_metric('mse_list', mse[-1])\n",
    "                                mlflow.log_artifact(f\"../models/{notebook_str}.pickle\")\n",
    "                                mlflow.log_artifact(f\"../loss_graphs/{notebook_str}.png\")"
   ]
  },
  {
   "cell_type": "code",
   "execution_count": null,
   "metadata": {},
   "outputs": [],
   "source": []
  },
  {
   "cell_type": "code",
   "execution_count": null,
   "metadata": {},
   "outputs": [],
   "source": []
  }
 ],
 "metadata": {
  "kernelspec": {
   "display_name": " conda-miw2",
   "language": "python",
   "name": "conda-miw2"
  },
  "language_info": {
   "codemirror_mode": {
    "name": "ipython",
    "version": 3
   },
   "file_extension": ".py",
   "mimetype": "text/x-python",
   "name": "python",
   "nbconvert_exporter": "python",
   "pygments_lexer": "ipython3",
   "version": "3.11.0"
  }
 },
 "nbformat": 4,
 "nbformat_minor": 4
}
