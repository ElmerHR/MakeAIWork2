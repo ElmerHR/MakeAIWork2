{
 "cells": [
  {
   "cell_type": "markdown",
   "metadata": {},
   "source": [
    "### Imports"
   ]
  },
  {
   "cell_type": "code",
   "execution_count": 3,
   "metadata": {},
   "outputs": [],
   "source": [
    "import pandas as pd\n",
    "from logger import logger"
   ]
  },
  {
   "cell_type": "markdown",
   "metadata": {},
   "source": [
    "### Loading data"
   ]
  },
  {
   "cell_type": "code",
   "execution_count": 4,
   "metadata": {},
   "outputs": [
    {
     "data": {
      "text/html": [
       "<div>\n",
       "<style scoped>\n",
       "    .dataframe tbody tr th:only-of-type {\n",
       "        vertical-align: middle;\n",
       "    }\n",
       "\n",
       "    .dataframe tbody tr th {\n",
       "        vertical-align: top;\n",
       "    }\n",
       "\n",
       "    .dataframe thead th {\n",
       "        text-align: right;\n",
       "    }\n",
       "</style>\n",
       "<table border=\"1\" class=\"dataframe\">\n",
       "  <thead>\n",
       "    <tr style=\"text-align: right;\">\n",
       "      <th></th>\n",
       "      <th>0</th>\n",
       "      <th>1</th>\n",
       "      <th>2</th>\n",
       "      <th>3</th>\n",
       "      <th>4</th>\n",
       "      <th>5</th>\n",
       "      <th>6</th>\n",
       "      <th>7</th>\n",
       "      <th>8</th>\n",
       "      <th>9</th>\n",
       "      <th>10</th>\n",
       "      <th>11</th>\n",
       "      <th>12</th>\n",
       "      <th>13</th>\n",
       "      <th>14</th>\n",
       "      <th>15</th>\n",
       "      <th>16</th>\n",
       "    </tr>\n",
       "  </thead>\n",
       "  <tbody>\n",
       "    <tr>\n",
       "      <th>0</th>\n",
       "      <td>7.4565</td>\n",
       "      <td>6.8632</td>\n",
       "      <td>8.4021</td>\n",
       "      <td>10.2755</td>\n",
       "      <td>12.9451</td>\n",
       "      <td>9.7520</td>\n",
       "      <td>5.7550</td>\n",
       "      <td>5.8843</td>\n",
       "      <td>3.9540</td>\n",
       "      <td>20.0</td>\n",
       "      <td>20.0</td>\n",
       "      <td>5.2561</td>\n",
       "      <td>2.7631</td>\n",
       "      <td>4.3158</td>\n",
       "      <td>5.5333</td>\n",
       "      <td>1.4624</td>\n",
       "      <td>-32.0</td>\n",
       "    </tr>\n",
       "    <tr>\n",
       "      <th>1</th>\n",
       "      <td>7.4570</td>\n",
       "      <td>6.8637</td>\n",
       "      <td>8.4026</td>\n",
       "      <td>10.2759</td>\n",
       "      <td>12.9455</td>\n",
       "      <td>9.7523</td>\n",
       "      <td>5.7554</td>\n",
       "      <td>5.8845</td>\n",
       "      <td>3.9542</td>\n",
       "      <td>20.0</td>\n",
       "      <td>20.0</td>\n",
       "      <td>5.2564</td>\n",
       "      <td>2.7635</td>\n",
       "      <td>4.3162</td>\n",
       "      <td>5.5337</td>\n",
       "      <td>1.4628</td>\n",
       "      <td>-32.0</td>\n",
       "    </tr>\n",
       "    <tr>\n",
       "      <th>2</th>\n",
       "      <td>7.4565</td>\n",
       "      <td>6.8633</td>\n",
       "      <td>8.4022</td>\n",
       "      <td>10.2756</td>\n",
       "      <td>12.9452</td>\n",
       "      <td>11.2514</td>\n",
       "      <td>5.7551</td>\n",
       "      <td>5.8844</td>\n",
       "      <td>20.0000</td>\n",
       "      <td>20.0</td>\n",
       "      <td>20.0</td>\n",
       "      <td>5.2560</td>\n",
       "      <td>2.7631</td>\n",
       "      <td>4.3157</td>\n",
       "      <td>5.5332</td>\n",
       "      <td>1.4624</td>\n",
       "      <td>-32.0</td>\n",
       "    </tr>\n",
       "    <tr>\n",
       "      <th>3</th>\n",
       "      <td>7.4554</td>\n",
       "      <td>6.8621</td>\n",
       "      <td>8.4012</td>\n",
       "      <td>10.2746</td>\n",
       "      <td>12.9443</td>\n",
       "      <td>11.2507</td>\n",
       "      <td>5.7545</td>\n",
       "      <td>5.8839</td>\n",
       "      <td>20.0000</td>\n",
       "      <td>20.0</td>\n",
       "      <td>20.0</td>\n",
       "      <td>5.2550</td>\n",
       "      <td>2.7620</td>\n",
       "      <td>4.3146</td>\n",
       "      <td>5.5320</td>\n",
       "      <td>1.4612</td>\n",
       "      <td>-32.0</td>\n",
       "    </tr>\n",
       "    <tr>\n",
       "      <th>4</th>\n",
       "      <td>7.4533</td>\n",
       "      <td>6.8601</td>\n",
       "      <td>8.3994</td>\n",
       "      <td>10.2729</td>\n",
       "      <td>12.9429</td>\n",
       "      <td>11.2495</td>\n",
       "      <td>5.7534</td>\n",
       "      <td>5.8832</td>\n",
       "      <td>20.0000</td>\n",
       "      <td>20.0</td>\n",
       "      <td>20.0</td>\n",
       "      <td>5.2533</td>\n",
       "      <td>2.7600</td>\n",
       "      <td>4.3126</td>\n",
       "      <td>5.5299</td>\n",
       "      <td>1.4590</td>\n",
       "      <td>-32.0</td>\n",
       "    </tr>\n",
       "  </tbody>\n",
       "</table>\n",
       "</div>"
      ],
      "text/plain": [
       "        0       1       2        3        4        5       6       7        8  \\\n",
       "0  7.4565  6.8632  8.4021  10.2755  12.9451   9.7520  5.7550  5.8843   3.9540   \n",
       "1  7.4570  6.8637  8.4026  10.2759  12.9455   9.7523  5.7554  5.8845   3.9542   \n",
       "2  7.4565  6.8633  8.4022  10.2756  12.9452  11.2514  5.7551  5.8844  20.0000   \n",
       "3  7.4554  6.8621  8.4012  10.2746  12.9443  11.2507  5.7545  5.8839  20.0000   \n",
       "4  7.4533  6.8601  8.3994  10.2729  12.9429  11.2495  5.7534  5.8832  20.0000   \n",
       "\n",
       "      9    10      11      12      13      14      15    16  \n",
       "0  20.0  20.0  5.2561  2.7631  4.3158  5.5333  1.4624 -32.0  \n",
       "1  20.0  20.0  5.2564  2.7635  4.3162  5.5337  1.4628 -32.0  \n",
       "2  20.0  20.0  5.2560  2.7631  4.3157  5.5332  1.4624 -32.0  \n",
       "3  20.0  20.0  5.2550  2.7620  4.3146  5.5320  1.4612 -32.0  \n",
       "4  20.0  20.0  5.2533  2.7600  4.3126  5.5299  1.4590 -32.0  "
      ]
     },
     "execution_count": 4,
     "metadata": {},
     "output_type": "execute_result"
    }
   ],
   "source": [
    "df_lidar = pd.read_table('../training_data/lidar_2rounds', sep=\",\", index_col=0)\n",
    "df_lidar.head()"
   ]
  },
  {
   "cell_type": "code",
   "execution_count": 5,
   "metadata": {},
   "outputs": [
    {
     "data": {
      "text/html": [
       "<div>\n",
       "<style scoped>\n",
       "    .dataframe tbody tr th:only-of-type {\n",
       "        vertical-align: middle;\n",
       "    }\n",
       "\n",
       "    .dataframe tbody tr th {\n",
       "        vertical-align: top;\n",
       "    }\n",
       "\n",
       "    .dataframe thead th {\n",
       "        text-align: right;\n",
       "    }\n",
       "</style>\n",
       "<table border=\"1\" class=\"dataframe\">\n",
       "  <thead>\n",
       "    <tr style=\"text-align: right;\">\n",
       "      <th></th>\n",
       "      <th>0</th>\n",
       "      <th>1</th>\n",
       "      <th>2</th>\n",
       "      <th>3</th>\n",
       "    </tr>\n",
       "  </thead>\n",
       "  <tbody>\n",
       "    <tr>\n",
       "      <th>0</th>\n",
       "      <td>1.5067</td>\n",
       "      <td>1.3101</td>\n",
       "      <td>1.7966</td>\n",
       "      <td>-22.0</td>\n",
       "    </tr>\n",
       "    <tr>\n",
       "      <th>1</th>\n",
       "      <td>1.5075</td>\n",
       "      <td>1.3106</td>\n",
       "      <td>1.7970</td>\n",
       "      <td>-22.0</td>\n",
       "    </tr>\n",
       "    <tr>\n",
       "      <th>2</th>\n",
       "      <td>1.5075</td>\n",
       "      <td>1.3106</td>\n",
       "      <td>1.7970</td>\n",
       "      <td>-22.0</td>\n",
       "    </tr>\n",
       "    <tr>\n",
       "      <th>3</th>\n",
       "      <td>1.5075</td>\n",
       "      <td>1.3106</td>\n",
       "      <td>1.7970</td>\n",
       "      <td>-22.0</td>\n",
       "    </tr>\n",
       "    <tr>\n",
       "      <th>4</th>\n",
       "      <td>1.5075</td>\n",
       "      <td>1.3106</td>\n",
       "      <td>1.7970</td>\n",
       "      <td>-22.0</td>\n",
       "    </tr>\n",
       "  </tbody>\n",
       "</table>\n",
       "</div>"
      ],
      "text/plain": [
       "        0       1       2     3\n",
       "0  1.5067  1.3101  1.7966 -22.0\n",
       "1  1.5075  1.3106  1.7970 -22.0\n",
       "2  1.5075  1.3106  1.7970 -22.0\n",
       "3  1.5075  1.3106  1.7970 -22.0\n",
       "4  1.5075  1.3106  1.7970 -22.0"
      ]
     },
     "execution_count": 5,
     "metadata": {},
     "output_type": "execute_result"
    }
   ],
   "source": [
    "df_sonar = pd.read_csv('../training_data/sonar.samples', sep=\" \", header=None)\n",
    "df_sonar.head()"
   ]
  },
  {
   "cell_type": "code",
   "execution_count": 6,
   "metadata": {},
   "outputs": [
    {
     "data": {
      "text/html": [
       "<div>\n",
       "<style scoped>\n",
       "    .dataframe tbody tr th:only-of-type {\n",
       "        vertical-align: middle;\n",
       "    }\n",
       "\n",
       "    .dataframe tbody tr th {\n",
       "        vertical-align: top;\n",
       "    }\n",
       "\n",
       "    .dataframe thead th {\n",
       "        text-align: right;\n",
       "    }\n",
       "</style>\n",
       "<table border=\"1\" class=\"dataframe\">\n",
       "  <thead>\n",
       "    <tr style=\"text-align: right;\">\n",
       "      <th></th>\n",
       "      <th>0</th>\n",
       "      <th>1</th>\n",
       "      <th>2</th>\n",
       "      <th>3</th>\n",
       "      <th>4</th>\n",
       "      <th>5</th>\n",
       "      <th>6</th>\n",
       "      <th>7</th>\n",
       "      <th>8</th>\n",
       "      <th>9</th>\n",
       "      <th>10</th>\n",
       "      <th>11</th>\n",
       "      <th>12</th>\n",
       "      <th>13</th>\n",
       "      <th>14</th>\n",
       "      <th>15</th>\n",
       "      <th>16</th>\n",
       "    </tr>\n",
       "  </thead>\n",
       "  <tbody>\n",
       "    <tr>\n",
       "      <th>count</th>\n",
       "      <td>3308.000000</td>\n",
       "      <td>3308.000000</td>\n",
       "      <td>3308.000000</td>\n",
       "      <td>3308.000000</td>\n",
       "      <td>3308.000000</td>\n",
       "      <td>3308.000000</td>\n",
       "      <td>3308.000000</td>\n",
       "      <td>3308.000000</td>\n",
       "      <td>3308.000000</td>\n",
       "      <td>3308.0</td>\n",
       "      <td>3308.000000</td>\n",
       "      <td>3308.000000</td>\n",
       "      <td>3308.000000</td>\n",
       "      <td>3308.000000</td>\n",
       "      <td>3308.000000</td>\n",
       "      <td>3308.000000</td>\n",
       "      <td>3308.000000</td>\n",
       "    </tr>\n",
       "    <tr>\n",
       "      <th>mean</th>\n",
       "      <td>10.693885</td>\n",
       "      <td>8.967424</td>\n",
       "      <td>9.769526</td>\n",
       "      <td>8.566755</td>\n",
       "      <td>9.177894</td>\n",
       "      <td>7.244609</td>\n",
       "      <td>8.707776</td>\n",
       "      <td>7.357612</td>\n",
       "      <td>14.008577</td>\n",
       "      <td>20.0</td>\n",
       "      <td>16.453719</td>\n",
       "      <td>14.921087</td>\n",
       "      <td>15.125725</td>\n",
       "      <td>14.501483</td>\n",
       "      <td>13.905103</td>\n",
       "      <td>11.930902</td>\n",
       "      <td>2.303507</td>\n",
       "    </tr>\n",
       "    <tr>\n",
       "      <th>std</th>\n",
       "      <td>7.652275</td>\n",
       "      <td>7.376931</td>\n",
       "      <td>7.386916</td>\n",
       "      <td>7.180727</td>\n",
       "      <td>7.311107</td>\n",
       "      <td>6.133312</td>\n",
       "      <td>6.572315</td>\n",
       "      <td>5.748568</td>\n",
       "      <td>6.605551</td>\n",
       "      <td>0.0</td>\n",
       "      <td>6.392659</td>\n",
       "      <td>7.513922</td>\n",
       "      <td>7.336148</td>\n",
       "      <td>7.803161</td>\n",
       "      <td>7.936621</td>\n",
       "      <td>8.340058</td>\n",
       "      <td>13.854609</td>\n",
       "    </tr>\n",
       "    <tr>\n",
       "      <th>min</th>\n",
       "      <td>0.414600</td>\n",
       "      <td>0.525200</td>\n",
       "      <td>0.523800</td>\n",
       "      <td>0.618800</td>\n",
       "      <td>0.511600</td>\n",
       "      <td>0.417700</td>\n",
       "      <td>0.375900</td>\n",
       "      <td>0.339300</td>\n",
       "      <td>0.322900</td>\n",
       "      <td>20.0</td>\n",
       "      <td>0.361900</td>\n",
       "      <td>0.196700</td>\n",
       "      <td>0.209900</td>\n",
       "      <td>0.225400</td>\n",
       "      <td>0.181100</td>\n",
       "      <td>0.261600</td>\n",
       "      <td>-54.500000</td>\n",
       "    </tr>\n",
       "    <tr>\n",
       "      <th>25%</th>\n",
       "      <td>3.681450</td>\n",
       "      <td>3.221025</td>\n",
       "      <td>3.645825</td>\n",
       "      <td>2.777900</td>\n",
       "      <td>2.713675</td>\n",
       "      <td>3.079200</td>\n",
       "      <td>3.745200</td>\n",
       "      <td>3.610550</td>\n",
       "      <td>7.569425</td>\n",
       "      <td>20.0</td>\n",
       "      <td>20.000000</td>\n",
       "      <td>6.336300</td>\n",
       "      <td>6.655275</td>\n",
       "      <td>5.550175</td>\n",
       "      <td>5.495475</td>\n",
       "      <td>3.033000</td>\n",
       "      <td>-2.500000</td>\n",
       "    </tr>\n",
       "    <tr>\n",
       "      <th>50%</th>\n",
       "      <td>7.083500</td>\n",
       "      <td>5.242600</td>\n",
       "      <td>6.477100</td>\n",
       "      <td>5.751850</td>\n",
       "      <td>6.973350</td>\n",
       "      <td>5.057700</td>\n",
       "      <td>6.604600</td>\n",
       "      <td>5.511900</td>\n",
       "      <td>15.596000</td>\n",
       "      <td>20.0</td>\n",
       "      <td>20.000000</td>\n",
       "      <td>20.000000</td>\n",
       "      <td>20.000000</td>\n",
       "      <td>20.000000</td>\n",
       "      <td>20.000000</td>\n",
       "      <td>20.000000</td>\n",
       "      <td>1.500000</td>\n",
       "    </tr>\n",
       "    <tr>\n",
       "      <th>75%</th>\n",
       "      <td>20.000000</td>\n",
       "      <td>20.000000</td>\n",
       "      <td>20.000000</td>\n",
       "      <td>20.000000</td>\n",
       "      <td>20.000000</td>\n",
       "      <td>9.314150</td>\n",
       "      <td>11.631475</td>\n",
       "      <td>8.917025</td>\n",
       "      <td>20.000000</td>\n",
       "      <td>20.0</td>\n",
       "      <td>20.000000</td>\n",
       "      <td>20.000000</td>\n",
       "      <td>20.000000</td>\n",
       "      <td>20.000000</td>\n",
       "      <td>20.000000</td>\n",
       "      <td>20.000000</td>\n",
       "      <td>7.500000</td>\n",
       "    </tr>\n",
       "    <tr>\n",
       "      <th>max</th>\n",
       "      <td>20.000000</td>\n",
       "      <td>20.000000</td>\n",
       "      <td>20.000000</td>\n",
       "      <td>20.000000</td>\n",
       "      <td>20.000000</td>\n",
       "      <td>20.000000</td>\n",
       "      <td>20.000000</td>\n",
       "      <td>20.000000</td>\n",
       "      <td>20.000000</td>\n",
       "      <td>20.0</td>\n",
       "      <td>20.000000</td>\n",
       "      <td>20.000000</td>\n",
       "      <td>20.000000</td>\n",
       "      <td>20.000000</td>\n",
       "      <td>20.000000</td>\n",
       "      <td>20.000000</td>\n",
       "      <td>53.000000</td>\n",
       "    </tr>\n",
       "  </tbody>\n",
       "</table>\n",
       "</div>"
      ],
      "text/plain": [
       "                 0            1            2            3            4  \\\n",
       "count  3308.000000  3308.000000  3308.000000  3308.000000  3308.000000   \n",
       "mean     10.693885     8.967424     9.769526     8.566755     9.177894   \n",
       "std       7.652275     7.376931     7.386916     7.180727     7.311107   \n",
       "min       0.414600     0.525200     0.523800     0.618800     0.511600   \n",
       "25%       3.681450     3.221025     3.645825     2.777900     2.713675   \n",
       "50%       7.083500     5.242600     6.477100     5.751850     6.973350   \n",
       "75%      20.000000    20.000000    20.000000    20.000000    20.000000   \n",
       "max      20.000000    20.000000    20.000000    20.000000    20.000000   \n",
       "\n",
       "                 5            6            7            8       9  \\\n",
       "count  3308.000000  3308.000000  3308.000000  3308.000000  3308.0   \n",
       "mean      7.244609     8.707776     7.357612    14.008577    20.0   \n",
       "std       6.133312     6.572315     5.748568     6.605551     0.0   \n",
       "min       0.417700     0.375900     0.339300     0.322900    20.0   \n",
       "25%       3.079200     3.745200     3.610550     7.569425    20.0   \n",
       "50%       5.057700     6.604600     5.511900    15.596000    20.0   \n",
       "75%       9.314150    11.631475     8.917025    20.000000    20.0   \n",
       "max      20.000000    20.000000    20.000000    20.000000    20.0   \n",
       "\n",
       "                10           11           12           13           14  \\\n",
       "count  3308.000000  3308.000000  3308.000000  3308.000000  3308.000000   \n",
       "mean     16.453719    14.921087    15.125725    14.501483    13.905103   \n",
       "std       6.392659     7.513922     7.336148     7.803161     7.936621   \n",
       "min       0.361900     0.196700     0.209900     0.225400     0.181100   \n",
       "25%      20.000000     6.336300     6.655275     5.550175     5.495475   \n",
       "50%      20.000000    20.000000    20.000000    20.000000    20.000000   \n",
       "75%      20.000000    20.000000    20.000000    20.000000    20.000000   \n",
       "max      20.000000    20.000000    20.000000    20.000000    20.000000   \n",
       "\n",
       "                15           16  \n",
       "count  3308.000000  3308.000000  \n",
       "mean     11.930902     2.303507  \n",
       "std       8.340058    13.854609  \n",
       "min       0.261600   -54.500000  \n",
       "25%       3.033000    -2.500000  \n",
       "50%      20.000000     1.500000  \n",
       "75%      20.000000     7.500000  \n",
       "max      20.000000    53.000000  "
      ]
     },
     "metadata": {},
     "output_type": "display_data"
    },
    {
     "data": {
      "text/html": [
       "<div>\n",
       "<style scoped>\n",
       "    .dataframe tbody tr th:only-of-type {\n",
       "        vertical-align: middle;\n",
       "    }\n",
       "\n",
       "    .dataframe tbody tr th {\n",
       "        vertical-align: top;\n",
       "    }\n",
       "\n",
       "    .dataframe thead th {\n",
       "        text-align: right;\n",
       "    }\n",
       "</style>\n",
       "<table border=\"1\" class=\"dataframe\">\n",
       "  <thead>\n",
       "    <tr style=\"text-align: right;\">\n",
       "      <th></th>\n",
       "      <th>0</th>\n",
       "      <th>1</th>\n",
       "      <th>2</th>\n",
       "      <th>3</th>\n",
       "    </tr>\n",
       "  </thead>\n",
       "  <tbody>\n",
       "    <tr>\n",
       "      <th>count</th>\n",
       "      <td>5920.000000</td>\n",
       "      <td>5920.000000</td>\n",
       "      <td>5.920000e+03</td>\n",
       "      <td>5920.000000</td>\n",
       "    </tr>\n",
       "    <tr>\n",
       "      <th>mean</th>\n",
       "      <td>1.885385</td>\n",
       "      <td>1.540811</td>\n",
       "      <td>8.445946e+16</td>\n",
       "      <td>3.326014</td>\n",
       "    </tr>\n",
       "    <tr>\n",
       "      <th>std</th>\n",
       "      <td>0.386761</td>\n",
       "      <td>0.570198</td>\n",
       "      <td>2.905209e+18</td>\n",
       "      <td>10.068282</td>\n",
       "    </tr>\n",
       "    <tr>\n",
       "      <th>min</th>\n",
       "      <td>0.543400</td>\n",
       "      <td>0.360300</td>\n",
       "      <td>6.499000e-01</td>\n",
       "      <td>-22.000000</td>\n",
       "    </tr>\n",
       "    <tr>\n",
       "      <th>25%</th>\n",
       "      <td>1.655500</td>\n",
       "      <td>1.288975</td>\n",
       "      <td>1.034200e+00</td>\n",
       "      <td>0.000000</td>\n",
       "    </tr>\n",
       "    <tr>\n",
       "      <th>50%</th>\n",
       "      <td>1.854600</td>\n",
       "      <td>1.497100</td>\n",
       "      <td>1.169600e+00</td>\n",
       "      <td>0.000000</td>\n",
       "    </tr>\n",
       "    <tr>\n",
       "      <th>75%</th>\n",
       "      <td>2.084300</td>\n",
       "      <td>1.698600</td>\n",
       "      <td>1.328225e+00</td>\n",
       "      <td>0.000000</td>\n",
       "    </tr>\n",
       "    <tr>\n",
       "      <th>max</th>\n",
       "      <td>3.253800</td>\n",
       "      <td>7.921100</td>\n",
       "      <td>1.000000e+20</td>\n",
       "      <td>22.000000</td>\n",
       "    </tr>\n",
       "  </tbody>\n",
       "</table>\n",
       "</div>"
      ],
      "text/plain": [
       "                 0            1             2            3\n",
       "count  5920.000000  5920.000000  5.920000e+03  5920.000000\n",
       "mean      1.885385     1.540811  8.445946e+16     3.326014\n",
       "std       0.386761     0.570198  2.905209e+18    10.068282\n",
       "min       0.543400     0.360300  6.499000e-01   -22.000000\n",
       "25%       1.655500     1.288975  1.034200e+00     0.000000\n",
       "50%       1.854600     1.497100  1.169600e+00     0.000000\n",
       "75%       2.084300     1.698600  1.328225e+00     0.000000\n",
       "max       3.253800     7.921100  1.000000e+20    22.000000"
      ]
     },
     "execution_count": 6,
     "metadata": {},
     "output_type": "execute_result"
    }
   ],
   "source": [
    "display(df_lidar.describe())\n",
    "df_sonar.describe()"
   ]
  },
  {
   "cell_type": "markdown",
   "metadata": {},
   "source": [
    "### Preprocessing data"
   ]
  },
  {
   "cell_type": "code",
   "execution_count": 7,
   "metadata": {},
   "outputs": [
    {
     "name": "stdout",
     "output_type": "stream",
     "text": [
      "# of duplicates found:\n",
      "Lidar: 330 of 3308 items\n",
      "Sonar: 4182 of 5920 items\n"
     ]
    }
   ],
   "source": [
    "# build pipeline to find duplicates, count them and remove them and to normalize the data between 0 and 1\n",
    "\n",
    "duplicates_lidar = len(df_lidar[df_lidar.duplicated()])\n",
    "duplicates_sonar = len(df_sonar[df_sonar.duplicated()])\n",
    "\n",
    "print(f\"# of duplicates found:\\nLidar: {duplicates_lidar} of {len(df_lidar)} items\\nSonar: {duplicates_sonar} of {len(df_sonar)} items\")\n",
    " "
   ]
  },
  {
   "cell_type": "code",
   "execution_count": 8,
   "metadata": {},
   "outputs": [
    {
     "data": {
      "text/plain": [
       "1738"
      ]
     },
     "execution_count": 8,
     "metadata": {},
     "output_type": "execute_result"
    }
   ],
   "source": [
    "lidar_no_dup = df_lidar[~df_lidar.duplicated()]\n",
    "sonar_no_dup = df_sonar[~df_sonar.duplicated()]\n",
    "\n",
    "len(sonar_no_dup)"
   ]
  },
  {
   "cell_type": "markdown",
   "metadata": {},
   "source": [
    "### Neural Net class"
   ]
  },
  {
   "cell_type": "code",
   "execution_count": 9,
   "metadata": {},
   "outputs": [
    {
     "name": "stdout",
     "output_type": "stream",
     "text": [
      "cuda\n"
     ]
    }
   ],
   "source": [
    "import numpy as np\n",
    "import torch\n",
    "from torch import nn\n",
    "from torch import optim\n",
    "import torch.utils.data as tud\n",
    "from tqdm import tqdm\n",
    "import matplotlib.pyplot as plt\n",
    "import pickle\n",
    "import mlflow\n",
    "\n",
    "DEVICE = torch.device(\"cuda\" if torch.cuda.is_available() else \"cpu\")\n",
    "print(DEVICE)\n",
    "\n",
    "class Dataset(tud.Dataset):\n",
    "    'Characterizes a dataset for PyTorch'\n",
    "    def __init__(self, data):\n",
    "            'Initialization'\n",
    "            self.data = torch.tensor(np.array(data))    \n",
    "\n",
    "    def __len__(self):\n",
    "            'Denotes the total number of samples'\n",
    "            return len(self.data)\n",
    "\n",
    "    def __getitem__(self, index):\n",
    "            'Generates one sample of data'\n",
    "            # Select sample\n",
    "            sample = self.data[index]\n",
    "\n",
    "            # return x and y\n",
    "            X = sample[:-1]\n",
    "            y = sample[-1]\n",
    "            return X.to(torch.float32), y.to(torch.float32)\n",
    "\n",
    "class NeuralNet:\n",
    "    def __init__(self, hidden_layers, sensor, epochs, lr, batch_size, batchnorm=True, relu=True) -> None:\n",
    "        self.hidden_layers = hidden_layers\n",
    "        self.sensor = sensor\n",
    "        self.epochs = epochs\n",
    "        self.lr = lr\n",
    "        self.batch_size = batch_size\n",
    "        self.batchnorm = batchnorm\n",
    "        self.relu = relu\n",
    "        self.model = self.create_model()\n",
    "        \n",
    "\n",
    "    def create_model(self):\n",
    "        model = nn.Sequential()\n",
    "        for i, j in enumerate(self.hidden_layers):\n",
    "            if i != (len(self.hidden_layers) - 1):\n",
    "                model.add_module(f\"linear_{i+1}\", nn.Linear(j[0], j[1]))\n",
    "                if self.batchnorm == True:\n",
    "                    model.add_module(f\"batch_norm_{i+1}\", nn.BatchNorm1d(j[1]))\n",
    "                if self.relu == True:\n",
    "                    model.add_module(f\"relu_{i+1}\", nn.ReLU())\n",
    "            else:\n",
    "                model.add_module(f\"linear_{i+1}\", nn.Linear(j[0], j[1]))\n",
    "        return model\n",
    "    \n",
    "    def train(self, filename):\n",
    "        if self.sensor == \"lidar\":\n",
    "            self.data = lidar_no_dup\n",
    "        else:\n",
    "            self.data = sonar_no_dup\n",
    "        print(\"Training...\")\n",
    "        train_dataset = Dataset(self.data)\n",
    "\n",
    "        train_loader = tud.DataLoader(train_dataset, batch_size=self.batch_size, shuffle=True)\n",
    "\n",
    "        criterion = nn.MSELoss()\n",
    "        optimizer = optim.Adam(self.model.parameters(), lr=self.lr)\n",
    "        self.model.train()\n",
    "\n",
    "        mse_list = []\n",
    "        for epoch in tqdm(range(self.epochs)):\n",
    "            # print(f\"##### EPOCH {epoch} #####\")\n",
    "            losses = []\n",
    "            for i, (x, y) in enumerate(iter(train_loader)):\n",
    "                optimizer.zero_grad()\n",
    "                outputs = self.model(x.to(DEVICE))\n",
    "                loss = criterion(outputs, y.reshape(-1, 1).to(DEVICE))\n",
    "                loss.backward()\n",
    "                optimizer.step()\n",
    "                losses.append(loss.item())\n",
    "            loss_avg = sum(losses) / len(losses)\n",
    "            if epoch % 50 == 0:\n",
    "                print(loss_avg)\n",
    "            mse_list.append(loss_avg)\n",
    "\n",
    "        fig, ax = plt.subplots(figsize=(15, 6))\n",
    "\n",
    "        ax.set(xlabel='epochs', ylabel='MSE', title='Gradient Descent')\n",
    "\n",
    "        ax.plot(range(self.epochs), mse_list, 'blue')\n",
    "        \n",
    "        plt.savefig(f'../loss_graphs/{filename}.png')\n",
    "        # plt.show()\n",
    "        \n",
    "        return mse_list\n",
    "\n",
    "    def save_model(self, filename):\n",
    "        # open a file, where you ant to store the data\n",
    "        file = open(f'../models/{filename}.pickle', 'wb')\n",
    "\n",
    "        # dump information to that file\n",
    "        pickle.dump(self.model, file)\n",
    "\n",
    "        # close the file\n",
    "        file.close()"
   ]
  },
  {
   "cell_type": "markdown",
   "metadata": {},
   "source": [
    "### Training"
   ]
  },
  {
   "cell_type": "code",
   "execution_count": 8,
   "metadata": {
    "tags": []
   },
   "outputs": [],
   "source": [
    "# hyperparameters\n",
    "hidden_layers_list = [\n",
    "    [[16, 64], [64, 64], [64, 128], [128, 1]],\n",
    "    [[16, 64], [64, 128], [128, 1]],\n",
    "    [[16, 64], [64, 1]],\n",
    "    [[16, 32], [32, 64], [64, 128], [128, 1]],\n",
    "    [[16, 32], [32, 128], [128, 1]],\n",
    "    [[16, 32], [32, 1]],\n",
    "    [[16, 16], [16, 32], [32, 64], [64, 1]],\n",
    "    [[16, 16], [16, 32], [32, 1]],\n",
    "    [[16, 16], [16, 1]],\n",
    "]\n",
    "sensor_list = [\"lidar\"]\n",
    "epochs_list = [450]\n",
    "lr_list = [0.00001]\n",
    "batch_size_list = [25, 50]\n",
    "batchnorm_list = [False]\n",
    "relu_list = [False]"
   ]
  },
  {
   "cell_type": "code",
   "execution_count": 1,
   "metadata": {},
   "outputs": [
    {
     "ename": "NameError",
     "evalue": "name 'sensor_list' is not defined",
     "output_type": "error",
     "traceback": [
      "\u001b[0;31m---------------------------------------------------------------------------\u001b[0m",
      "\u001b[0;31mNameError\u001b[0m                                 Traceback (most recent call last)",
      "Cell \u001b[0;32mIn[1], line 2\u001b[0m\n\u001b[1;32m      1\u001b[0m \u001b[39m# loop over all possibilities\u001b[39;00m\n\u001b[0;32m----> 2\u001b[0m \u001b[39mfor\u001b[39;00m sensor \u001b[39min\u001b[39;00m sensor_list:\n\u001b[1;32m      3\u001b[0m     \u001b[39mfor\u001b[39;00m hidden_layers \u001b[39min\u001b[39;00m hidden_layers_list:\n\u001b[1;32m      4\u001b[0m         \u001b[39mfor\u001b[39;00m epochs \u001b[39min\u001b[39;00m epochs_list:\n",
      "\u001b[0;31mNameError\u001b[0m: name 'sensor_list' is not defined"
     ]
    }
   ],
   "source": [
    "# loop over all possibilities\n",
    "for sensor in sensor_list:\n",
    "    for hidden_layers in hidden_layers_list:\n",
    "        for epochs in epochs_list:\n",
    "            for lr in lr_list:\n",
    "                for batch_size in batch_size_list:\n",
    "                    for batchnorm in batchnorm_list:\n",
    "                        for relu in relu_list:\n",
    "                            if sensor == \"sonar\":\n",
    "                                hidden_layers[0][0] = 3\n",
    "                            # get hidden layers string\n",
    "                            hidden_layers_str = \"\"\n",
    "                            for layer in hidden_layers[:-1]:\n",
    "                                hidden_layers_str += f\"{str(layer[1])}_\"\n",
    "\n",
    "                            # get notebook_str\n",
    "                            notebook_str = f\"nn_{sensor}_layers_{len(hidden_layers)}_{hidden_layers_str}epochs_{epochs}_lr_{str(lr)[2:]}_batchsize_{batch_size}\"\n",
    "\n",
    "                            if batchnorm:\n",
    "                                notebook_str += \"_batchnorm\"\n",
    "                            if relu:\n",
    "                                notebook_str += \"_relu\"\n",
    "                            \n",
    "                            logger.info(f'Running process for Neural Net ({sensor}) | layers: {len(hidden_layers)}, epochs: {epochs}, lr: {lr}, batchsize: {batch_size}')\n",
    "                                                        \n",
    "                            # create network\n",
    "                            neural_net = NeuralNet(hidden_layers, sensor, epochs, lr, batch_size, batchnorm, relu)\n",
    "                            # send network to GPU\n",
    "                            neural_net.model.to(DEVICE)\n",
    "                            # train network\n",
    "                            mse = neural_net.train(notebook_str)\n",
    "                            # save model\n",
    "                            neural_net.save_model(notebook_str)\n",
    "                            \n",
    "                            # register experiments in mlflow\n",
    "                            mlflow.set_experiment('Autonomous driving of a car')\n",
    "                            with mlflow.start_run(run_name=f'Neural net ({sensor}) | layers: {len(hidden_layers)}, epochs: {epochs}, lr: {lr}, batchsize: {batch_size}'):\n",
    "                                mlflow.log_param('sensor', sensor)\n",
    "                                mlflow.log_param('num_layers', len(hidden_layers))\n",
    "                                mlflow.log_param('layers', hidden_layers_str)\n",
    "                                mlflow.log_param('batchnorm', batchnorm)\n",
    "                                mlflow.log_param('relu', relu)\n",
    "                                mlflow.log_param('epochs', epochs)\n",
    "                                mlflow.log_param('lr', lr)\n",
    "                                mlflow.log_param('batch_size', batch_size)\n",
    "                                mlflow.log_param('lr', lr)\n",
    "                                mlflow.log_metric('mse_list', mse[-1])\n",
    "                                mlflow.log_artifact(f\"../models/{notebook_str}.pickle\")\n",
    "                                mlflow.log_artifact(f\"../loss_graphs/{notebook_str}.png\")"
   ]
  },
  {
   "cell_type": "code",
   "execution_count": 16,
   "metadata": {},
   "outputs": [
    {
     "name": "stdout",
     "output_type": "stream",
     "text": [
      "[24/Apr/2023 15:25:44] INFO - Running process for Neural Net (lidar) | layers: 4, epochs: 500, lr: 0.0001, batchsize: 60\n",
      "Training...\n"
     ]
    },
    {
     "name": "stderr",
     "output_type": "stream",
     "text": [
      "  0%|          | 2/500 [00:00<01:39,  5.00it/s]"
     ]
    },
    {
     "name": "stdout",
     "output_type": "stream",
     "text": [
      "196.68309494018555\n"
     ]
    },
    {
     "name": "stderr",
     "output_type": "stream",
     "text": [
      " 10%|█         | 52/500 [00:08<01:10,  6.36it/s]"
     ]
    },
    {
     "name": "stdout",
     "output_type": "stream",
     "text": [
      "62.01285293579102\n"
     ]
    },
    {
     "name": "stderr",
     "output_type": "stream",
     "text": [
      " 20%|██        | 102/500 [00:15<00:53,  7.49it/s]"
     ]
    },
    {
     "name": "stdout",
     "output_type": "stream",
     "text": [
      "42.28812177658081\n"
     ]
    },
    {
     "name": "stderr",
     "output_type": "stream",
     "text": [
      " 30%|███       | 152/500 [00:22<00:45,  7.71it/s]"
     ]
    },
    {
     "name": "stdout",
     "output_type": "stream",
     "text": [
      "36.882391128540036\n"
     ]
    },
    {
     "name": "stderr",
     "output_type": "stream",
     "text": [
      " 40%|████      | 202/500 [00:28<00:38,  7.65it/s]"
     ]
    },
    {
     "name": "stdout",
     "output_type": "stream",
     "text": [
      "29.33924934387207\n"
     ]
    },
    {
     "name": "stderr",
     "output_type": "stream",
     "text": [
      " 50%|█████     | 252/500 [00:35<00:32,  7.65it/s]"
     ]
    },
    {
     "name": "stdout",
     "output_type": "stream",
     "text": [
      "27.81369779586792\n"
     ]
    },
    {
     "name": "stderr",
     "output_type": "stream",
     "text": [
      " 60%|██████    | 302/500 [00:42<00:25,  7.69it/s]"
     ]
    },
    {
     "name": "stdout",
     "output_type": "stream",
     "text": [
      "22.26467622756958\n"
     ]
    },
    {
     "name": "stderr",
     "output_type": "stream",
     "text": [
      " 70%|███████   | 352/500 [00:48<00:19,  7.76it/s]"
     ]
    },
    {
     "name": "stdout",
     "output_type": "stream",
     "text": [
      "21.919594249725343\n"
     ]
    },
    {
     "name": "stderr",
     "output_type": "stream",
     "text": [
      " 80%|████████  | 402/500 [00:55<00:12,  7.70it/s]"
     ]
    },
    {
     "name": "stdout",
     "output_type": "stream",
     "text": [
      "20.910878372192382\n"
     ]
    },
    {
     "name": "stderr",
     "output_type": "stream",
     "text": [
      " 90%|█████████ | 452/500 [01:01<00:06,  7.80it/s]"
     ]
    },
    {
     "name": "stdout",
     "output_type": "stream",
     "text": [
      "20.211045656204224\n"
     ]
    },
    {
     "name": "stderr",
     "output_type": "stream",
     "text": [
      "100%|██████████| 500/500 [01:08<00:00,  7.34it/s]\n"
     ]
    },
    {
     "data": {
      "image/png": "[encoded data removed]",
      "text/plain": [
       "<Figure size 1500x600 with 1 Axes>"
      ]
     },
     "metadata": {},
     "output_type": "display_data"
    }
   ],
   "source": [
    "hidden_layers = [[16, 64], [64, 64], [64, 128], [128, 1]]\n",
    "epochs = 500\n",
    "lr = 0.0001\n",
    "batch_size = 60\n",
    "batchnorm = True\n",
    "relu = True\n",
    "sensor = \"lidar\"\n",
    "# get hidden layers string\n",
    "hidden_layers_str = \"\"\n",
    "for layer in hidden_layers[:-1]:\n",
    "    hidden_layers_str += f\"{str(layer[1])}_\"\n",
    "\n",
    "# get notebook_str\n",
    "notebook_str = f\"nn_{sensor}_layers_{len(hidden_layers)}_{hidden_layers_str}epochs_{epochs}_lr_{str(lr)[2:]}_batchsize_{batch_size}\"\n",
    "\n",
    "if batchnorm:\n",
    "    notebook_str += \"_batchnorm\"\n",
    "if relu:\n",
    "    notebook_str += \"_relu\"\n",
    "\n",
    "logger.info(f'Running process for Neural Net ({sensor}) | layers: {len(hidden_layers)}, epochs: {epochs}, lr: {lr}, batchsize: {batch_size}')\n",
    "                            \n",
    "# create network\n",
    "neural_net = NeuralNet(hidden_layers, sensor, epochs, lr, batch_size, batchnorm, relu)\n",
    "# send network to GPU\n",
    "neural_net.model.to(DEVICE)\n",
    "# train network\n",
    "mse = neural_net.train(notebook_str)\n",
    "# save model\n",
    "neural_net.save_model(notebook_str)"
   ]
  },
  {
   "cell_type": "code",
   "execution_count": 15,
   "metadata": {},
   "outputs": [
    {
     "name": "stdout",
     "output_type": "stream",
     "text": [
      "[24/Apr/2023 15:25:06] INFO - Running process for Neural Net (sonar) | layers: 5, epochs: 300, lr: 0.0001, batchsize: 70\n",
      "Training...\n"
     ]
    },
    {
     "name": "stderr",
     "output_type": "stream",
     "text": [
      "  0%|          | 1/300 [00:00<00:33,  8.89it/s]"
     ]
    },
    {
     "name": "stdout",
     "output_type": "stream",
     "text": [
      "103.99068359375\n"
     ]
    },
    {
     "name": "stderr",
     "output_type": "stream",
     "text": [
      " 18%|█▊        | 53/300 [00:04<00:18, 13.32it/s]"
     ]
    },
    {
     "name": "stdout",
     "output_type": "stream",
     "text": [
      "30.975495834350586\n"
     ]
    },
    {
     "name": "stderr",
     "output_type": "stream",
     "text": [
      " 34%|███▍      | 103/300 [00:08<00:15, 12.96it/s]"
     ]
    },
    {
     "name": "stdout",
     "output_type": "stream",
     "text": [
      "22.879002113342285\n"
     ]
    },
    {
     "name": "stderr",
     "output_type": "stream",
     "text": [
      " 51%|█████     | 152/300 [00:12<00:16,  9.14it/s]"
     ]
    },
    {
     "name": "stdout",
     "output_type": "stream",
     "text": [
      "15.459927101135253\n"
     ]
    },
    {
     "name": "stderr",
     "output_type": "stream",
     "text": [
      " 67%|██████▋   | 202/300 [00:18<00:11,  8.76it/s]"
     ]
    },
    {
     "name": "stdout",
     "output_type": "stream",
     "text": [
      "16.571796417236328\n"
     ]
    },
    {
     "name": "stderr",
     "output_type": "stream",
     "text": [
      " 84%|████████▍ | 252/300 [00:24<00:05,  8.81it/s]"
     ]
    },
    {
     "name": "stdout",
     "output_type": "stream",
     "text": [
      "16.043995513916016\n"
     ]
    },
    {
     "name": "stderr",
     "output_type": "stream",
     "text": [
      "100%|██████████| 300/300 [00:29<00:00, 10.09it/s]\n"
     ]
    },
    {
     "data": {
      "image/png": "[encoded data removed]",
      "text/plain": [
       "<Figure size 1500x600 with 1 Axes>"
      ]
     },
     "metadata": {},
     "output_type": "display_data"
    }
   ],
   "source": [
    "hidden_layers = [[3, 16], [16, 64], [64, 256], [256, 64], [64, 1]]\n",
    "epochs = 300\n",
    "lr = 0.0001\n",
    "batch_size = 70\n",
    "batchnorm = True\n",
    "relu = True\n",
    "sensor = \"sonar\"\n",
    "# get hidden layers string\n",
    "hidden_layers_str = \"\"\n",
    "for layer in hidden_layers[:-1]:\n",
    "    hidden_layers_str += f\"{str(layer[1])}_\"\n",
    "\n",
    "# get notebook_str\n",
    "notebook_str = f\"nn_{sensor}_layers_{len(hidden_layers)}_{hidden_layers_str}epochs_{epochs}_lr_{str(lr)[2:]}_batchsize_{batch_size}\"\n",
    "\n",
    "if batchnorm:\n",
    "    notebook_str += \"_batchnorm\"\n",
    "if relu:\n",
    "    notebook_str += \"_relu\"\n",
    "\n",
    "logger.info(f'Running process for Neural Net ({sensor}) | layers: {len(hidden_layers)}, epochs: {epochs}, lr: {lr}, batchsize: {batch_size}')\n",
    "                            \n",
    "# create network\n",
    "neural_net = NeuralNet(hidden_layers, sensor, epochs, lr, batch_size, batchnorm, relu)\n",
    "# send network to GPU\n",
    "neural_net.model.to(DEVICE)\n",
    "# train network\n",
    "mse = neural_net.train(notebook_str)\n",
    "# save model\n",
    "neural_net.save_model(notebook_str)"
   ]
  },
  {
   "cell_type": "code",
   "execution_count": null,
   "metadata": {},
   "outputs": [],
   "source": []
  }
 ],
 "metadata": {
  "kernelspec": {
   "display_name": " conda-miw2",
   "language": "python",
   "name": "conda-miw2"
  },
  "language_info": {
   "codemirror_mode": {
    "name": "ipython",
    "version": 3
   },
   "file_extension": ".py",
   "mimetype": "text/x-python",
   "name": "python",
   "nbconvert_exporter": "python",
   "pygments_lexer": "ipython3",
   "version": "3.11.0"
  }
 },
 "nbformat": 4,
 "nbformat_minor": 4
}
